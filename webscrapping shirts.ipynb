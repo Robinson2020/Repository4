{
 "cells": [
  {
   "cell_type": "code",
   "execution_count": 1,
   "metadata": {},
   "outputs": [],
   "source": [
    "from selenium import webdriver"
   ]
  },
  {
   "cell_type": "code",
   "execution_count": 2,
   "metadata": {},
   "outputs": [],
   "source": [
    "import os"
   ]
  },
  {
   "cell_type": "code",
   "execution_count": 3,
   "metadata": {},
   "outputs": [],
   "source": [
    "import selenium"
   ]
  },
  {
   "cell_type": "code",
   "execution_count": 4,
   "metadata": {},
   "outputs": [],
   "source": [
    "driver=webdriver.Chrome(executable_path='D:\\Datascience projects\\Amazon webscrapping\\chromedriver.exe')"
   ]
  },
  {
   "cell_type": "code",
   "execution_count": 5,
   "metadata": {},
   "outputs": [],
   "source": [
    "mypage=driver.get('https://www.flipkart.com/clothing-and-accessories/topwear/shirt/men-shirt/casual-shirt/pr?sid=clo,ash,axc,mmk,kp7&otracker=categorytree&otracker=nmenu_sub_Men_0_Casual%20Shirts')"
   ]
  },
  {
   "cell_type": "markdown",
   "metadata": {},
   "source": [
    "# making the idirectory to store images¶¶"
   ]
  },
  {
   "cell_type": "code",
   "execution_count": 6,
   "metadata": {},
   "outputs": [],
   "source": [
    "#optimal Step\n",
    "def make_directory(dirname):\n",
    "    current_path=os.getcwd()\n",
    "    path=os.path.join(current_path,dirname)\n",
    "    if not os.path.exists(path):\n",
    "        os.makedirs(path)"
   ]
  },
  {
   "cell_type": "code",
   "execution_count": 7,
   "metadata": {},
   "outputs": [],
   "source": [
    "make_directory(\"FLIPCARTshirts\")"
   ]
  },
  {
   "cell_type": "markdown",
   "metadata": {},
   "source": [
    "# Scrapping urls of image,brands and prices¶"
   ]
  },
  {
   "cell_type": "code",
   "execution_count": 8,
   "metadata": {},
   "outputs": [],
   "source": [
    "images=driver.find_elements_by_xpath(\"//img[@class='_3togXc']\")\n",
    "brands=driver.find_elements_by_xpath(\"//div[@class='_2B_pmu']\")\n",
    "prices=driver.find_elements_by_xpath(\"//a[@class='_2W-UZw']//div[@class='_1uv9Cb']\")"
   ]
  },
  {
   "cell_type": "code",
   "execution_count": 17,
   "metadata": {},
   "outputs": [
    {
     "name": "stdout",
     "output_type": "stream",
     "text": [
      "<selenium.webdriver.remote.webelement.WebElement (session=\"d0afb8b7a83e512d32fc23aeb5dbb27c\", element=\"c051aa5a-002b-4498-a802-2fd31fdc3899\")>\n"
     ]
    }
   ],
   "source": [
    "print(images[0])"
   ]
  },
  {
   "cell_type": "code",
   "execution_count": 18,
   "metadata": {},
   "outputs": [
    {
     "name": "stdout",
     "output_type": "stream",
     "text": [
      "40 40 40\n"
     ]
    }
   ],
   "source": [
    "print(len(images),len(brands),len(prices))"
   ]
  },
  {
   "cell_type": "code",
   "execution_count": 19,
   "metadata": {},
   "outputs": [
    {
     "name": "stdout",
     "output_type": "stream",
     "text": [
      "40 40 40\n"
     ]
    }
   ],
   "source": [
    "print(len(images),len(brands),len(prices))"
   ]
  },
  {
   "cell_type": "code",
   "execution_count": 20,
   "metadata": {},
   "outputs": [
    {
     "name": "stdout",
     "output_type": "stream",
     "text": [
      "https://rukminim1.flixcart.com/image/329/395/jp02t8w0/shirt/n/s/g/3xl-pr-3112-prerit-original-imafb5zkdpsusqht.jpeg?q=50\n",
      "https://rukminim1.flixcart.com/image/329/395/jvy4vbk0/shirt/d/k/z/m-hlsh008832-highlander-original-imafgqhagbvrgxzd.jpeg?q=50\n",
      "https://rukminim1.flixcart.com/image/329/395/k6l2vm80/shirt/u/j/f/xl-373-jolly-creation-original-imafpyqjzyzd63zg.jpeg?q=50\n",
      "https://rukminim1.flixcart.com/image/329/395/keiuxzk0-0/shirt/k/e/e/s-fthchknew0907-asian-fitch-original-imafv5zqvkzknprp.jpeg?q=50\n",
      "https://rukminim1.flixcart.com/image/329/395/k52s58w0/shirt/y/v/9/40-dgm355-digimi-original-imafn7u6xjsvnxrh.jpeg?q=50\n",
      "https://rukminim1.flixcart.com/image/329/395/k4d27ww0/shirt/j/2/7/l-box-navy-l-indoprimo-original-imafnaggxseterup.jpeg?q=50\n",
      "https://rukminim1.flixcart.com/image/329/395/k4bms280/shirt/s/2/k/s-c301-d-teal-dennis-lingo-original-imafn8hysjunzszg.jpeg?q=50\n",
      "https://rukminim1.flixcart.com/image/329/395/kbpeoi80/shirt/x/c/c/l-hlsh011893-highlander-original-imafszkegszzcvjk.jpeg?q=50\n",
      "https://rukminim1.flixcart.com/image/329/395/k7usyvk0/shirt/z/y/k/m-hs-11-jai-textiles-original-imafqy2b3vwbc6wq.jpeg?q=50\n",
      "https://rukminim1.flixcart.com/image/329/395/kebpqq80-0/shirt/1/n/u/40-dlm484-deelmo-original-imafvyhnaa4zvy6m.jpeg?q=50\n",
      "https://rukminim1.flixcart.com/image/329/395/jdg9ocw0/shirt/a/m/s/l-stylish-shirt-n-t-fashion-original-imaf2c4mxvju7gur.jpeg?q=50\n",
      "https://rukminim1.flixcart.com/image/329/395/jwmfcsw0/shirt/p/z/e/xl-white-trending-shirt-qlonz-store-original-imafh87megng23cb.jpeg?q=50\n",
      "https://rukminim1.flixcart.com/image/329/395/jz05rww0/shirt/7/m/s/s-marroon-sst-try-this-original-imafghg2xpkgbhtv.jpeg?q=50\n",
      "https://rukminim1.flixcart.com/image/329/395/jjolt3k0/shirt/p/v/h/l-az301-skyblue-dennis-lingo-original-imaf7588mxx5ger7.jpeg?q=50\n",
      "https://rukminim1.flixcart.com/image/329/395/jydaqa80/shirt/h/2/n/l-blackred-m-pearl-ocean-original-imafyrf6zysymhvz.jpeg?q=50\n",
      "https://rukminim1.flixcart.com/image/329/395/k70spzk0/shirt/7/y/a/m-hlsh009166-highlander-original-imafpchnehagygez.jpeg?q=50\n",
      "https://rukminim1.flixcart.com/image/329/395/kbpeoi80/shirt/t/c/o/l-hlsh011624-highlander-original-imafszkeu88pg4cr.jpeg?q=50\n",
      "https://rukminim1.flixcart.com/image/329/395/k70spzk0/shirt/g/r/g/m-hlsh009048-highlander-original-imafpchn8muhzv5e.jpeg?q=50\n",
      "https://rukminim1.flixcart.com/image/329/395/ju1jqfk0/shirt/t/g/w/xxl-cc201-2-dennis-lingo-original-imaff8g2yzbrztfh.jpeg?q=50\n",
      "https://rukminim1.flixcart.com/image/329/395/jy3anbk0/shirt/e/z/y/l-c301-black-dennis-lingo-original-imafgeu6xveg8v9y.jpeg?q=50\n",
      "https://rukminim1.flixcart.com/image/329/395/jm9hfgw0/shirt/x/g/r/l-greykoti-ud-fabic-original-imaf97axh9fapvew.jpeg?q=50\n",
      "https://rukminim1.flixcart.com/image/329/395/kbpeoi80/shirt/a/m/d/l-hlsh011895-highlander-original-imafszke8bgbefmh.jpeg?q=50\n",
      "https://rukminim1.flixcart.com/image/329/395/kcrzki80/shirt/m/q/h/40-pcsfcslpb30870-peter-england-original-imaftuftpnekaxzv.jpeg?q=50\n",
      "https://rukminim1.flixcart.com/image/329/395/kazor680/shirt/y/y/u/m-bhs-try-this-original-imafsfussfsegfez.jpeg?q=50\n",
      "https://rukminim1.flixcart.com/image/329/395/jnkmykw0/shirt/t/n/g/l-gg370-gespo-original-imafa8bzwxgfnduq.jpeg?q=50\n",
      "https://rukminim1.flixcart.com/image/329/395/k6fd47k0/shirt/e/u/v/l-c301-dustygreen-dennis-lingo-original-imafzvvr7q8zn9kh.jpeg?q=50\n",
      "https://rukminim1.flixcart.com/image/329/395/k70spzk0/shirt/q/k/f/m-hlsh009774-highlander-original-imafpchzmbs9tvuf.jpeg?q=50\n",
      "https://rukminim1.flixcart.com/image/329/395/kd69z0w0/shirt/t/a/w/39-vssfwslbb03222-van-heusen-sport-original-imafu57jjqg3hqrz.jpeg?q=50\n",
      "https://rukminim1.flixcart.com/image/329/395/k5fn3ww0/shirt/t/g/g/s-striped-shirts-mr-kameej-original-imafz4ga7c7bmrr8.jpeg?q=50\n",
      "https://rukminim1.flixcart.com/image/329/395/jybvafk0/shirt/z/y/w/l-jk156-try-this-original-imafghg7pyrugr3v.jpeg?q=50\n",
      "https://rukminim1.flixcart.com/image/329/395/kd7pevk0/shirt/5/7/g/xxl-ufsh0770-u-s-polo-association-original-imafu5pfx6vhzkks.jpeg?q=50\n",
      "https://rukminim1.flixcart.com/image/329/395/kchzhjk0/shirt/q/b/u/s-fthchknew0908-asian-fitch-original-imaftm9gkzgfhk3d.jpeg?q=50\n",
      "https://rukminim1.flixcart.com/image/329/395/kcp4osw0/shirt/n/4/q/m-sksh-110-bk-protocol-original-imaftrr6kfvrpznq.jpeg?q=50\n",
      "https://rukminim1.flixcart.com/image/329/395/k70spzk0/shirt/5/p/s/m-hlsh009565-highlander-original-imafpchpx5z5rxnd.jpeg?q=50\n",
      "https://rukminim1.flixcart.com/image/329/395/jyj0how0/shirt/h/g/s/xxl-oshdnf-slb-ojass-original-imafbk65szjaurrn.jpeg?q=50\n",
      "https://rukminim1.flixcart.com/image/329/395/k70spzk0/shirt/w/u/w/m-hlsh010207-highlander-original-imafpchwbcswym4u.jpeg?q=50\n",
      "https://rukminim1.flixcart.com/image/329/395/jmkwya80/shirt/b/v/p/l-lup-d-u-turn-original-imaf7szrp8cfgzqv.jpeg?q=50\n",
      "https://rukminim1.flixcart.com/image/329/395/kchzhjk0/shirt/l/x/x/xl-fthchknew0909-asian-fitch-original-imaftm9dm6bvgsuq.jpeg?q=50\n",
      "https://rukminim1.flixcart.com/image/329/395/jyj0how0/shirt/g/5/z/xl-oshdnf-bl-ojass-original-imaf9pnwdpwf2eg2.jpeg?q=50\n",
      "https://rukminim1.flixcart.com/image/329/395/k70spzk0/shirt/a/u/s/m-hlsh009601-highlander-original-imafpchssnntzzgs.jpeg?q=50\n"
     ]
    }
   ],
   "source": [
    "urls=[]\n",
    "for image in images:\n",
    "    source=image.get_attribute('src')\n",
    "    urls.append(source)\n",
    "    print(source)"
   ]
  },
  {
   "cell_type": "code",
   "execution_count": 21,
   "metadata": {},
   "outputs": [
    {
     "data": {
      "text/plain": [
       "40"
      ]
     },
     "execution_count": 21,
     "metadata": {},
     "output_type": "execute_result"
    }
   ],
   "source": [
    "len(urls)"
   ]
  },
  {
   "cell_type": "markdown",
   "metadata": {},
   "source": [
    "# 4Using the URLs to download image¶"
   ]
  },
  {
   "cell_type": "code",
   "execution_count": 22,
   "metadata": {},
   "outputs": [],
   "source": [
    "import shutil\n",
    "import requests"
   ]
  },
  {
   "cell_type": "code",
   "execution_count": 16,
   "metadata": {},
   "outputs": [
    {
     "name": "stdout",
     "output_type": "stream",
     "text": [
      "Downloading 1 of 40 images from page 1\n",
      "Downloading 2 of 40 images from page 1\n",
      "Downloading 3 of 40 images from page 1\n",
      "Downloading 4 of 40 images from page 1\n",
      "Downloading 5 of 40 images from page 1\n",
      "Downloading 6 of 40 images from page 1\n",
      "Downloading 7 of 40 images from page 1\n",
      "Downloading 8 of 40 images from page 1\n",
      "Downloading 9 of 40 images from page 1\n",
      "Downloading 10 of 40 images from page 1\n",
      "Downloading 11 of 40 images from page 1\n",
      "Downloading 12 of 40 images from page 1\n",
      "Downloading 13 of 40 images from page 1\n",
      "Downloading 14 of 40 images from page 1\n",
      "Downloading 15 of 40 images from page 1\n",
      "Downloading 16 of 40 images from page 1\n",
      "Downloading 17 of 40 images from page 1\n",
      "Downloading 18 of 40 images from page 1\n",
      "Downloading 19 of 40 images from page 1\n",
      "Downloading 20 of 40 images from page 1\n",
      "Downloading 21 of 40 images from page 1\n",
      "Downloading 22 of 40 images from page 1\n",
      "Downloading 23 of 40 images from page 1\n",
      "Downloading 24 of 40 images from page 1\n",
      "Downloading 25 of 40 images from page 1\n",
      "Downloading 26 of 40 images from page 1\n",
      "Downloading 27 of 40 images from page 1\n",
      "Downloading 28 of 40 images from page 1\n",
      "Downloading 29 of 40 images from page 1\n",
      "Downloading 30 of 40 images from page 1\n",
      "Downloading 31 of 40 images from page 1\n",
      "Downloading 32 of 40 images from page 1\n",
      "Downloading 33 of 40 images from page 1\n",
      "Downloading 34 of 40 images from page 1\n",
      "Downloading 35 of 40 images from page 1\n",
      "Downloading 36 of 40 images from page 1\n",
      "Downloading 37 of 40 images from page 1\n",
      "Downloading 38 of 40 images from page 1\n",
      "Downloading 39 of 40 images from page 1\n",
      "Downloading 40 of 40 images from page 1\n"
     ]
    }
   ],
   "source": [
    "page=1\n",
    "for index,link in enumerate(urls):\n",
    "    print(\"Downloading {0} of {1} images from page 1\".format(index+1, len(urls)))\n",
    "    response=requests.get(link)\n",
    "    with open('sarees/img {0}{1}.jpeg'.format(index,page),\"wb\")as file:\n",
    "        file.write(response.content)"
   ]
  },
  {
   "cell_type": "code",
   "execution_count": 17,
   "metadata": {},
   "outputs": [
    {
     "data": {
      "text/plain": [
       "{'brands': [], 'prices': []}"
      ]
     },
     "execution_count": 17,
     "metadata": {},
     "output_type": "execute_result"
    }
   ],
   "source": [
    "product_data={}\n",
    "product_data['brands']=[]\n",
    "product_data['prices']=[]\n",
    "product_data"
   ]
  },
  {
   "cell_type": "code",
   "execution_count": 18,
   "metadata": {},
   "outputs": [
    {
     "data": {
      "text/plain": [
       "<selenium.webdriver.remote.webelement.WebElement (session=\"7e1d7c2010341f4023372365de61d201\", element=\"026efe9c-b870-4c69-9ca5-6e2755c45f26\")>"
      ]
     },
     "execution_count": 18,
     "metadata": {},
     "output_type": "execute_result"
    }
   ],
   "source": [
    "brands[0]"
   ]
  },
  {
   "cell_type": "code",
   "execution_count": 19,
   "metadata": {},
   "outputs": [],
   "source": [
    "for brand in brands:\n",
    "    product_data['brands'].append(brand.text)"
   ]
  },
  {
   "cell_type": "code",
   "execution_count": 20,
   "metadata": {},
   "outputs": [
    {
     "data": {
      "text/plain": [
       "40"
      ]
     },
     "execution_count": 20,
     "metadata": {},
     "output_type": "execute_result"
    }
   ],
   "source": [
    "len(product_data['brands'])"
   ]
  },
  {
   "cell_type": "code",
   "execution_count": 21,
   "metadata": {},
   "outputs": [
    {
     "data": {
      "text/plain": [
       "'BASE 41'"
      ]
     },
     "execution_count": 21,
     "metadata": {},
     "output_type": "execute_result"
    }
   ],
   "source": [
    "product_data['brands'][0]"
   ]
  },
  {
   "cell_type": "code",
   "execution_count": 22,
   "metadata": {},
   "outputs": [
    {
     "data": {
      "text/plain": [
       "40"
      ]
     },
     "execution_count": 22,
     "metadata": {},
     "output_type": "execute_result"
    }
   ],
   "source": [
    "for price in prices:\n",
    "    product_data['prices'].append(price.text)\n",
    "len(product_data['prices'])"
   ]
  },
  {
   "cell_type": "markdown",
   "metadata": {},
   "source": [
    "# Moving to next page¶"
   ]
  },
  {
   "cell_type": "code",
   "execution_count": 12,
   "metadata": {},
   "outputs": [],
   "source": [
    "next_pages=driver.find_element_by_xpath(\"//a[@class='_3fVaIS']\").click()"
   ]
  },
  {
   "cell_type": "code",
   "execution_count": 13,
   "metadata": {},
   "outputs": [],
   "source": [
    "# following the same steps from step3 onwards\n",
    "\n",
    "images=driver.find_elements_by_xpath(\"//img[@class='_3togXc']\")\n",
    "brands=driver.find_elements_by_xpath(\"//div[@class='_2B_pmu']\")\n",
    "prices=driver.find_elements_by_xpath(\"//a[@class='_2W-UZw']//div[@class='_1uv9Cb']\")"
   ]
  },
  {
   "cell_type": "code",
   "execution_count": 25,
   "metadata": {},
   "outputs": [
    {
     "data": {
      "text/plain": [
       "<selenium.webdriver.remote.webelement.WebElement (session=\"7e1d7c2010341f4023372365de61d201\", element=\"1f9b28c9-4602-4f6a-a50c-133a9cde5046\")>"
      ]
     },
     "execution_count": 25,
     "metadata": {},
     "output_type": "execute_result"
    }
   ],
   "source": [
    "images[0]"
   ]
  },
  {
   "cell_type": "code",
   "execution_count": 26,
   "metadata": {},
   "outputs": [
    {
     "data": {
      "text/plain": [
       "<selenium.webdriver.remote.webelement.WebElement (session=\"7e1d7c2010341f4023372365de61d201\", element=\"27b44482-c9db-41b5-9164-edd42bd1a5a2\")>"
      ]
     },
     "execution_count": 26,
     "metadata": {},
     "output_type": "execute_result"
    }
   ],
   "source": [
    "prices[0]"
   ]
  },
  {
   "cell_type": "code",
   "execution_count": 27,
   "metadata": {},
   "outputs": [
    {
     "name": "stdout",
     "output_type": "stream",
     "text": [
      "https://rukminim1.flixcart.com/image/329/395/k70spzk0/shirt/v/m/g/m-hlsh009229-navy-blue-red-highlander-original-imafpchzs2hgtpns.jpeg?q=50\n",
      "https://rukminim1.flixcart.com/image/329/395/kchzhjk0/shirt/q/b/u/s-fthchknew0908-asian-fitch-original-imaftm9gkzgfhk3d.jpeg?q=50\n",
      "https://rukminim1.flixcart.com/image/329/395/k70spzk0/shirt/d/j/b/m-hlsh009899-highlander-original-imafpchpbyqfmqmu.jpeg?q=50\n",
      "https://rukminim1.flixcart.com/image/329/395/jgb5dow0/shirt/q/m/6/xs-499-wht-5th-anfold-original-imaeujp7aszyjmzc.jpeg?q=50\n",
      "https://rukminim1.flixcart.com/image/329/395/jjolt3k0/shirt/p/v/h/l-az301-skyblue-dennis-lingo-original-imaf7588mxx5ger7.jpeg?q=50\n",
      "https://rukminim1.flixcart.com/image/329/395/jy3anbk0/shirt/e/z/y/l-c301-black-dennis-lingo-original-imafgeu6xveg8v9y.jpeg?q=50\n",
      "https://rukminim1.flixcart.com/image/329/395/kd7pevk0/shirt/5/7/g/xxl-ufsh0770-u-s-polo-association-original-imafu5pfx6vhzkks.jpeg?q=50\n",
      "https://rukminim1.flixcart.com/image/329/395/k52s58w0/shirt/y/v/9/40-dgm355-digimi-original-imafn7u6xjsvnxrh.jpeg?q=50\n",
      "https://rukminim1.flixcart.com/image/329/395/jvy4vbk0/shirt/d/k/z/m-hlsh008832-highlander-original-imafgqhagbvrgxzd.jpeg?q=50\n",
      "https://rukminim1.flixcart.com/image/329/395/k5fn3ww0/shirt/t/g/g/s-striped-shirts-mr-kameej-original-imafz4ga7c7bmrr8.jpeg?q=50\n",
      "https://rukminim1.flixcart.com/image/329/395/k4bms280/shirt/s/2/k/s-c301-d-teal-dennis-lingo-original-imafn8hysjunzszg.jpeg?q=50\n",
      "https://rukminim1.flixcart.com/image/329/395/kbpeoi80/shirt/k/h/a/s-hlsh011665-highlander-original-imafszkefy6b6feh.jpeg?q=50\n",
      "https://rukminim1.flixcart.com/image/329/395/k70spzk0/shirt/g/r/g/m-hlsh009048-highlander-original-imafpchn8muhzv5e.jpeg?q=50\n",
      "https://rukminim1.flixcart.com/image/329/395/ju1jqfk0/shirt/t/g/w/xxl-cc201-2-dennis-lingo-original-imaff8g2yzbrztfh.jpeg?q=50\n",
      "https://rukminim1.flixcart.com/image/329/395/jzog9e80/shirt/k/h/x/xl-cb-chaina-maroon-tap-in-original-imafjn5ryazztaaf.jpeg?q=50\n",
      "https://rukminim1.flixcart.com/image/329/395/k0e66q80/shirt/8/m/a/38-fw01-finivo-fashion-original-imafk7bqb6aatuqg.jpeg?q=50\n",
      "https://rukminim1.flixcart.com/image/329/395/k572gsw0/shirt/k/y/a/xl-349c-jolly-creation-original-imafnxqyrchphkpj.jpeg?q=50\n",
      "https://rukminim1.flixcart.com/image/329/395/kazor680/shirt/y/y/u/m-bhs-try-this-original-imafsfussfsegfez.jpeg?q=50\n",
      "https://rukminim1.flixcart.com/image/329/395/k4bms280/shirt/5/t/x/38-dlm490-deelmo-original-imafn969hccxshnb.jpeg?q=50\n",
      "https://rukminim1.flixcart.com/image/329/395/k4zx9jk0/shirt/f/e/6/s-c1276-gespo-original-imafns5nzzwewzdn.jpeg?q=50\n",
      "https://rukminim1.flixcart.com/image/329/395/kchzhjk0/shirt/n/j/b/m-af-mn-lb-cc-dnm-asian-fitch-original-imaftm9c79bk9phu.jpeg?q=50\n",
      "https://rukminim1.flixcart.com/image/329/395/k70spzk0/shirt/m/r/f/m-hlsh009445-highlander-original-imafpchnz3xnbkzm.jpeg?q=50\n",
      "https://rukminim1.flixcart.com/image/329/395/kbpeoi80/shirt/x/c/c/l-hlsh011893-highlander-original-imafszkegszzcvjk.jpeg?q=50\n",
      "https://rukminim1.flixcart.com/image/329/395/kbpeoi80/shirt/a/m/d/l-hlsh011895-highlander-original-imafszke8bgbefmh.jpeg?q=50\n",
      "https://rukminim1.flixcart.com/image/329/395/jyj0how0/shirt/g/5/z/xl-oshdnf-bl-ojass-original-imaf9pnwdpwf2eg2.jpeg?q=50\n",
      "https://rukminim1.flixcart.com/image/329/395/k70spzk0/shirt/a/u/s/m-hlsh009601-highlander-original-imafpchssnntzzgs.jpeg?q=50\n",
      "https://rukminim1.flixcart.com/image/329/395/k70spzk0/shirt/q/k/f/m-hlsh009774-highlander-original-imafpchzmbs9tvuf.jpeg?q=50\n",
      "https://rukminim1.flixcart.com/image/329/395/kddf6a80/shirt/w/g/s/s-bq-nst61-bosque-original-imafuan6vhvab4wg.jpeg?q=50\n",
      "https://rukminim1.flixcart.com/image/329/395/keiuxzk0-0/shirt/k/e/e/s-fthchknew0907-asian-fitch-original-imafv5zqvkzknprp.jpeg?q=50\n",
      "https://rukminim1.flixcart.com/image/329/395/k3g73bk0/shirt/g/w/p/l-red-trending-shirt-qlonz-store-original-imafmktmux7vuhny.jpeg?q=50\n",
      "https://rukminim1.flixcart.com/image/329/395/jnqcpzk0/shirt/b/b/h/xxl-sshh-chi-6-jai-textiles-original-imafa9g9cr7axpps.jpeg?q=50\n",
      "https://rukminim1.flixcart.com/image/329/395/kebpqq80-0/shirt/1/n/u/40-dlm484-deelmo-original-imafvyhnaa4zvy6m.jpeg?q=50\n",
      "https://rukminim1.flixcart.com/image/329/395/k05ljm80/shirt/m/e/y/m-21983-0188-levi-s-original-imafjuxsqyh5yxgk.jpeg?q=50\n",
      "https://rukminim1.flixcart.com/image/329/395/jelpg280/shirt/u/j/z/m-gshssht1643lgrn-gritstones-original-imaf39g9fw6ppmvq.jpeg?q=50\n",
      "https://rukminim1.flixcart.com/image/329/395/k70spzk0/shirt/5/p/s/m-hlsh009565-highlander-original-imafpchpx5z5rxnd.jpeg?q=50\n",
      "https://rukminim1.flixcart.com/image/329/395/k6fd47k0/shirt/e/u/v/l-c301-dustygreen-dennis-lingo-original-imafzvvr7q8zn9kh.jpeg?q=50\n",
      "https://rukminim1.flixcart.com/image/329/395/jjabekw0/shirt/m/f/2/m-kaclfs1170p-kuons-avenue-original-imaf6wmg6gh3efrg.jpeg?q=50\n",
      "https://rukminim1.flixcart.com/image/329/395/jnkmykw0/shirt/h/z/x/s-gg371-gespo-original-imafa8bwgxzhmvhn.jpeg?q=50\n",
      "https://rukminim1.flixcart.com/image/329/395/k1cgr680/shirt/p/j/h/m-rs19stpw08-p-rope-original-imafkx2tgfnebdnp.jpeg?q=50\n",
      "https://rukminim1.flixcart.com/image/329/395/k6i7zww0/shirt/z/t/9/m-bd-cross-pattern-blue-shirt-m-blue-dove-original-imaf6xgzgrt4bqjy.jpeg?q=50\n"
     ]
    }
   ],
   "source": [
    "urls=[]\n",
    "for image in images:\n",
    "    source=image.get_attribute('src')\n",
    "    urls.append(source)\n",
    "    print(source)"
   ]
  },
  {
   "cell_type": "code",
   "execution_count": 28,
   "metadata": {},
   "outputs": [
    {
     "name": "stdout",
     "output_type": "stream",
     "text": [
      "Downloading 1 of 40 images from page 2\n",
      "Downloading 2 of 40 images from page 2\n",
      "Downloading 3 of 40 images from page 2\n",
      "Downloading 4 of 40 images from page 2\n",
      "Downloading 5 of 40 images from page 2\n",
      "Downloading 6 of 40 images from page 2\n",
      "Downloading 7 of 40 images from page 2\n",
      "Downloading 8 of 40 images from page 2\n",
      "Downloading 9 of 40 images from page 2\n",
      "Downloading 10 of 40 images from page 2\n",
      "Downloading 11 of 40 images from page 2\n",
      "Downloading 12 of 40 images from page 2\n",
      "Downloading 13 of 40 images from page 2\n",
      "Downloading 14 of 40 images from page 2\n",
      "Downloading 15 of 40 images from page 2\n",
      "Downloading 16 of 40 images from page 2\n",
      "Downloading 17 of 40 images from page 2\n",
      "Downloading 18 of 40 images from page 2\n",
      "Downloading 19 of 40 images from page 2\n",
      "Downloading 20 of 40 images from page 2\n",
      "Downloading 21 of 40 images from page 2\n",
      "Downloading 22 of 40 images from page 2\n",
      "Downloading 23 of 40 images from page 2\n",
      "Downloading 24 of 40 images from page 2\n",
      "Downloading 25 of 40 images from page 2\n",
      "Downloading 26 of 40 images from page 2\n",
      "Downloading 27 of 40 images from page 2\n",
      "Downloading 28 of 40 images from page 2\n",
      "Downloading 29 of 40 images from page 2\n",
      "Downloading 30 of 40 images from page 2\n",
      "Downloading 31 of 40 images from page 2\n",
      "Downloading 32 of 40 images from page 2\n",
      "Downloading 33 of 40 images from page 2\n",
      "Downloading 34 of 40 images from page 2\n",
      "Downloading 35 of 40 images from page 2\n",
      "Downloading 36 of 40 images from page 2\n",
      "Downloading 37 of 40 images from page 2\n",
      "Downloading 38 of 40 images from page 2\n",
      "Downloading 39 of 40 images from page 2\n",
      "Downloading 40 of 40 images from page 2\n"
     ]
    }
   ],
   "source": [
    "#changing for page2\n",
    "page=2\n",
    "for index,link in enumerate(urls):\n",
    "    print(\"Downloading {0} of {1} images from page 2\".format(index+1, len(urls)))\n",
    "    response=requests.get(link)\n",
    "    with open('sarees/img {0}{1}.jpeg'.format(index,page),\"wb\")as file:\n",
    "        file.write(response.content)"
   ]
  },
  {
   "cell_type": "code",
   "execution_count": 23,
   "metadata": {},
   "outputs": [
    {
     "name": "stdout",
     "output_type": "stream",
     "text": [
      "Downloading 1 of 40 images from page 3\n",
      "Downloading 2 of 40 images from page 3\n",
      "Downloading 3 of 40 images from page 3\n",
      "Downloading 4 of 40 images from page 3\n",
      "Downloading 5 of 40 images from page 3\n",
      "Downloading 6 of 40 images from page 3\n",
      "Downloading 7 of 40 images from page 3\n",
      "Downloading 8 of 40 images from page 3\n",
      "Downloading 9 of 40 images from page 3\n",
      "Downloading 10 of 40 images from page 3\n",
      "Downloading 11 of 40 images from page 3\n",
      "Downloading 12 of 40 images from page 3\n",
      "Downloading 13 of 40 images from page 3\n",
      "Downloading 14 of 40 images from page 3\n",
      "Downloading 15 of 40 images from page 3\n",
      "Downloading 16 of 40 images from page 3\n",
      "Downloading 17 of 40 images from page 3\n",
      "Downloading 18 of 40 images from page 3\n",
      "Downloading 19 of 40 images from page 3\n",
      "Downloading 20 of 40 images from page 3\n",
      "Downloading 21 of 40 images from page 3\n",
      "Downloading 22 of 40 images from page 3\n",
      "Downloading 23 of 40 images from page 3\n",
      "Downloading 24 of 40 images from page 3\n",
      "Downloading 25 of 40 images from page 3\n",
      "Downloading 26 of 40 images from page 3\n",
      "Downloading 27 of 40 images from page 3\n",
      "Downloading 28 of 40 images from page 3\n",
      "Downloading 29 of 40 images from page 3\n",
      "Downloading 30 of 40 images from page 3\n",
      "Downloading 31 of 40 images from page 3\n",
      "Downloading 32 of 40 images from page 3\n",
      "Downloading 33 of 40 images from page 3\n",
      "Downloading 34 of 40 images from page 3\n",
      "Downloading 35 of 40 images from page 3\n",
      "Downloading 36 of 40 images from page 3\n",
      "Downloading 37 of 40 images from page 3\n",
      "Downloading 38 of 40 images from page 3\n",
      "Downloading 39 of 40 images from page 3\n",
      "Downloading 40 of 40 images from page 3\n"
     ]
    }
   ],
   "source": [
    "#changing for page2\n",
    "page=3\n",
    "for index,link in enumerate(urls):\n",
    "    print(\"Downloading {0} of {1} images from page 3\".format(index+1, len(urls)))\n",
    "    response=requests.get(link)\n",
    "    with open('sarees/img {0}{1}.jpeg'.format(index,page),\"wb\")as file:\n",
    "        file.write(response.content)"
   ]
  },
  {
   "cell_type": "code",
   "execution_count": 15,
   "metadata": {},
   "outputs": [
    {
     "name": "stdout",
     "output_type": "stream",
     "text": [
      "https://rukminim1.flixcart.com/image/329/395/jp02t8w0/shirt/n/s/g/3xl-pr-3112-prerit-original-imafb5zkdpsusqht.jpeg?q=50\n",
      "https://rukminim1.flixcart.com/image/329/395/jvy4vbk0/shirt/d/k/z/m-hlsh008832-highlander-original-imafgqhagbvrgxzd.jpeg?q=50\n",
      "https://rukminim1.flixcart.com/image/329/395/k6l2vm80/shirt/u/j/f/xl-373-jolly-creation-original-imafpyqjzyzd63zg.jpeg?q=50\n",
      "https://rukminim1.flixcart.com/image/329/395/keiuxzk0-0/shirt/k/e/e/s-fthchknew0907-asian-fitch-original-imafv5zqvkzknprp.jpeg?q=50\n",
      "https://rukminim1.flixcart.com/image/329/395/k52s58w0/shirt/y/v/9/40-dgm355-digimi-original-imafn7u6xjsvnxrh.jpeg?q=50\n",
      "https://rukminim1.flixcart.com/image/329/395/k4d27ww0/shirt/j/2/7/l-box-navy-l-indoprimo-original-imafnaggxseterup.jpeg?q=50\n",
      "https://rukminim1.flixcart.com/image/329/395/k4bms280/shirt/s/2/k/s-c301-d-teal-dennis-lingo-original-imafn8hysjunzszg.jpeg?q=50\n",
      "https://rukminim1.flixcart.com/image/329/395/kbpeoi80/shirt/t/e/1/l-hlsh011893-highlander-original-imafszkem2s3mnra.jpeg?q=50\n",
      "https://rukminim1.flixcart.com/image/329/395/k7usyvk0/shirt/z/y/k/m-hs-11-jai-textiles-original-imafqy2b3vwbc6wq.jpeg?q=50\n",
      "https://rukminim1.flixcart.com/image/329/395/kebpqq80-0/shirt/1/n/u/40-dlm484-deelmo-original-imafvyhnaa4zvy6m.jpeg?q=50\n",
      "https://rukminim1.flixcart.com/image/329/395/jdg9ocw0/shirt/a/m/s/l-stylish-shirt-n-t-fashion-original-imaf2c4mxvju7gur.jpeg?q=50\n",
      "https://rukminim1.flixcart.com/image/329/395/jwmfcsw0/shirt/p/z/e/xl-white-trending-shirt-qlonz-store-original-imafh87megng23cb.jpeg?q=50\n",
      "https://rukminim1.flixcart.com/image/329/395/jz05rww0/shirt/7/m/s/s-marroon-sst-try-this-original-imafghg2xpkgbhtv.jpeg?q=50\n",
      "https://rukminim1.flixcart.com/image/329/395/jjolt3k0/shirt/p/v/h/l-az301-skyblue-dennis-lingo-original-imaf7588mxx5ger7.jpeg?q=50\n",
      "https://rukminim1.flixcart.com/image/329/395/jydaqa80/shirt/h/2/n/l-blackred-m-pearl-ocean-original-imafyrf6zysymhvz.jpeg?q=50\n",
      "https://rukminim1.flixcart.com/image/329/395/k70spzk0/shirt/7/y/a/m-hlsh009166-highlander-original-imafpchnehagygez.jpeg?q=50\n",
      "https://rukminim1.flixcart.com/image/329/395/kbpeoi80/shirt/t/c/o/l-hlsh011624-highlander-original-imafszkeu88pg4cr.jpeg?q=50\n",
      "https://rukminim1.flixcart.com/image/329/395/k70spzk0/shirt/g/r/g/m-hlsh009048-highlander-original-imafpchn8muhzv5e.jpeg?q=50\n",
      "https://rukminim1.flixcart.com/image/329/395/ju1jqfk0/shirt/t/g/w/xxl-cc201-2-dennis-lingo-original-imaff8g2yzbrztfh.jpeg?q=50\n",
      "https://rukminim1.flixcart.com/image/329/395/jy3anbk0/shirt/e/z/y/l-c301-black-dennis-lingo-original-imafgeu6xveg8v9y.jpeg?q=50\n",
      "https://rukminim1.flixcart.com/image/329/395/jm9hfgw0/shirt/x/g/r/l-greykoti-ud-fabic-original-imaf97axh9fapvew.jpeg?q=50\n",
      "https://rukminim1.flixcart.com/image/329/395/kbpeoi80/shirt/a/m/d/l-hlsh011895-highlander-original-imafszke8bgbefmh.jpeg?q=50\n",
      "https://rukminim1.flixcart.com/image/329/395/kcrzki80/shirt/m/q/h/40-pcsfcslpb30870-peter-england-original-imaftuftpnekaxzv.jpeg?q=50\n",
      "https://rukminim1.flixcart.com/image/329/395/kazor680/shirt/y/y/u/m-bhs-try-this-original-imafsfussfsegfez.jpeg?q=50\n",
      "https://rukminim1.flixcart.com/image/329/395/jnkmykw0/shirt/t/n/g/l-gg370-gespo-original-imafa8bzwxgfnduq.jpeg?q=50\n",
      "https://rukminim1.flixcart.com/image/329/395/k6fd47k0/shirt/e/u/v/l-c301-dustygreen-dennis-lingo-original-imafzvvr7q8zn9kh.jpeg?q=50\n",
      "https://rukminim1.flixcart.com/image/329/395/k70spzk0/shirt/q/k/f/m-hlsh009774-highlander-original-imafpchzmbs9tvuf.jpeg?q=50\n",
      "https://rukminim1.flixcart.com/image/329/395/kd69z0w0/shirt/t/a/w/39-vssfwslbb03222-van-heusen-sport-original-imafu57jjqg3hqrz.jpeg?q=50\n",
      "https://rukminim1.flixcart.com/image/329/395/k5fn3ww0/shirt/t/g/g/s-striped-shirts-mr-kameej-original-imafz4ga7c7bmrr8.jpeg?q=50\n",
      "https://rukminim1.flixcart.com/image/329/395/jybvafk0/shirt/z/y/w/l-jk156-try-this-original-imafghg7pyrugr3v.jpeg?q=50\n",
      "https://rukminim1.flixcart.com/image/329/395/kd7pevk0/shirt/5/7/g/xxl-ufsh0770-u-s-polo-association-original-imafu5pfx6vhzkks.jpeg?q=50\n",
      "https://rukminim1.flixcart.com/image/329/395/kchzhjk0/shirt/q/b/u/s-fthchknew0908-asian-fitch-original-imaftm9gkzgfhk3d.jpeg?q=50\n",
      "https://rukminim1.flixcart.com/image/329/395/kcp4osw0/shirt/n/4/q/m-sksh-110-bk-protocol-original-imaftrr6kfvrpznq.jpeg?q=50\n",
      "https://rukminim1.flixcart.com/image/329/395/k70spzk0/shirt/5/p/s/m-hlsh009565-highlander-original-imafpchpx5z5rxnd.jpeg?q=50\n",
      "https://rukminim1.flixcart.com/image/329/395/jyj0how0/shirt/h/g/s/xxl-oshdnf-slb-ojass-original-imafbk65szjaurrn.jpeg?q=50\n",
      "https://rukminim1.flixcart.com/image/329/395/k70spzk0/shirt/w/u/w/m-hlsh010207-highlander-original-imafpchwbcswym4u.jpeg?q=50\n",
      "https://rukminim1.flixcart.com/image/329/395/jmkwya80/shirt/b/v/p/l-lup-d-u-turn-original-imaf7szrp8cfgzqv.jpeg?q=50\n",
      "https://rukminim1.flixcart.com/image/329/395/kchzhjk0/shirt/l/x/x/xl-fthchknew0909-asian-fitch-original-imaftm9dm6bvgsuq.jpeg?q=50\n",
      "https://rukminim1.flixcart.com/image/329/395/jyj0how0/shirt/g/5/z/xl-oshdnf-bl-ojass-original-imaf9pnwdpwf2eg2.jpeg?q=50\n",
      "https://rukminim1.flixcart.com/image/329/395/k70spzk0/shirt/a/u/s/m-hlsh009601-highlander-original-imafpchssnntzzgs.jpeg?q=50\n"
     ]
    }
   ],
   "source": [
    "urls=[]\n",
    "for image in images:\n",
    "    source=image.get_attribute('src')\n",
    "    urls.append(source)\n",
    "    print(source)"
   ]
  },
  {
   "cell_type": "code",
   "execution_count": 24,
   "metadata": {},
   "outputs": [],
   "source": [
    "mypage=driver.get('https://www.amazon.in/s/ref=lp_1968093031_nr_n_0?fst=as%3Aoff&rh=n%3A1571271031%2Cn%3A%211571272031%2Cn%3A1968024031%2Cn%3A1968093031%2Cn%3A1968094031&bbn=1968093031&ie=UTF8&qid=1599207948&rnid=1968093031')"
   ]
  },
  {
   "cell_type": "code",
   "execution_count": 26,
   "metadata": {},
   "outputs": [],
   "source": [
    "images=driver.find_elements_by_xpath(\"//img[@class='octopus-pc-item-image@octopus-pc-item-image-v3']\")\n"
   ]
  },
  {
   "cell_type": "code",
   "execution_count": null,
   "metadata": {},
   "outputs": [],
   "source": []
  }
 ],
 "metadata": {
  "kernelspec": {
   "display_name": "Python 3",
   "language": "python",
   "name": "python3"
  },
  "language_info": {
   "codemirror_mode": {
    "name": "ipython",
    "version": 3
   },
   "file_extension": ".py",
   "mimetype": "text/x-python",
   "name": "python",
   "nbconvert_exporter": "python",
   "pygments_lexer": "ipython3",
   "version": "3.7.4"
  }
 },
 "nbformat": 4,
 "nbformat_minor": 2
}
