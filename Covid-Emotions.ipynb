{
 "cells": [
  {
   "cell_type": "code",
   "execution_count": 2,
   "metadata": {},
   "outputs": [
    {
     "name": "stdout",
     "output_type": "stream",
     "text": [
      "Requirement already satisfied: nltk in c:\\users\\admin\\anaconda3\\lib\\site-packages (3.4.5)\n",
      "Requirement already satisfied: six in c:\\users\\admin\\anaconda3\\lib\\site-packages (from nltk) (1.12.0)\n",
      "Note: you may need to restart the kernel to use updated packages.\n"
     ]
    }
   ],
   "source": [
    "pip install nltk"
   ]
  },
  {
   "cell_type": "code",
   "execution_count": 3,
   "metadata": {},
   "outputs": [
    {
     "name": "stdout",
     "output_type": "stream",
     "text": [
      "Collecting tokeniser\n",
      "Note: you may need to restart the kernel to use updated packages.\n"
     ]
    },
    {
     "name": "stderr",
     "output_type": "stream",
     "text": [
      "  ERROR: Could not find a version that satisfies the requirement tokeniser (from versions: none)\n",
      "ERROR: No matching distribution found for tokeniser\n"
     ]
    }
   ],
   "source": [
    "pip install tokeniser"
   ]
  },
  {
   "cell_type": "code",
   "execution_count": 4,
   "metadata": {},
   "outputs": [
    {
     "name": "stdout",
     "output_type": "stream",
     "text": [
      "Requirement already satisfied: mosestokenizer in c:\\users\\admin\\anaconda3\\lib\\site-packages (1.1.0)\n",
      "Requirement already satisfied: openfile in c:\\users\\admin\\anaconda3\\lib\\site-packages (from mosestokenizer) (0.0.7)\n",
      "Requirement already satisfied: toolwrapper in c:\\users\\admin\\anaconda3\\lib\\site-packages (from mosestokenizer) (2.1.0)\n",
      "Requirement already satisfied: docopt in c:\\users\\admin\\anaconda3\\lib\\site-packages (from mosestokenizer) (0.6.2)\n",
      "Requirement already satisfied: uctools in c:\\users\\admin\\anaconda3\\lib\\site-packages (from mosestokenizer) (1.3.0)\n",
      "Note: you may need to restart the kernel to use updated packages.\n"
     ]
    }
   ],
   "source": [
    "pip install mosestokenizer"
   ]
  },
  {
   "cell_type": "code",
   "execution_count": 5,
   "metadata": {},
   "outputs": [],
   "source": [
    "from nltk.tokenize import word_tokenize"
   ]
  },
  {
   "cell_type": "code",
   "execution_count": 6,
   "metadata": {},
   "outputs": [],
   "source": [
    "import string\n",
    "from collections import Counter\n",
    "\n",
    "import matplotlib.pyplot as plt"
   ]
  },
  {
   "cell_type": "code",
   "execution_count": 7,
   "metadata": {},
   "outputs": [],
   "source": [
    "\n",
    "def get_tweets():\n",
    "    import GetOldTweets3 as got   # library used to scrape data from twitter without any other tools\n",
    "    tweetCriteria = got.manager.TweetCriteria().setQuerySearch('#coronavirus') \\\n",
    "        .setSince(\"2019-09-01\") \\\n",
    "        .setUntil(\"2019-11-30\") \\\n",
    "        .setMaxTweets(100)\n",
    "    # Creation of list that contains all tweets\n",
    "    tweets = got.manager.TweetManager.getTweets(tweetCriteria)\n",
    "    # Creating list of chosen tweet data\n",
    "    text_tweets = [[tweet.text] for tweet in tweets]\n",
    "    return text_tweets"
   ]
  },
  {
   "cell_type": "code",
   "execution_count": 8,
   "metadata": {},
   "outputs": [],
   "source": [
    "\n",
    "# reading text file\n",
    "text = \"\"\n",
    "text_tweets = get_tweets()\n",
    "\n",
    "length = len(text_tweets)\n",
    "\n",
    "for i in range(0, length):\n",
    "    text = text_tweets[i][0] + \" \" + text\n",
    "\n",
    "# converting to lowercase\n",
    "lower_case = text.lower()\n",
    "\n",
    "# Removing punctuations\n",
    "cleaned_text = lower_case.translate(str.maketrans('', '', string.punctuation))\n",
    "\n",
    "# splitting text into words\n",
    "tokenized_words = cleaned_text.split()"
   ]
  },
  {
   "cell_type": "code",
   "execution_count": 9,
   "metadata": {},
   "outputs": [
    {
     "name": "stdout",
     "output_type": "stream",
     "text": [
      "Requirement already satisfied: GetOldTweets3 in c:\\users\\admin\\anaconda3\\lib\\site-packages (0.0.11)\n",
      "Requirement already satisfied: lxml>=3.5.0 in c:\\users\\admin\\anaconda3\\lib\\site-packages (from GetOldTweets3) (4.4.1)\n",
      "Requirement already satisfied: pyquery>=1.2.10 in c:\\users\\admin\\anaconda3\\lib\\site-packages (from GetOldTweets3) (1.4.1)\n",
      "Requirement already satisfied: cssselect>0.7.9 in c:\\users\\admin\\anaconda3\\lib\\site-packages (from pyquery>=1.2.10->GetOldTweets3) (1.1.0)\n"
     ]
    }
   ],
   "source": [
    "!pip install GetOldTweets3"
   ]
  },
  {
   "cell_type": "code",
   "execution_count": 10,
   "metadata": {},
   "outputs": [
    {
     "data": {
      "text/plain": [
       "[['We are going to miss Amy as she is moving on to be a PI at @PNNLab. We give her many thanks and she will be missed greatly. #bariclab #lovevirology #coronavirus #bsl3 #ppe #amysims'],\n",
       " ['Protective gear juxtaposition! Photo shoot w Dr. Amy Sims in BSL3 gear and me in street clothes. Lab was not active at the time. Dangerous virus work requires more than a button down! #emergingviruses #antivirals #bsl3 #ppe #papr #mers #sars #coronavirus '],\n",
       " ['உங்க வீட்டு நாய்க்குட்டிக்கு உடம்பு சரியில்லையா? - `கோரோனா வைரஸ்’ டெஸ்ட் பண்ணுங்க #CoronaVirus '],\n",
       " ['உங்க வீட்டு நாய்க்குட்டிக்கு உடம்பு சரியில்லையா? - `கோரோனா வைரஸ்’ டெஸ்ட் பண்ணுங்க #CoronaVirus https://www.vikatan.com/news/animals/is-your-home-puppy-sick-take-the-corona-virus-test'],\n",
       " ['உங்க வீட்டு நாய்க்குட்டிக்கு உடம்பு சரியில்லையா? - `கோரோனா வைரஸ்’ டெஸ்ட் பண்ணுங்க #CoronaVirus https://www.vikatan.com/news/animals/is-your-home-puppy-sick-take-the-corona-virus-test'],\n",
       " ['TBT. Remembering the days when I had hair. #bariclab #virology #coronavirus #lovevirology #emerging viruses'],\n",
       " ['TBT. An incomplete 2007 era lab pic featuring @timothysheahan @newprof1 @MattFrieman @viralnerd the better half of @2Sanguine. Sweat pants and Hawaiian shirts reigned!!!! #bariclab #coronavirus #emergingviruses #tbt #lovevirology #bsl3'],\n",
       " ['Les dix choses à savoir sur le, #coronavirus #MERS-CoV https://www.sciencesetavenir.fr/sante/les-10-choses-a-savoir-sur-le-coronavirus-mers_29085.amp#click=https://t.co/O8EybbXM4p'],\n",
       " ['Middle East Respiratory Syndrome #coronavirus #seropositivity in camel handlers and their families, Pakistan, #EIDjournal, http://go.usa.gov/xpKrP'],\n",
       " ['Indeed, a nice journey. Showing how important international collaboration is in tackling emerging diseases such as #MERS_CoV #coronavirus . Thank you !'],\n",
       " ['#Veterinarians caution pet owners about #coronavirus in #dogs, suggest vaccination | Chennai News - Times of India'],\n",
       " ['Critical: 2-month old #rescuepup with #coronavirus Pet Medical #Fundraising with #GoGetFunding #gofundme https://gogetfunding.com/critical-2-month-old-rescue-pup-with-coronavirus/ via @GoGetFunding'],\n",
       " ['Suspicion de Syndrome Respiratoire du Moyen-Orient(#MERS-) à Hong Kong #virus #Coronavirus https://hygimia69.blogspot.com/2019/11/hk-suspected-mers-coronavirus-case.html?m=1'],\n",
       " ['Three Amino Acid Changes In Avian #Coronavirus Spike Protein Allows Binding To Kidney Tissue '],\n",
       " ['PreProNewProf1 \\u2066@MattFrieman\\u2069 August 11, 2008. Wise guy eyes. #virology #coronavirologist #lovevirology #coronavirus #uncpostdocs #uncsph'],\n",
       " ['Big time glossies. Ralph and Kendra do the science. @UNCpublichealth @UNCResearch #Gillings #bariclab #coronavirus #kendrilla'],\n",
       " ['Update on cluster of #Coronavirus cases in Siu Lam #Hospital - https://is.gd/V9BpPo #Agenparl #Patient #AgenparlEnglish #SocialNetwork'],\n",
       " ['Cluster of #Coronavirus cases in Siu Lam #Hospital - https://is.gd/6BJ389 #Agenparl #November #Patients #AgenparlEnglish #SocialNetwork'],\n",
       " [' Evaluating the potential impact of targeted #vaccination strategies against severe acute respiratory syndrome #coronavirus (#SARS-CoV) and Middle East respiratory syndrome coronavirus (#MERS-CoV) outbreaks in the #healthcare setting https://rdcu.be/bVP4T @WHO @UniPadova'],\n",
       " ['Do you work on coronaviruses? Check out this Special Issue of Pathogens being guest edited by Lisa Gralinski. The deadline for submissions is July 31, 2020 so plenty of time to put something together! #coronavirus https://www.mdpi.com/journal/pathogens/special_issues/SARS-CoV_Infections'],\n",
       " ['I’m excited to announce that I’m guest editing a Special Issue of Pathogens on SARS-CoV Infections. Check out the details on their website and don’t be afraid to send any questions my way! https://www.mdpi.com/journal/pathogens/special_issues/SARS-CoV_Infections #coronavirus '],\n",
       " ['Une équipe US de #chercheurs vient de mettre en lumière les facteurs de #risque qui rendent les #infections #respiratoires, et en particulier celle au #coronavirus MERS-CoV, plus graves pour les #diabétiques que pour le reste de la population. #diabète'],\n",
       " ['#Researchers have been eager to identify any risk factors that contribute to the development of severe or lethal disease #respiratory syndrome #coronavirus (MERS-CoV). '],\n",
       " ['Patients with #diabetes may have worse #lung infections https://www.news-medical.net/news/20191021/Patients-with-diabetes-may-have-worse-lung-infections.aspx #MiddleEast #respiratory #syndrome #coronavirus #MERS'],\n",
       " ['Middle East respiratory syndrome #coronavirus – #diabetes contributes to #mortality http://debuglies.com/2019/10/19/middle-east-respiratory-syndrome-coronavirus-diabetes-contributes-to-mortality/ di @debugliesnews'],\n",
       " ['This group is super. This job may be your destiny. See the post below! #unc #virology #EmergingDiseases #LoveVirology #coronavirus #bariclab'],\n",
       " ['Project manager position! Come join our team if you like to have fun and do science! Please RT! #virologyjobs #unc #bariclab #coronavirus #emergingviruses #EmergingDiseases'],\n",
       " ['mucosal immune response to feline enteric #coronavirus infection. The control of FECV is mediated by humoral mucosal and systemic responses and that perturbations in the primary reservoir organ (colon) are minimal https://buff.ly/2oAOVvI'],\n",
       " ['Check out our latest paper about a potent antiviral against MERS-CoV infection. Spoiler alert for those planning to attend @mariagoneviral’s defense tomorrow https://jvi.asm.org/content/early/2019/09/26/JVI.01348-19.long @Ardinajp @timothysheahan #coronavirus'],\n",
       " ['Attenuation of a virulent swine acute diarrhea syndrome #coronavirus strain via cell culture passage '],\n",
       " ['Identification of peptide domains involved in the subcellular localization of the feline #coronavirus 3b protein https://www.microbiologyresearch.org/content/journal/jgv/10.1099/jgv.0.001321'],\n",
       " ['Comparison of #serologic assays for Middle East respiratory syndrome #coronavirus, #EIDjournal, https://go.usa.gov/xVyx6'],\n",
       " ['Nice to see this out! New models to study the comorbidities seen in human MERS infections! Kirsten K’s hardwork w @newprof1 @MattFrieman https://insight.jci.org/articles/view/131774 #mers #coronavirus #LoveVirology #emergingvirus #diabetes'],\n",
       " ['Broad cross-species infection of cultured cells by the bat HKU2-related swine acute diarrhea syndrome #coronavirus (SADS-CoV) and identification of its replication in murine dendritic cells '],\n",
       " ['Un nuevo #coronavirus es el causante de la #neumonía atípica. Se transmite de humano-humano y en ocasiones a través de #aguas y tuberías. Medidas de seguridad para el manejo de pacientes: https://bit.ly/2OiKxh7 #24Sep #UCV #Medicina'],\n",
       " ['New paper: “A Case Study Evaluating the Risk of Infection from Middle Eastern Respiratory Syndrome #Coronavirus (#MERS -CoV) in a #Hospital Setting Through #Bioaerosols” #IAQ #HAIs With @irishmhw @acceptsrisk Joan Rose &amp; others.'],\n",
       " ['Diversity of dromedary camel #coronavirus HKU23 in African camels revealed multiple recombination events among closely related Betacoronaviruses of the subgenus Embecovirus. '],\n",
       " ['Next we hear from Mr. Ogole about the role bats play in spreading #coronavirus. Looked at link between bats, rodents and livestock in Kenya to determine whether diversity prevents spillover events'],\n",
       " ['Seven years ago through an eMail to @ProMED_mail (15SEPT2012), Prof Ali Mohamed Zaki notified the world (20SEPT2012) about a novel #coronavirus (CoV), later called the middle East respiratory syndrome (#MERS) CoV. http://www.promedmail.org/direct.php?id=20120920.1302733'],\n",
       " ['#WSV2019 | Prof. #Zhengli_Shi | #Interspecies #transmission of #bat #coronaviruses. The first meeting of WSV @WSVirology, #Stockholm 2019 http://www.ws-virology.org @VirolColombia @RedMexVirologia @AusVirologySoc #coronavirus #Wuhan_Institute #China @viro_doc @epizone @WHO'],\n",
       " ['#WSV2019 | Prof. #Ziad_Memish | #MERS_CoV an emerging #virus from the #ArabianPeninsula in the first meeting of WSV@WSVirology, #Stockholm 2019 http://www.ws-virology.org @VirolColombia @RedMexVirologia @AusVirologySoc #coronavirus #SaudiNationalDay #SaudiArabia @Alfaisaluniv'],\n",
       " ['Identification of peptide domains involved in the subcellular localization of the feline #coronavirus 3b protein https://www.microbiologyresearch.org/content/journal/jgv/10.1099/jgv.0.001321'],\n",
       " [\"Investigadors de l'IRTA-CReSA participen al curs de #Coronavirus organitzat per la Universitat de Hong Kong http://ow.ly/7WFV50w2NnN\"],\n",
       " ['Check out direct RNA #nanopore sequencing of full-length #coronavirus genomes (by EVBC members @phiweger, @SKrautw, @klamkiewicz, J. Ziebuhr, @martinhoelzer, M. Marz @JenaRNA and colleagues) that provides new insights into structural variants. https://genome.cshlp.org/content/early/2019/08/22/gr.247064.118.long'],\n",
       " ['We discovered a novel #nidovirus in Chinook, which is related to respiratory #coronavirus such as SARS and MERS. We were amazed to localise this virus to the gills, suggesting a similar infection strategy to its distant relatives that infect mammals. 4/8 '],\n",
       " ['#PSA #FIPawareness #catcare #cats Before Spike, I had never heard of #FIP. Many people (including vets) get it confused with FIV or Feline Leukemia. To be clear, FIP is a malicious strain of the #coronavirus. This link has more info - '],\n",
       " ['Los resultados de estos #estudios muestran que dichas #proteínas favorecen la replicación de diferentes tipos de #virus, como el de la #gripe o #coronavirus, causantes de #EnfermedadesRespiratorias. Más detalles aquí: http://ow.ly/u4PU30psMvI #MSP #SomosCiencia'],\n",
       " ['High five for first pub from the \\u2066@TheMenacheryLab\\u2069 #coronavirus #mers #virology #lovevirology Peptidoglycan associated cyclic lipopeptide disrupts viral infectivity | Journal of Virology']]"
      ]
     },
     "execution_count": 10,
     "metadata": {},
     "output_type": "execute_result"
    }
   ],
   "source": [
    "# Print texts\n",
    "text_tweets"
   ]
  },
  {
   "cell_type": "code",
   "execution_count": 11,
   "metadata": {},
   "outputs": [],
   "source": [
    "stop_words = [\"i\", \"me\", \"my\", \"myself\", \"we\", \"our\", \"ours\", \"ourselves\", \"you\", \"your\", \"yours\", \"yourself\",\n",
    "              \"yourselves\", \"he\", \"him\", \"his\", \"himself\", \"she\", \"her\", \"hers\", \"herself\", \"it\", \"its\", \"itself\",\n",
    "              \"they\", \"them\", \"their\", \"theirs\", \"themselves\", \"what\", \"which\", \"who\", \"whom\", \"this\", \"that\", \"these\",\n",
    "              \"those\", \"am\", \"is\", \"are\", \"was\", \"were\", \"be\", \"been\", \"being\", \"have\", \"has\", \"had\", \"having\", \"do\",\n",
    "              \"does\", \"did\", \"doing\", \"a\", \"an\", \"the\", \"and\", \"but\", \"if\", \"or\", \"because\", \"as\", \"until\", \"while\",\n",
    "              \"of\", \"at\", \"by\", \"for\", \"with\", \"about\", \"against\", \"between\", \"into\", \"through\", \"during\", \"before\",\n",
    "              \"after\", \"above\", \"below\", \"to\", \"from\", \"up\", \"down\", \"in\", \"out\", \"on\", \"off\", \"over\", \"under\", \"again\",\n",
    "              \"further\", \"then\", \"once\", \"here\", \"there\", \"when\", \"where\", \"why\", \"how\", \"all\", \"any\", \"both\", \"each\",\n",
    "              \"few\", \"more\", \"most\", \"other\", \"some\", \"such\", \"no\", \"nor\", \"not\", \"only\", \"own\", \"same\", \"so\", \"than\",\n",
    "              \"too\", \"very\", \"s\", \"t\", \"can\", \"will\", \"just\", \"don\", \"should\", \"now\"]\n",
    "\n",
    "# Removing stop words from the tokenized words list\n",
    "final_words = [word for word in tokenized_words if word not in stop_words]"
   ]
  },
  {
   "cell_type": "code",
   "execution_count": 12,
   "metadata": {},
   "outputs": [
    {
     "name": "stdout",
     "output_type": "stream",
     "text": [
      "Counter({' happy': 2, ' surprise': 1, ' attracted': 1, ' entitled': 1, ' angry': 1, ' fearful': 1, ' adequate': 1})\n"
     ]
    }
   ],
   "source": [
    "# Get emotions text\n",
    "emotion_list = []\n",
    "with open('emotionss.txt', 'r') as file:\n",
    "    for line in file:\n",
    "        clear_line = line.replace('\\n', '').replace(',', '').replace(\"'\", '').strip()\n",
    "        word, emotion = clear_line.split(':')\n",
    "        if word in final_words:\n",
    "            emotion_list.append(emotion)\n",
    "\n",
    "w = Counter(emotion_list)\n",
    "print(w)\n"
   ]
  },
  {
   "cell_type": "code",
   "execution_count": 13,
   "metadata": {},
   "outputs": [
    {
     "data": {
      "image/png": "[encoded data removed]",
      "text/plain": [
       "<Figure size 432x288 with 1 Axes>"
      ]
     },
     "metadata": {
      "needs_background": "light"
     },
     "output_type": "display_data"
    }
   ],
   "source": [
    "fig, ax1 = plt.subplots()\n",
    "ax1.bar(w.keys(), w.values())\n",
    "fig.autofmt_xdate()\n",
    "plt.savefig('graph.png')\n",
    "plt.show()"
   ]
  },
  {
   "cell_type": "code",
   "execution_count": 14,
   "metadata": {},
   "outputs": [
    {
     "data": {
      "image/png": "[encoded data removed]",
      "text/plain": [
       "<Figure size 432x288 with 1 Axes>"
      ]
     },
     "metadata": {
      "needs_background": "light"
     },
     "output_type": "display_data"
    }
   ],
   "source": [
    "fig, ax1 = plt.subplots()\n",
    "ax1.bar(w.keys(), w.values())\n",
    "fig.autofmt_xdate()\n",
    "plt.savefig('graph.png')\n",
    "plt.show()"
   ]
  },
  {
   "cell_type": "code",
   "execution_count": 15,
   "metadata": {},
   "outputs": [],
   "source": [
    "\n",
    "def get_tweets():\n",
    "    import GetOldTweets3 as got   # library used to scrape data from twitter without any other tools\n",
    "    tweetCriteria = got.manager.TweetCriteria().setQuerySearch('#coronavirus') \\\n",
    "        .setSince(\"2019-12-15\") \\\n",
    "        .setUntil(\"2020-05-28\") \\\n",
    "        .setMaxTweets(200)\n",
    "    # Creation of list that contains all tweets\n",
    "    tweets = got.manager.TweetManager.getTweets(tweetCriteria)\n",
    "    # Creating list of chosen tweet data\n",
    "    text_tweets = [[tweet.text] for tweet in tweets]\n",
    "    return text_tweets"
   ]
  },
  {
   "cell_type": "code",
   "execution_count": 16,
   "metadata": {},
   "outputs": [],
   "source": [
    "\n",
    "# reading text file\n",
    "text = \"\"\n",
    "text_tweets = get_tweets()\n",
    "\n",
    "length = len(text_tweets)\n",
    "\n",
    "for i in range(0, length):\n",
    "    text = text_tweets[i][0] + \" \" + text\n",
    "\n",
    "# converting to lowercase\n",
    "lower_case = text.lower()\n",
    "\n",
    "# Removing punctuations\n",
    "cleaned_text = lower_case.translate(str.maketrans('', '', string.punctuation))\n",
    "\n",
    "# splitting text into words\n",
    "tokenized_words = cleaned_text.split()"
   ]
  },
  {
   "cell_type": "code",
   "execution_count": 17,
   "metadata": {},
   "outputs": [
    {
     "data": {
      "text/plain": [
       "[['¿qué me decís? #coronavirus '],\n",
       " ['.@saludhernandezm recorrió Villa de Leyva y constató cómo el #coronavirus desocupó las calles del pueblo, arruinó el comercio y dejó a más de 3.000 personas sin trabajo. '],\n",
       " ['Saiba como contestar resultado do cadastro do auxílio emergencial #coronavírus #auxílioemergial #caixaeconômica'],\n",
       " [\"Hello everyone! The #coronavirus hasn't been too kind to me. Losing my job hasn't been great either. Aside from commissions, I have now made a Patreon. Rewards are given for supporting ♡ #ArtistOnTwitter #Patreon #commissionsopen\"],\n",
       " ['Sigue la transmisión totalmente #EnVivo del estatus sobre el #Coronavirus en México '],\n",
       " ['Total confirmed cases rises to 1469 : Health Ministry #COVID19LK #COVID19SL #coronavirus #lka'],\n",
       " ['COVID-ALERT: As a Federal Coronavirus Expert Frets, the Capital Moves to Reopen - Global Pandemic News | #Coronavirus #COVID19 - https://globalpandemic.net/news/as-a-federal-coronavirus-expert-frets-the-capital-moves-toreopen/'],\n",
       " ['Contributions to #coronavirus relief fund will help #RENTRELIEF'],\n",
       " ['\"100,000 muertos por #coronavirus en Estados Unidos: por qué reabre el país si continúa registrando récords de muertes\" #COVID19'],\n",
       " ['“ITS WORTH WAITING A WILE” #lockdown #coronavirus'],\n",
       " [\"A $1.7 billion loan backed by #KCK's Great Wolf Lodge and 16 other Great Wolf Resorts hotels and water parks was flagged for concerns after the borrower said the #coronavirus pandemic could create cash flow challenges. \"],\n",
       " ['#provincia #coronavirus El Ministerio de Salud provincial informó que en el día de hoy no se registraron casos, además, 219 pacientes fueron dados de alta desde el inicio de la pandemia '],\n",
       " ['A nurse walks beside Nazaria Lopes, a 92 years old Baniwa people indigenous woman infected by #coronavirus as she is discharged by the Gilberto Novaes Municipal Field Hospital on May 27, 2020 in Manaus, #Brazil. #COVID19 : @CoelhoFoto'],\n",
       " [' #EnDirecto #ConferenciaDePrensa: #Coronavirus #COVIDー19 en #México | Actualización #27DeMayo #QuédateEnCasa #SARSCoV2 #SanaDistancia #NuevaNormalidad'],\n",
       " ['#ENVIVO | Informe diario por #coronavirus en #México Síguelo por #Youtube'],\n",
       " ['#ENVIVO | Informe diario por #coronavirus en #México Síguelo por #Youtube'],\n",
       " ['#BREAKING: #Coronavirus enters Kogi, two first cases recorded @NCDCgov'],\n",
       " ['【冠状病毒19】美国死亡人数突破10万。https://bit.ly/36MGaR3 【2019冠状病毒疫情最新发展 &gt;&gt;http://bit.ly/2uEsAQk】 #8视界新闻 #8worldnews #2019nCoV #NovelCoronavirus #coronavirus #COVID19'],\n",
       " ['#Coronavirus #COVID19 en México, corte técnico informativo del 27 de mayo. Fuente: @SSalud_mx'],\n",
       " [' #Fascist ENOUGH FOR YOU ALL YET?? #WakeUp to what is REALLY going on. This IS the implementation of the TOTALITARIAN completely CONTROLLED #NWO. ALL FREEDOMS, RIGHTS and PRIVACY are being TAKEN away NEVER to return #coronavirus #COVID19 #testing #testandtrace'],\n",
       " ['THANK YOU JARED KUSHNER & STEPHEN MILLER: Understaffing, huge crowds of people stuck in small spaces, 4-hour-long lines to get screened — here’s what travelers at international airports across the U.S. faced over the weekend due to #coronavirus #FBR'],\n",
       " ['U.S. surpasses 100,000 deaths from COVID-19: Johns Hopkins University #COVID19Pandemic #COVIDー19 #coronavirus #Covid19usa #COVID19US #COVID #Covid_19 #Covid19usa #CoronavirusUSA #CoronavirusOutbreak'],\n",
       " ['God Bless You Dr. Zelenco. #ZelenkoProtocol #3ForTheCURE #TripleCocktail #SuccessStories #Hydroxychloroquine #coronavirus #indictfauci #NoHr6666 #WakeUpAmerica #NoForcedVaccines'],\n",
       " ['Hoy se cumplen 90 días en México, desde que se detectó el primer caso de #Coronavirus. Debemos de seguir cuidándonos. '],\n",
       " ['Please see tentative list of operational flights as of May 28, 2020: https://www.facebook.com/MIAAGovPh/posts/1624943321004772 | via @MIAAGovPH #COVID19 #COVID19PH #coronavirus '],\n",
       " ['I wonder who to be made responsible and accountable for such large number of Death in #USA the most powerful and most affluent country in the World. History will speak in louder voice N red letters about these loss of lives 2 #Coronavirus than to any War,it is worst than any War'],\n",
       " ['I saw no one wearing a mask for the #MemorialDayWeekend . #Coronavirus'],\n",
       " ['Give directly to people you know who are in need, NOT to Democrats to pocket/divvy out. Look how they’ve destroyed small business & failed on every level in distributing unemployment & PUA benefits. People are FUCKED & Inslee is going straight to hell. #ReopenAmerica #Coronavirus'],\n",
       " ['PODCAST: Billy Moore on Bronson Xerri’s positive drug test \"Where did it get the steroids from?\" https://player.whooshkaa.com/episode?id=662301 #nrl @NRL @NRLcom #nrlshutdown #NRL360 #nrl360 @Cronulla_Sharks #coronavirus #HealthForAll #COVID2019 #covid19 #COVID19 #coronavirusaustralia #shutdown @WHO'],\n",
       " ['COVID-ALERT: Opinion: A surprising side effect of Covid-19 - Global Pandemic News | #Coronavirus #COVID19 - https://globalpandemic.net/news/opinion-a-surprising-side-effect-of-covid-19/'],\n",
       " ['Funeral Directors Blow the Whistle on Deaths Falsely Attributed to Coronavirus https://pjmedia.com/news-and-politics/megan-fox/2020/04/30/nyc-funeral-directors-reveal-shocking-inflation-of-covid-19-deaths-n387013 #Coronavirus @realDonaldTrump @potus @whitehouse @vp @PressSec @gop @TheJusticeDept @OANN @BreitbartNews @gatewaypundit @foxnews @nypost @RealJamesWoods #cnn #msnbc #cbsnews'],\n",
       " ['California reports 30 new cases and 1 new death bringing total confirmed cases there to 101,443 and 3,955 total deaths, with 1,667 new cases and 103 new deaths reported today. #CoronaVirus #Covid19 #CoronaVirusOutbreak'],\n",
       " ['Thursday 28th May 2020: Was that the bell being rung for us? https://shoeshineshare.wordpress.com/2020/05/28/thursday-28th-may-2020/ #ausbiz #stocks #XJO #equities #investing #finance #economy #economycrisis #coronavirus #markets $WPP $SXL $NWS $BEN $BLY $ALX $MSB'],\n",
       " ['Fiz as contas: MAIS MÁSCARAS QUE CUECA NO VARAL! #COVID19 #coronavirus #pandemia'],\n",
       " ['Ningún ministro de @PODEMOS asiste al minuto de silencio en la Moncloa por el #coronavirus https://www.catalunyapress.es/texto-diario/mostrar/1970481/ningun-ministro-podemos-asiste-minuto-silencio-moncloa-coronavirus @el_pais @abc_es @pacomarhuenda'],\n",
       " ['#Coronavirus Números de hoy 27 de mayo 706 nuevos casos 13.933 total positivos 8 nuevas muertes 500 el total de fallecidos 3,6% tasa de letalidad En Santiago del Estero 21 casos de los cuales 15 ya fueron dados de alta, y sin muertes.'],\n",
       " ['Agreed! “There’s no stigma attached to wearing a mask. There’s no stigma attached to staying six feet apart,” the KY Republican said, referencing social distancing guidelines recommended to stem the transmission of the #coronavirus. '],\n",
       " ['Me copa que con el #coronavirus me alejé de mucha gente. Y me sorprendió saber que había gente que me hacía mal.'],\n",
       " ['#Oremos pelas #Famílias, #Coronavírus #covid19'],\n",
       " ['100k lives lost unreal i blame Trump #coronavirus #VoteBlue2020'],\n",
       " ['Imagine being moved against your will. Then being trapped there, secluded from friends and family because someone ate a BAT IN CHINA #COVID19 #coronavirus'],\n",
       " ['Mañana vuelvo a trabajar con 0 ganas #coronavirus aléjate de mi '],\n",
       " [\"What's in the $3 Trillion HEROES Act? Our #COVIDMoneyTracker has the answer http://www.crfb.org/blogs/whats-3-trillion-heroes-act#.Xs7976k9v9A.twitter #HeroesAct #Coronavirus #Stimulus #Covid19 #Covid_19 #COVID\"],\n",
       " ['Can someone with #coronavirus just go into these police stations and cough out a lung I’m sickkkk of these bitchass cops MURDERING our minorities smh #fucktwelve '],\n",
       " ['\"Test, test, test\" es la forma más efectiva para prevenir el #coronavirus y salvar #vidas según la OMS. En Congelados Lopemar estamos implantando los #test serológicos a través de cualtis para contribuir a la… https://www.instagram.com/p/CAtelfGpjks/?igshid=9dbo9ksa0kmn'],\n",
       " [' HEMOS CONSEGUIDO EL AFILIADO Hoy viendo con seguidores inazuma eleven hemos llegado a los 51 seguidores. Con eso tenemos el afiliado . Entrad y disfrutad http://twitch.tv/RatmanCat #COVID19 #coronavirus #streaming #stream #Twitter #twitch #ratman #InazumaEleven'],\n",
       " ['#BREAKING: #Coronavirus enters Kogi, two first cases recorded @NCDCgov'],\n",
       " ['Here\\'s the Chief Medical Officer in the UK admitting that they are recording deaths as \"#Corona\" even if the dead hasn\\'t been tested or known to have #CoronaVirus #Covid19 #EmptyHospitals #FilmYourHospital #NHS #ClapForTheNHS #Hoax #FalseFlag #ID2020'],\n",
       " [\"Things are opening up, ... If you have any questions about how COVID is impacting our market, I'll be happy to help. https://crej.com/news/how-coronavirus-is-reshaping-our-entire-industry/ #covid19 #coronavirus #stayhome #boulder #colorado #realestate #boulderrealestate #coloradorealestate #compassboulder #compasscolorado\"],\n",
       " ['Plans to reopen English #schools ‘fail to address risk to #BAME staff’ https://www.theguardian.com/education/2020/may/26/plans-to-reopen-english-schools?CMP=share_btn_tw #education #teachers #teaching #politics #economics #publichealth #health #coronavirus #COVID19'],\n",
       " ['#CORONAVÍRUS #COVID19 #PANDEMIA Reposted from saudeceara Em tempos como esses, é muito importante saber diferenciar as diversas doenças respiratórias que podem nos ocorrer. A alergia respiratória é uma delas, sendo… https://www.instagram.com/p/CAtek5QH7IM/?igshid=ivxsrhd90jxm'],\n",
       " ['#Coronavirus outbreak at the pinnacle of #climatechange debate #Covid19'],\n",
       " ['Aíslan una variante del coronavirus \"extremadamente menos potente\" en laboratorios de Italia https://www.clarin.com/mundo/aislan-variante-coronavirus-extremadamente-potente-laboratorios-italia_0_lixiU_TQP.html #coronavirus #COVID19'],\n",
       " ['#Coronavirus '],\n",
       " ['Hope everybody is staying safe during these hard times! #coronavirus #staysafe #hardtimes #sixfeet'],\n",
       " ['#Biden2020 #biden #bidenmask #BlackLivesMatter #Corona #coronavirus #CoronaUpdate #CoronaBabona #NYC #Coronalockdown @realDonaldTrump #Trump #Trump2020 #maskchallenge #Masks4All'],\n",
       " ['Se estima que el pico de contagios llegaría en junio #Argentina #Salud #Pandemia #Coronavirus '],\n",
       " ['#REGION Con 26 nuevos casos positivos a COVID-19, Tamaulipas suma 1,644 #coronavirus #Tamaulipas #Covid #Reynosa #Matamoros #Tampico #Madero #cdvictoria https://elmercurio.com.mx/la-region/con-26-nuevos-casos-positivos-a-covid-19-tamaulipas-suma-1644 @TamaulipasSalud'],\n",
       " ['In a visit to mark the holiday of #Shavuot, @PresidentRuvi Rivlin met with farmers in the Emek Hefer region who are suffering due to the #coronavirus pandemic. Report by @AaronReich'],\n",
       " ['#PostalesDeLaCuarentena #Día69 #Coronavirus Rosario, 27 de mayo de 2020 @AudisioMatias #AislamientoObligatorio #AislamientoSocialObligatorio #Aislamiento #Cuarentena #quedateencasa #covid_19 #fase4'],\n",
       " ['#NinguémFicaPraTrás nas ações do Governo Federal de enfrentamento ao #coronavírus. Confira! Fonte: Governo Federal'],\n",
       " ['[Photo News] Students return to school amid virus outbreak #COVID19 #Coronavirus #school #education #pandemic'],\n",
       " ['#CaliEsCaracol | Son 26 los caleños atrapados en Chile, que llevan 26 días esperando que la Embajada colombiana, les ayude con un vuelo humanitario para regresar a Colombia, pero que no les cobren el tiquete #coronavirus '],\n",
       " ['Se tem um gestor público que merece uma reportagem do @robertocabrini pra ensinar ao resto do Brasil, a receita de sucesso ao combate ao #Coronavírus é o @GovSC @CarlosMoises Santa Catarina SC'],\n",
       " [\"Here's how you get tested for #COVID19: Search for free #Coronavirus testing centers near you! It's so easy and so important. Please go, especially if you don't have symptoms! You could be a carrier and not know it, like me! \"],\n",
       " ['#CoronavirusVeracruz A pesar de que #Veracruz se encuentra en el pico de la #pandemia generada por #coronavirus, los habitantes de #Xico preparan festividades de María Magdalena'],\n",
       " ['¿Y ESTO SE OLVIDARON DE CHEQUEAR AMIGOS? DAR NOTICIAS FALSAS SOBRE LA PANDEMIA DEL COVID-19 EN TV, ESO SI QUE ES OTRO LEVEL... #FakeNews #Coronavirus #COVID19'],\n",
       " ['#Coronavirus : Le SARS-CoV-2 entraîne bien une immunité protectrice Des personnels soignants infectés par le Covid-19 ont bien produit des anticorps, mais on ignore encore la durée de la protection. '],\n",
       " ['Here\\'s the Chief Medical Officer in the UK admitting that they are recording deaths as \"#Corona\" even if the dead hasn\\'t been tested or known to have #CoronaVirus #Covid19 #EmptyHospitals #FilmYourHospital #NHS #ClapForTheNHS #Hoax #FalseFlag #ID2020'],\n",
       " ['Primero el #coronavirus y ahora el #LoL'],\n",
       " ['#repost #Latina #twerking to #citygirls https://youtu.be/iSkjyCpjt_s via @YouTube #twerk #twerking #GeorgeFloyd #dek63 #SpaceXDragon #usman #ทีมมช #ทีมมก #BlackTwitter #coronavirus #MikaYuu #COVID19'],\n",
       " [' #Coronavirus: #Brasil supera los 25,000 muertos y los 400,000 casos por #COVID_19'],\n",
       " ['Heads up! Tomorrow night, keep an eye out for a new video of Jason Brown, Carnegie Science Center Director, interviewing two @PittCVR researchers who are working on a team to develop a vaccine for SARS-CoV-2, the virus that causes #COVID19. #Pittsburgh #coronavirus @PittTweet'],\n",
       " ['Boris Johnson. Man of the people. #YouDidntHearThisFromKuenssberg #bbcnews #c4news #Newsnight #skynews #skypapers @lbc #covid19 #coronavirus #covid19UK #coronavirusUK'],\n",
       " [' Coronavirus Informe Diario #Pandemia #Coronavirus #Situación #Gráfico #País #Cuarentena #Argentina #PeriodismoEnRed'],\n",
       " ['As the #coronavirus death toll reaches 100,000, the U.S. is not united in mourning. Instead, divisions are more obvious than ever https://s2.washingtonpost.com/298563d/5ecee1fee6e81b69fea1622f/5977beacae7e8a6816e6f0ae/1/10/ff5a53d436e0bd5b967aaeb0b6f61864 #COVID19'],\n",
       " ['Cummings would not have the media outside his home if he had not traipsed some 260 miles while carrying #Coronavirus while help from family, support group &amp; friends(?) was to hand in London! Then driving with dodgy eyesight 30 odd miles when wife could have driven! '],\n",
       " ['#Argentina #covid19 #coronavirus '],\n",
       " ['#Chaco #Pandemia #cuarentena #QuedateEnCasa #CuarentenaObligatoria #AislamientoObligatorio #Coronavirus #Aislamiento #Covid_19 Coronavirus en Chaco | Nación informó 16 nuevos casos y el total asciende a 796 en la provincia.'],\n",
       " ['100,000 people have died on your Dad’s watch. #COVID #coronavirus #OneHundredThousand'],\n",
       " ['#coronavirus en Perú: gremios de transporte urbano descartan paralización para este jueves #Covid_19 #COVID19 https://elcomercio.pe/lima/transporte/coronavirus-en-peru-gremios-de-transporte-urbano-descartan-paralizacion-para-este-jueves-noticia/ vía @elcomercio_peru'],\n",
       " ['#COVID19 VACCINE: If a #coronavirus vaccine was available today, only about half of Americans say they would get it, according to a poll https://abc7.la/2M462Oz'],\n",
       " [\"Que #CORONAVIRUS ns apprenne aussi l'humilité. Seul Dieu est grand ! Qui que tu sois ou tout ce que tu as, ce n'est que VANITÉ. \"],\n",
       " ['TBH, the constant reporting of deaths from or with #coronavirus has now left me much less affected or sad by the number (now 100,000). Death is part of life, no matter how it comes. Most tragic—elderly dying without family in nursing homes. @realDonaldTrump @CNN @MSNBC @ABC @NBC'],\n",
       " [\" The clue that Trump's #Coronavirus inaction was deliberate was when he re-tweeted THIS image... \"],\n",
       " [\"Let's observe social distancing and flatten the curve. #pencilart #COVID19 #coronavirus #coronavirusghana #SocialDistancing #Quarantine\"],\n",
       " [\"It's not a coincidence that so many Democratic politicians -- and they are mostly Democrats -- are being caught breaking their own #coronavirus restrictions. Left-wing ideology often seeks to impose absurd and impractical rules on others that the leaders refuse to obey themselves\"],\n",
       " ['Tarpon Springs mobile home residents provide meals for #ALF staffs #nursinghomes #COVID19 #coronavirus '],\n",
       " ['Coronavirus caos in Premier League: altri 4 calciatori positivi al tampone - #Coronavirus #Premier #League: #altri https://www.zazoom.info/ultime-news/6686090/coronavirus-caos-in-premier-league-altri-4-calciatori-positivi-al-tampone/'],\n",
       " ['Join us TOMORROW, May 28th, at 3P EST for a Facebook Live (http://www.facebook.com/StompOutBullying/)! @DrAndrewOrdon of @TheDoctors will be joining #RossEllis, founder &amp; CEO of #STOMPOutBullying, to discuss the dos &amp; don’ts of #COVID19 from his own battle with the novel #coronavirus. '],\n",
       " ['Coronavirus in Campania oggi 27 maggio i dati più bassi con 4 casi positivi - #Coronavirus #Campania #maggio #bassi'],\n",
       " ['How many questions would you ask a #virologist right now, about the #coronavirus #Covid19? We just so happen to have one in the family. Meet Dr. Greg Kirchenbaum, who has volunteered to answer a few questions that people have asked about Covid-19. #RKMD'],\n",
       " [' En cuanto a los decesos #Cuba presenta 82 fallecidos por el nuevo #coronavirus, lo que representa 4,15% de letalidad, con esta cifra se ubica en el número 16 en la región https://bit.ly/2TJCNVz Para apoyar el periodismo independiente https://bit.ly/2yoTBcr'],\n",
       " ['Muslim body conducts last rites of Hindu man in Akola http://toi.in/KpwpMY/a24gj via @timesofindia @TOI_Nagpur @ngpnmc @InfoNagpur @MantralayaRoom @CMOMaharashtra @NitinRaut_INC @ProshuncTOI @vaibhavgTOI #covid1948 #coronavirus #funeral'],\n",
       " ['Are you willing to wear a mask if that enables you to resume more activities and to join large groups? #coronavirus'],\n",
       " ['Well, if you choose wisely, you can actually learn something watching #TV #WednesdayThoughts #Children #homework #COVID19 #coronavirus '],\n",
       " ['พรีเมียร์ลีกตรวจโควิดรอบ3พบผู้ติดเชื้ออีก 4 ราย https://www.innnews.co.th/sports/news_686063/ #COVID19 #โควิด19 #Coronavirus #Covid_19 #INNNEWS #SMSINN'],\n",
       " ['Para su información, en esta empresa de correos privados hay un brote grande de #coronavirus incluso con trabajador intubado y varios con diagnóstico positivo confirmado,la empresa sigue trabajando haciendo repartos en toda la ciudad @ministeriosalud @SeremiSaludRM, fiscalicen'],\n",
       " ['“Japan’s health care system was on the brink of collapse, and we just barely managed to avoid that, thanks to an all-Japan effort.” #Japan #coronavirus '],\n",
       " ['#orlando のディズニーワールド、7/11から一部営業再開を予定 #disneyworld #coronavirus #covid19 #deconfinement'],\n",
       " ['الموقف اليومي الوبائي #كورونا #كوفيد_19 #كوفيد19 #العراق #بغداد #اربيل #البصرة #كوردستان #کۆرۆنا #IRAQ #BAGHDAD #KURDISTAN #COVID19IRAQ #CORONAVIRUS #StayAtHome #خليك_في_البيت آخر تحديث #احصائية_كورونا_كوفيد19_العراق الاربعاء 27 آيار مايو 2020 11:59 ليلاً'],\n",
       " ['¡Sigue atento y evita el contagio! #COVID19 #Coronavirus #PrevenciónCoronavirus'],\n",
       " [\"trump's America: #100000Deaths #coronavirus #COVID19\"],\n",
       " [\"Ontario taking over 5 long-term care homes following 'gut-wrenching' military report #COVID19Pandemic #COVIDー19 #coronavirus #CanadaCovid19 #COVID19 #covid19Canada #CoronaVirusCanada\"],\n",
       " ['Dear tweet hearts The standard thing is to wash it daily after use but now some people have washed never washed it since purchase.Please if you are on this table, come down and Kindly do the needful today #Covid19 #healthylifestyle #facemask #staysafe #stayhome #coronavirus'],\n",
       " ['A compartir TIC TAC!!! Ya disponible en todas las plataformas digitales!!! #COVID19 #coronavirus #single #novedad #spotify #tictac #treguarock #instagram #facebook'],\n",
       " ['U.S. deaths from coronavirus surpass 100,000 milestone https://wnctimes.com/news/3482-us-deaths-from-coronavirus-surpass-100-000-milestone #coronavirus #COVID19 #COVID #OneHundredThousand #pressrelease #News'],\n",
       " ['#Coronavirus Lethal To #NursingHomes! Study Finds Just 1.8% Of US Population Is In #NursingHomes But Tallied Over 42% Of All US COVID-19 #Deaths — Or Over #40000Deaths! https://www.teaparty.org/study-finds-just-1-8-of-us-population-is-in-nursing-homes-but-tallied-over-42-of-all-us-covid-19-deaths-or-over-40000-deaths-440706/'],\n",
       " ['#tiezavereadora #aracatuba #coronavirus #coronavirusnobrasil'],\n",
       " ['5/27/20 Distrito 5 mensaje sobre el #coronavirus @LASchools #BD5 Haga clic en: https://achieve.lausd.net/resources para la lista completa de recursos.'],\n",
       " ['Ante incremento de casos de #Coronavirus, finalmente alcalde de #Medellín de Bravo #blinda el municipio'],\n",
       " [\"This could not have been prevented... No President could have prevented ANY of the dead we have... There's a risk associated with living life... We need to stop the #coronavirus #dumbassery and #OpenAmericaUp as soon as possible!\"],\n",
       " ['Breaking: Twitter fact-checks China official after @NYPost presses on Trump double standard Two tweets by @zlj517 have new fact-checks warnings. Zhao suggests US troops released #coronavirus in Wuhan '],\n",
       " ['I am so Happy that SOME countries and people still are saving lives and not caving! #ZelenkoProtocol #3ForTheCURE #TripleCocktail #SuccessStories #Hydroxychloroquine #coronavirus #indictfauci #NoHr6666 #WakeUpAmerica #NoForcedVaccines'],\n",
       " ['Protégete del #Coronavirus #COVID19, lávate las manos frecuentemente y mantente informado con fuentes oficiales. #YoMeQuedoEnCasa #QuédateEnCasa #DisfrutaLaRadio #PorFavor #DisfrutaLaRadio #MéxicoUnido #TómaloEnSerio http://www.abcradiogro.com.mx/chilpancingo/reproductor/player.php'],\n",
       " ['POST-COVID TRAVEL DEALS: Fact or fiction? #pointsguy #coronavirus #postcovid #traveldeals #quarantine'],\n",
       " ['Emirates anunció nuevas medidas de higiene para combatir el Covid-19 Ver nota: https://bit.ly/36HRy0j @emirates #Emirates #MedidasPrevencion #PrevencionCOVID19 #CrisisCOVID19 #coronavirus '],\n",
       " [\"Un tren de carga con suministros antiepidémicos a bordo salió el 27 de mayo de Xi'an, capital de la provincia noroccidental china de Shaanxi, con destino a #Polonia. #China #Europa #coronavirus \"],\n",
       " ['COVID-ALERT: From 9/11 to COVID-19, It’s Been a Perpetual State of Emergency - Global Pandemic News | #Coronavirus #COVID19 - https://globalpandemic.net/news/from-9-11-to-covid-19-its-been-a-perpetual-state-ofemergency-2/'],\n",
       " ['#coronavirus #covid19: When can you be around others? .@CDC offers coronavirus guidance.'],\n",
       " ['Well, It’s not like I had a bunch of other stuff to do. #coronavirus https://www.instagram.com/p/CAtePnAp5jiIdXNeebMBv8LApeDXV9At13ebuI0/?igshid=9a0gxzl0jzg4'],\n",
       " ['La importancia de usar bien la mascarilla para la prevención de los contagios #Coronavirus #Prevención #SaludPública'],\n",
       " ['Watch 13,000+ HD Channels,VODs,18+ From any device. Get Free 24 hrs TRIAL from https://streamiptv.uk #iptv #iptv #LaunchAmerica #NASA #GeorgeFloyd #Chromatica #racism #streamiptv #arabic #IPTVLinks #iptvm3u #iptv_m3u #UKlockdown #USA2Space #usaCoronavirus #coronavirus '],\n",
       " ['#uspoli donnyt tries to hang #Obama by @Ramireztoons #uspolitics #Coronavirus #maga'],\n",
       " ['Parecidos https://www.tercerainformacion.es/opinion-grafica/2020/05/21/parecidos #Coronavirus'],\n",
       " [' US #coronavirus deaths exceed 100,000 Europe, meanwhile, has slowly started reopening businesses as outbreaks on the continent slow. DETAILS https://bit.ly/36zMuex | #VisionUpdates'],\n",
       " ['Surco sanciona a Rappi y clausuró local de Farenet por gran aglomeración de repartidores #COVID19 #coronavirus #Covid_19 https://elcomercio.pe/lima/sucesos/coronavirus-peru-surco-sanciona-a-rappi-y-clausuro-local-de-farenet-por-gran-aglomeracion-de-repartidores-covid-19-nndc-noticia/ vía @elcomercio_peru'],\n",
       " [' #Coronavirus en Estados Unidos al 27 de mayo: Superan la barrera de los 100.000 muertos por #COVIDー19 al 27 de mayo https://bit.ly/2zAbdmE'],\n",
       " [\"Justice for Philip Haney Obama ordered him to erase Terrorist from Database. Now He's Dead!!! #PhilipHaney #coronavirus @FBI @AltUSDOJ @realDonaldTrump\"],\n",
       " ['Los ultimos seran los primeros, el carajito fue el ultimo en trancarse y ya se devuelve a su oficina el Lunes, me lo dijo triste Saldremos enteros porque seguimos rutinas, bueno yo algun insomnio pero he seguido electrica casi me toca a mi...sera a su tiempo #coronavirus'],\n",
       " [\"I need a week away from the toddler-in-chief. Even though I blocked him in 2015, he's talked about too much here (and I'm as guilty of that as anyone). Except for my daily tweet on the #Coronavirus tally in America (look for #tnxtrump), I will not read Twitter or tweet 6/1-6/7.\"],\n",
       " ['#EspecialesLSR \"No es #coronavirus el que me puede matar, sino mi esposo\". Este es el infierno que viven mujeres e hijos en medio del encierro, el desempleo, la falta de dinero y la violencia familiar https://lasillarota.com/amp/estados/no-es-coronavirus-el-que-me-puede-matar-sino-mi-esposo-coronavirus-pandemia-cuarentena-confinamineto/394203'],\n",
       " ['#diversity #inclusion #remotework #remoteworking #telecommute #workfromhome #coronavirus #covid19 #business'],\n",
       " ['El resumen de las noticias más importantes a esta hora. Perú registró por segundo día consecutivo un récord en la detección de casos por #coronavirus. Las autoridades aseguran que el periodo en el que un infectado contagiaba a más de una persona ya pasó '],\n",
       " ['@marthamaccallum You know that 100,000 people have NOT died of #coronavirus #COVID19 the #WuhanVirus . That #includes gunshot victims, drug overdoses, heart attacks, car accidents and much more! Verifiable facts! Even people who were never tested are counted. #FactsMatter'],\n",
       " ['Impossibruuuuuu!! Tune in at 9PM ET for probably a ton of jokes about the #coronavirus #COVID19 #wuhanflu as we talk about some spooky Asian culture.'],\n",
       " ['Can you FOCUS please! 100K Americans are dead now.... #Focus #coronavirus #caronavirus2020'],\n",
       " ['Aquí hacemos fiesta #CarnavalDeLaCorazon con @Giankchile al 22 381 2040, 41 y 42 y audios al wsp+569 6785 3972 . . #quédateencasa #cuarentena #coronavirus #chile #radio #programa #noche #entretención #yomequedoencasa #quédateenradio'],\n",
       " ['Magic Johnson, the CEO of Magic Johnson Enterprises, has partnered with MBE Capital Partners to offer $100 million in loans to minority- and women-owned companies. http://ow.ly/kpGr50zRL1x #HR #business #coronavirus #COVID19 #pandemic #economy'],\n",
       " ['#COVID19 #coronavirus '],\n",
       " ['Pay Attention! #ZelenkoProtocol #3ForTheCURE #TripleCocktail #SuccessStories #Hydroxychloroquine #coronavirus #indictfauci #NoHr6666 #WakeUpAmerica #NoForcedVaccines'],\n",
       " [' ¿Qué significa llegar a la fase 5 de la #pandemia del #Covid19? Te contamos todo lo que debes saber sobre la emergencia sanitaria del nuevo #coronavirus. Más detalles: http://bit.ly/35EthYu'],\n",
       " ['Breaking: According to Times of Sweden, Jihadist recruiter Abu Omar DEAD from the Coronavirus! Collateral good news for sure. #abuomar #coronavirus #breaking #terrorism #sweden #covid19 #covid19sweden'],\n",
       " ['ACLARAN SOBRE LOS PERMISOS DE CIRCULACIÓN A NIVEL PROVINCIAL La Policía de #EntreRios informó que los permisos locales de circulación continuarán teniendo validez en la provincia. Noticia Completa https://bit.ly/2ZGRU5M #Permisos #EmergenciaSanita #Coronavirus '],\n",
       " ['5/27/20 Board District 5 #coronavirus update @LASchools #BD5 Click: https://achieve.lausd.net/resources to access the full list of locations and resources.'],\n",
       " [' #ZelenkoProtocol #3ForTheCURE #TripleCocktail #SuccessStories #Hydroxychloroquine #coronavirus #indictfauci #NoHr6666 #WakeUpAmerica #NoForcedVaccines'],\n",
       " ['El #COVIDー19 se ha cobrado la vida de 100.000 personas en Estados Unidos, según el conteo que lleva a cabo la universidad Johns Hopskins y cerca de 1.7 millones de contagios por #coronavirus Total casos: 1.698.581 Total muertes: 100.271 '],\n",
       " ['Here\\'s the Chief Medical Officer in the UK admitting that they are recording deaths as \"#Corona\" even if the dead hasn\\'t been tested or known to have #CoronaVirus #Covid19 #EmptyHospitals #FilmYourHospital #NHS #ClapForTheNHS #Hoax #FalseFlag #ID2020'],\n",
       " ['real talk #COVID19 #coronavirus #ihatemylife'],\n",
       " ['100k Americans have died from the #coronavirus. STFU.'],\n",
       " ['#CoronavirusEnBolivia #FFAA Sube la cantidad de efectivos militares,confirmados cómo casos #positivos de #coronavirus en el país. Al momento se registran 97 efectivos #militares a nivel nacional.'],\n",
       " ['#coronavirus #covid #covid_19 #albuquerque #graffiti https://www.instagram.com/p/CAteIB1JdKN/?igshid=1slennu2xyu4l'],\n",
       " ['Pompeo or Pompeii? The United States kowtows to #China Real-life #GameOfThrones? https://www.cnn.com/2020/05/27/politics/hong-kong-pompeo-certification/index.html Will it make America great again? You decide #HongKong #Vesuvius #Pompeii #politics #InternationalRelations #trade #commerce #StockMarket #investing #politics #coronavirus'],\n",
       " ['#Coronavirus | #Colombia El Gobierno ha confirmado que se otorgará el 50% de la prima a los trabajadores que devengan un salario mínimo. http://360radio.com.co'],\n",
       " ['Tengo mucho miedo... difícil pensar en un mañana #coronavirus maldito'],\n",
       " ['FFS. @DrTedros @WHO was advising every country to make finding, testing, isolating, caring for and tracing every #Coronavirus #COVID19 patient their HIGHEST PRIORITY by 6 March. We may finally be getting serious on 28 May https://twitter.com/who/status/1235950626745593857?s=21 cc @Jeremy_Hunt @Keir_Starmer'],\n",
       " ['Que se replique en todas las comunas de Chile https://www.biobiochile.cl/noticias/nacional/region-metropolitana/2020/05/27/renca-decide-suspender-las-fondas-fiestas-patrias-show-pirotecnico-ano-nuevo.shtml vía @biobio #coronavirus #ChileEnCrisisTotal #sistemacolapsado #elneoliberalismomata #COVID19'],\n",
       " ['And, when those 75% + \"choose\" to come home, they may find that their church is closed; not because of #coronavirus, but because they \"chose\" before coronavirus not to support their church. https://twitter.com/VeniDomum/status/1265620964336979968'],\n",
       " ['I love Elderberry. I make my own #tea and #Elderberry Syrup from scratch Promising coronavirus research looks at elderberry https://www.dailyherald.com/entlife/20200503/promising-coronavirus-research-looks-at-elderberry #Covid-19 #coronavirus'],\n",
       " [\"How India's lockdown has affected mental health https://www.news-medical.net/news/20200527/How-Indias-lockdown-has-affected-mental-health.aspx Via @iitgn @medrxivpreprint @anuassam_01 #MentalHealth #Addiction #Anxiety #Coronavirus #Depression #InternetAddiction #Research #Stress #CoronavirusDisease #COVID19 #PornAddiction #Pornography\"],\n",
       " ['#Protestants #USArmy #Baptists #USAirForce #Evangelists #USNavy #Mormons #USMC @realdonaldtrump #trumpPandemic #Election2020: #Referendum on #trump #GOPConvention of #Coronavirus Run with it, #trump. @Maddow @Lawrence.'],\n",
       " ['#coronavirus bitmeden #meteor da geldi #uzaylılar sizi bekliyoruz bı siz kaldınız...'],\n",
       " ['The Texas Supreme Court voted #remotely because of a \"lack of immunity to #Coronavirus. '],\n",
       " ['Coronavirus could wipe out your small business. Or it could be an opportunity. Discover 7 recession-proof ways marketing optimization could mean the difference #webROIagency #DigitalMarketing #Coronavirus #MarketingOptimization #SmallBusiness'],\n",
       " [\"I really enjoyed getting the chance to be a part of a news conference this afternoon with @GovAbbott, @CityofAmarillo officials as well as my friends with the other media outlets about the area's recent #Coronavirus trends and what Panhandle residents should expect going forward. \"],\n",
       " [\"Without a reason (right after mentioning #coronavirus) The CDC says anyone who is vulnerable should still stay home so they should risk their lives to vote? It's sad that you &amp; Trump won't even call for your elderly base to be able to vote by mail. #VoteBlueToSaveAmerica\"],\n",
       " ['Now is not the time to let up your guard America #coronavirus . '],\n",
       " ['Omg #USA crosses 100,000 #COVID19 deaths! This #usafacts cannot be ignored by #WeThePeople &amp; we insist #LeadersMatter in words &amp; action to address #coronavirus #pandemic #ItsAboutTime promote #SocialDistancing #Masks4All #handhygiene beware of #SecondWave #LeadershipMatters'],\n",
       " ['la burocracia de este hp gobierno de , que hace el gerente #coronavirus corrupción de este país, se le apareció la virgen a este hp , para ponerse a robar. Hola cuando va a responder por #NenePolitica ... #COVID19 @ONU_es #OMS @DavidRacero @elsemblante #UnionEuropea'],\n",
       " ['Estados Unidos supera los 100.000 muertos por #coronavirus #COVID19 #Covid_19 https://elcomercio.pe/mundo/eeuu/coronavirus-usa-estados-unidos-en-vivo-hoy-miercoles-27-de-mayo-ultimas-noticias-infectados-contagiados-muertos-y-resumen-de-hoy-en-directo-estados-unidos-supera-los-100000-muertos-por-covid-19-ultimo-minuto-us-eeuu-donald-trump-noticia/ vía @elcomercio_peru'],\n",
       " ['@POTUS real video from inside the @WhiteHouse of @realDonaldTrump shakin’ It! Go #MrPresident #coronavirus #COVID19 #Covid_19 #covid1948 #MAGAts #MAGA2020 #maga'],\n",
       " ['#RadioCompañera Sube la cantidad de efectivos militares,confirmados cómo casos #positivos de #coronavirus en el país. Al momento se registran 97 efectivos #militares a nivel nacional.'],\n",
       " [\"@HeroActionFund #petition : Let's Fight To End #BigPharma #Pharma #Pharmaceutical 's monopolies on life-saving #drugs #medicine during the #coronavirus #COVID #COVID19 #pandemic : https://actionnetwork.org/forms/big-pharma-monopolies-covid?source=twitter&amp; #ForTheMany #NotTheFew\"],\n",
       " ['#NACIONAL Muertes por COVID-19 reflejan problemas de salud en México, señala ISSSTE #Coronavirus #ISSSTE #cdvictoria #Tamaulipas #Mexico'],\n",
       " ['El @sg_sica nos compartió los principales logros y alcances obtenidos a la fecha con la puesta en marcha del Plan de Contingencia Regional del #SICA frente al #COVID19 #Coronavirus. #JuntosSaldremosAdelante'],\n",
       " ['The latest World News! https://www.thelorereport.ie/paper-li/ Thanks to @raulcastellano1 @collotts @conoraon #covid19 #coronavirus'],\n",
       " [\"How can anyone support this #Tory administration? They've left the old to die in care homes. Boris has spent more time protecting Cummings than he has the United Kingdom. He's easing lockdown because the NHS can now handle a bigger #coronavirus flare up. #BorisTheButcher\"],\n",
       " ['Decoding The Politics Of Corona. Kindly listen to Dr Biswaroop Chawdry #COVID19 #coronavirus #COVID__19 #ModernWarfare #ModiMadeDisaster #MigrantWorkers'],\n",
       " ['Un minuto de silencio dedicado con todo respeto a los que están dejando este mundo sin poder decir adiós ni ser despedidos como se merecen. Triste realidad mundial. Descansen en paz. #coronavirus #Covid_19'],\n",
       " ['#coronabingo #covid19 #coronavirus @Jacksonville, Florida https://www.instagram.com/p/CAtd_-_A2tp/?igshid=vxdvxd0any8a'],\n",
       " ['Read the whole thread, but this conclusion is key—put aside the rhetoric and use the science to guide decision making about the return of F2F instruction in the fall #coronavirus #campus'],\n",
       " ['#ZelenkoProtocol #3ForTheCURE #TripleCocktail #SuccessStories #Hydroxychloroquine #coronavirus #indictfauci #NoHr6666 #WakeUpAmerica #NoForcedVaccines'],\n",
       " ['.@lacoeinfo offers an early glimpse of the changes needed to reopen #California schools: 16 students a class, lunch at your desk, masks, solo playtime, staggered schedules, #SocialDistancing #COVID19 #coronavirus '],\n",
       " ['【emergency! Press Release] On May 23, the number of new coronavirus infections in Japan is about 4.6 million! The outbreak of infection in Japan is imminent! #coronavirus #WuhanVirus https://kolbemarie.blogspot.com/2020/04/emergency-press-release-april-24-number.html'],\n",
       " ['Marketing and distribution. I’m only in one bookstore so far but this is due to #coronavirus lockdown.'],\n",
       " ['#Nación | Habitantes de San Antonio de la Cal, Oaxaca, aseguraron que la sanitización era utilizada para propagar el #coronavirus http://www.e-veracruz.mx/nota/2020-05-27/nacion/incendian-palacio-municipal-pobladores-se-oponen-sanitizacion vía @e_consulta'],\n",
       " [' SANTA FE NO CONFIRMA CASOS NUEVOS DE CORONAVIRUS Situación actual de los casos descartados, confirmados y sospechosos en estudio de #Coronavirus y acciones de gobierno. https://bit.ly/2TKWwnO'],\n",
       " ['We should not trust a government who has failed us from the start and lead to almost 40k, possiblly more people dying needlessly? You are part of the problem if you think this is acceptable #coronavirus #BorisJohnston'],\n",
       " ['#Coronavirus: ya suman 500 los fallecidos y son 13.933 los infectados en el país. https://criticasur.com.ar/nota/25792/coronavirus_ya_suman_500_los_fallecidos_y_son_13_933_los_infectados_en_el_pais/'],\n",
       " ['#SantaFe Situación actual de los casos descartados, confirmados y sospechosos en estudio de #Coronavirus y acciones de gobierno. https://bit.ly/2TKWwnO'],\n",
       " ['Pass the #HeroesAct. #TrumpDeathToll100K #TrumpHasNoPlan #COVID19 #coronavirus '],\n",
       " ['Confirmados por laboratorio ya son 1616 casos de #COVID19 #Coronavirus en #Yucatán, 35 más que ayer. Murieron 8 personas con diagnóstico positivo, ya son 170 decesos. Si tienes síntomas NO SALGAS, llama al 800 YUCATÁN, descarga MEDITOC o usa Chat de la Salud. #QuédateEnCasa'],\n",
       " ['#coronavirus #ToryCriminalCovidMismanagement'],\n",
       " ['Balance correspondiente a este miércoles 27 de mayo del 2020. #Venezuela #Noticias #Coronavirus #COVID19 #QuedateEnCasa #27Mayo'],\n",
       " ['#Informe #Coronavirus #COVID19 #Total (Hoy/Acumulados): 706 / 13.933 Buenos Aires 315 / 4770 CABA 361 / 6563 Catamarca 0 / 0 Chaco 16 / 796 Chubut 0 / 5 Córdoba 0 / 459 Corrientes 2 / 80 Entre Ríos 0 / 29 Formosa 0 / 0 Jujuy 0 / 5 La Pampa 0 / 5 '],\n",
       " ['CERO: segundo día consecutivo sin nuevos casos de #coronavirus en Córdoba, que tiene 464'],\n",
       " ['#SANGIL #Denuncia Ciudadano captó vehículos de turistas extranjeros paseándose por #SanGil en plena pandemia por #coronavirus urgente control @PoliciaStander @MigracionCol'],\n",
       " ['100,000 points of light. #COVIDー19 #TrumpDeathToll100K #Coronavirus '],\n",
       " ['#Tandil #ABCHoy #Coronavirus #ElPortaldelaCiudad'],\n",
       " ['Reminder for the day... ITS STILL A #PANDEMIC TODAY JUST THE SAME AS MARCH 11TH. OKAY!? OKAY! BE SAFE &amp; WASH YOUR HANDS &amp; #WearAMask FOR YOU &amp; ME!! #coronavirus #COVID19 THANK YOU!!']]"
      ]
     },
     "execution_count": 17,
     "metadata": {},
     "output_type": "execute_result"
    }
   ],
   "source": [
    "# Print texts\n",
    "text_tweets"
   ]
  },
  {
   "cell_type": "code",
   "execution_count": 18,
   "metadata": {},
   "outputs": [],
   "source": [
    "stop_words = [\"i\", \"me\", \"my\", \"myself\", \"we\", \"our\", \"ours\", \"ourselves\", \"you\", \"your\", \"yours\", \"yourself\",\n",
    "              \"yourselves\", \"he\", \"him\", \"his\", \"himself\", \"she\", \"her\", \"hers\", \"herself\", \"it\", \"its\", \"itself\",\n",
    "              \"they\", \"them\", \"their\", \"theirs\", \"themselves\", \"what\", \"which\", \"who\", \"whom\", \"this\", \"that\", \"these\",\n",
    "              \"those\", \"am\", \"is\", \"are\", \"was\", \"were\", \"be\", \"been\", \"being\", \"have\", \"has\", \"had\", \"having\", \"do\",\n",
    "              \"does\", \"did\", \"doing\", \"a\", \"an\", \"the\", \"and\", \"but\", \"if\", \"or\", \"because\", \"as\", \"until\", \"while\",\n",
    "              \"of\", \"at\", \"by\", \"for\", \"with\", \"about\", \"against\", \"between\", \"into\", \"through\", \"during\", \"before\",\n",
    "              \"after\", \"above\", \"below\", \"to\", \"from\", \"up\", \"down\", \"in\", \"out\", \"on\", \"off\", \"over\", \"under\", \"again\",\n",
    "              \"further\", \"then\", \"once\", \"here\", \"there\", \"when\", \"where\", \"why\", \"how\", \"all\", \"any\", \"both\", \"each\",\n",
    "              \"few\", \"more\", \"most\", \"other\", \"some\", \"such\", \"no\", \"nor\", \"not\", \"only\", \"own\", \"same\", \"so\", \"than\",\n",
    "              \"too\", \"very\", \"s\", \"t\", \"can\", \"will\", \"just\", \"don\", \"should\", \"now\"]\n",
    "\n",
    "# Removing stop words from the tokenized words list\n",
    "final_words = [word for word in tokenized_words if word not in stop_words]"
   ]
  },
  {
   "cell_type": "code",
   "execution_count": 19,
   "metadata": {},
   "outputs": [
    {
     "name": "stdout",
     "output_type": "stream",
     "text": [
      "Counter({' powerless': 3, ' happy': 3, ' attracted': 2, ' free': 2, ' sad': 2, ' entitled': 2, ' attached': 1, ' singled out': 1, ' hated': 1, ' lost': 1, ' adequate': 1})\n"
     ]
    }
   ],
   "source": [
    "# Get emotions text\n",
    "emotion_list = []\n",
    "with open('emotionss.txt', 'r') as file:\n",
    "    for line in file:\n",
    "        clear_line = line.replace('\\n', '').replace(',', '').replace(\"'\", '').strip()\n",
    "        word, emotion = clear_line.split(':')\n",
    "        if word in final_words:\n",
    "            emotion_list.append(emotion)\n",
    "\n",
    "w = Counter(emotion_list)\n",
    "print(w)\n"
   ]
  },
  {
   "cell_type": "code",
   "execution_count": 20,
   "metadata": {},
   "outputs": [
    {
     "data": {
      "image/png": "[encoded data removed]",
      "text/plain": [
       "<Figure size 432x288 with 1 Axes>"
      ]
     },
     "metadata": {
      "needs_background": "light"
     },
     "output_type": "display_data"
    }
   ],
   "source": [
    "fig, ax1 = plt.subplots()\n",
    "ax1.bar(w.keys(), w.values())\n",
    "fig.autofmt_xdate()\n",
    "plt.savefig('graph.png')\n",
    "plt.show()"
   ]
  },
  {
   "cell_type": "code",
   "execution_count": 21,
   "metadata": {},
   "outputs": [
    {
     "data": {
      "image/png": "[encoded data removed]",
      "text/plain": [
       "<Figure size 432x288 with 1 Axes>"
      ]
     },
     "metadata": {
      "needs_background": "light"
     },
     "output_type": "display_data"
    }
   ],
   "source": [
    "fig, ax1 = plt.subplots()\n",
    "ax1.bar(w.keys(), w.values())\n",
    "fig.autofmt_xdate()\n",
    "plt.savefig('graph.png')\n",
    "plt.show()"
   ]
  },
  {
   "cell_type": "code",
   "execution_count": 43,
   "metadata": {},
   "outputs": [
    {
     "name": "stdout",
     "output_type": "stream",
     "text": [
      "bag of words : ['16', 'and', 'as', 'by', 'capital', 'city', 'commercial', 'country', 'financial', 'gdp', 'generates', 'india', 'is', 'it', 'largest', 'mumbai', 'of', 'population', 'the', 'total']\n"
     ]
    }
   ],
   "source": [
    "# Example of single document\n",
    "# Without stopwords\n",
    "\n",
    "from sklearn.feature_extraction.text import CountVectorizer \n",
    "\n",
    "from nltk.corpus import stopwords\n",
    "import pandas as pd\n",
    "\n",
    "# Single document (',' seperates each document)\n",
    "string = [\"Mumbai is India's largest city (by population) and is the financial and commercial capital of the country as it generates 6.16% of the total GDP\"]\n",
    "\n",
    "# This step will convert text into tokens \n",
    "vect1 = CountVectorizer()\n",
    "\n",
    "vect1.fit_transform(string)\n",
    "print(\"bag of words :\",vect1.get_feature_names())"
   ]
  },
  {
   "cell_type": "code",
   "execution_count": 44,
   "metadata": {},
   "outputs": [
    {
     "data": {
      "text/plain": [
       "{'mumbai': 15,\n",
       " 'is': 12,\n",
       " 'india': 11,\n",
       " 'largest': 14,\n",
       " 'city': 5,\n",
       " 'by': 3,\n",
       " 'population': 17,\n",
       " 'and': 1,\n",
       " 'the': 18,\n",
       " 'financial': 8,\n",
       " 'commercial': 6,\n",
       " 'capital': 4,\n",
       " 'of': 16,\n",
       " 'country': 7,\n",
       " 'as': 2,\n",
       " 'it': 13,\n",
       " 'generates': 10,\n",
       " '16': 0,\n",
       " 'total': 19,\n",
       " 'gdp': 9}"
      ]
     },
     "execution_count": 44,
     "metadata": {},
     "output_type": "execute_result"
    }
   ],
   "source": [
    "vect1.vocabulary_"
   ]
  },
  {
   "cell_type": "code",
   "execution_count": 45,
   "metadata": {},
   "outputs": [
    {
     "data": {
      "text/plain": [
       "CountVectorizer(analyzer='word', binary=False, decode_error='strict',\n",
       "                dtype=<class 'numpy.int64'>, encoding='utf-8', input='content',\n",
       "                lowercase=True, max_df=1.0, max_features=None, min_df=1,\n",
       "                ngram_range=(1, 1), preprocessor=None, stop_words=None,\n",
       "                strip_accents=None, token_pattern='(?u)\\\\b\\\\w\\\\w+\\\\b',\n",
       "                tokenizer=None, vocabulary=None)"
      ]
     },
     "execution_count": 45,
     "metadata": {},
     "output_type": "execute_result"
    }
   ],
   "source": [
    "\n",
    "c_vect = CountVectorizer()\n",
    "\n",
    "c_vect.fit(string)"
   ]
  },
  {
   "cell_type": "code",
   "execution_count": 46,
   "metadata": {},
   "outputs": [
    {
     "name": "stdout",
     "output_type": "stream",
     "text": [
      "Text Present at  [[0 1 0 0 1 0 1 0 1 0 0 1 1 0 0 1 1 0 2 0]]\n",
      "original indexes ['16', 'and', 'as', 'by', 'capital', 'city', 'commercial', 'country', 'financial', 'gdp', 'generates', 'india', 'is', 'it', 'largest', 'mumbai', 'of', 'population', 'the', 'total']\n"
     ]
    }
   ],
   "source": [
    "string2 = ['Mumbai is the financial, commercial,and the entertainment capital of India']\n",
    "\n",
    "c_new_vect = c_vect.transform(string2)\n",
    "\n",
    "print (\"Text Present at \",c_new_vect.toarray())\n",
    "\n",
    "# Compare with the indexes\n",
    "print (\"original indexes\", vect1.get_feature_names() )"
   ]
  },
  {
   "cell_type": "code",
   "execution_count": 47,
   "metadata": {},
   "outputs": [
    {
     "name": "stdout",
     "output_type": "stream",
     "text": [
      "CountVectorizer(analyzer='word', binary=False, decode_error='strict',\n",
      "                dtype=<class 'numpy.int64'>, encoding='utf-8', input='content',\n",
      "                lowercase=True, max_df=1.0, max_features=None, min_df=1,\n",
      "                ngram_range=(1, 1), preprocessor=None,\n",
      "                stop_words=['i', 'me', 'my', 'myself', 'we', 'our', 'ours',\n",
      "                            'ourselves', 'you', \"you're\", \"you've\", \"you'll\",\n",
      "                            \"you'd\", 'your', 'yours', 'yourself', 'yourselves',\n",
      "                            'he', 'him', 'his', 'himself', 'she', \"she's\",\n",
      "                            'her', 'hers', 'herself', 'it', \"it's\", 'its',\n",
      "                            'itself', ...],\n",
      "                strip_accents=None, token_pattern='(?u)\\\\b\\\\w\\\\w+\\\\b',\n",
      "                tokenizer=None, vocabulary=None)\n"
     ]
    }
   ],
   "source": [
    "## Bag Of Words using stopwords (you can avoid writing extra steps to remove stopwords)\n",
    "\n",
    "stop_words = stopwords.words('english')\n",
    "\n",
    "string = [\"Mumbai is the financial, commercial,[29] and the entertainment capital of India.\"]\n",
    "vect1 = CountVectorizer(stop_words=stop_words)\n",
    "print (vect1)"
   ]
  },
  {
   "cell_type": "code",
   "execution_count": 27,
   "metadata": {},
   "outputs": [],
   "source": [
    "import nltk"
   ]
  },
  {
   "cell_type": "code",
   "execution_count": 28,
   "metadata": {},
   "outputs": [
    {
     "name": "stderr",
     "output_type": "stream",
     "text": [
      "[nltk_data] Downloading package stopwords to\n",
      "[nltk_data]     C:\\Users\\Admin\\AppData\\Roaming\\nltk_data...\n",
      "[nltk_data]   Package stopwords is already up-to-date!\n"
     ]
    },
    {
     "data": {
      "text/plain": [
       "True"
      ]
     },
     "execution_count": 28,
     "metadata": {},
     "output_type": "execute_result"
    }
   ],
   "source": [
    "nltk.download('stopwords')"
   ]
  },
  {
   "cell_type": "code",
   "execution_count": 48,
   "metadata": {},
   "outputs": [
    {
     "name": "stdout",
     "output_type": "stream",
     "text": [
      "bag of words : ['29', 'capital', 'commercial', 'entertainment', 'financial', 'india', 'mumbai']\n",
      "vocab        : {'mumbai': 6, 'financial': 4, 'commercial': 2, '29': 0, 'entertainment': 3, 'capital': 1, 'india': 5}\n"
     ]
    }
   ],
   "source": [
    "vect1.fit_transform(string)\n",
    "print(\"bag of words :\",vect1.get_feature_names())\n",
    "print(\"vocab        :\",vect1.vocabulary_)"
   ]
  },
  {
   "cell_type": "code",
   "execution_count": 49,
   "metadata": {},
   "outputs": [],
   "source": [
    "# Using function\n",
    "def text_matrix(message, countvect):\n",
    "    terms_doc = countvect.fit_transform(message)\n",
    "    return pd.DataFrame(terms_doc.toarray(),columns=countvect.get_feature_names())"
   ]
  },
  {
   "cell_type": "code",
   "execution_count": 52,
   "metadata": {},
   "outputs": [
    {
     "name": "stdout",
     "output_type": "stream",
     "text": [
      "Below metrix is the Bag of Words approach\n"
     ]
    },
    {
     "data": {
      "text/html": [
       "<div>\n",
       "<style scoped>\n",
       "    .dataframe tbody tr th:only-of-type {\n",
       "        vertical-align: middle;\n",
       "    }\n",
       "\n",
       "    .dataframe tbody tr th {\n",
       "        vertical-align: top;\n",
       "    }\n",
       "\n",
       "    .dataframe thead th {\n",
       "        text-align: right;\n",
       "    }\n",
       "</style>\n",
       "<table border=\"1\" class=\"dataframe\">\n",
       "  <thead>\n",
       "    <tr style=\"text-align: right;\">\n",
       "      <th></th>\n",
       "      <th>and</th>\n",
       "      <th>as</th>\n",
       "      <th>at</th>\n",
       "      <th>but</th>\n",
       "      <th>capital</th>\n",
       "      <th>celluloid</th>\n",
       "      <th>city</th>\n",
       "      <th>cosmopolitan</th>\n",
       "      <th>cultures</th>\n",
       "      <th>financial</th>\n",
       "      <th>...</th>\n",
       "      <th>success</th>\n",
       "      <th>tend</th>\n",
       "      <th>the</th>\n",
       "      <th>there</th>\n",
       "      <th>through</th>\n",
       "      <th>to</th>\n",
       "      <th>we</th>\n",
       "      <th>well</th>\n",
       "      <th>will</th>\n",
       "      <th>with</th>\n",
       "    </tr>\n",
       "  </thead>\n",
       "  <tbody>\n",
       "    <tr>\n",
       "      <td>0</td>\n",
       "      <td>0</td>\n",
       "      <td>2</td>\n",
       "      <td>0</td>\n",
       "      <td>0</td>\n",
       "      <td>0</td>\n",
       "      <td>0</td>\n",
       "      <td>0</td>\n",
       "      <td>0</td>\n",
       "      <td>0</td>\n",
       "      <td>1</td>\n",
       "      <td>...</td>\n",
       "      <td>0</td>\n",
       "      <td>0</td>\n",
       "      <td>2</td>\n",
       "      <td>0</td>\n",
       "      <td>0</td>\n",
       "      <td>0</td>\n",
       "      <td>0</td>\n",
       "      <td>1</td>\n",
       "      <td>0</td>\n",
       "      <td>0</td>\n",
       "    </tr>\n",
       "    <tr>\n",
       "      <td>1</td>\n",
       "      <td>1</td>\n",
       "      <td>0</td>\n",
       "      <td>0</td>\n",
       "      <td>0</td>\n",
       "      <td>1</td>\n",
       "      <td>1</td>\n",
       "      <td>0</td>\n",
       "      <td>0</td>\n",
       "      <td>0</td>\n",
       "      <td>0</td>\n",
       "      <td>...</td>\n",
       "      <td>0</td>\n",
       "      <td>0</td>\n",
       "      <td>0</td>\n",
       "      <td>0</td>\n",
       "      <td>0</td>\n",
       "      <td>0</td>\n",
       "      <td>0</td>\n",
       "      <td>0</td>\n",
       "      <td>0</td>\n",
       "      <td>0</td>\n",
       "    </tr>\n",
       "    <tr>\n",
       "      <td>2</td>\n",
       "      <td>1</td>\n",
       "      <td>0</td>\n",
       "      <td>0</td>\n",
       "      <td>0</td>\n",
       "      <td>0</td>\n",
       "      <td>0</td>\n",
       "      <td>1</td>\n",
       "      <td>1</td>\n",
       "      <td>1</td>\n",
       "      <td>0</td>\n",
       "      <td>...</td>\n",
       "      <td>0</td>\n",
       "      <td>0</td>\n",
       "      <td>1</td>\n",
       "      <td>0</td>\n",
       "      <td>0</td>\n",
       "      <td>0</td>\n",
       "      <td>0</td>\n",
       "      <td>0</td>\n",
       "      <td>0</td>\n",
       "      <td>1</td>\n",
       "    </tr>\n",
       "    <tr>\n",
       "      <td>3</td>\n",
       "      <td>0</td>\n",
       "      <td>0</td>\n",
       "      <td>1</td>\n",
       "      <td>0</td>\n",
       "      <td>0</td>\n",
       "      <td>0</td>\n",
       "      <td>0</td>\n",
       "      <td>0</td>\n",
       "      <td>0</td>\n",
       "      <td>0</td>\n",
       "      <td>...</td>\n",
       "      <td>0</td>\n",
       "      <td>1</td>\n",
       "      <td>1</td>\n",
       "      <td>0</td>\n",
       "      <td>1</td>\n",
       "      <td>1</td>\n",
       "      <td>0</td>\n",
       "      <td>0</td>\n",
       "      <td>0</td>\n",
       "      <td>0</td>\n",
       "    </tr>\n",
       "    <tr>\n",
       "      <td>4</td>\n",
       "      <td>0</td>\n",
       "      <td>0</td>\n",
       "      <td>0</td>\n",
       "      <td>0</td>\n",
       "      <td>0</td>\n",
       "      <td>0</td>\n",
       "      <td>0</td>\n",
       "      <td>0</td>\n",
       "      <td>0</td>\n",
       "      <td>0</td>\n",
       "      <td>...</td>\n",
       "      <td>0</td>\n",
       "      <td>0</td>\n",
       "      <td>0</td>\n",
       "      <td>1</td>\n",
       "      <td>0</td>\n",
       "      <td>0</td>\n",
       "      <td>1</td>\n",
       "      <td>0</td>\n",
       "      <td>1</td>\n",
       "      <td>0</td>\n",
       "    </tr>\n",
       "    <tr>\n",
       "      <td>5</td>\n",
       "      <td>0</td>\n",
       "      <td>0</td>\n",
       "      <td>0</td>\n",
       "      <td>1</td>\n",
       "      <td>0</td>\n",
       "      <td>0</td>\n",
       "      <td>0</td>\n",
       "      <td>0</td>\n",
       "      <td>0</td>\n",
       "      <td>0</td>\n",
       "      <td>...</td>\n",
       "      <td>1</td>\n",
       "      <td>0</td>\n",
       "      <td>1</td>\n",
       "      <td>0</td>\n",
       "      <td>0</td>\n",
       "      <td>0</td>\n",
       "      <td>0</td>\n",
       "      <td>0</td>\n",
       "      <td>0</td>\n",
       "      <td>0</td>\n",
       "    </tr>\n",
       "  </tbody>\n",
       "</table>\n",
       "<p>6 rows × 38 columns</p>\n",
       "</div>"
      ],
      "text/plain": [
       "   and  as  at  but  capital  celluloid  city  cosmopolitan  cultures  \\\n",
       "0    0   2   0    0        0          0     0             0         0   \n",
       "1    1   0   0    0        1          1     0             0         0   \n",
       "2    1   0   0    0        0          0     1             1         1   \n",
       "3    0   0   1    0        0          0     0             0         0   \n",
       "4    0   0   0    0        0          0     0             0         0   \n",
       "5    0   0   0    1        0          0     0             0         0   \n",
       "\n",
       "   financial  ...  success  tend  the  there  through  to  we  well  will  \\\n",
       "0          1  ...        0     0    2      0        0   0   0     1     0   \n",
       "1          0  ...        0     0    0      0        0   0   0     0     0   \n",
       "2          0  ...        0     0    1      0        0   0   0     0     0   \n",
       "3          0  ...        0     1    1      0        1   1   0     0     0   \n",
       "4          0  ...        0     0    0      1        0   0   1     0     1   \n",
       "5          0  ...        1     0    1      0        0   0   0     0     0   \n",
       "\n",
       "   with  \n",
       "0     0  \n",
       "1     0  \n",
       "2     1  \n",
       "3     0  \n",
       "4     0  \n",
       "5     0  \n",
       "\n",
       "[6 rows x 38 columns]"
      ]
     },
     "execution_count": 52,
     "metadata": {},
     "output_type": "execute_result"
    }
   ],
   "source": [
    "message = [\"Mumbai is the largest metropolis as well as the financial\",\n",
    "          \"industrial and celluloid capital of India\", \n",
    "           \"It is the cosmopolitan city with cultures and glamour\", \n",
    "           \"Foreign investors tend to look at India through the prism of Mumbai\", \n",
    "          \"We will get there\", \"But practice is the only mantra for success\" ]\n",
    "\n",
    "c_vect = CountVectorizer()\n",
    "print (\"Below metrix is the Bag of Words approach\")\n",
    "text_matrix(message, c_vect)"
   ]
  },
  {
   "cell_type": "code",
   "execution_count": 53,
   "metadata": {},
   "outputs": [
    {
     "name": "stdout",
     "output_type": "stream",
     "text": [
      "1-gram  : ['an', 'example', 'gram', 'is', 'of', 'this']\n",
      "2-gram  : ['an example', 'example of', 'is an', 'of gram', 'this is']\n",
      "3-gram  : ['an example of', 'example of gram', 'is an example', 'this is an']\n",
      "4-gram  : ['an example of gram', 'is an example of', 'this is an example']\n"
     ]
    }
   ],
   "source": [
    "\n",
    "from sklearn.feature_extraction.text import CountVectorizer \n",
    "\n",
    "from nltk.tokenize import word_tokenize\n",
    "\n",
    "string = [\"This is an example of n-gram!\"]\n",
    "\n",
    "vect1 = CountVectorizer(ngram_range=(1,1))\n",
    "\n",
    "vect1.fit_transform(string)\n",
    "\n",
    "vect2 = CountVectorizer(ngram_range=(2,2))\n",
    "vect2.fit_transform(string)\n",
    "\n",
    "vect3 = CountVectorizer(ngram_range=(3,3))\n",
    "vect3.fit_transform(string)\n",
    "\n",
    "vect4 = CountVectorizer(ngram_range=(4,4))\n",
    "vect4.fit_transform(string)\n",
    "\n",
    "print(\"1-gram  :\",vect1.get_feature_names())\n",
    "\n",
    "print(\"2-gram  :\",vect2.get_feature_names())\n",
    "print(\"3-gram  :\",vect3.get_feature_names())\n",
    "print(\"4-gram  :\",vect4.get_feature_names())"
   ]
  },
  {
   "cell_type": "code",
   "execution_count": null,
   "metadata": {},
   "outputs": [],
   "source": []
  }
 ],
 "metadata": {
  "kernelspec": {
   "display_name": "Python 3",
   "language": "python",
   "name": "python3"
  },
  "language_info": {
   "codemirror_mode": {
    "name": "ipython",
    "version": 3
   },
   "file_extension": ".py",
   "mimetype": "text/x-python",
   "name": "python",
   "nbconvert_exporter": "python",
   "pygments_lexer": "ipython3",
   "version": "3.7.4"
  }
 },
 "nbformat": 4,
 "nbformat_minor": 2
}
