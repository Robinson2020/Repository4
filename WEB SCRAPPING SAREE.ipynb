{
 "cells": [
  {
   "cell_type": "code",
   "execution_count": 1,
   "metadata": {},
   "outputs": [],
   "source": [
    "from selenium import webdriver"
   ]
  },
  {
   "cell_type": "code",
   "execution_count": 2,
   "metadata": {},
   "outputs": [],
   "source": [
    "import os"
   ]
  },
  {
   "cell_type": "code",
   "execution_count": 3,
   "metadata": {},
   "outputs": [],
   "source": [
    "import selenium"
   ]
  },
  {
   "cell_type": "code",
   "execution_count": 4,
   "metadata": {},
   "outputs": [],
   "source": [
    "driver=webdriver.Chrome(executable_path='D:\\Datascience projects\\Amazon webscrapping\\chromedriver.exe')"
   ]
  },
  {
   "cell_type": "code",
   "execution_count": 5,
   "metadata": {},
   "outputs": [],
   "source": [
    "mypage=driver.get('https://www.flipkart.com/search?q=saree&otracker=saree&otracker1=search&marketplace=FLIPKART&as=show=on&as=off&as=pos=1&as=type=%22HISTORY%22')"
   ]
  },
  {
   "cell_type": "markdown",
   "metadata": {},
   "source": [
    "# making the idirectory to store images¶"
   ]
  },
  {
   "cell_type": "code",
   "execution_count": 6,
   "metadata": {},
   "outputs": [],
   "source": [
    "#optimal Step\n",
    "def make_directory(dirname):\n",
    "    current_path=os.getcwd()\n",
    "    path=os.path.join(current_path,dirname)\n",
    "    if not os.path.exists(path):\n",
    "        os.makedirs(path)"
   ]
  },
  {
   "cell_type": "code",
   "execution_count": 7,
   "metadata": {},
   "outputs": [],
   "source": [
    "make_directory(\"FLIPCARTsarees\")"
   ]
  },
  {
   "cell_type": "markdown",
   "metadata": {},
   "source": [
    "# Scrapping urls of image,brands and prices"
   ]
  },
  {
   "cell_type": "code",
   "execution_count": 8,
   "metadata": {},
   "outputs": [],
   "source": [
    "images=driver.find_elements_by_xpath(\"//img[@class='_3togXc']\")\n",
    "brands=driver.find_elements_by_xpath(\"//div[@class='_2B_pmu']\")\n",
    "prices=driver.find_elements_by_xpath(\"//a[@class='_2W-UZw']//div[@class='_1uv9Cb']\")"
   ]
  },
  {
   "cell_type": "code",
   "execution_count": 9,
   "metadata": {},
   "outputs": [
    {
     "name": "stdout",
     "output_type": "stream",
     "text": [
      "<selenium.webdriver.remote.webelement.WebElement (session=\"af7a12bb9fb291fe4870923787e6bdb2\", element=\"b8160722-32d3-49b8-91b2-8182dbf1f850\")>\n"
     ]
    }
   ],
   "source": [
    "print(images[0])"
   ]
  },
  {
   "cell_type": "code",
   "execution_count": 10,
   "metadata": {},
   "outputs": [
    {
     "name": "stdout",
     "output_type": "stream",
     "text": [
      "40 40 40\n"
     ]
    }
   ],
   "source": [
    "print(len(images),len(brands),len(prices))"
   ]
  },
  {
   "cell_type": "code",
   "execution_count": 11,
   "metadata": {},
   "outputs": [
    {
     "name": "stdout",
     "output_type": "stream",
     "text": [
      "https://rukminim1.flixcart.com/image/329/395/ke4kjgw0-0/sari/k/b/7/free-bb-2037-d-being-banarasi-unstitched-original-imafuvx4xtxm36fx.jpeg?q=50\n",
      "https://rukminim1.flixcart.com/image/329/395/k7w8eq80/sari/g/h/8/free-hnt019-hinayat-fashion-unstitched-original-imafqf9xfbghfvxv.jpeg?q=50\n",
      "https://rukminim1.flixcart.com/image/329/395/kay9bbk0/sari/a/s/z/free-1262-5-kashvi-sarees-unstitched-original-imafsepbpnpbxgsz.jpeg?q=50\n",
      "https://rukminim1.flixcart.com/image/329/395/jc299jk0/sari/g/2/n/free-kr-bgp-gola-royal-blue-kara-original-imaff9ccuzj3hupf.jpeg?q=50\n",
      "https://rukminim1.flixcart.com/image/329/395/jc299jk0/sari/f/q/2/free-kr-bgp-gola-pink-kara-original-imaff9cchzz9kq3h.jpeg?q=50\n",
      "https://rukminim1.flixcart.com/image/329/395/k5cs87k0/sari/m/d/h/free-kora-blue-anand-sarees-original-imafbac9gfyndneh.jpeg?q=50\n",
      "https://rukminim1.flixcart.com/image/329/395/jk8lz0w0/sari/t/u/j/free-1285-anand-sarees-original-imaf7mswzdgedgms.jpeg?q=50\n",
      "https://rukminim1.flixcart.com/image/329/395/kckud8w0/sari/m/e/o/free-1001-shivansh-unstitched-original-imaftzehxeweh7vb.jpeg?q=50\n",
      "https://rukminim1.flixcart.com/image/329/395/k4d27ww0/sari/f/s/k/free-new-more-kanjivaram-fashion-anusuya-saree-original-imafgvemre4fcxy6.jpeg?q=50\n",
      "https://rukminim1.flixcart.com/image/329/395/k4vmxzk0/sari/y/p/r/free-1127sr7126-1159sr88-swaron-original-imafjfmrntf7yynz.jpeg?q=50\n",
      "https://rukminim1.flixcart.com/image/329/395/k7c88sw0/sari/j/z/y/free-ladli-krishna-r-fashion-original-imafphxuxmkutnt8.jpeg?q=50\n",
      "https://rukminim1.flixcart.com/image/329/395/k51cpe80/sari/e/r/b/free-stg-riyan-enterprise-original-imafntd22hnnhjph.jpeg?q=50\n",
      "https://rukminim1.flixcart.com/image/329/395/k66sh3k0/sari/q/n/g/free-pattu-saree-ejoty-fashion-original-imafzp8gmy4ksvd2.jpeg?q=50\n",
      "https://rukminim1.flixcart.com/image/329/395/k5zn9u80/sari/u/n/t/free-svf1468-3-a-jabali-enterprise-original-imafdfszdcpvcwrp.jpeg?q=50\n",
      "https://rukminim1.flixcart.com/image/329/395/k51cpe80pkrrdj/sari/t/v/d/free-blue-1499-pooja-fashion-1499-original-imafgw8vt2qz6tgg.jpeg?q=50\n",
      "https://rukminim1.flixcart.com/image/329/395/k3xcdjk0/sari/e/x/h/free-simmba-rama-navy-blue-perfect-wear-original-imafmxayk5wzrga2.jpeg?q=50\n",
      "https://rukminim1.flixcart.com/image/329/395/jz30nm80/sari/b/8/k/free-k-s-007-kapuriya-fab-original-imafbb9fsf2zp4yx.jpeg?q=50\n",
      "https://rukminim1.flixcart.com/image/329/395/k6fd47k0pkrrdj/sari/h/f/u/red-yellow-blue-1363sj505-1363sj506-siril-original-imafzxgemkybhus7.jpeg?q=50\n",
      "https://rukminim1.flixcart.com/image/329/395/k62i5jk0/sari/c/y/y/free-svf11ntrast-blouse-jabali-enterprise-original-imaempjxexhzyejw.jpeg?q=50\n",
      "https://rukminim1.flixcart.com/image/329/395/k2m6ufk0/sari/f/8/g/free-light-green-red-om-r-fashion-original-imafjzgyhsrchb37.jpeg?q=50\n",
      "https://rukminim1.flixcart.com/image/329/395/kay9bbk0/sari/a/s/z/free-1262-5-kashvi-sarees-unstitched-original-imafsepbpnpbxgsz.jpeg?q=50\n",
      "https://rukminim1.flixcart.com/image/329/395/k7xnukw0/sari/u/w/r/free-parevadi-krishna-r-fashion-unstitched-original-imafq2g4udd8pwe4.jpeg?q=50\n",
      "https://rukminim1.flixcart.com/image/329/395/k7tdj0w0/sari/z/3/m/free-saree101-tealblue-sariya-unstitched-original-imafpyybbfgpagkr.jpeg?q=50\n",
      "https://rukminim1.flixcart.com/image/329/395/k6v2ykw0/sari/w/r/9/free-l-patti-grey-market-magic-world-original-imafp7h3a49gf7xh.jpeg?q=50\n",
      "https://rukminim1.flixcart.com/image/329/395/k5y7tzk0/sari/s/f/c/free-vs-198-p-leelavati-original-imafzgnpgcyxbhgw.jpeg?q=50\n",
      "https://rukminim1.flixcart.com/image/329/395/k12go7k0/sari/q/y/s/free-kr-bgp-b-dc-3more-patti-lari-pink-kara-original-imafkptfetygx5mw.jpeg?q=50\n",
      "https://rukminim1.flixcart.com/image/329/395/k5zn9u80/sari/k/a/r/free-svf1470-3-a-black-jabali-enterprise-original-imafenefgw43sbyd.jpeg?q=50\n",
      "https://rukminim1.flixcart.com/image/329/395/k4ss2a80/sari/s/e/b/free-1051b-fashion-day-original-imafnmt93zgkktmz.jpeg?q=50\n",
      "https://rukminim1.flixcart.com/image/329/395/k6l2vm80/sari/a/n/h/free-palak5-7-aqrizz-original-imaf8j4vy6adfcx5.jpeg?q=50\n",
      "https://rukminim1.flixcart.com/image/329/395/k3xcdjk0pkrrdj/sari/c/c/b/free-multicolor-combosr-27013-ishin-combosr-27013-original-imafa522jzbehapm.jpeg?q=50\n",
      "https://rukminim1.flixcart.com/image/329/395/jt8yxe80/sari/d/n/h/free-nbs366-2-nightblue-original-imaffhzhsbnjfgfq.jpeg?q=50\n",
      "https://rukminim1.flixcart.com/image/329/395/ke7ff680-0/sari/y/p/l/free-19086-mirchi-fashion-unstitched-original-imafuxhmsyrjhvzf.jpeg?q=50\n",
      "https://rukminim1.flixcart.com/image/329/395/k612pow0/sari/d/j/y/free-svf1164-3-awomens-latest-georgette-dailywear-partwear-original-imaempzvhuyqp3ut.jpeg?q=50\n",
      "https://rukminim1.flixcart.com/image/329/395/juvjzbk0/sari/s/t/x/free-pavitra-black-shreeji-fab-original-imaf8agt4ztxup6s.jpeg?q=50\n",
      "https://rukminim1.flixcart.com/image/329/395/k3xcdjk0pkrrdj/sari/r/v/r/free-grey-pc1046a-vaamsi-pc1046-original-imafgs38sujyzp2m.jpeg?q=50\n",
      "https://rukminim1.flixcart.com/image/329/395/kd7pevk0/sari/5/a/9/free-vjs1539-1-vj-fashion-unstitched-original-imafu6b3netazugm.jpeg?q=50\n",
      "https://rukminim1.flixcart.com/image/329/395/jvif0y80/sari/v/g/f/free-1199-grey-nityanta-fab-original-imafgehqpnahuyzh.jpeg?q=50\n",
      "https://rukminim1.flixcart.com/image/329/395/k6l2vm80/sari/c/h/d/free-palak2-8-aqrizz-original-imaf8j5fs48kb2yu.jpeg?q=50\n",
      "https://rukminim1.flixcart.com/image/329/395/kc6jyq80/sari/w/a/s/free-2ton-saree-omicron-fab-unstitched-original-imaftd2uf8r6chza.jpeg?q=50\n",
      "https://rukminim1.flixcart.com/image/329/395/kd7pevk0/sari/l/a/n/free-vjs1546-1-vj-fashion-unstitched-original-imafu6b4wahn9vze.jpeg?q=50\n"
     ]
    }
   ],
   "source": [
    "urls=[]\n",
    "for image in images:\n",
    "    source=image.get_attribute('src')\n",
    "    urls.append(source)\n",
    "    print(source)"
   ]
  },
  {
   "cell_type": "code",
   "execution_count": 12,
   "metadata": {},
   "outputs": [
    {
     "data": {
      "text/plain": [
       "40"
      ]
     },
     "execution_count": 12,
     "metadata": {},
     "output_type": "execute_result"
    }
   ],
   "source": [
    "len(urls)"
   ]
  },
  {
   "cell_type": "markdown",
   "metadata": {},
   "source": [
    "# 4Using the URLs to download image"
   ]
  },
  {
   "cell_type": "code",
   "execution_count": 13,
   "metadata": {},
   "outputs": [],
   "source": [
    "import shutil\n",
    "import requests"
   ]
  },
  {
   "cell_type": "code",
   "execution_count": 14,
   "metadata": {},
   "outputs": [
    {
     "name": "stdout",
     "output_type": "stream",
     "text": [
      "Downloading 1 of 40 images from page 1\n",
      "Downloading 2 of 40 images from page 1\n",
      "Downloading 3 of 40 images from page 1\n",
      "Downloading 4 of 40 images from page 1\n",
      "Downloading 5 of 40 images from page 1\n",
      "Downloading 6 of 40 images from page 1\n",
      "Downloading 7 of 40 images from page 1\n",
      "Downloading 8 of 40 images from page 1\n",
      "Downloading 9 of 40 images from page 1\n",
      "Downloading 10 of 40 images from page 1\n",
      "Downloading 11 of 40 images from page 1\n",
      "Downloading 12 of 40 images from page 1\n",
      "Downloading 13 of 40 images from page 1\n",
      "Downloading 14 of 40 images from page 1\n",
      "Downloading 15 of 40 images from page 1\n",
      "Downloading 16 of 40 images from page 1\n",
      "Downloading 17 of 40 images from page 1\n",
      "Downloading 18 of 40 images from page 1\n",
      "Downloading 19 of 40 images from page 1\n",
      "Downloading 20 of 40 images from page 1\n",
      "Downloading 21 of 40 images from page 1\n",
      "Downloading 22 of 40 images from page 1\n",
      "Downloading 23 of 40 images from page 1\n",
      "Downloading 24 of 40 images from page 1\n",
      "Downloading 25 of 40 images from page 1\n",
      "Downloading 26 of 40 images from page 1\n",
      "Downloading 27 of 40 images from page 1\n",
      "Downloading 28 of 40 images from page 1\n",
      "Downloading 29 of 40 images from page 1\n",
      "Downloading 30 of 40 images from page 1\n",
      "Downloading 31 of 40 images from page 1\n",
      "Downloading 32 of 40 images from page 1\n",
      "Downloading 33 of 40 images from page 1\n",
      "Downloading 34 of 40 images from page 1\n",
      "Downloading 35 of 40 images from page 1\n",
      "Downloading 36 of 40 images from page 1\n",
      "Downloading 37 of 40 images from page 1\n",
      "Downloading 38 of 40 images from page 1\n",
      "Downloading 39 of 40 images from page 1\n",
      "Downloading 40 of 40 images from page 1\n"
     ]
    }
   ],
   "source": [
    "page=1\n",
    "for index,link in enumerate(urls):\n",
    "    print(\"Downloading {0} of {1} images from page 1\".format(index+1, len(urls)))\n",
    "    response=requests.get(link)\n",
    "    with open('sarees/img {0}{1}.jpeg'.format(index,page),\"wb\")as file:\n",
    "        file.write(response.content)"
   ]
  },
  {
   "cell_type": "code",
   "execution_count": 15,
   "metadata": {},
   "outputs": [
    {
     "data": {
      "text/plain": [
       "{'brands': [], 'prices': []}"
      ]
     },
     "execution_count": 15,
     "metadata": {},
     "output_type": "execute_result"
    }
   ],
   "source": [
    "product_data={}\n",
    "product_data['brands']=[]\n",
    "product_data['prices']=[]\n",
    "product_data"
   ]
  },
  {
   "cell_type": "code",
   "execution_count": 16,
   "metadata": {},
   "outputs": [
    {
     "data": {
      "text/plain": [
       "<selenium.webdriver.remote.webelement.WebElement (session=\"af7a12bb9fb291fe4870923787e6bdb2\", element=\"f83f4912-9a45-4e75-9b64-628c937438bc\")>"
      ]
     },
     "execution_count": 16,
     "metadata": {},
     "output_type": "execute_result"
    }
   ],
   "source": [
    "brands[0]"
   ]
  },
  {
   "cell_type": "code",
   "execution_count": 17,
   "metadata": {},
   "outputs": [],
   "source": [
    "for brand in brands:\n",
    "    product_data['brands'].append(brand.text)"
   ]
  },
  {
   "cell_type": "code",
   "execution_count": 18,
   "metadata": {},
   "outputs": [
    {
     "data": {
      "text/plain": [
       "40"
      ]
     },
     "execution_count": 18,
     "metadata": {},
     "output_type": "execute_result"
    }
   ],
   "source": [
    "len(product_data['brands'])"
   ]
  },
  {
   "cell_type": "code",
   "execution_count": 19,
   "metadata": {},
   "outputs": [
    {
     "data": {
      "text/plain": [
       "'Being Banarasi'"
      ]
     },
     "execution_count": 19,
     "metadata": {},
     "output_type": "execute_result"
    }
   ],
   "source": [
    "product_data['brands'][0]"
   ]
  },
  {
   "cell_type": "code",
   "execution_count": 20,
   "metadata": {},
   "outputs": [
    {
     "data": {
      "text/plain": [
       "40"
      ]
     },
     "execution_count": 20,
     "metadata": {},
     "output_type": "execute_result"
    }
   ],
   "source": [
    "for price in prices:\n",
    "    product_data['prices'].append(price.text)\n",
    "len(product_data['prices'])"
   ]
  },
  {
   "cell_type": "markdown",
   "metadata": {},
   "source": [
    "# Moving to next page"
   ]
  },
  {
   "cell_type": "code",
   "execution_count": 21,
   "metadata": {},
   "outputs": [],
   "source": [
    "next_pages=driver.find_element_by_xpath(\"//a[@class='_3fVaIS']\").click()"
   ]
  },
  {
   "cell_type": "code",
   "execution_count": 22,
   "metadata": {},
   "outputs": [],
   "source": [
    "# following the same steps from step3 onwards\n",
    "\n",
    "images=driver.find_elements_by_xpath(\"//img[@class='_3togXc']\")\n",
    "brands=driver.find_elements_by_xpath(\"//div[@class='_2B_pmu']\")\n",
    "prices=driver.find_elements_by_xpath(\"//a[@class='_2W-UZw']//div[@class='_1uv9Cb']\")"
   ]
  },
  {
   "cell_type": "code",
   "execution_count": 23,
   "metadata": {},
   "outputs": [
    {
     "data": {
      "text/plain": [
       "<selenium.webdriver.remote.webelement.WebElement (session=\"af7a12bb9fb291fe4870923787e6bdb2\", element=\"5e0f4442-55f0-432d-a174-5357f628afd0\")>"
      ]
     },
     "execution_count": 23,
     "metadata": {},
     "output_type": "execute_result"
    }
   ],
   "source": [
    "images[0]"
   ]
  },
  {
   "cell_type": "code",
   "execution_count": 24,
   "metadata": {},
   "outputs": [
    {
     "data": {
      "text/plain": [
       "<selenium.webdriver.remote.webelement.WebElement (session=\"af7a12bb9fb291fe4870923787e6bdb2\", element=\"da3c0d5c-b48e-453c-99a3-be05095a3115\")>"
      ]
     },
     "execution_count": 24,
     "metadata": {},
     "output_type": "execute_result"
    }
   ],
   "source": [
    "prices[0]"
   ]
  },
  {
   "cell_type": "code",
   "execution_count": 25,
   "metadata": {},
   "outputs": [
    {
     "name": "stdout",
     "output_type": "stream",
     "text": [
      "https://rukminim1.flixcart.com/image/329/395/k3xcdjk0pkrrdj/sari/5/n/j/free-pink-hes950-1-hitesh-enterprise-hes950-1-original-imaf5tg4ngb6gc5r.jpeg?q=50\n",
      "https://rukminim1.flixcart.com/image/329/395/k3xcdjk0pkrrdj/sari/z/a/y/free-yellow-mastani-weaving-winza-designer-mastani-weaving-original-imaf399xvgxqhfkz.jpeg?q=50\n",
      "https://rukminim1.flixcart.com/image/329/395/k3xcdjk0pkrrdj/sari/x/f/p/free-purple-nain8-vimalnath-synthetics-naina8-original-imaf8j63nd68eyp6.jpeg?q=50\n",
      "https://rukminim1.flixcart.com/image/329/395/jk8lz0w0/sari/t/u/j/free-1285-anand-sarees-original-imaf7mswzdgedgms.jpeg?q=50\n",
      "https://rukminim1.flixcart.com/image/329/395/k3xcdjk0pkrrdj/sari/p/x/9/pine-green-rbaf-1327-oomph-original-imaetcgngmfxu8hn.jpeg?q=50\n",
      "https://rukminim1.flixcart.com/image/329/395/k6qsn0w0/sari/k/v/d/free-lycra-leave-saree-g-stuff-fashion-original-imafp4rzr7usfpet.jpeg?q=50\n",
      "https://rukminim1.flixcart.com/image/329/395/k6gsk280/sari/s/z/k/free-die-mor-pink-dynamic-import-export-original-imaf7yhpmd98jth2.jpeg?q=50\n",
      "https://rukminim1.flixcart.com/image/329/395/k66sh3k0/sari/5/t/8/free-pari-24-maroon-dharm-enterprises-original-imafbb2hvzxqhs3x.jpeg?q=50\n",
      "https://rukminim1.flixcart.com/image/329/395/k76ihe80/sari/y/u/3/free-1471s132-saara-original-imafpgfxdgyf5bey.jpeg?q=50\n",
      "https://rukminim1.flixcart.com/image/329/395/ke4kjgw0-0/sari/k/b/7/free-bb-2037-d-being-banarasi-unstitched-original-imafuvx4xtxm36fx.jpeg?q=50\n",
      "https://rukminim1.flixcart.com/image/329/395/k3xcdjk0pkrrdj/sari/z/q/z/free-multicolor-1107-1-anand-sarees-1107-1-original-imaf7msu5akte8mg.jpeg?q=50\n",
      "https://rukminim1.flixcart.com/image/329/395/jf1fafk0/sari/b/e/5/free-combo303-stylezone-original-imaezmmdgbfkwycq.jpeg?q=50\n",
      "https://rukminim1.flixcart.com/image/329/395/j2p1ci80/sari/g/4/a/1-free-rtfas2942-a-rang-tarang-fab-1-original-imaeg8athyf7xfwz.jpeg?q=50\n",
      "https://rukminim1.flixcart.com/image/329/395/k7w8eq80/sari/g/h/8/free-hnt019-hinayat-fashion-unstitched-original-imafqf9xfbghfvxv.jpeg?q=50\n",
      "https://rukminim1.flixcart.com/image/329/395/k612pow0/sari/z/t/r/free-101-scorpionking-original-imafkger2bghv83n.jpeg?q=50\n",
      "https://rukminim1.flixcart.com/image/329/395/kb89ea80/sari/b/z/a/free-lycra-maroon-saree-winwell-unstitched-original-imafsmtqksspffgh.jpeg?q=50\n",
      "https://rukminim1.flixcart.com/image/329/395/k6ci8i80/sari/g/z/p/free-svfsa1301-a-gerorgette-floral-printed-daily-wear-fashion-original-imaezqn9kk6t8agd.jpeg?q=50\n",
      "https://rukminim1.flixcart.com/image/329/395/jvv9zm80/sari/a/x/q/free-cotten-silk-vinayak-trendz-original-imafg9svawvvnam9.jpeg?q=50\n",
      "https://rukminim1.flixcart.com/image/329/395/k5cs87k0/sari/s/n/g/free-kora-pink-anand-sarees-original-imafb6n3a7bb4frz.jpeg?q=50\n",
      "https://rukminim1.flixcart.com/image/329/395/kckud8w0/sari/m/e/o/free-1001-shivansh-unstitched-original-imaftzehxeweh7vb.jpeg?q=50\n",
      "https://rukminim1.flixcart.com/image/329/395/k5ihzm80/sari/k/a/a/free-n260aw-musterd-villagius-original-imafb46uaewdh9g4.jpeg?q=50\n",
      "https://rukminim1.flixcart.com/image/329/395/jjhglu80/sari/p/r/g/free-nh00120-anugrah-textile-original-imaf6qqasxhsthad.jpeg?q=50\n",
      "https://rukminim1.flixcart.com/image/329/395/jll6xzk0/sari/5/p/k/free-1190-3-anand-sarees-original-imaf8k3xvypzhapf.jpeg?q=50\n",
      "https://rukminim1.flixcart.com/image/329/395/k51cpe80/sari/e/r/b/free-stg-riyan-enterprise-original-imafntd22hnnhjph.jpeg?q=50\n",
      "https://rukminim1.flixcart.com/image/329/395/k3j1z0w0/sari/s/y/c/free-1051-a-renrotic-original-imafkwszphjq4cnd.jpeg?q=50\n",
      "https://rukminim1.flixcart.com/image/329/395/k47cgi80/sari/d/a/6/free-vs-111-1-leelavati-original-imafn5yhbwpwfbez.jpeg?q=50\n",
      "https://rukminim1.flixcart.com/image/329/395/k5wse4w0/sari/w/p/j/free-pe3002-rama-pachiba-enterprise-original-imaf8gr7dhzr5prx.jpeg?q=50\n",
      "https://rukminim1.flixcart.com/image/329/395/k65d18w0/sari/8/r/q/free-jl-pck4-bl-nbl-ab-pisara-original-imafn85mj5u4wajz.jpeg?q=50\n",
      "https://rukminim1.flixcart.com/image/329/395/jxrv4i80/sari/8/a/z/free-rust-red-perfect-wear-original-imafg5wn7mpp5eyz.jpeg?q=50\n",
      "https://rukminim1.flixcart.com/image/329/395/k3xcdjk0/sari/e/x/h/free-simmba-rama-navy-blue-perfect-wear-original-imafmxayk5wzrga2.jpeg?q=50\n",
      "https://rukminim1.flixcart.com/image/329/395/k4k7f680/sari/f/g/k/free-2279-online-bazaar-original-imafn4kfnfqpq9ck.jpeg?q=50\n",
      "https://rukminim1.flixcart.com/image/329/395/jpu324w0/sari/k/z/h/free-gulti-mor-rust-manjula-saree-original-imaf6st8v99qk86f.jpeg?q=50\n",
      "https://rukminim1.flixcart.com/image/329/395/jjylw280/sari/g/f/d/free-1287-anand-sarees-original-imaf7fdun6qycx23.jpeg?q=50\n",
      "https://rukminim1.flixcart.com/image/329/395/k2m6ufk0/sari/f/8/g/free-light-green-red-om-r-fashion-original-imafjzgyhsrchb37.jpeg?q=50\n",
      "https://rukminim1.flixcart.com/image/329/395/kcjexe80/sari/r/l/s/free-pedding-pmd-fashion-unstitched-original-imaftne2z79upw5j.jpeg?q=50\n",
      "https://rukminim1.flixcart.com/image/329/395/jumzc7k0/sari/q/h/k/free-swati-dharmesh-enterprise-original-imaffnc6xwh2h7ys.jpeg?q=50\n",
      "https://rukminim1.flixcart.com/image/329/395/kb2jmvk0/sari/9/d/e/free-pnkd-trijal-fab-unstitched-original-imafshr5bxmyxqfq.jpeg?q=50\n",
      "https://rukminim1.flixcart.com/image/329/395/jk4bngw0/sari/g/h/g/free-1190-1-anand-sarees-original-imaf7jhmzemz8zer.jpeg?q=50\n",
      "https://rukminim1.flixcart.com/image/329/395/ke4kjgw0-0/sari/s/v/z/free-siddhi-krishna-r-fashion-unstitched-original-imafuvffrcngyye4.jpeg?q=50\n",
      "https://rukminim1.flixcart.com/image/329/395/k6v2ykw0/sari/w/r/9/free-l-patti-grey-market-magic-world-original-imafp7h3a49gf7xh.jpeg?q=50\n"
     ]
    }
   ],
   "source": [
    "urls=[]\n",
    "for image in images:\n",
    "    source=image.get_attribute('src')\n",
    "    urls.append(source)\n",
    "    print(source)"
   ]
  },
  {
   "cell_type": "code",
   "execution_count": 26,
   "metadata": {},
   "outputs": [
    {
     "name": "stdout",
     "output_type": "stream",
     "text": [
      "Downloading 1 of 40 images from page 2\n",
      "Downloading 2 of 40 images from page 2\n",
      "Downloading 3 of 40 images from page 2\n",
      "Downloading 4 of 40 images from page 2\n",
      "Downloading 5 of 40 images from page 2\n",
      "Downloading 6 of 40 images from page 2\n",
      "Downloading 7 of 40 images from page 2\n",
      "Downloading 8 of 40 images from page 2\n",
      "Downloading 9 of 40 images from page 2\n",
      "Downloading 10 of 40 images from page 2\n",
      "Downloading 11 of 40 images from page 2\n",
      "Downloading 12 of 40 images from page 2\n",
      "Downloading 13 of 40 images from page 2\n",
      "Downloading 14 of 40 images from page 2\n",
      "Downloading 15 of 40 images from page 2\n",
      "Downloading 16 of 40 images from page 2\n",
      "Downloading 17 of 40 images from page 2\n",
      "Downloading 18 of 40 images from page 2\n",
      "Downloading 19 of 40 images from page 2\n",
      "Downloading 20 of 40 images from page 2\n",
      "Downloading 21 of 40 images from page 2\n",
      "Downloading 22 of 40 images from page 2\n",
      "Downloading 23 of 40 images from page 2\n",
      "Downloading 24 of 40 images from page 2\n",
      "Downloading 25 of 40 images from page 2\n",
      "Downloading 26 of 40 images from page 2\n",
      "Downloading 27 of 40 images from page 2\n",
      "Downloading 28 of 40 images from page 2\n",
      "Downloading 29 of 40 images from page 2\n",
      "Downloading 30 of 40 images from page 2\n",
      "Downloading 31 of 40 images from page 2\n",
      "Downloading 32 of 40 images from page 2\n",
      "Downloading 33 of 40 images from page 2\n",
      "Downloading 34 of 40 images from page 2\n",
      "Downloading 35 of 40 images from page 2\n",
      "Downloading 36 of 40 images from page 2\n",
      "Downloading 37 of 40 images from page 2\n",
      "Downloading 38 of 40 images from page 2\n",
      "Downloading 39 of 40 images from page 2\n",
      "Downloading 40 of 40 images from page 2\n"
     ]
    }
   ],
   "source": [
    "#changing for page2\n",
    "page=2\n",
    "for index,link in enumerate(urls):\n",
    "    print(\"Downloading {0} of {1} images from page 2\".format(index+1, len(urls)))\n",
    "    response=requests.get(link)\n",
    "    with open('sarees/img {0}{1}.jpeg'.format(index,page),\"wb\")as file:\n",
    "        file.write(response.content)"
   ]
  },
  {
   "cell_type": "code",
   "execution_count": 27,
   "metadata": {},
   "outputs": [
    {
     "data": {
      "text/plain": [
       "80"
      ]
     },
     "execution_count": 27,
     "metadata": {},
     "output_type": "execute_result"
    }
   ],
   "source": [
    "for brand in brands:\n",
    "    product_data['brands'].append(brand.text)\n",
    "len(product_data['brands'])"
   ]
  },
  {
   "cell_type": "code",
   "execution_count": 28,
   "metadata": {},
   "outputs": [
    {
     "data": {
      "text/plain": [
       "80"
      ]
     },
     "execution_count": 28,
     "metadata": {},
     "output_type": "execute_result"
    }
   ],
   "source": [
    "for price in prices:\n",
    "    product_data['prices'].append(price.text)\n",
    "len(product_data['prices'])"
   ]
  },
  {
   "cell_type": "code",
   "execution_count": 29,
   "metadata": {},
   "outputs": [],
   "source": [
    "next_pages=driver.find_element_by_xpath(\"//a[@class='_3fVaIS']\").click()"
   ]
  },
  {
   "cell_type": "code",
   "execution_count": 30,
   "metadata": {},
   "outputs": [],
   "source": [
    "# following the same steps from step3 onwards\n",
    "\n",
    "images=driver.find_elements_by_xpath(\"//img[@class='_3togXc']\")\n",
    "brands=driver.find_elements_by_xpath(\"//div[@class='_2B_pmu']\")\n",
    "prices=driver.find_elements_by_xpath(\"//a[@class='_2W-UZw']//div[@class='_1uv9Cb']\")"
   ]
  },
  {
   "cell_type": "code",
   "execution_count": 31,
   "metadata": {},
   "outputs": [
    {
     "name": "stdout",
     "output_type": "stream",
     "text": [
      "https://rukminim1.flixcart.com/image/329/395/ke4kjgw0-0/sari/k/b/7/free-bb-2037-d-being-banarasi-unstitched-original-imafuvx4xtxm36fx.jpeg?q=50\n",
      "https://rukminim1.flixcart.com/image/329/395/kckud8w0/sari/m/e/o/free-1001-shivansh-unstitched-original-imaftzehxeweh7vb.jpeg?q=50\n",
      "https://rukminim1.flixcart.com/image/329/395/kay9bbk0/sari/a/s/z/free-1262-5-kashvi-sarees-unstitched-original-imafsepbpnpbxgsz.jpeg?q=50\n",
      "https://rukminim1.flixcart.com/image/329/395/jc299jk0/sari/g/2/n/free-kr-bgp-gola-royal-blue-kara-original-imaff9ccuzj3hupf.jpeg?q=50\n",
      "https://rukminim1.flixcart.com/image/329/395/jc299jk0/sari/f/q/2/free-kr-bgp-gola-pink-kara-original-imaff9cchzz9kq3h.jpeg?q=50\n",
      "https://rukminim1.flixcart.com/image/329/395/k5cs87k0/sari/m/d/h/free-kora-blue-anand-sarees-original-imafbac9gfyndneh.jpeg?q=50\n",
      "https://rukminim1.flixcart.com/image/329/395/jk8lz0w0/sari/t/u/j/free-1285-anand-sarees-original-imaf7mswzdgedgms.jpeg?q=50\n",
      "https://rukminim1.flixcart.com/image/329/395/k51cpe80/sari/e/r/b/free-stg-riyan-enterprise-original-imafntd22hnnhjph.jpeg?q=50\n",
      "https://rukminim1.flixcart.com/image/329/395/k4d27ww0/sari/f/s/k/free-new-more-kanjivaram-fashion-anusuya-saree-original-imafgvemre4fcxy6.jpeg?q=50\n",
      "https://rukminim1.flixcart.com/image/329/395/k7c88sw0/sari/j/z/y/free-ladli-krishna-r-fashion-original-imafphxuxmkutnt8.jpeg?q=50\n",
      "https://rukminim1.flixcart.com/image/329/395/k4vmxzk0/sari/y/p/r/free-1127sr7126-1159sr88-swaron-original-imafjfmrntf7yynz.jpeg?q=50\n",
      "https://rukminim1.flixcart.com/image/329/395/k3xcdjk0/sari/e/x/h/free-simmba-rama-navy-blue-perfect-wear-original-imafmxayk5wzrga2.jpeg?q=50\n",
      "https://rukminim1.flixcart.com/image/329/395/k66sh3k0/sari/q/n/g/free-pattu-saree-ejoty-fashion-original-imafzp8gmy4ksvd2.jpeg?q=50\n",
      "https://rukminim1.flixcart.com/image/329/395/k5zn9u80/sari/u/n/t/free-svf1468-3-a-jabali-enterprise-original-imafdfszdcpvcwrp.jpeg?q=50\n",
      "https://rukminim1.flixcart.com/image/329/395/k51cpe80pkrrdj/sari/t/v/d/free-blue-1499-pooja-fashion-1499-original-imafgw8vt2qz6tgg.jpeg?q=50\n",
      "https://rukminim1.flixcart.com/image/329/395/k612pow0/sari/h/z/q/free-svf1262-4-awomens-latest-georgette-dailywear-partwear-original-imaewhzunge3y5wb.jpeg?q=50\n",
      "https://rukminim1.flixcart.com/image/329/395/jz30nm80/sari/b/8/k/free-k-s-007-kapuriya-fab-original-imafbb9fsf2zp4yx.jpeg?q=50\n",
      "https://rukminim1.flixcart.com/image/329/395/k6fd47k0pkrrdj/sari/h/f/u/red-yellow-blue-1363sj505-1363sj506-siril-original-imafzxgemkybhus7.jpeg?q=50\n",
      "https://rukminim1.flixcart.com/image/329/395/k62i5jk0/sari/c/y/y/free-svf11ntrast-blouse-jabali-enterprise-original-imaempjxexhzyejw.jpeg?q=50\n",
      "https://rukminim1.flixcart.com/image/329/395/k6v2ykw0/sari/w/r/9/free-l-patti-grey-market-magic-world-original-imafp7h3a49gf7xh.jpeg?q=50\n",
      "https://rukminim1.flixcart.com/image/329/395/kay9bbk0/sari/a/s/z/free-1262-5-kashvi-sarees-unstitched-original-imafsepbpnpbxgsz.jpeg?q=50\n",
      "https://rukminim1.flixcart.com/image/329/395/k7xnukw0/sari/u/w/r/free-parevadi-krishna-r-fashion-unstitched-original-imafq2g4udd8pwe4.jpeg?q=50\n",
      "https://rukminim1.flixcart.com/image/329/395/k7tdj0w0/sari/z/3/m/free-saree101-tealblue-sariya-unstitched-original-imafpyybbfgpagkr.jpeg?q=50\n",
      "https://rukminim1.flixcart.com/image/329/395/juvjzbk0/sari/s/t/x/free-pavitra-black-shreeji-fab-original-imaf8agt4ztxup6s.jpeg?q=50\n",
      "https://rukminim1.flixcart.com/image/329/395/k5y7tzk0/sari/s/f/c/free-vs-198-p-leelavati-original-imafzgnpgcyxbhgw.jpeg?q=50\n",
      "https://rukminim1.flixcart.com/image/329/395/k12go7k0/sari/q/y/s/free-kr-bgp-b-dc-3more-patti-lari-pink-kara-original-imafkptfetygx5mw.jpeg?q=50\n",
      "https://rukminim1.flixcart.com/image/329/395/k5zn9u80/sari/k/a/r/free-svf1470-3-a-black-jabali-enterprise-original-imafenefgw43sbyd.jpeg?q=50\n",
      "https://rukminim1.flixcart.com/image/329/395/k4ss2a80/sari/s/e/b/free-1051b-fashion-day-original-imafnmt93zgkktmz.jpeg?q=50\n",
      "https://rukminim1.flixcart.com/image/329/395/k6l2vm80/sari/a/n/h/free-palak5-7-aqrizz-original-imaf8j4vy6adfcx5.jpeg?q=50\n",
      "https://rukminim1.flixcart.com/image/329/395/kd7pevk0/sari/l/a/n/free-vjs1546-1-vj-fashion-unstitched-original-imafu6b4wahn9vze.jpeg?q=50\n",
      "https://rukminim1.flixcart.com/image/329/395/jt8yxe80/sari/d/n/h/free-nbs366-2-nightblue-original-imaffhzhsbnjfgfq.jpeg?q=50\n",
      "https://rukminim1.flixcart.com/image/329/395/ke7ff680-0/sari/y/p/l/free-19086-mirchi-fashion-unstitched-original-imafuxhmsyrjhvzf.jpeg?q=50\n",
      "https://rukminim1.flixcart.com/image/329/395/k3xcdjk0pkrrdj/sari/r/v/r/free-grey-pc1046a-vaamsi-pc1046-original-imafgs38sujyzp2m.jpeg?q=50\n",
      "https://rukminim1.flixcart.com/image/329/395/k6v2ykw0/sari/5/v/s/free-zfs-08-blue-zoleni-original-imafp84mvdndfkgk.jpeg?q=50\n",
      "https://rukminim1.flixcart.com/image/329/395/jvif0y80/sari/v/g/f/free-1199-grey-nityanta-fab-original-imafgehqpnahuyzh.jpeg?q=50\n",
      "https://rukminim1.flixcart.com/image/329/395/k612pow0/sari/d/j/y/free-svf1164-3-awomens-latest-georgette-dailywear-partwear-original-imaempzvhuyqp3ut.jpeg?q=50\n",
      "https://rukminim1.flixcart.com/image/329/395/kd7pevk0/sari/5/a/9/free-vjs1539-1-vj-fashion-unstitched-original-imafu6b3netazugm.jpeg?q=50\n",
      "https://rukminim1.flixcart.com/image/329/395/kc6jyq80/sari/w/a/s/free-2ton-saree-omicron-fab-unstitched-original-imaftd2uf8r6chza.jpeg?q=50\n",
      "https://rukminim1.flixcart.com/image/329/395/k6l2vm80/sari/c/h/d/free-palak2-8-aqrizz-original-imaf8j5fs48kb2yu.jpeg?q=50\n",
      "https://rukminim1.flixcart.com/image/329/395/jtx9evk0/sari/r/7/e/free-silk014-rk-fashion-original-imaemvgnnh6rdgg3.jpeg?q=50\n"
     ]
    }
   ],
   "source": [
    "urls=[]\n",
    "for image in images:\n",
    "    source=image.get_attribute('src')\n",
    "    urls.append(source)\n",
    "    print(source)"
   ]
  },
  {
   "cell_type": "code",
   "execution_count": 32,
   "metadata": {},
   "outputs": [
    {
     "name": "stdout",
     "output_type": "stream",
     "text": [
      "Downloading 1 of 40 images from page 3\n",
      "Downloading 2 of 40 images from page 3\n",
      "Downloading 3 of 40 images from page 3\n",
      "Downloading 4 of 40 images from page 3\n",
      "Downloading 5 of 40 images from page 3\n",
      "Downloading 6 of 40 images from page 3\n",
      "Downloading 7 of 40 images from page 3\n",
      "Downloading 8 of 40 images from page 3\n",
      "Downloading 9 of 40 images from page 3\n",
      "Downloading 10 of 40 images from page 3\n",
      "Downloading 11 of 40 images from page 3\n",
      "Downloading 12 of 40 images from page 3\n",
      "Downloading 13 of 40 images from page 3\n",
      "Downloading 14 of 40 images from page 3\n",
      "Downloading 15 of 40 images from page 3\n",
      "Downloading 16 of 40 images from page 3\n",
      "Downloading 17 of 40 images from page 3\n",
      "Downloading 18 of 40 images from page 3\n",
      "Downloading 19 of 40 images from page 3\n",
      "Downloading 20 of 40 images from page 3\n",
      "Downloading 21 of 40 images from page 3\n",
      "Downloading 22 of 40 images from page 3\n",
      "Downloading 23 of 40 images from page 3\n",
      "Downloading 24 of 40 images from page 3\n",
      "Downloading 25 of 40 images from page 3\n",
      "Downloading 26 of 40 images from page 3\n",
      "Downloading 27 of 40 images from page 3\n",
      "Downloading 28 of 40 images from page 3\n",
      "Downloading 29 of 40 images from page 3\n",
      "Downloading 30 of 40 images from page 3\n",
      "Downloading 31 of 40 images from page 3\n",
      "Downloading 32 of 40 images from page 3\n",
      "Downloading 33 of 40 images from page 3\n",
      "Downloading 34 of 40 images from page 3\n",
      "Downloading 35 of 40 images from page 3\n",
      "Downloading 36 of 40 images from page 3\n",
      "Downloading 37 of 40 images from page 3\n",
      "Downloading 38 of 40 images from page 3\n",
      "Downloading 39 of 40 images from page 3\n",
      "Downloading 40 of 40 images from page 3\n"
     ]
    }
   ],
   "source": [
    "#changing for page2\n",
    "page=2\n",
    "for index,link in enumerate(urls):\n",
    "    print(\"Downloading {0} of {1} images from page 3\".format(index+1, len(urls)))\n",
    "    response=requests.get(link)\n",
    "    with open('sarees/img {0}{1}.jpeg'.format(index,page),\"wb\")as file:\n",
    "        file.write(response.content)"
   ]
  },
  {
   "cell_type": "code",
   "execution_count": 33,
   "metadata": {},
   "outputs": [
    {
     "data": {
      "text/plain": [
       "120"
      ]
     },
     "execution_count": 33,
     "metadata": {},
     "output_type": "execute_result"
    }
   ],
   "source": [
    "for brand in brands:\n",
    "    product_data['brands'].append(brand.text)\n",
    "len(product_data['brands'])"
   ]
  },
  {
   "cell_type": "code",
   "execution_count": 34,
   "metadata": {},
   "outputs": [
    {
     "data": {
      "text/plain": [
       "120"
      ]
     },
     "execution_count": 34,
     "metadata": {},
     "output_type": "execute_result"
    }
   ],
   "source": [
    "for price in prices:\n",
    "    product_data['prices'].append(price.text)\n",
    "len(product_data['prices'])"
   ]
  },
  {
   "cell_type": "markdown",
   "metadata": {},
   "source": [
    "# SCRAPPING T-SHIRTS"
   ]
  },
  {
   "cell_type": "code",
   "execution_count": 35,
   "metadata": {},
   "outputs": [],
   "source": [
    "mypage=driver.get('https://www.flipkart.com/search?q=t+shirts&as=on&as-show=on&otracker=AS_Query_TrendingAutoSuggest_3_0_na_na_na&otracker1=AS_Query_TrendingAutoSuggest_3_0_na_na_na&as-pos=3&as-type=TRENDING&suggestionId=t+shirts&requestId=054afb62-8c9c-401a-94f2-711853d1420c')"
   ]
  },
  {
   "cell_type": "markdown",
   "metadata": {},
   "source": [
    "# making the idirectory to store images¶"
   ]
  },
  {
   "cell_type": "code",
   "execution_count": 36,
   "metadata": {},
   "outputs": [],
   "source": [
    "#optimal Step\n",
    "def make_directory(dirname):\n",
    "    current_path=os.getcwd()\n",
    "    path=os.path.join(current_path,dirname)\n",
    "    if not os.path.exists(path):\n",
    "        os.makedirs(path)"
   ]
  },
  {
   "cell_type": "code",
   "execution_count": 37,
   "metadata": {},
   "outputs": [],
   "source": [
    "make_directory(\"FLIPCART-T-SHIRTS\")"
   ]
  },
  {
   "cell_type": "code",
   "execution_count": 38,
   "metadata": {},
   "outputs": [],
   "source": [
    "images=driver.find_elements_by_xpath(\"//img[@class='_3togXc']\")\n",
    "brands=driver.find_elements_by_xpath(\"//div[@class='_2B_pmu']\")\n",
    "prices=driver.find_elements_by_xpath(\"//a[@class='_2W-UZw']//div[@class='_1uv9Cb']\")"
   ]
  },
  {
   "cell_type": "code",
   "execution_count": 39,
   "metadata": {},
   "outputs": [
    {
     "name": "stdout",
     "output_type": "stream",
     "text": [
      "<selenium.webdriver.remote.webelement.WebElement (session=\"af7a12bb9fb291fe4870923787e6bdb2\", element=\"93087149-5ae9-4946-95bf-07b900daecfa\")>\n"
     ]
    }
   ],
   "source": [
    "print(images[0])"
   ]
  },
  {
   "cell_type": "code",
   "execution_count": 40,
   "metadata": {},
   "outputs": [
    {
     "name": "stdout",
     "output_type": "stream",
     "text": [
      "40 40 40\n"
     ]
    }
   ],
   "source": [
    "print(len(images),len(brands),len(prices))"
   ]
  },
  {
   "cell_type": "code",
   "execution_count": 41,
   "metadata": {},
   "outputs": [
    {
     "name": "stdout",
     "output_type": "stream",
     "text": [
      "https://rukminim1.flixcart.com/image/329/395/k6s82vk0/t-shirt/p/n/j/m-bss20cnfs20a-billion-original-imafp5wughfjb393.jpeg?q=50\n",
      "https://rukminim1.flixcart.com/image/329/395/t-shirt/r/t/b/m-cfosteelgrey-fleximaa-original-imaerc7whue8ffng.jpeg?q=50\n",
      "https://rukminim1.flixcart.com/image/329/395/jtn9bww0/t-shirt/5/g/g/m-hm-1001-black-red-helmont-original-imafdfvvr8hqdu65.jpeg?q=50\n",
      "https://rukminim1.flixcart.com/image/329/395/jlsc58w0/t-shirt/9/h/f/xxl-style-tshirt-try-this-original-imaf8ueq5kchcqrn.jpeg?q=50\n",
      "https://rukminim1.flixcart.com/image/329/395/k7531jk0/t-shirt/z/c/a/s-rh-roundnck-x-hlfslv-blk-org-skin-rockhard-original-imafpfvkgtxeuz77.jpeg?q=50\n",
      "https://rukminim1.flixcart.com/image/329/395/jp780i80/t-shirt/u/8/t/s-tnvhdfulabstract1-tripr-original-imafbdarnwhfh7uu.jpeg?q=50\n",
      "https://rukminim1.flixcart.com/image/329/395/k3khevk0/t-shirt/m/6/7/l-aff-1001-mustard-black-adiba-fashion-factory-original-imafmn8a7me5gej4.jpeg?q=50\n",
      "https://rukminim1.flixcart.com/image/329/395/jv19qq80/t-shirt/z/z/3/s-lh-t-hf-510-11-13-london-hills-original-imafgybxmgxs6ck9.jpeg?q=50\n",
      "https://rukminim1.flixcart.com/image/329/395/k5vcya80/t-shirt/m/d/2/l-kd286287-kay-dee-original-imafzejhaahtyncr.jpeg?q=50\n",
      "https://rukminim1.flixcart.com/image/329/395/katyzrk0/t-shirt/z/y/w/xxl-ds01-try-this-original-imafsb8ju76qqhqw.jpeg?q=50\n",
      "https://rukminim1.flixcart.com/image/329/395/kd69z0w0/t-shirt/u/t/q/xl-togr-blhdful-believer-tripr-original-imafu4ybfwdqhqfm.jpeg?q=50\n",
      "https://rukminim1.flixcart.com/image/329/395/jksm4y80/t-shirt/h/v/3/m-bts045-billion-original-imaf82as6qtpmqfc.jpeg?q=50\n",
      "https://rukminim1.flixcart.com/image/329/395/k4bms280/t-shirt/5/b/t/m-11-v-neck-try-this-original-imaf969m4due9wbm.jpeg?q=50\n",
      "https://rukminim1.flixcart.com/image/329/395/jtn9bww0/t-shirt/5/f/c/s-hm-1001-maroon-black-helmont-original-imafdfvvz65ab7vm.jpeg?q=50\n",
      "https://rukminim1.flixcart.com/image/329/395/k40798w0/t-shirt/m/j/h/xxl-4070-xxl-fastcolors-original-imafnyyh8cvzbyep.jpeg?q=50\n",
      "https://rukminim1.flixcart.com/image/329/395/k7285u80/t-shirt/m/k/u/m-bss20cnpk05-billion-original-imafpdz6n5hzp3pf.jpeg?q=50\n",
      "https://rukminim1.flixcart.com/image/329/395/kbs9k7k0/t-shirt/2/a/2/xl-cmb-packof3-3-smartees-original-imaft244mgpks7ta.jpeg?q=50\n",
      "https://rukminim1.flixcart.com/image/329/395/k30h8y80/t-shirt/u/z/s/s-shp275282-shapphr-original-imafjvg4nngzwrfw.jpeg?q=50\n",
      "https://rukminim1.flixcart.com/image/329/395/kd1zngw0/t-shirt/t/p/8/l-joy-camo-rnd-half-green-joycoots-original-imafuyyuavpmdean.jpeg?q=50\n",
      "https://rukminim1.flixcart.com/image/329/395/jqsdmkw0/t-shirt/9/x/h/xxl-cfpmaroon-cfpnavyblue-fleximaa-original-imafcq9gu24kbsph.jpeg?q=50\n",
      "https://rukminim1.flixcart.com/image/329/395/k40798w0/t-shirt/r/x/a/xxl-4054-xxl-fastcolors-original-imafny3vwstwzyvh.jpeg?q=50\n",
      "https://rukminim1.flixcart.com/image/329/395/k7qinbk0/t-shirt/r/g/r/s-rt-slevattitude-org-nvy-ronit-s-trend-original-imafpwnyhqhxf8he.jpeg?q=50\n",
      "https://rukminim1.flixcart.com/image/329/395/k4vmxzk0/t-shirt/k/x/m/xl-16-panel-mustard-uzee-original-imafnzyyxzwdcn9m.jpeg?q=50\n",
      "https://rukminim1.flixcart.com/image/329/395/kdqa4y80-0/t-shirt/z/b/5/m-m7ss20ho006b-m7-by-metronaut-original-imafukzzpjtvfa92.jpeg?q=50\n",
      "https://rukminim1.flixcart.com/image/329/395/jz05rww0/shirt/7/m/s/s-marroon-sst-try-this-original-imafghg2xpkgbhtv.jpeg?q=50\n",
      "https://rukminim1.flixcart.com/image/329/395/jza5uvk0/t-shirt/s/n/n/l-striped-try-this-original-imafj8mfhxhmfxtm.jpeg?q=50\n",
      "https://rukminim1.flixcart.com/image/329/395/kcgk1ow0/t-shirt/d/i/z/xl-hsb11-mrn-trends-tower-original-imaftkustrjqthgy.jpeg?q=50\n",
      "https://rukminim1.flixcart.com/image/329/395/jrxtea80/t-shirt/b/e/e/l-lifeo58-lifeidea-original-imafdmg5ueypzthh.jpeg?q=50\n",
      "https://rukminim1.flixcart.com/image/329/395/kdoup3k0-0/t-shirt/1/z/q/m-4180-4182-fastcolors-original-imafuj6gr6ssrpx3.jpeg?q=50\n",
      "https://rukminim1.flixcart.com/image/329/395/kd7pevk0/t-shirt/1/1/d/s-m7ss20cn072a-m7-by-metronaut-original-imafu66zbhyhdzga.jpeg?q=50\n",
      "https://rukminim1.flixcart.com/image/329/395/k7m8brk0/t-shirt/r/k/p/l-rt-rechance-wht-ronit-s-trend-original-imafpth7hhpt3hmf.jpeg?q=50\n",
      "https://rukminim1.flixcart.com/image/329/395/kbs9k7k0/t-shirt/r/k/u/l-cmb-packof3-1-smartees-original-imaft24493vncdgz.jpeg?q=50\n",
      "https://rukminim1.flixcart.com/image/329/395/k4bms280/t-shirt/k/f/j/m-bathteck-try-this-original-imafgt57nvhnry4r.jpeg?q=50\n",
      "https://rukminim1.flixcart.com/image/329/395/k6s82vk0/t-shirt/r/e/b/m-bss20vn04a-billion-original-imafp5wunw2hjkcv.jpeg?q=50\n",
      "https://rukminim1.flixcart.com/image/329/395/kd4uj680/t-shirt/k/m/u/s-joy-503-white-joycotts-original-imafu3wpvduzsygk.jpeg?q=50\n",
      "https://rukminim1.flixcart.com/image/329/395/jw0zr0w0/t-shirt/g/u/q/s-daredevil-party-wear-wrath-original-imafgsggwmdabfx4.jpeg?q=50\n",
      "https://rukminim1.flixcart.com/image/329/395/k5h2jrk0/t-shirt/p/e/r/s-yst-try-this-original-imafz5grgvwxhrsz.jpeg?q=50\n",
      "https://rukminim1.flixcart.com/image/329/395/ke8uv0w0-0/t-shirt/q/s/p/l-twtnvrnfull-d29-tripr-original-imafuz6725zjym2p.jpeg?q=50\n",
      "https://rukminim1.flixcart.com/image/329/395/kcjexe80/t-shirt/z/3/z/xxl-tblogr-blylrnful-r5-tripr-original-imaftnf3ysmybnbh.jpeg?q=50\n",
      "https://rukminim1.flixcart.com/image/329/395/t-shirt/9/9/u/cfpnavyblue-cfpbiscuit-fleximaa-l-original-imaehh57hhc79xeh.jpeg?q=50\n"
     ]
    }
   ],
   "source": [
    "urls=[]\n",
    "for image in images:\n",
    "    source=image.get_attribute('src')\n",
    "    urls.append(source)\n",
    "    print(source)"
   ]
  },
  {
   "cell_type": "code",
   "execution_count": 42,
   "metadata": {},
   "outputs": [
    {
     "data": {
      "text/plain": [
       "40"
      ]
     },
     "execution_count": 42,
     "metadata": {},
     "output_type": "execute_result"
    }
   ],
   "source": [
    "len(urls)"
   ]
  },
  {
   "cell_type": "markdown",
   "metadata": {},
   "source": [
    "# 4Using the URLs to download image¶"
   ]
  },
  {
   "cell_type": "code",
   "execution_count": 43,
   "metadata": {},
   "outputs": [],
   "source": [
    "import shutil\n",
    "import requests"
   ]
  },
  {
   "cell_type": "code",
   "execution_count": 44,
   "metadata": {},
   "outputs": [
    {
     "name": "stdout",
     "output_type": "stream",
     "text": [
      "Downloading 1 of 40 images from page 1\n",
      "Downloading 2 of 40 images from page 1\n",
      "Downloading 3 of 40 images from page 1\n",
      "Downloading 4 of 40 images from page 1\n",
      "Downloading 5 of 40 images from page 1\n",
      "Downloading 6 of 40 images from page 1\n",
      "Downloading 7 of 40 images from page 1\n",
      "Downloading 8 of 40 images from page 1\n",
      "Downloading 9 of 40 images from page 1\n",
      "Downloading 10 of 40 images from page 1\n",
      "Downloading 11 of 40 images from page 1\n",
      "Downloading 12 of 40 images from page 1\n",
      "Downloading 13 of 40 images from page 1\n",
      "Downloading 14 of 40 images from page 1\n",
      "Downloading 15 of 40 images from page 1\n",
      "Downloading 16 of 40 images from page 1\n",
      "Downloading 17 of 40 images from page 1\n",
      "Downloading 18 of 40 images from page 1\n",
      "Downloading 19 of 40 images from page 1\n",
      "Downloading 20 of 40 images from page 1\n",
      "Downloading 21 of 40 images from page 1\n",
      "Downloading 22 of 40 images from page 1\n",
      "Downloading 23 of 40 images from page 1\n",
      "Downloading 24 of 40 images from page 1\n",
      "Downloading 25 of 40 images from page 1\n",
      "Downloading 26 of 40 images from page 1\n",
      "Downloading 27 of 40 images from page 1\n",
      "Downloading 28 of 40 images from page 1\n",
      "Downloading 29 of 40 images from page 1\n",
      "Downloading 30 of 40 images from page 1\n",
      "Downloading 31 of 40 images from page 1\n",
      "Downloading 32 of 40 images from page 1\n",
      "Downloading 33 of 40 images from page 1\n",
      "Downloading 34 of 40 images from page 1\n",
      "Downloading 35 of 40 images from page 1\n",
      "Downloading 36 of 40 images from page 1\n",
      "Downloading 37 of 40 images from page 1\n",
      "Downloading 38 of 40 images from page 1\n",
      "Downloading 39 of 40 images from page 1\n",
      "Downloading 40 of 40 images from page 1\n"
     ]
    }
   ],
   "source": [
    "page=1\n",
    "for index,link in enumerate(urls):\n",
    "    print(\"Downloading {0} of {1} images from page 1\".format(index+1, len(urls)))\n",
    "    response=requests.get(link)\n",
    "    with open('sarees/img {0}{1}.jpeg'.format(index,page),\"wb\")as file:\n",
    "        file.write(response.content)"
   ]
  },
  {
   "cell_type": "code",
   "execution_count": 46,
   "metadata": {},
   "outputs": [],
   "source": [
    "next_pages=driver.find_element_by_xpath(\"//a[@class='_2Xp0TH']\").click()"
   ]
  },
  {
   "cell_type": "code",
   "execution_count": 47,
   "metadata": {},
   "outputs": [
    {
     "name": "stdout",
     "output_type": "stream",
     "text": [
      "Downloading 1 of 40 images from page 2\n",
      "Downloading 2 of 40 images from page 2\n",
      "Downloading 3 of 40 images from page 2\n",
      "Downloading 4 of 40 images from page 2\n",
      "Downloading 5 of 40 images from page 2\n",
      "Downloading 6 of 40 images from page 2\n",
      "Downloading 7 of 40 images from page 2\n",
      "Downloading 8 of 40 images from page 2\n",
      "Downloading 9 of 40 images from page 2\n",
      "Downloading 10 of 40 images from page 2\n",
      "Downloading 11 of 40 images from page 2\n",
      "Downloading 12 of 40 images from page 2\n",
      "Downloading 13 of 40 images from page 2\n",
      "Downloading 14 of 40 images from page 2\n",
      "Downloading 15 of 40 images from page 2\n",
      "Downloading 16 of 40 images from page 2\n",
      "Downloading 17 of 40 images from page 2\n",
      "Downloading 18 of 40 images from page 2\n",
      "Downloading 19 of 40 images from page 2\n",
      "Downloading 20 of 40 images from page 2\n",
      "Downloading 21 of 40 images from page 2\n",
      "Downloading 22 of 40 images from page 2\n",
      "Downloading 23 of 40 images from page 2\n",
      "Downloading 24 of 40 images from page 2\n",
      "Downloading 25 of 40 images from page 2\n",
      "Downloading 26 of 40 images from page 2\n",
      "Downloading 27 of 40 images from page 2\n",
      "Downloading 28 of 40 images from page 2\n",
      "Downloading 29 of 40 images from page 2\n",
      "Downloading 30 of 40 images from page 2\n",
      "Downloading 31 of 40 images from page 2\n",
      "Downloading 32 of 40 images from page 2\n",
      "Downloading 33 of 40 images from page 2\n",
      "Downloading 34 of 40 images from page 2\n",
      "Downloading 35 of 40 images from page 2\n",
      "Downloading 36 of 40 images from page 2\n",
      "Downloading 37 of 40 images from page 2\n",
      "Downloading 38 of 40 images from page 2\n",
      "Downloading 39 of 40 images from page 2\n",
      "Downloading 40 of 40 images from page 2\n"
     ]
    }
   ],
   "source": [
    "page=2\n",
    "for index,link in enumerate(urls):\n",
    "    print(\"Downloading {0} of {1} images from page 2\".format(index+1, len(urls)))\n",
    "    response=requests.get(link)\n",
    "    with open('sarees/img {0}{1}.jpeg'.format(index,page),\"wb\")as file:\n",
    "        file.write(response.content)"
   ]
  },
  {
   "cell_type": "code",
   "execution_count": 48,
   "metadata": {},
   "outputs": [],
   "source": [
    "next_pages=driver.find_element_by_xpath(\"//a[@class='_2Xp0TH']\").click()"
   ]
  },
  {
   "cell_type": "code",
   "execution_count": 49,
   "metadata": {},
   "outputs": [
    {
     "name": "stdout",
     "output_type": "stream",
     "text": [
      "Downloading 1 of 40 images from page 3\n",
      "Downloading 2 of 40 images from page 3\n",
      "Downloading 3 of 40 images from page 3\n",
      "Downloading 4 of 40 images from page 3\n",
      "Downloading 5 of 40 images from page 3\n",
      "Downloading 6 of 40 images from page 3\n",
      "Downloading 7 of 40 images from page 3\n",
      "Downloading 8 of 40 images from page 3\n",
      "Downloading 9 of 40 images from page 3\n",
      "Downloading 10 of 40 images from page 3\n",
      "Downloading 11 of 40 images from page 3\n",
      "Downloading 12 of 40 images from page 3\n",
      "Downloading 13 of 40 images from page 3\n",
      "Downloading 14 of 40 images from page 3\n",
      "Downloading 15 of 40 images from page 3\n",
      "Downloading 16 of 40 images from page 3\n",
      "Downloading 17 of 40 images from page 3\n",
      "Downloading 18 of 40 images from page 3\n",
      "Downloading 19 of 40 images from page 3\n",
      "Downloading 20 of 40 images from page 3\n",
      "Downloading 21 of 40 images from page 3\n",
      "Downloading 22 of 40 images from page 3\n",
      "Downloading 23 of 40 images from page 3\n",
      "Downloading 24 of 40 images from page 3\n",
      "Downloading 25 of 40 images from page 3\n",
      "Downloading 26 of 40 images from page 3\n",
      "Downloading 27 of 40 images from page 3\n",
      "Downloading 28 of 40 images from page 3\n",
      "Downloading 29 of 40 images from page 3\n",
      "Downloading 30 of 40 images from page 3\n",
      "Downloading 31 of 40 images from page 3\n",
      "Downloading 32 of 40 images from page 3\n",
      "Downloading 33 of 40 images from page 3\n",
      "Downloading 34 of 40 images from page 3\n",
      "Downloading 35 of 40 images from page 3\n",
      "Downloading 36 of 40 images from page 3\n",
      "Downloading 37 of 40 images from page 3\n",
      "Downloading 38 of 40 images from page 3\n",
      "Downloading 39 of 40 images from page 3\n",
      "Downloading 40 of 40 images from page 3\n"
     ]
    }
   ],
   "source": [
    "page=3\n",
    "for index,link in enumerate(urls):\n",
    "    print(\"Downloading {0} of {1} images from page 3\".format(index+1, len(urls)))\n",
    "    response=requests.get(link)\n",
    "    with open('sarees/img {0}{1}.jpeg'.format(index,page),\"wb\")as file:\n",
    "        file.write(response.content)"
   ]
  },
  {
   "cell_type": "markdown",
   "metadata": {},
   "source": [
    "# SCRAPPING SHIRTS"
   ]
  },
  {
   "cell_type": "code",
   "execution_count": null,
   "metadata": {},
   "outputs": [],
   "source": []
  }
 ],
 "metadata": {
  "kernelspec": {
   "display_name": "Python 3",
   "language": "python",
   "name": "python3"
  },
  "language_info": {
   "codemirror_mode": {
    "name": "ipython",
    "version": 3
   },
   "file_extension": ".py",
   "mimetype": "text/x-python",
   "name": "python",
   "nbconvert_exporter": "python",
   "pygments_lexer": "ipython3",
   "version": "3.7.4"
  }
 },
 "nbformat": 4,
 "nbformat_minor": 2
}
