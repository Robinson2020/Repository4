{
  "nbformat": 4,
  "nbformat_minor": 0,
  "metadata": {
    "colab": {
      "name": "amazonproduct review rnn.ipynb",
      "provenance": [],
      "collapsed_sections": []
    },
    "kernelspec": {
      "name": "python3",
      "display_name": "Python 3"
    },
    "language_info": {
      "name": "python"
    }
  },
  "cells": [
    {
      "cell_type": "code",
      "metadata": {
        "id": "qyfyINs7qT0_"
      },
      "source": [
        "# This Python 3 environment comes with many helpful analytics libraries installed\n",
        "# It is defined by the kaggle/python docker image: https://github.com/kaggle/docker-python\n",
        "# For example, here's several helpful packages to load in \n",
        "import numpy as np # linear algebra\n",
        "import pandas as pd # data processing, CSV file I/O (e.g. pd.read_csv)\n",
        "import seaborn as sns\n",
        "import matplotlib.pyplot as plt"
      ],
      "execution_count": null,
      "outputs": []
    },
    {
      "cell_type": "code",
      "metadata": {
        "id": "lEll0jvzqcGa"
      },
      "source": [
        "from sklearn.feature_extraction.text import CountVectorizer\n",
        "from sklearn.linear_model import LinearRegression\n",
        "from keras.preprocessing.sequence import pad_sequences"
      ],
      "execution_count": null,
      "outputs": []
    },
    {
      "cell_type": "code",
      "metadata": {
        "id": "KK_QWqUrqkTu"
      },
      "source": [
        "from collections import Counter\n",
        "import nltk\n",
        "import seaborn as sns\n",
        "import string\n",
        "from nltk.corpus import stopwords\n",
        "# import re\n",
        "# from autocorrect import spell\n",
        "import regex as re"
      ],
      "execution_count": null,
      "outputs": []
    },
    {
      "cell_type": "code",
      "metadata": {
        "id": "XzitDW7_qpw3"
      },
      "source": [
        "from keras.preprocessing.text import Tokenizer\n",
        "from keras.preprocessing.sequence import pad_sequences\n",
        "\n",
        "from keras.models import Sequential\n",
        "from keras.layers import Dense\n",
        "from keras.backend import eval\n",
        "from tensorflow.keras.optimizers import Adam\n",
        "from keras.layers import LSTM\n",
        "from keras.layers.embeddings import Embedding\n",
        "from keras.layers import Dropout\n",
        "from keras.layers.convolutional import Conv1D,MaxPooling1D\n",
        "# Input data files are available in the \"../input/\" directory.\n",
        "# For example, running this (by clicking run or pressing Shift+Enter) will list the files in the input directory"
      ],
      "execution_count": null,
      "outputs": []
    },
    {
      "cell_type": "code",
      "metadata": {
        "id": "ddY0_46bqv1d"
      },
      "source": [
        "import os"
      ],
      "execution_count": null,
      "outputs": []
    },
    {
      "cell_type": "code",
      "metadata": {
        "colab": {
          "resources": {
            "http://localhost:8080/nbextensions/google.colab/files.js": {
              "data": "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",
              "ok": true,
              "headers": [
                [
                  "content-type",
                  "application/javascript"
                ]
              ],
              "status": 200,
              "status_text": ""
            }
          },
          "base_uri": "https://localhost:8080/",
          "height": 72
        },
        "id": "Wr4euuR1q0jV",
        "outputId": "d189a4a1-742a-407e-c3d7-ff79899ff607"
      },
      "source": [
        "from google.colab import files\n",
        "uploaded= files.upload()"
      ],
      "execution_count": null,
      "outputs": [
        {
          "output_type": "display_data",
          "data": {
            "text/html": [
              "\n",
              "     <input type=\"file\" id=\"files-4ee304e4-3366-406c-9dfb-c428367d2a1e\" name=\"files[]\" multiple disabled\n",
              "        style=\"border:none\" />\n",
              "     <output id=\"result-4ee304e4-3366-406c-9dfb-c428367d2a1e\">\n",
              "      Upload widget is only available when the cell has been executed in the\n",
              "      current browser session. Please rerun this cell to enable.\n",
              "      </output>\n",
              "      <script src=\"/nbextensions/google.colab/files.js\"></script> "
            ],
            "text/plain": [
              "<IPython.core.display.HTML object>"
            ]
          },
          "metadata": {}
        },
        {
          "output_type": "stream",
          "name": "stdout",
          "text": [
            "Saving 1429_1.csv to 1429_1.csv\n"
          ]
        }
      ]
    },
    {
      "cell_type": "code",
      "metadata": {
        "colab": {
          "base_uri": "https://localhost:8080/",
          "height": 768
        },
        "id": "JJUOgv0Gq3kd",
        "outputId": "8db0d3d3-9c2b-4010-cc0f-01f8e784702d"
      },
      "source": [
        "data=pd.read_csv('1429_1.csv')\n",
        "data.head()"
      ],
      "execution_count": null,
      "outputs": [
        {
          "output_type": "stream",
          "name": "stderr",
          "text": [
            "/usr/local/lib/python3.7/dist-packages/IPython/core/interactiveshell.py:2718: DtypeWarning: Columns (1,10) have mixed types.Specify dtype option on import or set low_memory=False.\n",
            "  interactivity=interactivity, compiler=compiler, result=result)\n"
          ]
        },
        {
          "output_type": "execute_result",
          "data": {
            "text/html": [
              "<div>\n",
              "<style scoped>\n",
              "    .dataframe tbody tr th:only-of-type {\n",
              "        vertical-align: middle;\n",
              "    }\n",
              "\n",
              "    .dataframe tbody tr th {\n",
              "        vertical-align: top;\n",
              "    }\n",
              "\n",
              "    .dataframe thead th {\n",
              "        text-align: right;\n",
              "    }\n",
              "</style>\n",
              "<table border=\"1\" class=\"dataframe\">\n",
              "  <thead>\n",
              "    <tr style=\"text-align: right;\">\n",
              "      <th></th>\n",
              "      <th>id</th>\n",
              "      <th>name</th>\n",
              "      <th>asins</th>\n",
              "      <th>brand</th>\n",
              "      <th>categories</th>\n",
              "      <th>keys</th>\n",
              "      <th>manufacturer</th>\n",
              "      <th>reviews.date</th>\n",
              "      <th>reviews.dateAdded</th>\n",
              "      <th>reviews.dateSeen</th>\n",
              "      <th>reviews.didPurchase</th>\n",
              "      <th>reviews.doRecommend</th>\n",
              "      <th>reviews.id</th>\n",
              "      <th>reviews.numHelpful</th>\n",
              "      <th>reviews.rating</th>\n",
              "      <th>reviews.sourceURLs</th>\n",
              "      <th>reviews.text</th>\n",
              "      <th>reviews.title</th>\n",
              "      <th>reviews.userCity</th>\n",
              "      <th>reviews.userProvince</th>\n",
              "      <th>reviews.username</th>\n",
              "    </tr>\n",
              "  </thead>\n",
              "  <tbody>\n",
              "    <tr>\n",
              "      <th>0</th>\n",
              "      <td>AVqkIhwDv8e3D1O-lebb</td>\n",
              "      <td>All-New Fire HD 8 Tablet, 8 HD Display, Wi-Fi,...</td>\n",
              "      <td>B01AHB9CN2</td>\n",
              "      <td>Amazon</td>\n",
              "      <td>Electronics,iPad &amp; Tablets,All Tablets,Fire Ta...</td>\n",
              "      <td>841667104676,amazon/53004484,amazon/b01ahb9cn2...</td>\n",
              "      <td>Amazon</td>\n",
              "      <td>2017-01-13T00:00:00.000Z</td>\n",
              "      <td>2017-07-03T23:33:15Z</td>\n",
              "      <td>2017-06-07T09:04:00.000Z,2017-04-30T00:45:00.000Z</td>\n",
              "      <td>NaN</td>\n",
              "      <td>True</td>\n",
              "      <td>NaN</td>\n",
              "      <td>0.0</td>\n",
              "      <td>5.0</td>\n",
              "      <td>http://reviews.bestbuy.com/3545/5620406/review...</td>\n",
              "      <td>This product so far has not disappointed. My c...</td>\n",
              "      <td>Kindle</td>\n",
              "      <td>NaN</td>\n",
              "      <td>NaN</td>\n",
              "      <td>Adapter</td>\n",
              "    </tr>\n",
              "    <tr>\n",
              "      <th>1</th>\n",
              "      <td>AVqkIhwDv8e3D1O-lebb</td>\n",
              "      <td>All-New Fire HD 8 Tablet, 8 HD Display, Wi-Fi,...</td>\n",
              "      <td>B01AHB9CN2</td>\n",
              "      <td>Amazon</td>\n",
              "      <td>Electronics,iPad &amp; Tablets,All Tablets,Fire Ta...</td>\n",
              "      <td>841667104676,amazon/53004484,amazon/b01ahb9cn2...</td>\n",
              "      <td>Amazon</td>\n",
              "      <td>2017-01-13T00:00:00.000Z</td>\n",
              "      <td>2017-07-03T23:33:15Z</td>\n",
              "      <td>2017-06-07T09:04:00.000Z,2017-04-30T00:45:00.000Z</td>\n",
              "      <td>NaN</td>\n",
              "      <td>True</td>\n",
              "      <td>NaN</td>\n",
              "      <td>0.0</td>\n",
              "      <td>5.0</td>\n",
              "      <td>http://reviews.bestbuy.com/3545/5620406/review...</td>\n",
              "      <td>great for beginner or experienced person. Boug...</td>\n",
              "      <td>very fast</td>\n",
              "      <td>NaN</td>\n",
              "      <td>NaN</td>\n",
              "      <td>truman</td>\n",
              "    </tr>\n",
              "    <tr>\n",
              "      <th>2</th>\n",
              "      <td>AVqkIhwDv8e3D1O-lebb</td>\n",
              "      <td>All-New Fire HD 8 Tablet, 8 HD Display, Wi-Fi,...</td>\n",
              "      <td>B01AHB9CN2</td>\n",
              "      <td>Amazon</td>\n",
              "      <td>Electronics,iPad &amp; Tablets,All Tablets,Fire Ta...</td>\n",
              "      <td>841667104676,amazon/53004484,amazon/b01ahb9cn2...</td>\n",
              "      <td>Amazon</td>\n",
              "      <td>2017-01-13T00:00:00.000Z</td>\n",
              "      <td>2017-07-03T23:33:15Z</td>\n",
              "      <td>2017-06-07T09:04:00.000Z,2017-04-30T00:45:00.000Z</td>\n",
              "      <td>NaN</td>\n",
              "      <td>True</td>\n",
              "      <td>NaN</td>\n",
              "      <td>0.0</td>\n",
              "      <td>5.0</td>\n",
              "      <td>http://reviews.bestbuy.com/3545/5620406/review...</td>\n",
              "      <td>Inexpensive tablet for him to use and learn on...</td>\n",
              "      <td>Beginner tablet for our 9 year old son.</td>\n",
              "      <td>NaN</td>\n",
              "      <td>NaN</td>\n",
              "      <td>DaveZ</td>\n",
              "    </tr>\n",
              "    <tr>\n",
              "      <th>3</th>\n",
              "      <td>AVqkIhwDv8e3D1O-lebb</td>\n",
              "      <td>All-New Fire HD 8 Tablet, 8 HD Display, Wi-Fi,...</td>\n",
              "      <td>B01AHB9CN2</td>\n",
              "      <td>Amazon</td>\n",
              "      <td>Electronics,iPad &amp; Tablets,All Tablets,Fire Ta...</td>\n",
              "      <td>841667104676,amazon/53004484,amazon/b01ahb9cn2...</td>\n",
              "      <td>Amazon</td>\n",
              "      <td>2017-01-13T00:00:00.000Z</td>\n",
              "      <td>2017-07-03T23:33:15Z</td>\n",
              "      <td>2017-06-07T09:04:00.000Z,2017-04-30T00:45:00.000Z</td>\n",
              "      <td>NaN</td>\n",
              "      <td>True</td>\n",
              "      <td>NaN</td>\n",
              "      <td>0.0</td>\n",
              "      <td>4.0</td>\n",
              "      <td>http://reviews.bestbuy.com/3545/5620406/review...</td>\n",
              "      <td>I've had my Fire HD 8 two weeks now and I love...</td>\n",
              "      <td>Good!!!</td>\n",
              "      <td>NaN</td>\n",
              "      <td>NaN</td>\n",
              "      <td>Shacks</td>\n",
              "    </tr>\n",
              "    <tr>\n",
              "      <th>4</th>\n",
              "      <td>AVqkIhwDv8e3D1O-lebb</td>\n",
              "      <td>All-New Fire HD 8 Tablet, 8 HD Display, Wi-Fi,...</td>\n",
              "      <td>B01AHB9CN2</td>\n",
              "      <td>Amazon</td>\n",
              "      <td>Electronics,iPad &amp; Tablets,All Tablets,Fire Ta...</td>\n",
              "      <td>841667104676,amazon/53004484,amazon/b01ahb9cn2...</td>\n",
              "      <td>Amazon</td>\n",
              "      <td>2017-01-12T00:00:00.000Z</td>\n",
              "      <td>2017-07-03T23:33:15Z</td>\n",
              "      <td>2017-06-07T09:04:00.000Z,2017-04-30T00:45:00.000Z</td>\n",
              "      <td>NaN</td>\n",
              "      <td>True</td>\n",
              "      <td>NaN</td>\n",
              "      <td>0.0</td>\n",
              "      <td>5.0</td>\n",
              "      <td>http://reviews.bestbuy.com/3545/5620406/review...</td>\n",
              "      <td>I bought this for my grand daughter when she c...</td>\n",
              "      <td>Fantastic Tablet for kids</td>\n",
              "      <td>NaN</td>\n",
              "      <td>NaN</td>\n",
              "      <td>explore42</td>\n",
              "    </tr>\n",
              "  </tbody>\n",
              "</table>\n",
              "</div>"
            ],
            "text/plain": [
              "                     id  ... reviews.username\n",
              "0  AVqkIhwDv8e3D1O-lebb  ...          Adapter\n",
              "1  AVqkIhwDv8e3D1O-lebb  ...           truman\n",
              "2  AVqkIhwDv8e3D1O-lebb  ...            DaveZ\n",
              "3  AVqkIhwDv8e3D1O-lebb  ...           Shacks\n",
              "4  AVqkIhwDv8e3D1O-lebb  ...        explore42\n",
              "\n",
              "[5 rows x 21 columns]"
            ]
          },
          "metadata": {},
          "execution_count": 7
        }
      ]
    },
    {
      "cell_type": "code",
      "metadata": {
        "colab": {
          "base_uri": "https://localhost:8080/",
          "height": 204
        },
        "id": "a2Z-FqYnt-CZ",
        "outputId": "09451196-4620-47e6-f610-d7c645dd3155"
      },
      "source": [
        "review=pd.DataFrame(data.groupby('reviews.rating').size().sort_values(ascending=False).rename('No of Users').reset_index())\n",
        "review.head()"
      ],
      "execution_count": null,
      "outputs": [
        {
          "output_type": "execute_result",
          "data": {
            "text/html": [
              "<div>\n",
              "<style scoped>\n",
              "    .dataframe tbody tr th:only-of-type {\n",
              "        vertical-align: middle;\n",
              "    }\n",
              "\n",
              "    .dataframe tbody tr th {\n",
              "        vertical-align: top;\n",
              "    }\n",
              "\n",
              "    .dataframe thead th {\n",
              "        text-align: right;\n",
              "    }\n",
              "</style>\n",
              "<table border=\"1\" class=\"dataframe\">\n",
              "  <thead>\n",
              "    <tr style=\"text-align: right;\">\n",
              "      <th></th>\n",
              "      <th>reviews.rating</th>\n",
              "      <th>No of Users</th>\n",
              "    </tr>\n",
              "  </thead>\n",
              "  <tbody>\n",
              "    <tr>\n",
              "      <th>0</th>\n",
              "      <td>5.0</td>\n",
              "      <td>23775</td>\n",
              "    </tr>\n",
              "    <tr>\n",
              "      <th>1</th>\n",
              "      <td>4.0</td>\n",
              "      <td>8541</td>\n",
              "    </tr>\n",
              "    <tr>\n",
              "      <th>2</th>\n",
              "      <td>3.0</td>\n",
              "      <td>1499</td>\n",
              "    </tr>\n",
              "    <tr>\n",
              "      <th>3</th>\n",
              "      <td>1.0</td>\n",
              "      <td>410</td>\n",
              "    </tr>\n",
              "    <tr>\n",
              "      <th>4</th>\n",
              "      <td>2.0</td>\n",
              "      <td>402</td>\n",
              "    </tr>\n",
              "  </tbody>\n",
              "</table>\n",
              "</div>"
            ],
            "text/plain": [
              "   reviews.rating  No of Users\n",
              "0             5.0        23775\n",
              "1             4.0         8541\n",
              "2             3.0         1499\n",
              "3             1.0          410\n",
              "4             2.0          402"
            ]
          },
          "metadata": {},
          "execution_count": 8
        }
      ]
    },
    {
      "cell_type": "code",
      "metadata": {
        "colab": {
          "base_uri": "https://localhost:8080/",
          "height": 204
        },
        "id": "l_dAh9SruDCL",
        "outputId": "05095b1a-06a9-4539-e6d2-5a253851c045"
      },
      "source": [
        "permanent = data[['reviews.rating' , 'reviews.text' , 'reviews.title' , 'reviews.username']]\n",
        "mpermanent=permanent.dropna()\n",
        "mpermanent.head()"
      ],
      "execution_count": null,
      "outputs": [
        {
          "output_type": "execute_result",
          "data": {
            "text/html": [
              "<div>\n",
              "<style scoped>\n",
              "    .dataframe tbody tr th:only-of-type {\n",
              "        vertical-align: middle;\n",
              "    }\n",
              "\n",
              "    .dataframe tbody tr th {\n",
              "        vertical-align: top;\n",
              "    }\n",
              "\n",
              "    .dataframe thead th {\n",
              "        text-align: right;\n",
              "    }\n",
              "</style>\n",
              "<table border=\"1\" class=\"dataframe\">\n",
              "  <thead>\n",
              "    <tr style=\"text-align: right;\">\n",
              "      <th></th>\n",
              "      <th>reviews.rating</th>\n",
              "      <th>reviews.text</th>\n",
              "      <th>reviews.title</th>\n",
              "      <th>reviews.username</th>\n",
              "    </tr>\n",
              "  </thead>\n",
              "  <tbody>\n",
              "    <tr>\n",
              "      <th>0</th>\n",
              "      <td>5.0</td>\n",
              "      <td>This product so far has not disappointed. My c...</td>\n",
              "      <td>Kindle</td>\n",
              "      <td>Adapter</td>\n",
              "    </tr>\n",
              "    <tr>\n",
              "      <th>1</th>\n",
              "      <td>5.0</td>\n",
              "      <td>great for beginner or experienced person. Boug...</td>\n",
              "      <td>very fast</td>\n",
              "      <td>truman</td>\n",
              "    </tr>\n",
              "    <tr>\n",
              "      <th>2</th>\n",
              "      <td>5.0</td>\n",
              "      <td>Inexpensive tablet for him to use and learn on...</td>\n",
              "      <td>Beginner tablet for our 9 year old son.</td>\n",
              "      <td>DaveZ</td>\n",
              "    </tr>\n",
              "    <tr>\n",
              "      <th>3</th>\n",
              "      <td>4.0</td>\n",
              "      <td>I've had my Fire HD 8 two weeks now and I love...</td>\n",
              "      <td>Good!!!</td>\n",
              "      <td>Shacks</td>\n",
              "    </tr>\n",
              "    <tr>\n",
              "      <th>4</th>\n",
              "      <td>5.0</td>\n",
              "      <td>I bought this for my grand daughter when she c...</td>\n",
              "      <td>Fantastic Tablet for kids</td>\n",
              "      <td>explore42</td>\n",
              "    </tr>\n",
              "  </tbody>\n",
              "</table>\n",
              "</div>"
            ],
            "text/plain": [
              "   reviews.rating  ... reviews.username\n",
              "0             5.0  ...          Adapter\n",
              "1             5.0  ...           truman\n",
              "2             5.0  ...            DaveZ\n",
              "3             4.0  ...           Shacks\n",
              "4             5.0  ...        explore42\n",
              "\n",
              "[5 rows x 4 columns]"
            ]
          },
          "metadata": {},
          "execution_count": 9
        }
      ]
    },
    {
      "cell_type": "code",
      "metadata": {
        "colab": {
          "base_uri": "https://localhost:8080/",
          "height": 49
        },
        "id": "6NcG_OmHuGi7",
        "outputId": "abb603fd-5eff-4189-9de9-17322346f458"
      },
      "source": [
        "check =  mpermanent[mpermanent[\"reviews.text\"].isnull()]\n",
        "check.head()"
      ],
      "execution_count": null,
      "outputs": [
        {
          "output_type": "execute_result",
          "data": {
            "text/html": [
              "<div>\n",
              "<style scoped>\n",
              "    .dataframe tbody tr th:only-of-type {\n",
              "        vertical-align: middle;\n",
              "    }\n",
              "\n",
              "    .dataframe tbody tr th {\n",
              "        vertical-align: top;\n",
              "    }\n",
              "\n",
              "    .dataframe thead th {\n",
              "        text-align: right;\n",
              "    }\n",
              "</style>\n",
              "<table border=\"1\" class=\"dataframe\">\n",
              "  <thead>\n",
              "    <tr style=\"text-align: right;\">\n",
              "      <th></th>\n",
              "      <th>reviews.rating</th>\n",
              "      <th>reviews.text</th>\n",
              "      <th>reviews.title</th>\n",
              "      <th>reviews.username</th>\n",
              "    </tr>\n",
              "  </thead>\n",
              "  <tbody>\n",
              "  </tbody>\n",
              "</table>\n",
              "</div>"
            ],
            "text/plain": [
              "Empty DataFrame\n",
              "Columns: [reviews.rating, reviews.text, reviews.title, reviews.username]\n",
              "Index: []"
            ]
          },
          "metadata": {},
          "execution_count": 10
        }
      ]
    },
    {
      "cell_type": "code",
      "metadata": {
        "colab": {
          "base_uri": "https://localhost:8080/"
        },
        "id": "2uW_8aqpuKBD",
        "outputId": "78776601-a845-42c4-8aa8-6729fde50dfd"
      },
      "source": [
        "actualrating = mpermanent[(mpermanent['reviews.rating'] == 1) | (mpermanent['reviews.rating'] == 5)]\n",
        "actualrating.shape"
      ],
      "execution_count": null,
      "outputs": [
        {
          "output_type": "execute_result",
          "data": {
            "text/plain": [
              "(24178, 4)"
            ]
          },
          "metadata": {},
          "execution_count": 11
        }
      ]
    },
    {
      "cell_type": "code",
      "metadata": {
        "id": "dnni_nakuP7C"
      },
      "source": [
        "y = actualrating['reviews.rating']\n",
        "x = actualrating['reviews.text'].reset_index()\n",
        "# X =x[xindex(False)]"
      ],
      "execution_count": null,
      "outputs": []
    },
    {
      "cell_type": "code",
      "metadata": {
        "colab": {
          "base_uri": "https://localhost:8080/"
        },
        "id": "XwVekjjsuTja",
        "outputId": "46eabd73-84d9-4fe3-f00c-a415b79aea52"
      },
      "source": [
        "len(y)"
      ],
      "execution_count": null,
      "outputs": [
        {
          "output_type": "execute_result",
          "data": {
            "text/plain": [
              "24178"
            ]
          },
          "metadata": {},
          "execution_count": 13
        }
      ]
    },
    {
      "cell_type": "code",
      "metadata": {
        "colab": {
          "base_uri": "https://localhost:8080/"
        },
        "id": "wAw29VGnuV-C",
        "outputId": "c0d48623-ff33-4b15-9d5b-d4c7d5fee2ef"
      },
      "source": [
        "X = x['reviews.text']\n",
        "print(X)"
      ],
      "execution_count": null,
      "outputs": [
        {
          "output_type": "stream",
          "name": "stdout",
          "text": [
            "0        This product so far has not disappointed. My c...\n",
            "1        great for beginner or experienced person. Boug...\n",
            "2        Inexpensive tablet for him to use and learn on...\n",
            "3        I bought this for my grand daughter when she c...\n",
            "4        This amazon fire 8 inch tablet is the perfect ...\n",
            "                               ...                        \n",
            "24173    This is exactly like any other usb power charg...\n",
            "24174    Amazon should include this charger with the Ki...\n",
            "24175    Love my Kindle Fire but I am really disappoint...\n",
            "24176    I was surprised to find it did not come with a...\n",
            "24177    to spite the fact that i have nothing but good...\n",
            "Name: reviews.text, Length: 24178, dtype: object\n"
          ]
        }
      ]
    },
    {
      "cell_type": "code",
      "metadata": {
        "colab": {
          "base_uri": "https://localhost:8080/"
        },
        "id": "Q6M7mqb5uYTU",
        "outputId": "8f267d7a-0d75-4996-9f6e-32ed8ed3a6bf"
      },
      "source": [
        "print(len(X))"
      ],
      "execution_count": null,
      "outputs": [
        {
          "output_type": "stream",
          "name": "stdout",
          "text": [
            "24178\n"
          ]
        }
      ]
    },
    {
      "cell_type": "code",
      "metadata": {
        "id": "-Xzt5wZjucIa"
      },
      "source": [
        "import string\n",
        "from nltk.corpus import stopwords\n",
        "# stop=set(stopwords.words('english'))\n",
        "def text_process(text):\n",
        "    '''\n",
        "    Takes in a string of text, then performs the following:\n",
        "    1. Remove all punctuation\n",
        "    2. Remove all stopwords\n",
        "    3. Return the cleaned text as a list of words\n",
        "    '''\n",
        "    nopunc = [char for char in text if char not in string.punctuation]\n",
        "    nopunc = ''.join(nopunc)\n",
        "    \n",
        "    return [word for word in nopunc.split() if word.lower() not in stopwords.words('english')]"
      ],
      "execution_count": null,
      "outputs": []
    },
    {
      "cell_type": "code",
      "metadata": {
        "colab": {
          "base_uri": "https://localhost:8080/"
        },
        "id": "75eBk1cOugPx",
        "outputId": "a40117c1-41e8-4367-d980-cdd4fbb1a302"
      },
      "source": [
        "tokens = X[0].split()\n",
        "print(tokens)"
      ],
      "execution_count": null,
      "outputs": [
        {
          "output_type": "stream",
          "name": "stdout",
          "text": [
            "['This', 'product', 'so', 'far', 'has', 'not', 'disappointed.', 'My', 'children', 'love', 'to', 'use', 'it', 'and', 'I', 'like', 'the', 'ability', 'to', 'monitor', 'control', 'what', 'content', 'they', 'see', 'with', 'ease.']\n"
          ]
        }
      ]
    },
    {
      "cell_type": "code",
      "metadata": {
        "id": "5YcrvjvKujUS"
      },
      "source": [
        "sample_text = \"Hey there! This is a sample review, which happens to contain punctuations.\"\n"
      ],
      "execution_count": null,
      "outputs": []
    },
    {
      "cell_type": "code",
      "metadata": {
        "colab": {
          "base_uri": "https://localhost:8080/"
        },
        "id": "RFDmndzfunt5",
        "outputId": "5962789e-f2db-4669-be7e-537b557d55c0"
      },
      "source": [
        "print(text_process(sample_text))"
      ],
      "execution_count": null,
      "outputs": [
        {
          "output_type": "stream",
          "name": "stdout",
          "text": [
            "['Hey', 'sample', 'review', 'happens', 'contain', 'punctuations']\n"
          ]
        }
      ]
    },
    {
      "cell_type": "code",
      "metadata": {
        "colab": {
          "base_uri": "https://localhost:8080/"
        },
        "id": "pUUCAu1CvPLj",
        "outputId": "570dc014-83bb-4346-8224-3f383b30295e"
      },
      "source": [
        "import nltk\n",
        "nltk.download('stopwords')"
      ],
      "execution_count": null,
      "outputs": [
        {
          "output_type": "stream",
          "name": "stdout",
          "text": [
            "[nltk_data] Downloading package stopwords to /root/nltk_data...\n",
            "[nltk_data]   Unzipping corpora/stopwords.zip.\n"
          ]
        },
        {
          "output_type": "execute_result",
          "data": {
            "text/plain": [
              "True"
            ]
          },
          "metadata": {},
          "execution_count": 23
        }
      ]
    },
    {
      "cell_type": "code",
      "metadata": {
        "id": "WVj52YQuvUn3"
      },
      "source": [
        "from sklearn.feature_extraction.text import CountVectorizer\n",
        "# next we need to vectorize our input variable (X)\n",
        "#we use the count vectoriser function and the analyser we use is the above lines of code\n",
        "# this should return a vector array\n",
        "bow_transformer = CountVectorizer(analyzer=text_process).fit(X)"
      ],
      "execution_count": null,
      "outputs": []
    },
    {
      "cell_type": "code",
      "metadata": {
        "colab": {
          "base_uri": "https://localhost:8080/"
        },
        "id": "tXXdeW91veBX",
        "outputId": "1e54b43c-d5f9-4cb1-f2d1-bb7f8c1601d9"
      },
      "source": [
        "len(bow_transformer.vocabulary_)"
      ],
      "execution_count": null,
      "outputs": [
        {
          "output_type": "execute_result",
          "data": {
            "text/plain": [
              "16954"
            ]
          },
          "metadata": {},
          "execution_count": 26
        }
      ]
    },
    {
      "cell_type": "code",
      "metadata": {
        "id": "zD4uO_6Av8gN"
      },
      "source": [
        "review_24 = X[24]"
      ],
      "execution_count": null,
      "outputs": []
    },
    {
      "cell_type": "code",
      "metadata": {
        "colab": {
          "base_uri": "https://localhost:8080/"
        },
        "id": "IYGyG7WSv_tN",
        "outputId": "265004b8-b346-48cb-c6ee-e2941cd84088"
      },
      "source": [
        "bow_25 = bow_transformer.transform([review_24])\n",
        "bow_25"
      ],
      "execution_count": null,
      "outputs": [
        {
          "output_type": "execute_result",
          "data": {
            "text/plain": [
              "<1x16954 sparse matrix of type '<class 'numpy.int64'>'\n",
              "\twith 14 stored elements in Compressed Sparse Row format>"
            ]
          },
          "metadata": {},
          "execution_count": 28
        }
      ]
    },
    {
      "cell_type": "code",
      "metadata": {
        "colab": {
          "base_uri": "https://localhost:8080/"
        },
        "id": "7JheknzGwCQE",
        "outputId": "976af7d6-25aa-4f28-cf65-1ff9e576c913"
      },
      "source": [
        "print(bow_25)"
      ],
      "execution_count": null,
      "outputs": [
        {
          "output_type": "stream",
          "name": "stdout",
          "text": [
            "  (0, 1816)\t1\n",
            "  (0, 2476)\t1\n",
            "  (0, 5664)\t1\n",
            "  (0, 7835)\t1\n",
            "  (0, 10671)\t1\n",
            "  (0, 10778)\t1\n",
            "  (0, 11499)\t1\n",
            "  (0, 11691)\t1\n",
            "  (0, 11940)\t1\n",
            "  (0, 14868)\t1\n",
            "  (0, 15195)\t1\n",
            "  (0, 15507)\t1\n",
            "  (0, 16158)\t1\n",
            "  (0, 16540)\t1\n"
          ]
        }
      ]
    },
    {
      "cell_type": "code",
      "metadata": {
        "id": "5aMQY7AFwE9U"
      },
      "source": [
        "X = bow_transformer.transform(X)"
      ],
      "execution_count": null,
      "outputs": []
    },
    {
      "cell_type": "code",
      "metadata": {
        "id": "tLPyrdkMwHeF"
      },
      "source": [
        "#Lets start training the model\n",
        "from sklearn.model_selection import train_test_split\n",
        "#using 30% of the data for testing, this will be revised once we do not get the desired accuracy\n",
        "X_train, X_test, y_train, y_test = train_test_split(X, y, test_size=0.3, random_state=101)"
      ],
      "execution_count": null,
      "outputs": []
    },
    {
      "cell_type": "markdown",
      "metadata": {
        "id": "6Vn1n48bwzVM"
      },
      "source": [
        "# New Section"
      ]
    },
    {
      "cell_type": "markdown",
      "metadata": {
        "id": "ZyG7tmNqxCU5"
      },
      "source": [
        "Naive Bayes Classifier"
      ]
    },
    {
      "cell_type": "code",
      "metadata": {
        "colab": {
          "base_uri": "https://localhost:8080/"
        },
        "id": "dA2lzsKFxEBA",
        "outputId": "b57198fb-d64c-4e24-d4c1-5d4f81c091c7"
      },
      "source": [
        "from sklearn.naive_bayes import MultinomialNB\n",
        "nb = MultinomialNB()\n",
        "nb.fit(X_train, y_train)"
      ],
      "execution_count": null,
      "outputs": [
        {
          "output_type": "execute_result",
          "data": {
            "text/plain": [
              "MultinomialNB(alpha=1.0, class_prior=None, fit_prior=True)"
            ]
          },
          "metadata": {},
          "execution_count": 33
        }
      ]
    },
    {
      "cell_type": "code",
      "metadata": {
        "id": "lP5_fTIFxIrh"
      },
      "source": [
        "preds = nb.predict(X_test)"
      ],
      "execution_count": null,
      "outputs": []
    },
    {
      "cell_type": "code",
      "metadata": {
        "colab": {
          "base_uri": "https://localhost:8080/"
        },
        "id": "AsFtSosBxQoB",
        "outputId": "fae82a09-2d61-4bb4-a672-c07430b28d55"
      },
      "source": [
        "from sklearn.metrics import confusion_matrix, classification_report\n",
        "print(confusion_matrix(y_test, preds))\n",
        "print('\\n')\n",
        "print(classification_report(y_test, preds))\n",
        "nb.score(X_train, y_train)"
      ],
      "execution_count": null,
      "outputs": [
        {
          "output_type": "stream",
          "name": "stdout",
          "text": [
            "[[  13  104]\n",
            " [  52 7085]]\n",
            "\n",
            "\n",
            "              precision    recall  f1-score   support\n",
            "\n",
            "         1.0       0.20      0.11      0.14       117\n",
            "         5.0       0.99      0.99      0.99      7137\n",
            "\n",
            "    accuracy                           0.98      7254\n",
            "   macro avg       0.59      0.55      0.57      7254\n",
            "weighted avg       0.97      0.98      0.98      7254\n",
            "\n"
          ]
        },
        {
          "output_type": "execute_result",
          "data": {
            "text/plain": [
              "0.9839872370597967"
            ]
          },
          "metadata": {},
          "execution_count": 35
        }
      ]
    },
    {
      "cell_type": "code",
      "metadata": {
        "id": "vMvMb8NCxTMQ"
      },
      "source": [
        ""
      ],
      "execution_count": null,
      "outputs": []
    },
    {
      "cell_type": "markdown",
      "metadata": {
        "id": "GP1DWAB8xVuz"
      },
      "source": [
        "support vector machine"
      ]
    },
    {
      "cell_type": "code",
      "metadata": {
        "colab": {
          "base_uri": "https://localhost:8080/"
        },
        "id": "zUTZlwdOxYEQ",
        "outputId": "da31bd94-0d52-40a5-985f-065dbc52467d"
      },
      "source": [
        "from sklearn.svm import SVC\n",
        "clf = SVC()\n",
        "clf.fit(X_train, y_train) \n",
        "predsvm=clf.predict(X_test)\n",
        "from sklearn.metrics import confusion_matrix, classification_report\n",
        "print(confusion_matrix(y_test, preds))\n",
        "print('\\n')\n",
        "print(classification_report(y_test, predsvm))\n",
        "predsvm=clf.predict(X_test)\n",
        "clf.score(X_train,y_train)"
      ],
      "execution_count": null,
      "outputs": [
        {
          "output_type": "stream",
          "name": "stdout",
          "text": [
            "[[  13  104]\n",
            " [  52 7085]]\n",
            "\n",
            "\n",
            "              precision    recall  f1-score   support\n",
            "\n",
            "         1.0       0.00      0.00      0.00       117\n",
            "         5.0       0.98      1.00      0.99      7137\n",
            "\n",
            "    accuracy                           0.98      7254\n",
            "   macro avg       0.49      0.50      0.50      7254\n",
            "weighted avg       0.97      0.98      0.98      7254\n",
            "\n"
          ]
        },
        {
          "output_type": "stream",
          "name": "stderr",
          "text": [
            "/usr/local/lib/python3.7/dist-packages/sklearn/metrics/_classification.py:1272: UndefinedMetricWarning: Precision and F-score are ill-defined and being set to 0.0 in labels with no predicted samples. Use `zero_division` parameter to control this behavior.\n",
            "  _warn_prf(average, modifier, msg_start, len(result))\n"
          ]
        },
        {
          "output_type": "execute_result",
          "data": {
            "text/plain": [
              "0.9908414086504372"
            ]
          },
          "metadata": {},
          "execution_count": 36
        }
      ]
    },
    {
      "cell_type": "code",
      "metadata": {
        "id": "578NjISnxai4"
      },
      "source": [
        ""
      ],
      "execution_count": null,
      "outputs": []
    },
    {
      "cell_type": "markdown",
      "metadata": {
        "id": "_xFaHEUgxnwx"
      },
      "source": [
        "KNeighborsClassifier"
      ]
    },
    {
      "cell_type": "code",
      "metadata": {
        "colab": {
          "base_uri": "https://localhost:8080/"
        },
        "id": "PPVPeZtKxrMW",
        "outputId": "d644f2ee-ca88-4152-fcd0-c37f1c2aac0f"
      },
      "source": [
        "from sklearn.neighbors import KNeighborsClassifier\n",
        "neigh = KNeighborsClassifier(n_neighbors=3)\n",
        "neigh.fit(X, y)"
      ],
      "execution_count": null,
      "outputs": [
        {
          "output_type": "execute_result",
          "data": {
            "text/plain": [
              "KNeighborsClassifier(algorithm='auto', leaf_size=30, metric='minkowski',\n",
              "                     metric_params=None, n_jobs=None, n_neighbors=3, p=2,\n",
              "                     weights='uniform')"
            ]
          },
          "metadata": {},
          "execution_count": 37
        }
      ]
    },
    {
      "cell_type": "code",
      "metadata": {
        "id": "hNRA6_MMxt6n"
      },
      "source": [
        "predsknn=neigh.predict(X_test)"
      ],
      "execution_count": null,
      "outputs": []
    },
    {
      "cell_type": "code",
      "metadata": {
        "colab": {
          "base_uri": "https://localhost:8080/"
        },
        "id": "V5WwV2RExy2_",
        "outputId": "de61780a-bf63-4a02-a759-385b9cc6d26f"
      },
      "source": [
        "from sklearn.metrics import confusion_matrix, classification_report\n",
        "print(confusion_matrix(y_test, predsknn))\n",
        "print('\\n')\n",
        "print(classification_report(y_test, predsknn))\n",
        "neigh.score(X_train,y_train)"
      ],
      "execution_count": null,
      "outputs": [
        {
          "output_type": "stream",
          "name": "stdout",
          "text": [
            "[[  12  105]\n",
            " [   0 7137]]\n",
            "\n",
            "\n",
            "              precision    recall  f1-score   support\n",
            "\n",
            "         1.0       1.00      0.10      0.19       117\n",
            "         5.0       0.99      1.00      0.99      7137\n",
            "\n",
            "    accuracy                           0.99      7254\n",
            "   macro avg       0.99      0.55      0.59      7254\n",
            "weighted avg       0.99      0.99      0.98      7254\n",
            "\n"
          ]
        },
        {
          "output_type": "execute_result",
          "data": {
            "text/plain": [
              "0.9835736232569132"
            ]
          },
          "metadata": {},
          "execution_count": 39
        }
      ]
    },
    {
      "cell_type": "code",
      "metadata": {
        "id": "Mef1iS6ax37v"
      },
      "source": [
        "#GradientBoostingClassifier\n",
        "\n",
        "from sklearn.ensemble import GradientBoostingClassifier\n",
        "model= GradientBoostingClassifier(n_estimators=100, learning_rate=1.0, max_depth=1, random_state=0)\n",
        "model.fit(X_train, y_train)\n",
        "predicted= model.predict(X_test)"
      ],
      "execution_count": null,
      "outputs": []
    },
    {
      "cell_type": "code",
      "metadata": {
        "colab": {
          "base_uri": "https://localhost:8080/"
        },
        "id": "OMLUZ7Yux9qf",
        "outputId": "06d83542-a8a3-4a75-eeab-bc64d6e78252"
      },
      "source": [
        "from sklearn.metrics import confusion_matrix, classification_report\n",
        "print(confusion_matrix(y_test, predicted))\n",
        "print('\\n')\n",
        "print(classification_report(y_test, predicted))\n",
        "model.score(X_train,y_train)"
      ],
      "execution_count": null,
      "outputs": [
        {
          "output_type": "stream",
          "name": "stdout",
          "text": [
            "[[   0  117]\n",
            " [   0 7137]]\n",
            "\n",
            "\n",
            "              precision    recall  f1-score   support\n",
            "\n",
            "         1.0       0.00      0.00      0.00       117\n",
            "         5.0       0.98      1.00      0.99      7137\n",
            "\n",
            "    accuracy                           0.98      7254\n",
            "   macro avg       0.49      0.50      0.50      7254\n",
            "weighted avg       0.97      0.98      0.98      7254\n",
            "\n"
          ]
        },
        {
          "output_type": "stream",
          "name": "stderr",
          "text": [
            "/usr/local/lib/python3.7/dist-packages/sklearn/metrics/_classification.py:1272: UndefinedMetricWarning: Precision and F-score are ill-defined and being set to 0.0 in labels with no predicted samples. Use `zero_division` parameter to control this behavior.\n",
            "  _warn_prf(average, modifier, msg_start, len(result))\n"
          ]
        },
        {
          "output_type": "execute_result",
          "data": {
            "text/plain": [
              "0.9826873079650201"
            ]
          },
          "metadata": {},
          "execution_count": 41
        }
      ]
    },
    {
      "cell_type": "code",
      "metadata": {
        "colab": {
          "base_uri": "https://localhost:8080/",
          "height": 35
        },
        "id": "eATq4eYdyCw2",
        "outputId": "86818523-8fb8-44a6-86f8-66cf572794f6"
      },
      "source": [
        "positive_review = actualrating['reviews.text'][2]\n",
        "positive_review"
      ],
      "execution_count": null,
      "outputs": [
        {
          "output_type": "execute_result",
          "data": {
            "application/vnd.google.colaboratory.intrinsic+json": {
              "type": "string"
            },
            "text/plain": [
              "'Inexpensive tablet for him to use and learn on, step up from the NABI. He was thrilled with it, learn how to Skype on it already...'"
            ]
          },
          "metadata": {},
          "execution_count": 42
        }
      ]
    },
    {
      "cell_type": "code",
      "metadata": {
        "colab": {
          "base_uri": "https://localhost:8080/"
        },
        "id": "SGdnmzk3yIVn",
        "outputId": "70a8143c-c6c6-4d79-b0c1-d7d4d28b54c1"
      },
      "source": [
        "positive_review_transformed = bow_transformer.transform([positive_review])\n",
        "model.predict(positive_review_transformed)[0]"
      ],
      "execution_count": null,
      "outputs": [
        {
          "output_type": "execute_result",
          "data": {
            "text/plain": [
              "5.0"
            ]
          },
          "metadata": {},
          "execution_count": 43
        }
      ]
    },
    {
      "cell_type": "code",
      "metadata": {
        "colab": {
          "base_uri": "https://localhost:8080/"
        },
        "id": "bzrYAqEeyM2_",
        "outputId": "fa0d6cda-f77b-4fba-a946-0075bc173c3f"
      },
      "source": [
        "negative_review = mpermanent['reviews.text'][34650]\n",
        "print(negative_review)"
      ],
      "execution_count": null,
      "outputs": [
        {
          "output_type": "stream",
          "name": "stdout",
          "text": [
            "Although the description states that this will work on my Kindle Fire HDX 8.9, when I plug the charger to the Kindle, I receive a message that the charger is not of sufficient wattage to properly charge the Kindle. I bought this charger as a back up for when I travel. The original charger which came with the Kindle does not show this warning when I plug it in.\n"
          ]
        }
      ]
    },
    {
      "cell_type": "code",
      "metadata": {
        "colab": {
          "base_uri": "https://localhost:8080/"
        },
        "id": "ILv5UgUsyQIW",
        "outputId": "c838e279-f1d6-49ce-d38f-ac39f32f5a95"
      },
      "source": [
        "negative_review_transformed = bow_transformer.transform([negative_review])\n",
        "nb.predict(negative_review_transformed)[0]"
      ],
      "execution_count": null,
      "outputs": [
        {
          "output_type": "execute_result",
          "data": {
            "text/plain": [
              "1.0"
            ]
          },
          "metadata": {},
          "execution_count": 45
        }
      ]
    },
    {
      "cell_type": "code",
      "metadata": {
        "colab": {
          "base_uri": "https://localhost:8080/"
        },
        "id": "TPsCjdM5ySpG",
        "outputId": "8e60001f-9241-4bf1-bdb6-250b20173252"
      },
      "source": [
        "negative_review_transformed = bow_transformer.transform([negative_review])\n",
        "neigh.predict(negative_review_transformed)[0]"
      ],
      "execution_count": null,
      "outputs": [
        {
          "output_type": "execute_result",
          "data": {
            "text/plain": [
              "5.0"
            ]
          },
          "metadata": {},
          "execution_count": 46
        }
      ]
    },
    {
      "cell_type": "code",
      "metadata": {
        "colab": {
          "base_uri": "https://localhost:8080/"
        },
        "id": "1o_xT1AxyVJu",
        "outputId": "febf2e5b-fb7e-4b0c-9e9f-395ca8ffa1c4"
      },
      "source": [
        "negative_review = mpermanent['reviews.text'][34656]\n",
        "print(negative_review)"
      ],
      "execution_count": null,
      "outputs": [
        {
          "output_type": "stream",
          "name": "stdout",
          "text": [
            "Amazon should include this charger with the Kindle. The fact that they're charging us extra for something that should be included is a sign of cheapness. Plus, you can use any micro-USB phone charger instead of this to charge your Kindle. Save your money.\n"
          ]
        }
      ]
    },
    {
      "cell_type": "code",
      "metadata": {
        "colab": {
          "base_uri": "https://localhost:8080/"
        },
        "id": "eN0r4esbyXzd",
        "outputId": "01e968ca-dea8-4d1f-f2a6-f746a15663c1"
      },
      "source": [
        "negative_review_transformed = bow_transformer.transform([negative_review])\n",
        "nb.predict(negative_review_transformed)[0]"
      ],
      "execution_count": null,
      "outputs": [
        {
          "output_type": "execute_result",
          "data": {
            "text/plain": [
              "1.0"
            ]
          },
          "metadata": {},
          "execution_count": 48
        }
      ]
    },
    {
      "cell_type": "code",
      "metadata": {
        "colab": {
          "base_uri": "https://localhost:8080/"
        },
        "id": "KcKs8lLAybBt",
        "outputId": "67cce7d5-d228-4788-8a3d-a9ba998b091d"
      },
      "source": [
        "negative_review_transformed = bow_transformer.transform([negative_review])\n",
        "neigh.predict(negative_review_transformed)[0]"
      ],
      "execution_count": null,
      "outputs": [
        {
          "output_type": "execute_result",
          "data": {
            "text/plain": [
              "1.0"
            ]
          },
          "metadata": {},
          "execution_count": 49
        }
      ]
    },
    {
      "cell_type": "code",
      "metadata": {
        "colab": {
          "base_uri": "https://localhost:8080/"
        },
        "id": "FPQERhg9yect",
        "outputId": "a958bc0e-7b32-409c-eaef-098192ef2dde"
      },
      "source": [
        "#we need to have a label for \n",
        "# lets have a label which group the stars into two groups, 1 for good, 0 for bad \n",
        "# so anything more than 3 , 3 being neutral is good, rest bad\n",
        "# data['label'] = ['1' if reviews.rating > 3 else '0' for reviews.rating in data['reviews.rating']];\n",
        "mpermanent['label'] = ['1' if star >= 3 else '0' for star in mpermanent['reviews.rating']];"
      ],
      "execution_count": null,
      "outputs": [
        {
          "output_type": "stream",
          "name": "stderr",
          "text": [
            "/usr/local/lib/python3.7/dist-packages/ipykernel_launcher.py:5: SettingWithCopyWarning: \n",
            "A value is trying to be set on a copy of a slice from a DataFrame.\n",
            "Try using .loc[row_indexer,col_indexer] = value instead\n",
            "\n",
            "See the caveats in the documentation: https://pandas.pydata.org/pandas-docs/stable/user_guide/indexing.html#returning-a-view-versus-a-copy\n",
            "  \"\"\"\n"
          ]
        }
      ]
    },
    {
      "cell_type": "code",
      "metadata": {
        "colab": {
          "base_uri": "https://localhost:8080/",
          "height": 419
        },
        "id": "qu3US2DGyhlZ",
        "outputId": "bf0c54d0-9862-4516-e7ef-e0edefe6b23e"
      },
      "source": [
        "mpermanent"
      ],
      "execution_count": null,
      "outputs": [
        {
          "output_type": "execute_result",
          "data": {
            "text/html": [
              "<div>\n",
              "<style scoped>\n",
              "    .dataframe tbody tr th:only-of-type {\n",
              "        vertical-align: middle;\n",
              "    }\n",
              "\n",
              "    .dataframe tbody tr th {\n",
              "        vertical-align: top;\n",
              "    }\n",
              "\n",
              "    .dataframe thead th {\n",
              "        text-align: right;\n",
              "    }\n",
              "</style>\n",
              "<table border=\"1\" class=\"dataframe\">\n",
              "  <thead>\n",
              "    <tr style=\"text-align: right;\">\n",
              "      <th></th>\n",
              "      <th>reviews.rating</th>\n",
              "      <th>reviews.text</th>\n",
              "      <th>reviews.title</th>\n",
              "      <th>reviews.username</th>\n",
              "      <th>label</th>\n",
              "    </tr>\n",
              "  </thead>\n",
              "  <tbody>\n",
              "    <tr>\n",
              "      <th>0</th>\n",
              "      <td>5.0</td>\n",
              "      <td>This product so far has not disappointed. My c...</td>\n",
              "      <td>Kindle</td>\n",
              "      <td>Adapter</td>\n",
              "      <td>1</td>\n",
              "    </tr>\n",
              "    <tr>\n",
              "      <th>1</th>\n",
              "      <td>5.0</td>\n",
              "      <td>great for beginner or experienced person. Boug...</td>\n",
              "      <td>very fast</td>\n",
              "      <td>truman</td>\n",
              "      <td>1</td>\n",
              "    </tr>\n",
              "    <tr>\n",
              "      <th>2</th>\n",
              "      <td>5.0</td>\n",
              "      <td>Inexpensive tablet for him to use and learn on...</td>\n",
              "      <td>Beginner tablet for our 9 year old son.</td>\n",
              "      <td>DaveZ</td>\n",
              "      <td>1</td>\n",
              "    </tr>\n",
              "    <tr>\n",
              "      <th>3</th>\n",
              "      <td>4.0</td>\n",
              "      <td>I've had my Fire HD 8 two weeks now and I love...</td>\n",
              "      <td>Good!!!</td>\n",
              "      <td>Shacks</td>\n",
              "      <td>1</td>\n",
              "    </tr>\n",
              "    <tr>\n",
              "      <th>4</th>\n",
              "      <td>5.0</td>\n",
              "      <td>I bought this for my grand daughter when she c...</td>\n",
              "      <td>Fantastic Tablet for kids</td>\n",
              "      <td>explore42</td>\n",
              "      <td>1</td>\n",
              "    </tr>\n",
              "    <tr>\n",
              "      <th>...</th>\n",
              "      <td>...</td>\n",
              "      <td>...</td>\n",
              "      <td>...</td>\n",
              "      <td>...</td>\n",
              "      <td>...</td>\n",
              "    </tr>\n",
              "    <tr>\n",
              "      <th>34655</th>\n",
              "      <td>3.0</td>\n",
              "      <td>This is not appreciably faster than any other ...</td>\n",
              "      <td>Not appreciably faster than any other 1.8A cha...</td>\n",
              "      <td>Kris</td>\n",
              "      <td>1</td>\n",
              "    </tr>\n",
              "    <tr>\n",
              "      <th>34656</th>\n",
              "      <td>1.0</td>\n",
              "      <td>Amazon should include this charger with the Ki...</td>\n",
              "      <td>Should be included</td>\n",
              "      <td>Jonathan Stewart</td>\n",
              "      <td>0</td>\n",
              "    </tr>\n",
              "    <tr>\n",
              "      <th>34657</th>\n",
              "      <td>1.0</td>\n",
              "      <td>Love my Kindle Fire but I am really disappoint...</td>\n",
              "      <td>Disappointing Charger</td>\n",
              "      <td>J Lawson</td>\n",
              "      <td>0</td>\n",
              "    </tr>\n",
              "    <tr>\n",
              "      <th>34658</th>\n",
              "      <td>1.0</td>\n",
              "      <td>I was surprised to find it did not come with a...</td>\n",
              "      <td>Not worth the money</td>\n",
              "      <td>Just the Buyer</td>\n",
              "      <td>0</td>\n",
              "    </tr>\n",
              "    <tr>\n",
              "      <th>34659</th>\n",
              "      <td>1.0</td>\n",
              "      <td>to spite the fact that i have nothing but good...</td>\n",
              "      <td>as with everyone else</td>\n",
              "      <td>sandi</td>\n",
              "      <td>0</td>\n",
              "    </tr>\n",
              "  </tbody>\n",
              "</table>\n",
              "<p>34620 rows × 5 columns</p>\n",
              "</div>"
            ],
            "text/plain": [
              "       reviews.rating  ... label\n",
              "0                 5.0  ...     1\n",
              "1                 5.0  ...     1\n",
              "2                 5.0  ...     1\n",
              "3                 4.0  ...     1\n",
              "4                 5.0  ...     1\n",
              "...               ...  ...   ...\n",
              "34655             3.0  ...     1\n",
              "34656             1.0  ...     0\n",
              "34657             1.0  ...     0\n",
              "34658             1.0  ...     0\n",
              "34659             1.0  ...     0\n",
              "\n",
              "[34620 rows x 5 columns]"
            ]
          },
          "metadata": {},
          "execution_count": 51
        }
      ]
    },
    {
      "cell_type": "code",
      "metadata": {
        "id": "O1LGCh2kylil"
      },
      "source": [
        "reviews = mpermanent['reviews.text']\n",
        "labels = mpermanent['label']"
      ],
      "execution_count": null,
      "outputs": []
    },
    {
      "cell_type": "code",
      "metadata": {
        "colab": {
          "base_uri": "https://localhost:8080/",
          "height": 120
        },
        "id": "myfc7403ypQt",
        "outputId": "e0b9352e-96f3-4241-bbaf-283eeb9ecb5b"
      },
      "source": [
        "print(len(reviews))\n",
        "print(len(labels))\n",
        "reviews[3]"
      ],
      "execution_count": null,
      "outputs": [
        {
          "output_type": "stream",
          "name": "stdout",
          "text": [
            "34620\n",
            "34620\n"
          ]
        },
        {
          "output_type": "execute_result",
          "data": {
            "application/vnd.google.colaboratory.intrinsic+json": {
              "type": "string"
            },
            "text/plain": [
              "\"I've had my Fire HD 8 two weeks now and I love it. This tablet is a great value.We are Prime Members and that is where this tablet SHINES. I love being able to easily access all of the Prime content as well as movies you can download and watch laterThis has a 1280/800 screen which has some really nice look to it its nice and crisp and very bright infact it is brighter then the ipad pro costing $900 base model. The build on this fire is INSANELY AWESOME running at only 7.7mm thick and the smooth glossy feel on the back it is really amazing to hold its like the futuristic tab in ur hands.\""
            ]
          },
          "metadata": {},
          "execution_count": 53
        }
      ]
    },
    {
      "cell_type": "code",
      "metadata": {
        "id": "uDxLPf0nyx38"
      },
      "source": [
        "stop = set(stopwords.words('english'))"
      ],
      "execution_count": null,
      "outputs": []
    },
    {
      "cell_type": "code",
      "metadata": {
        "id": "vxDGtYPpy1Uk"
      },
      "source": [
        "def clean_document(doco):\n",
        "    punctuation = string.punctuation\n",
        "    punc_replace = ''.join([' ' for s in punctuation])\n",
        "    doco_link_clean = re.sub(r'http\\S+', '', doco)\n",
        "    doco_clean_and = re.sub(r'&\\S+', '', doco_link_clean)\n",
        "    doco_clean_at = re.sub(r'@\\S+', '', doco_clean_and)\n",
        "    doco_clean = doco_clean_at.replace('-', ' ')\n",
        "    doco_alphas = re.sub(r'\\W +', ' ', doco_clean)\n",
        "    trans_table = str.maketrans(punctuation, punc_replace)\n",
        "    doco_clean = ' '.join([word.translate(trans_table) for word in doco_alphas.split(' ')])\n",
        "    doco_clean = doco_clean.split(' ')\n",
        "    p = re.compile(r'\\s*\\b(?=[a-z\\d]*([a-z\\d])\\1{3}|\\d+\\b)[a-z\\d]+', re.IGNORECASE)\n",
        "    doco_clean = ([p.sub(\"\", x).strip() for x in doco_clean])\n",
        "    doco_clean = [word.lower() for word in doco_clean if len(word) > 2]\n",
        "    doco_clean = ([i for i in doco_clean if i not in stop])\n",
        "#     doco_clean = [spell(word) for word in doco_clean]\n",
        "#     p = re.compile(r'\\s*\\b(?=[a-z\\d]*([a-z\\d])\\1{3}|\\d+\\b)[a-z\\d]+', re.IGNORECASE)\n",
        "    doco_clean = ([p.sub(\"\", x).strip() for x in doco_clean])\n",
        "#     doco_clean = ([spell(k) for k in doco_clean])\n",
        "    return doco_clean"
      ],
      "execution_count": null,
      "outputs": []
    },
    {
      "cell_type": "code",
      "metadata": {
        "id": "W7Evyk3Ay470"
      },
      "source": [
        "# Generate a cleaned reviews array from original review texts\n",
        "review_cleans = [clean_document(doc) for doc in reviews];\n",
        "sentences = [' '.join(r) for r in review_cleans ]"
      ],
      "execution_count": null,
      "outputs": []
    },
    {
      "cell_type": "code",
      "metadata": {
        "colab": {
          "base_uri": "https://localhost:8080/"
        },
        "id": "75Vf15eVy7l7",
        "outputId": "062eaf3b-2e4b-44af-9f71-d8a26fbbc627"
      },
      "source": [
        "print(sentences[7])\n",
        "print(reviews[7])\n",
        "reviews.shape"
      ],
      "execution_count": null,
      "outputs": [
        {
          "output_type": "stream",
          "name": "stdout",
          "text": [
            "gave christmas gift inlaws husband uncle loved easy use fantastic features\n",
            "I gave this as a Christmas gift to my inlaws, husband and uncle. They loved it and how easy they are to use with fantastic features!\n"
          ]
        },
        {
          "output_type": "execute_result",
          "data": {
            "text/plain": [
              "(34620,)"
            ]
          },
          "metadata": {},
          "execution_count": 57
        }
      ]
    },
    {
      "cell_type": "code",
      "metadata": {
        "id": "eCs_iZBYzFhr"
      },
      "source": [
        "#Keras\n",
        "tokenizer = Tokenizer()\n",
        "tokenizer.fit_on_texts(sentences)"
      ],
      "execution_count": null,
      "outputs": []
    },
    {
      "cell_type": "code",
      "metadata": {
        "colab": {
          "base_uri": "https://localhost:8080/"
        },
        "id": "W8z0dyNczJLK",
        "outputId": "51a796e5-3c4d-4432-ea9f-87e0b429790c"
      },
      "source": [
        "text_sequences = np.array(tokenizer.texts_to_sequences(sentences))\n",
        "sequence_dict = tokenizer.word_index\n",
        "word_dict = dict((num, val) for (val, num) in sequence_dict.items())"
      ],
      "execution_count": null,
      "outputs": [
        {
          "output_type": "stream",
          "name": "stderr",
          "text": [
            "/usr/local/lib/python3.7/dist-packages/ipykernel_launcher.py:1: VisibleDeprecationWarning: Creating an ndarray from ragged nested sequences (which is a list-or-tuple of lists-or-tuples-or ndarrays with different lengths or shapes) is deprecated. If you meant to do this, you must specify 'dtype=object' when creating the ndarray\n",
            "  \"\"\"Entry point for launching an IPython kernel.\n"
          ]
        }
      ]
    },
    {
      "cell_type": "code",
      "metadata": {
        "colab": {
          "base_uri": "https://localhost:8080/"
        },
        "id": "pQjmTKv-zNhC",
        "outputId": "3fdf9ba9-a377-4bd5-f8dc-5a40dda482fb"
      },
      "source": [
        "print(text_sequences)"
      ],
      "execution_count": null,
      "outputs": [
        {
          "output_type": "stream",
          "name": "stdout",
          "text": [
            "[list([14, 82, 431, 203, 4, 3, 13, 298, 1357, 129, 212, 166, 308])\n",
            " list([1, 666, 1779, 472, 9, 41, 24])\n",
            " list([361, 2, 3, 321, 848, 1944, 994, 321, 1587, 201]) ...\n",
            " list([4, 7, 11, 31, 431, 7, 436, 80, 399, 244, 125, 446, 75, 68, 239, 65, 125, 239, 360, 787, 13354, 595, 68, 13355, 2321, 13356, 3, 97, 83, 5825, 311, 150, 16, 252])\n",
            " list([585, 140, 342, 789, 399, 2697, 54, 10, 224, 13357, 13358, 311, 167, 15, 54, 901, 114, 185, 350, 37, 6])\n",
            " list([4518, 304, 413, 8, 74, 147, 6, 13359, 185, 803, 4, 11, 140, 13360, 1288, 311, 342, 7, 307, 380, 72, 307, 619, 576, 482, 561, 311, 117, 154, 6, 143, 74, 141, 528, 187, 37, 7, 95, 311, 10, 94, 1294, 32, 10])]\n"
          ]
        }
      ]
    },
    {
      "cell_type": "code",
      "metadata": {
        "colab": {
          "base_uri": "https://localhost:8080/"
        },
        "id": "FhG6C4-_zQ7i",
        "outputId": "83f37e0a-a24c-4ce6-af3c-9d6f70a8716a"
      },
      "source": [
        "print(sequence_dict)"
      ],
      "execution_count": null,
      "outputs": [
        {
          "output_type": "stream",
          "name": "stdout",
          "text": [
            "{'great': 1, 'tablet': 2, 'use': 3, 'love': 4, 'easy': 5, 'amazon': 6, 'kindle': 7, 'good': 8, 'bought': 9, 'one': 10, 'fire': 11, 'price': 12, 'like': 13, 'product': 14, 'would': 15, 'works': 16, 'get': 17, 'echo': 18, 'much': 19, 'music': 20, 'read': 21, 'alexa': 22, 'kids': 23, 'loves': 24, 'apps': 25, 'well': 26, 'books': 27, 'reading': 28, 'device': 29, 'best': 30, 'really': 31, 'buy': 32, 'games': 33, 'time': 34, 'old': 35, 'screen': 36, 'purchased': 37, 'also': 38, 'play': 39, 'got': 40, 'gift': 41, 'better': 42, 'recommend': 43, 'set': 44, 'year': 45, 'perfect': 46, 'nice': 47, 'new': 48, 'home': 49, 'little': 50, 'light': 51, 'even': 52, 'quality': 53, 'purchase': 54, 'using': 55, 'prime': 56, 'need': 57, 'lot': 58, 'christmas': 59, 'battery': 60, 'size': 61, 'able': 62, 'movies': 63, 'want': 64, 'first': 65, 'everything': 66, 'happy': 67, 'many': 68, 'son': 69, 'work': 70, 'sound': 71, 'still': 72, 'daughter': 73, 'things': 74, 'used': 75, 'app': 76, 'fun': 77, 'reader': 78, 'watch': 79, 'fast': 80, 'could': 81, 'far': 82, 'ipad': 83, 'awesome': 84, 'tablets': 85, 'features': 86, 'excellent': 87, 'family': 88, 'speaker': 89, 'money': 90, 'life': 91, 'paperwhite': 92, 'cable': 93, 'free': 94, 'without': 95, 'stick': 96, 'wife': 97, 'voice': 98, 'worth': 99, 'day': 100, 'streaming': 101, 'box': 102, 'store': 103, 'small': 104, 'thing': 105, 'way': 106, 'enjoy': 107, 'amazing': 108, 'wanted': 109, 'internet': 110, 'getting': 111, 'google': 112, 'looking': 113, 'item': 114, 'every': 115, 'smart': 116, 'back': 117, 'weather': 118, 'since': 119, 'long': 120, 'makes': 121, 'book': 122, 'ask': 123, 'download': 124, 'two': 125, 'playing': 126, 'phone': 127, 'take': 128, 'control': 129, 'another': 130, 'highly': 131, 'questions': 132, 'access': 133, 'something': 134, 'house': 135, 'pretty': 136, 'around': 137, 'netflix': 138, 'enough': 139, 'find': 140, 'right': 141, 'simple': 142, 'make': 143, 'definitely': 144, 'user': 145, 'devices': 146, 'say': 147, 'overall': 148, 'etc': 149, 'always': 150, 'lights': 151, 'loved': 152, 'memory': 153, 'think': 154, 'wifi': 155, 'apple': 156, 'years': 157, 'wish': 158, 'available': 159, 'uses': 160, 'needs': 161, 'know': 162, 'learning': 163, 'friendly': 164, 'needed': 165, 'see': 166, 'faster': 167, 'case': 168, 'easier': 169, 'videos': 170, 'turn': 171, 'setup': 172, 'black': 173, 'android': 174, 'anything': 175, 'value': 176, 'especially': 177, 'shows': 178, 'add': 179, 'room': 180, 'sure': 181, 'news': 182, 'keep': 183, 'absolutely': 184, 'ever': 185, 'charge': 186, 'anyone': 187, 'however': 188, 'sale': 189, 'remote': 190, 'web': 191, 'going': 192, 'watching': 193, 'deal': 194, 'never': 195, 'put': 196, 'lots': 197, 'bit': 198, 'made': 199, 'card': 200, 'already': 201, 'problem': 202, 'children': 203, 'second': 204, 'thought': 205, 'issues': 206, 'version': 207, 'picture': 208, 'seems': 209, 'plus': 210, 'child': 211, 'content': 212, 'kid': 213, 'though': 214, 'easily': 215, 'slow': 216, 'different': 217, 'big': 218, 'several': 219, 'yet': 220, 'give': 221, 'listen': 222, 'night': 223, 'found': 224, 'dot': 225, 'video': 226, 'feature': 227, 'favorite': 228, 'camera': 229, 'system': 230, 'last': 231, 'eyes': 232, 'storage': 233, 'list': 234, 'buying': 235, 'cheap': 236, 'mom': 237, 'friday': 238, 'times': 239, 'carry': 240, 'beat': 241, 'basic': 242, 'products': 243, 'unit': 244, 'must': 245, 'controls': 246, 'pleased': 247, 'account': 248, 'shopping': 249, 'grandson': 250, 'gave': 251, 'fine': 252, 'cost': 253, 'low': 254, 'older': 255, 'decided': 256, 'mother': 257, 'super': 258, 'hard': 259, 'parental': 260, 'husband': 261, 'clear': 262, 'white': 263, 'plays': 264, 'replace': 265, 'less': 266, 'library': 267, 'almost': 268, 'tap': 269, 'online': 270, 'pay': 271, 'expensive': 272, 'look': 273, 'navigate': 274, 'useful': 275, 'problems': 276, 'bluetooth': 277, 'tell': 278, 'stream': 279, 'upgrade': 280, 'hold': 281, 'weight': 282, 'expected': 283, 'glad': 284, 'resolution': 285, 'working': 286, 'paper': 287, 'quick': 288, 'friends': 289, 'page': 290, 'member': 291, 'roku': 292, 'extra': 293, 'connect': 294, 'enjoying': 295, 'service': 296, 'options': 297, 'ability': 298, 'speed': 299, 'friend': 300, 'email': 301, 'cool': 302, 'convenient': 303, 'fact': 304, 'daily': 305, 'model': 306, 'everyone': 307, 'ease': 308, 'touch': 309, 'help': 310, 'charger': 311, 'cover': 312, 'display': 313, 'decent': 314, 'birthday': 315, 'sometimes': 316, 'likes': 317, 'answer': 318, 'everyday': 319, 'experience': 320, 'learn': 321, 'hands': 322, 'granddaughter': 323, 'travel': 324, 'portable': 325, 'went': 326, 'issue': 327, 'original': 328, 'comes': 329, 'allows': 330, 'feel': 331, 'wonderful': 332, 'ads': 333, 'option': 334, 'job': 335, 'may': 336, 'hours': 337, 'instead': 338, 'quite': 339, 'asking': 340, 'lighting': 341, 'come': 342, 'voyage': 343, 'youtube': 344, 'computer': 345, 'keeps': 346, 'recommended': 347, 'addition': 348, 'gets': 349, 'liked': 350, 'lightweight': 351, 'quickly': 352, 'install': 353, 'full': 354, 'high': 355, 'present': 356, 'actually': 357, 'information': 358, 'check': 359, 'worked': 360, 'inexpensive': 361, 'commands': 362, 'gifts': 363, 'listening': 364, 'month': 365, 'technology': 366, 'someone': 367, 'stuff': 368, 'takes': 369, 'helpful': 370, 'search': 371, 'came': 372, 'enjoyed': 373, 'took': 374, 'entertainment': 375, 'interface': 376, 'outside': 377, 'said': 378, 'anywhere': 379, 'people': 380, 'start': 381, 'durable': 382, 'order': 383, 'cannot': 384, 'media': 385, 'bad': 386, 'tech': 387, 'color': 388, 'skills': 389, 'connected': 390, 'added': 391, 'mostly': 392, 'reviews': 393, 'cord': 394, 'performance': 395, 'longer': 396, 'satisfied': 397, 'compared': 398, 'charging': 399, 'connection': 400, 'days': 401, 'exactly': 402, 'load': 403, 'away': 404, 'try': 405, 'bright': 406, 'affordable': 407, 'done': 408, 'understand': 409, 'kindles': 410, 'fantastic': 411, 'next': 412, 'nothing': 413, 'limited': 414, 'built': 415, 'replacement': 416, 'tried': 417, 'speakers': 418, 'wrong': 419, 'kodi': 420, 'cheaper': 421, 'point': 422, 'fits': 423, 'space': 424, 'previous': 425, 'others': 426, 'couple': 427, 'purchasing': 428, 'stars': 429, 'whole': 430, 'disappointed': 431, 'samsung': 432, 'browsing': 433, 'nephew': 434, 'bed': 435, 'power': 436, 'backlight': 437, 'enjoys': 438, 'items': 439, 'else': 440, 'extremely': 441, 'purse': 442, 'real': 443, 'game': 444, 'side': 445, 'months': 446, 'gives': 447, 'choice': 448, 'smaller': 449, 'setting': 450, 'market': 451, 'weeks': 452, 'bigger': 453, 'handy': 454, 'run': 455, 'started': 456, 'paid': 457, 'looks': 458, 'mine': 459, 'dark': 460, 'ago': 461, 'compact': 462, 'three': 463, 'trying': 464, 'firestick': 465, 'due': 466, 'automation': 467, 'functions': 468, 'niece': 469, 'spend': 470, 'services': 471, 'person': 472, 'reason': 473, 'hand': 474, 'school': 475, 'answers': 476, 'vue': 477, 'downloaded': 478, 'grandkids': 479, 'responsive': 480, 'perfectly': 481, 'plug': 482, 'glare': 483, 'change': 484, 'part': 485, 'wait': 486, 'expect': 487, 'surfing': 488, 'young': 489, 'returned': 490, 'although': 491, 'operate': 492, 'kitchen': 493, 'runs': 494, 'generation': 495, 'lasts': 496, 'firetv': 497, 'helps': 498, 'regular': 499, 'law': 500, 'capabilities': 501, 'top': 502, 'offers': 503, 'probably': 504, 'finally': 505, 'owned': 506, 'facebook': 507, 'radio': 508, 'wants': 509, 'larger': 510, 'making': 511, 'impressed': 512, 'week': 513, 'received': 514, 'cut': 515, 'often': 516, 'button': 517, 'command': 518, 'traveling': 519, 'along': 520, 'processor': 521, 'laptop': 522, 'pandora': 523, 'buffering': 524, 'hue': 525, 'plenty': 526, 'place': 527, 'let': 528, 'question': 529, 'updates': 530, 'end': 531, 'movie': 532, 'via': 533, 'table': 534, 'nook': 535, 'seem': 536, 'brought': 537, 'age': 538, 'tab': 539, 'ones': 540, 'ereader': 541, 'everywhere': 542, 'replaced': 543, 'fit': 544, 'complaints': 545, 'might': 546, 'hulu': 547, 'volume': 548, 'live': 549, 'jokes': 550, 'pictures': 551, 'expectations': 552, 'hear': 553, 'functionality': 554, 'educational': 555, 'morning': 556, 'text': 557, 'difference': 558, 'choose': 559, 'mini': 560, 'taking': 561, 'mainly': 562, 'either': 563, 'upgraded': 564, 'wireless': 565, 'sounds': 566, 'figure': 567, 'purchases': 568, 'parents': 569, 'lists': 570, 'warranty': 571, 'goes': 572, 'customer': 573, 'maybe': 574, 'playstation': 575, 'port': 576, 'downloading': 577, 'huge': 578, 'sister': 579, 'plan': 580, 'purpose': 581, 'response': 582, 'grand': 583, 'tool': 584, 'surprised': 585, 'future': 586, 'name': 587, 'otherwise': 588, 'simply': 589, 'advertised': 590, 'pages': 591, 'channels': 592, 'additional': 593, 'large': 594, 'third': 595, 'pick': 596, 'sunlight': 597, 'complaint': 598, 'siri': 599, 'forward': 600, 'thinking': 601, 'provides': 602, 'adding': 603, 'thermostat': 604, 'multiple': 605, 'sun': 606, 'songs': 607, 'timer': 608, 'thanks': 609, 'audio': 610, 'readers': 611, 'alarm': 612, 'bedroom': 613, 'given': 614, 'difficult': 615, 'prefer': 616, 'minutes': 617, 'asked': 618, 'usb': 619, 'show': 620, 'micro': 621, 'ages': 622, 'recognition': 623, 'surf': 624, 'level': 625, 'open': 626, 'iphone': 627, 'amount': 628, 'dad': 629, 'beach': 630, 'line': 631, 'reliable': 632, 'tons': 633, 'support': 634, 'installed': 635, 'members': 636, 'ready': 637, 'says': 638, 'return': 639, 'update': 640, 'expandable': 641, 'rather': 642, 'loud': 643, 'personal': 644, 'adults': 645, 'software': 646, 'kind': 647, 'holds': 648, 'programs': 649, 'buttons': 650, 'save': 651, 'turning': 652, 'range': 653, 'ordered': 654, 'constantly': 655, 'timers': 656, 'ethernet': 657, 'starter': 658, 'allow': 659, 'soon': 660, 'local': 661, 'blue': 662, 'bucks': 663, 'picked': 664, 'break': 665, 'beginner': 666, 'emails': 667, 'keyboard': 668, 'info': 669, 'smooth': 670, 'annoying': 671, 'believe': 672, 'viewing': 673, 'sports': 674, 'selection': 675, 'living': 676, 'talk': 677, 'gadget': 678, 'priced': 679, 'loving': 680, 'review': 681, 'font': 682, 'car': 683, 'assistant': 684, 'checking': 685, 'reads': 686, 'mind': 687, 'told': 688, 'ended': 689, 'saw': 690, 'totally': 691, 'comfortable': 692, '2nd': 693, 'compatible': 694, 'graphics': 695, 'grandchildren': 696, 'solid': 697, 'dots': 698, 'based': 699, 'ebooks': 700, 'player': 701, 'feels': 702, 'loaded': 703, 'piece': 704, 'fan': 705, 'broke': 706, 'certain': 707, 'song': 708, 'worry': 709, 'alternative': 710, 'subscription': 711, 'cant': 712, 'design': 713, 'handle': 714, 'brand': 715, 'past': 716, 'membership': 717, 'alot': 718, 'brightness': 719, 'yes': 720, 'lag': 721, 'recently': 722, 'settings': 723, 'unlimited': 724, 'dropped': 725, 'nest': 726, 'main': 727, 'slot': 728, 'heavy': 729, '3rd': 730, 'excited': 731, 'electronic': 732, 'turns': 733, 'non': 734, 'trips': 735, 'giving': 736, 'front': 737, 'become': 738, 'turned': 739, 'thank': 740, 'least': 741, 'savvy': 742, 'powerful': 743, 'bill': 744, 'adjust': 745, 'within': 746, 'mode': 747, 'view': 748, 'trip': 749, 'half': 750, 'research': 751, 'spent': 752, 'colors': 753, 'lighter': 754, 'including': 755, 'crisp': 756, 'running': 757, 'gaming': 758, 'clarity': 759, 'unless': 760, 'busy': 761, 'inch': 762, 'father': 763, 'browser': 764, 'budget': 765, 'previously': 766, 'finding': 767, 'entertaining': 768, 'reasonable': 769, 'offer': 770, 'happier': 771, 'hit': 772, 'higher': 773, 'similar': 774, 'idea': 775, 'paying': 776, 'improvement': 777, 'move': 778, 'traffic': 779, 'charged': 780, 'included': 781, 'stop': 782, 'function': 783, 'cooking': 784, 'course': 785, 'integration': 786, 'okay': 787, 'four': 788, 'type': 789, 'later': 790, 'star': 791, 'knew': 792, 'primarily': 793, 'avid': 794, 'lock': 795, 'various': 796, 'trouble': 797, 'tells': 798, 'brother': 799, 'completely': 800, 'call': 801, 'spotify': 802, 'gotten': 803, 'sharp': 804, 'program': 805, 'talking': 806, 'latest': 807, 'seen': 808, 'electronics': 809, 'intuitive': 810, 'short': 811, 'entertained': 812, 'waiting': 813, 'except': 814, 'variety': 815, 'homework': 816, 'world': 817, 'specific': 818, 'hooked': 819, 'capable': 820, 'calendar': 821, 'photos': 822, 'applications': 823, 'general': 824, 'sleep': 825, 'truly': 826, 'browse': 827, 'lost': 828, 'close': 829, 'kept': 830, 'alone': 831, 'fairly': 832, 'left': 833, 'hub': 834, 'pad': 835, 'instructions': 836, 'hope': 837, 'toy': 838, 'rid': 839, 'considering': 840, 'functional': 841, 'background': 842, 'beginners': 843, 'party': 844, 'downside': 845, 'models': 846, 'looked': 847, 'step': 848, 'users': 849, 'special': 850, 'operating': 851, 'speak': 852, 'direct': 853, 'ways': 854, 'opinion': 855, 'capability': 856, 'gen': 857, 'road': 858, 'ton': 859, 'words': 860, 'alarms': 861, 'figured': 862, 'lol': 863, 'usually': 864, 'dont': 865, 'current': 866, 'toddler': 867, 'network': 868, 'dollars': 869, 'portability': 870, 'responds': 871, 'originally': 872, 'heard': 873, 'sturdy': 874, 'directly': 875, 'plugged': 876, 'whatever': 877, 'stopped': 878, 'television': 879, 'guess': 880, 'number': 881, 'leave': 882, 'wanting': 883, 'word': 884, 'searching': 885, 'xmas': 886, 'profile': 887, 'performs': 888, 'connects': 889, 'galaxy': 890, 'tasks': 891, 'drop': 892, 'lack': 893, 'office': 894, 'currently': 895, 'saying': 896, 'chromecast': 897, 'died': 898, 'investment': 899, 'basically': 900, '1st': 901, 'onto': 902, 'charges': 903, 'switch': 904, 'limits': 905, 'lower': 906, 'today': 907, 'supposed': 908, 'stock': 909, 'wake': 910, 'loading': 911, 'boxes': 912, 'entire': 913, 'improved': 914, 'company': 915, 'hook': 916, 'whether': 917, 'stand': 918, 'adult': 919, 'harmony': 920, 'bring': 921, 'build': 922, 'newer': 923, 'hd8': 924, 'social': 925, 'phones': 926, 'stay': 927, 'entry': 928, 'adds': 929, 'ipads': 930, 'fully': 931, 'beautiful': 932, 'returning': 933, 'miss': 934, 'convenience': 935, 'matter': 936, 'limit': 937, 'updated': 938, 'daughters': 939, 'source': 940, 'print': 941, 'digital': 942, 'downloads': 943, 'cell': 944, 'household': 945, 'anymore': 946, 'younger': 947, 'opened': 948, 'played': 949, 'streams': 950, 'versions': 951, 'expand': 952, 'accounts': 953, 'broken': 954, 'care': 955, 'remember': 956, 'five': 957, 'link': 958, 'router': 959, 'hoping': 960, 'expecting': 961, 'pass': 962, 'bonus': 963, 'sales': 964, 'flawlessly': 965, 'regret': 966, 'edition': 967, 'incredible': 968, 'lit': 969, 'potential': 970, 'strain': 971, 'adjustable': 972, 'bargain': 973, 'outstanding': 974, 'chose': 975, 'usage': 976, 'immediately': 977, 'controlling': 978, 'rooms': 979, 'menu': 980, 'vacation': 981, 'serves': 982, 'bag': 983, 'holding': 984, 'respond': 985, 'grocery': 986, 'stations': 987, 'tired': 988, 'college': 989, 'decision': 990, 'seemed': 991, 'press': 992, 'sticks': 993, 'thrilled': 994, 'bottom': 995, 'geek': 996, 'pros': 997, 'helped': 998, 'sling': 999, 'satellite': 1000, 'mail': 1001, 'normal': 1002, 'shop': 1003, 'complain': 1004, 'major': 1005, 'external': 1006, 'protective': 1007, 'cause': 1008, 'prices': 1009, 'package': 1010, 'area': 1011, 'fires': 1012, 'earlier': 1013, 'hdmi': 1014, 'negative': 1015, 'request': 1016, 'across': 1017, 'bestbuy': 1018, 'knows': 1019, 'eye': 1020, 'advantage': 1021, 'conditions': 1022, 'outdoors': 1023, 'purposes': 1024, 'together': 1025, 'means': 1026, 'tvs': 1027, 'oasis': 1028, 'cutting': 1029, 'ordering': 1030, 'actual': 1031, 'amazed': 1032, 'offered': 1033, 'example': 1034, 'internal': 1035, 'boy': 1036, 'flash': 1037, 'buck': 1038, 'parent': 1039, 'alexia': 1040, 'endless': 1041, 'learned': 1042, 'receive': 1043, 'date': 1044, 'process': 1045, 'joke': 1046, 'pre': 1047, 'unlike': 1048, 'choices': 1049, 'freeze': 1050, 'cases': 1051, 'cameras': 1052, 'continue': 1053, 'exceeded': 1054, 'standard': 1055, 'nephews': 1056, 'send': 1057, 'boys': 1058, 'penny': 1059, 'backlit': 1060, 'wemo': 1061, 'keeping': 1062, 'compare': 1063, 'mobile': 1064, 'bunch': 1065, 'near': 1066, 'carrying': 1067, 'coming': 1068, 'interested': 1069, 'switches': 1070, 'lives': 1071, 'breeze': 1072, 'remove': 1073, 'unfortunately': 1074, 'hour': 1075, 'note': 1076, 'saved': 1077, 'cons': 1078, '8gb': 1079, 'drawback': 1080, 'frustrating': 1081, 'understands': 1082, 'meets': 1083, 'sold': 1084, 'plane': 1085, 'fix': 1086, 'companion': 1087, 'protection': 1088, 'required': 1089, 'poor': 1090, 'sync': 1091, 'telling': 1092, 'automatically': 1093, 'strong': 1094, 'security': 1095, 'versatile': 1096, 'pocket': 1097, 'drive': 1098, 'audible': 1099, 'bang': 1100, 'realize': 1101, 'imagine': 1102, 'possible': 1103, 'create': 1104, 'processing': 1105, 'net': 1106, 'biggest': 1107, 'magazines': 1108, 'slightly': 1109, 'loads': 1110, 'navigation': 1111, 'initially': 1112, 'shipping': 1113, 'neat': 1114, 'linked': 1115, 'lets': 1116, 'share': 1117, 'average': 1118, 'auto': 1119, 'beginning': 1120, 'machine': 1121, 'station': 1122, 'activated': 1123, 'clock': 1124, 'programming': 1125, 'bulbs': 1126, 'sleek': 1127, 'none': 1128, 'designed': 1129, 'tube': 1130, '4th': 1131, 'requires': 1132, 'underground': 1133, 'brainer': 1134, 'steal': 1135, 'skeptical': 1136, 'suggest': 1137, 'brands': 1138, 'inside': 1139, 'waited': 1140, 'reminders': 1141, 'appropriate': 1142, 'greatest': 1143, 'knowledge': 1144, 'spending': 1145, 'connecting': 1146, 'per': 1147, 'business': 1148, 'changed': 1149, 'please': 1150, 'hopefully': 1151, 'lose': 1152, 'met': 1153, 'felt': 1154, 'obviously': 1155, 'drops': 1156, 'anytime': 1157, 'noticed': 1158, 'saving': 1159, 'hbo': 1160, 'capacity': 1161, 'benefits': 1162, 'door': 1163, 'prior': 1164, 'starting': 1165, 'screens': 1166, 'familiar': 1167, 'personally': 1168, 'certainly': 1169, 'self': 1170, 'called': 1171, 'stays': 1172, 'safe': 1173, 'format': 1174, 'squad': 1175, 'properly': 1176, 'echos': 1177, 'quicker': 1178, 'slower': 1179, 'bills': 1180, 'numerous': 1181, 'somewhat': 1182, 'pleasure': 1183, 'areas': 1184, 'true': 1185, 'doesnt': 1186, 'smarter': 1187, 'ecosystem': 1188, 'paired': 1189, 'single': 1190, 'hdx': 1191, 'wow': 1192, 'monthly': 1193, 'stereo': 1194, 'seeing': 1195, 'improve': 1196, 'specifically': 1197, 'reasonably': 1198, 'literally': 1199, 'random': 1200, 'connectivity': 1201, 'minor': 1202, 'controller': 1203, 'base': 1204, 'data': 1205, 'ideal': 1206, 'missing': 1207, 'nieces': 1208, 'held': 1209, 'sooner': 1210, 'enjoyable': 1211, 'physical': 1212, 'chance': 1213, 'taken': 1214, 'surprise': 1215, 'wherever': 1216, 'nearly': 1217, 'separate': 1218, 'ink': 1219, 'elderly': 1220, 'important': 1221, 'nicely': 1222, 'freetime': 1223, 'kinds': 1224, 'ram': 1225, 'pool': 1226, 'exchange': 1227, 'activities': 1228, 'awhile': 1229, 'waste': 1230, 'frequently': 1231, 'hardware': 1232, 'premium': 1233, 'provide': 1234, 'necessary': 1235, 'cloud': 1236, 'interesting': 1237, 'whenever': 1238, 'reports': 1239, 'besides': 1240, 'allowed': 1241, 'smoothly': 1242, 'basis': 1243, 'early': 1244, 'presents': 1245, 'form': 1246, 'solution': 1247, 'thru': 1248, 'forever': 1249, 'appear': 1250, 'appreciate': 1251, 'leather': 1252, 'scores': 1253, 'consider': 1254, 'specs': 1255, 'throughout': 1256, 'class': 1257, 'smartphone': 1258, 'bother': 1259, 'downfall': 1260, 'rest': 1261, 'calls': 1262, 'begin': 1263, 'air': 1264, 'units': 1265, 'occasionally': 1266, 'reasons': 1267, 'whistles': 1268, 'clean': 1269, 'anyway': 1270, 'instantly': 1271, 'hundreds': 1272, 'pop': 1273, 'forget': 1274, 'putting': 1275, 'ebook': 1276, 'image': 1277, 'surprisingly': 1278, 'complicated': 1279, 'saves': 1280, 'crazy': 1281, 'series': 1282, 'normally': 1283, 'intended': 1284, 'bells': 1285, 'answering': 1286, 'adapter': 1287, 'wall': 1288, 'recipes': 1289, 'philips': 1290, 'reset': 1291, 'places': 1292, 'microsd': 1293, 'credit': 1294, 'thousands': 1295, 'dim': 1296, 'material': 1297, 'dead': 1298, 'particular': 1299, 'moving': 1300, 'rating': 1301, 'honestly': 1302, 'girlfriend': 1303, 'catch': 1304, 'dedicated': 1305, 'weak': 1306, 'protect': 1307, 'trivia': 1308, 'pro': 1309, 'sit': 1310, 'grandsons': 1311, 'rate': 1312, 'pair': 1313, 'adequate': 1314, 'holidays': 1315, 'lasted': 1316, 'possibilities': 1317, 'password': 1318, 'finger': 1319, 'happen': 1320, 'informative': 1321, 'opening': 1322, 'accurate': 1323, 'sitting': 1324, 'fall': 1325, 'spot': 1326, 'require': 1327, 'sense': 1328, 'pull': 1329, 'gadgets': 1330, 'wired': 1331, 'requests': 1332, 'recipient': 1333, 'replacing': 1334, 'locked': 1335, 'youngest': 1336, 'surface': 1337, 'ahead': 1338, 'thin': 1339, 'face': 1340, 'hate': 1341, 'constant': 1342, 'nexus': 1343, 'sign': 1344, 'terrific': 1345, 'explore': 1346, 'advertising': 1347, 'application': 1348, 'impressive': 1349, 'upon': 1350, 'tooth': 1351, 'described': 1352, 'complete': 1353, 'stuck': 1354, 'sonos': 1355, 'thermostats': 1356, 'monitor': 1357, 'freezes': 1358, 'cards': 1359, 'minimal': 1360, 'listens': 1361, 'efficient': 1362, 'proof': 1363, 'sell': 1364, 'middle': 1365, 'sons': 1366, 'damage': 1367, 'eventually': 1368, 'correct': 1369, 'girl': 1370, 'con': 1371, 'watches': 1372, 'location': 1373, 'confusing': 1374, 'hesitant': 1375, 'kinda': 1376, 'garage': 1377, 'sites': 1378, 'push': 1379, 'bulky': 1380, 'likely': 1381, 'enabled': 1382, 'notes': 1383, '16gb': 1384, 'wide': 1385, 'terrible': 1386, 'mention': 1387, 'core': 1388, 'provided': 1389, 'platform': 1390, 'practical': 1391, 'points': 1392, 'signal': 1393, 'win': 1394, 'protector': 1395, 'advanced': 1396, 'upstairs': 1397, 'useless': 1398, 'casual': 1399, 'files': 1400, 'worried': 1401, 'increase': 1402, 'beats': 1403, 'thus': 1404, 'fastest': 1405, 'integrated': 1406, 'curve': 1407, 'occasional': 1408, 'hurt': 1409, 'equipment': 1410, 'bose': 1411, 'sensitive': 1412, 'delivery': 1413, 'girls': 1414, 'popular': 1415, 'utilize': 1416, 'moment': 1417, 'stores': 1418, 'unable': 1419, 'careful': 1420, 'rear': 1421, 'baby': 1422, 'wont': 1423, 'twice': 1424, 'ran': 1425, 'tough': 1426, 'staff': 1427, 'six': 1428, 'clearly': 1429, 'cracked': 1430, 'man': 1431, 'pain': 1432, 'throw': 1433, 'demand': 1434, 'jeopardy': 1435, 'silk': 1436, 'appointments': 1437, 'pics': 1438, 'subscribe': 1439, 'holiday': 1440, 'limitations': 1441, 'aware': 1442, 'pleasantly': 1443, 'beyond': 1444, 'profiles': 1445, 'granddaughters': 1446, 'menus': 1447, 'receiver': 1448, 'recent': 1449, 'perform': 1450, 'asleep': 1451, 'thanksgiving': 1452, 'track': 1453, 'include': 1454, 'enable': 1455, 'fixed': 1456, 'smoother': 1457, 'batteries': 1458, 'trial': 1459, 'forecast': 1460, 'temperature': 1461, 'flexibility': 1462, 'afford': 1463, 'occupied': 1464, 'thoroughly': 1465, 'incredibly': 1466, 'fee': 1467, 'total': 1468, 'realized': 1469, 'notice': 1470, 'abilities': 1471, 'behind': 1472, 'quad': 1473, 'dollar': 1474, 'plastic': 1475, 'floor': 1476, 'hot': 1477, 'primary': 1478, 'water': 1479, 'artist': 1480, 'basics': 1481, 'switched': 1482, 'didnt': 1483, 'fancy': 1484, 'pricey': 1485, 'yrs': 1486, 'mean': 1487, 'recharge': 1488, 'sort': 1489, 'concerned': 1490, 'lacks': 1491, 'tag': 1492, 'task': 1493, 'thats': 1494, 'pdf': 1495, 'improvements': 1496, 'supports': 1497, 'seconds': 1498, 'plugs': 1499, 'controlled': 1500, 'sony': 1501, 'aunt': 1502, 'difficulty': 1503, 'charm': 1504, 'costs': 1505, 'ive': 1506, 'unbelievable': 1507, 'events': 1508, 'outlet': 1509, 'readable': 1510, 'glass': 1511, 'needing': 1512, 'understanding': 1513, 'fingertips': 1514, 'guy': 1515, 'depending': 1516, 'grandma': 1517, 'deals': 1518, 'extended': 1519, 'straight': 1520, 'newest': 1521, 'guide': 1522, 'continues': 1523, 'borrow': 1524, 'accidentally': 1525, 'backlighting': 1526, 'pleasant': 1527, 'channel': 1528, 'microphone': 1529, 'skill': 1530, 'integrate': 1531, 'funny': 1532, 'streamer': 1533, 'preloaded': 1534, 'olds': 1535, 'effective': 1536, 'hoped': 1537, 'despite': 1538, 'lighted': 1539, 'gone': 1540, 'hearing': 1541, 'wise': 1542, 'includes': 1543, 'chrome': 1544, '128gb': 1545, 'site': 1546, 'operation': 1547, 'became': 1548, 'discovered': 1549, 'appears': 1550, 'feeling': 1551, 'quiet': 1552, 'breaks': 1553, 'factor': 1554, 'edge': 1555, 'types': 1556, 'seriously': 1557, 'plex': 1558, 'fraction': 1559, 'relatively': 1560, 'clearer': 1561, 'fills': 1562, 'lacking': 1563, 'noticeable': 1564, 'nicer': 1565, 'barely': 1566, 'happened': 1567, 'ios': 1568, 'follow': 1569, 'covers': 1570, 'showed': 1571, 'superior': 1572, 'ultra': 1573, 'touchscreen': 1574, 'finds': 1575, 'hassle': 1576, 'minute': 1577, 'led': 1578, 'answered': 1579, 'outdoor': 1580, 'bumper': 1581, 'rarely': 1582, 'directv': 1583, 'bass': 1584, 'ifttt': 1585, 'buffer': 1586, 'skype': 1587, 'knowledgeable': 1588, 'joy': 1589, 'manage': 1590, 'released': 1591, 'multi': 1592, 'rough': 1593, 'log': 1594, 'pack': 1595, 'accessible': 1596, 'damaged': 1597, 'shield': 1598, 'directions': 1599, 'hardly': 1600, 'knowing': 1601, 'chargers': 1602, 'moved': 1603, 'defective': 1604, 'flawless': 1605, 'selections': 1606, 'sufficient': 1607, 'key': 1608, 'test': 1609, 'swipe': 1610, 'suggested': 1611, 'public': 1612, 'country': 1613, 'planning': 1614, 'growing': 1615, 'correctly': 1616, 'accessories': 1617, 'technical': 1618, 'speaking': 1619, 'instant': 1620, 'facts': 1621, 'integrates': 1622, 'links': 1623, 'grandmother': 1624, 'disappoint': 1625, 'initial': 1626, 'tabs': 1627, 'late': 1628, 'seamlessly': 1629, 'owner': 1630, 'travels': 1631, 'speech': 1632, 'exchanged': 1633, 'transfer': 1634, 'starts': 1635, 'searches': 1636, 'train': 1637, 'tiny': 1638, 'quit': 1639, 'bank': 1640, 'suppose': 1641, 'comparable': 1642, 'recomend': 1643, 'frustrated': 1644, 'math': 1645, 'wonderfully': 1646, 'headphones': 1647, 'effort': 1648, 'serious': 1649, 'students': 1650, 'teach': 1651, 'report': 1652, 'responses': 1653, 'teenage': 1654, 'snappy': 1655, 'junk': 1656, 'windows': 1657, 'titles': 1658, 'def': 1659, 'restart': 1660, 'greatly': 1661, 'shut': 1662, 'discount': 1663, 'loose': 1664, 'arrived': 1665, 'boyfriend': 1666, 'navigating': 1667, 'dictionary': 1668, 'acceptable': 1669, 'commute': 1670, 'wink': 1671, 'logitech': 1672, 'antenna': 1673, 'teens': 1674, 'versus': 1675, 'playback': 1676, 'meant': 1677, 'comparison': 1678, 'god': 1679, 'upgrading': 1680, 'lasting': 1681, 'fabulous': 1682, 'durability': 1683, 'nvidia': 1684, 'installing': 1685, 'particularly': 1686, 'hey': 1687, 'watched': 1688, 'rides': 1689, 'changes': 1690, 'caught': 1691, 'becomes': 1692, 'opportunity': 1693, 'commercials': 1694, 'com': 1695, 'letters': 1696, 'systems': 1697, 'decide': 1698, 'offering': 1699, 'style': 1700, 'sets': 1701, '1080p': 1702, 'hang': 1703, 'vudu': 1704, 'phillips': 1705, 'brighter': 1706, 'visit': 1707, 'speedy': 1708, 'expansion': 1709, 'advertisements': 1710, 'sorts': 1711, 'breaking': 1712, 'delivered': 1713, 'pink': 1714, 'researched': 1715, 'knock': 1716, 'aspect': 1717, 'appstore': 1718, 'exact': 1719, 'airplane': 1720, 'terms': 1721, 'cousin': 1722, 'itunes': 1723, 'manually': 1724, 'click': 1725, 'student': 1726, 'forth': 1727, 'learns': 1728, 'contrast': 1729, 'secure': 1730, 'relative': 1731, 'anybody': 1732, 'attached': 1733, 'louder': 1734, 'message': 1735, 'dinner': 1736, 'daylight': 1737, 'placed': 1738, 'soft': 1739, 'provider': 1740, 'novelty': 1741, 'automated': 1742, 'firebox': 1743, 'tables': 1744, 'contact': 1745, 'offline': 1746, 'sorry': 1747, 'existing': 1748, 'crystal': 1749, 'concern': 1750, 'cumbersome': 1751, 'supported': 1752, 'sources': 1753, 'powered': 1754, 'falls': 1755, 'sent': 1756, 'fell': 1757, 'picking': 1758, 'summer': 1759, 'saver': 1760, 'tips': 1761, 'fair': 1762, 'generally': 1763, 'voyager': 1764, 'protected': 1765, 'fault': 1766, 'removed': 1767, 'admit': 1768, 'paperback': 1769, 'freezing': 1770, 'engine': 1771, 'walk': 1772, 'downstairs': 1773, 'expanding': 1774, 'schedule': 1775, 'firesticks': 1776, 'playlist': 1777, 'activation': 1778, 'experienced': 1779, 'easiest': 1780, 'maneuver': 1781, 'santa': 1782, 'fourth': 1783, 'aside': 1784, 'increased': 1785, 'images': 1786, 'disappointing': 1787, 'known': 1788, 'tend': 1789, 'brings': 1790, 'benefit': 1791, 'register': 1792, 'mentioned': 1793, 'missed': 1794, 'outlets': 1795, 'assistance': 1796, 'grow': 1797, 'history': 1798, 'creating': 1799, 'mouse': 1800, 'thumbs': 1801, 'locks': 1802, 'modem': 1803, 'lamp': 1804, 'installation': 1805, 'collection': 1806, 'noise': 1807, 'hears': 1808, 'smartthings': 1809, 'unlock': 1810, 'avoid': 1811, 'prize': 1812, 'ipod': 1813, 'upload': 1814, 'dish': 1815, 'layout': 1816, 'adjustment': 1817, 'backup': 1818, 'aps': 1819, 'adjusting': 1820, 'comment': 1821, 'ps4': 1822, 'related': 1823, 'pixels': 1824, 'slim': 1825, 'losing': 1826, 'senior': 1827, 'versatility': 1828, 'recognize': 1829, 'attractive': 1830, 'updating': 1831, 'refund': 1832, 'write': 1833, 'activate': 1834, 'weekend': 1835, 'lil': 1836, 'customize': 1837, 'couch': 1838, 'band': 1839, 'winner': 1840, 'mess': 1841, 'sounding': 1842, 'situations': 1843, 'cancel': 1844, 'results': 1845, 'interact': 1846, 'briefing': 1847, 'interactive': 1848, 'worse': 1849, 'restrictions': 1850, 'devise': 1851, 'automatic': 1852, 'failed': 1853, 'common': 1854, 'computers': 1855, 'season': 1856, 'relaxing': 1857, 'extensive': 1858, 'tied': 1859, 'glitches': 1860, 'oldest': 1861, 'puts': 1862, 'thinks': 1863, 'heavier': 1864, 'period': 1865, 'typing': 1866, 'techie': 1867, 'manual': 1868, 'phenomenal': 1869, 'playstore': 1870, 'rubber': 1871, 'upgrades': 1872, 'wore': 1873, 'situation': 1874, 'delete': 1875, 'calling': 1876, 'helping': 1877, 'silly': 1878, 'gonna': 1879, 'environment': 1880, 'bar': 1881, 'head': 1882, 'tho': 1883, 'exploring': 1884, 'dual': 1885, 'delivers': 1886, 'heart': 1887, 'liking': 1888, 'towards': 1889, 'wonder': 1890, 'slowly': 1891, 'stolen': 1892, 'connections': 1893, 'definition': 1894, 'appliances': 1895, 'receiving': 1896, 'allowing': 1897, 'perhaps': 1898, 'superb': 1899, 'lags': 1900, 'sized': 1901, 'bugs': 1902, 'zero': 1903, 'advertisement': 1904, 'owning': 1905, 'sucks': 1906, 'blows': 1907, 'disappointment': 1908, 'repeat': 1909, 'action': 1910, 'fonts': 1911, 'comparing': 1912, 'dog': 1913, 'sweet': 1914, 'regularly': 1915, 'par': 1916, 'pricing': 1917, 'performed': 1918, 'coffee': 1919, 'overpriced': 1920, 'justify': 1921, 'deck': 1922, 'periods': 1923, 'finish': 1924, 'match': 1925, 'glasses': 1926, 'adjusts': 1927, 'lived': 1928, 'sunshine': 1929, 'proper': 1930, 'block': 1931, 'stories': 1932, 'happens': 1933, 'input': 1934, 'default': 1935, 'luck': 1936, 'stable': 1937, 'levels': 1938, 'amazingly': 1939, 'interaction': 1940, 'theater': 1941, 'cancelled': 1942, 'bing': 1943, 'nabi': 1944, 'lite': 1945, 'afraid': 1946, 'position': 1947, 'mails': 1948, 'websites': 1949, 'documents': 1950, 'bible': 1951, 'shade': 1952, 'articles': 1953, 'preferred': 1954, 'sideload': 1955, 'invested': 1956, 'seamless': 1957, 'messages': 1958, 'selling': 1959, 'grandchild': 1960, 'hesitate': 1961, 'convert': 1962, 'importantly': 1963, 'amazons': 1964, 'trigger': 1965, 'aspects': 1966, 'checked': 1967, 'boot': 1968, 'cast': 1969, 'interest': 1970, 'honest': 1971, 'closed': 1972, 'jump': 1973, 'positive': 1974, 'output': 1975, 'organized': 1976, 'stated': 1977, 'gotta': 1978, 'dvd': 1979, 'discover': 1980, 'virtually': 1981, 'disturbing': 1982, 'coolest': 1983, 'blast': 1984, 'talks': 1985, 'discovering': 1986, 'appletv': 1987, 'grown': 1988, 'flights': 1989, 'pressure': 1990, 'highlight': 1991, 'enjoyment': 1992, 'rely': 1993, 'shuts': 1994, 'laggy': 1995, 'evening': 1996, 'photo': 1997, 'root': 1998, 'website': 1999, 'absolute': 2000, 'tends': 2001, '32gb': 2002, 'eight': 2003, 'locations': 2004, 'travelling': 2005, 'bedtime': 2006, 'providing': 2007, 'froze': 2008, 'entertain': 2009, 'horrible': 2010, 'gig': 2011, 'kiddos': 2012, 'consumption': 2013, 'accessing': 2014, 'tools': 2015, 'talked': 2016, 'worthwhile': 2017, 'elsewhere': 2018, 'simplicity': 2019, 'subscriptions': 2020, 'vocabulary': 2021, 'feedback': 2022, 'began': 2023, 'slick': 2024, 'solved': 2025, 'sending': 2026, 'readability': 2027, 'bored': 2028, 'orders': 2029, 'operates': 2030, 'syncs': 2031, 'chat': 2032, 'hubby': 2033, 'opposed': 2034, 'mic': 2035, 'essentially': 2036, 'whatsoever': 2037, 'hotel': 2038, 'bye': 2039, 'desktop': 2040, 'fail': 2041, 'minimum': 2042, 'facing': 2043, 'cartoons': 2044, 'individual': 2045, 'dropping': 2046, 'flat': 2047, 'transport': 2048, 'speeds': 2049, 'filled': 2050, 'language': 2051, 'figuring': 2052, 'meet': 2053, 'ten': 2054, 'availability': 2055, 'researching': 2056, 'cook': 2057, 'apart': 2058, 'impossible': 2059, 'seven': 2060, 'associate': 2061, 'flaw': 2062, 'snap': 2063, 'weekly': 2064, 'till': 2065, 'responsiveness': 2066, 'separately': 2067, 'lap': 2068, 'select': 2069, 'drain': 2070, 'grab': 2071, 'becoming': 2072, 'group': 2073, 'alexis': 2074, 'sad': 2075, 'doubt': 2076, 'unique': 2077, 'switching': 2078, 'lines': 2079, 'natural': 2080, 'sleeping': 2081, 'feet': 2082, 'numbers': 2083, 'master': 2084, 'factory': 2085, 'pixel': 2086, 'tricks': 2087, 'center': 2088, 'comcast': 2089, 'distance': 2090, 'pizza': 2091, 'iheart': 2092, 'packaging': 2093, 'length': 2094, 'considered': 2095, 'delighted': 2096, 'handles': 2097, 'safety': 2098, 'expanded': 2099, 'typically': 2100, 'substitute': 2101, 'noticeably': 2102, 'buys': 2103, 'december': 2104, 'reboot': 2105, 'tested': 2106, 'activity': 2107, 'willing': 2108, 'rep': 2109, 'strongly': 2110, 'functioning': 2111, 'regrets': 2112, 'sunny': 2113, 'grade': 2114, 'opens': 2115, 'reviewed': 2116, 'wished': 2117, 'beautifully': 2118, 'challenged': 2119, 'modern': 2120, 'aging': 2121, 'possibly': 2122, '5th': 2123, 'instagram': 2124, 'attention': 2125, 'food': 2126, 'simpler': 2127, 'welcome': 2128, 'employee': 2129, 'customers': 2130, 'flip': 2131, 'debated': 2132, 'error': 2133, 'weird': 2134, 'draw': 2135, 'fingers': 2136, 'file': 2137, 'picks': 2138, 'meaning': 2139, 'created': 2140, 'indoors': 2141, 'companies': 2142, 'changing': 2143, 'playlists': 2144, 'ray': 2145, 'wire': 2146, 'mood': 2147, 'temp': 2148, 'worst': 2149, 'vision': 2150, 'promised': 2151, 'pdfs': 2152, 'inappropriate': 2153, 'audiobooks': 2154, 'twins': 2155, 'everybody': 2156, 'trick': 2157, 'vibrant': 2158, 'harder': 2159, 'recommendation': 2160, 'rocks': 2161, 'neither': 2162, 'shown': 2163, 'informed': 2164, 'practically': 2165, 'study': 2166, 'lightning': 2167, 'shipped': 2168, 'ups': 2169, 'desk': 2170, 'leaving': 2171, 'eco': 2172, 'cleaning': 2173, 'pushing': 2174, 'reward': 2175, 'deciding': 2176, 'employees': 2177, 'active': 2178, 'iphones': 2179, 'buyer': 2180, 'showing': 2181, 'supply': 2182, 'magazine': 2183, 'release': 2184, 'wakes': 2185, 'expense': 2186, 'double': 2187, 'scratch': 2188, 'imagined': 2189, 'copy': 2190, 'dpi': 2191, 'plain': 2192, 'mothers': 2193, 'abc': 2194, 'ons': 2195, 'disney': 2196, 'grabbed': 2197, 'crack': 2198, 'bathroom': 2199, 'visiting': 2200, 'lazy': 2201, 'covered': 2202, 'ppi': 2203, 'remotes': 2204, 'toddlers': 2205, 'asks': 2206, 'tunes': 2207, 'transferred': 2208, 'desired': 2209, 'graphic': 2210, 'clunky': 2211, 'alex': 2212, 'preference': 2213, 'novels': 2214, 'hundred': 2215, 'heat': 2216, '64gb': 2217, 'wear': 2218, 'customizable': 2219, 'training': 2220, 'differences': 2221, 'sub': 2222, 'robust': 2223, 'managed': 2224, 'grandparents': 2225, 'usual': 2226, 'gripe': 2227, 'icons': 2228, 'replaces': 2229, 'displays': 2230, 'syncing': 2231, 'worries': 2232, 'sharing': 2233, 'imo': 2234, 'apparently': 2235, 'greater': 2236, 'rich': 2237, 'geared': 2238, 'cute': 2239, 'parts': 2240, 'overdrive': 2241, 'sluggish': 2242, 'laying': 2243, 'corner': 2244, 'reduced': 2245, 'regardless': 2246, 'palm': 2247, 'distracting': 2248, 'sat': 2249, 'dumb': 2250, 'reminder': 2251, 'story': 2252, 'max': 2253, 'pickup': 2254, 'freedom': 2255, 'sirius': 2256, 'toys': 2257, 'voices': 2258, 'subscribed': 2259, 'savings': 2260, 'rechargeable': 2261, 'unplug': 2262, 'lifx': 2263, 'uhd': 2264, 'uncle': 2265, 'siblings': 2266, 'continually': 2267, 'raffle': 2268, 'dream': 2269, 'inches': 2270, 'frame': 2271, 'grip': 2272, 'hotspot': 2273, 'savy': 2274, 'recharging': 2275, 'jack': 2276, 'following': 2277, 'shape': 2278, 'lug': 2279, 'xbox': 2280, 'teen': 2281, 'heck': 2282, 'performing': 2283, 'steps': 2284, 'puzzles': 2285, 'conversation': 2286, 'whim': 2287, 'exceptional': 2288, 'comfortably': 2289, 'disable': 2290, 'loss': 2291, 'adjusted': 2292, 'significant': 2293, 'fees': 2294, 'lady': 2295, 'scrolling': 2296, 'materials': 2297, 'teenager': 2298, 'significantly': 2299, 'sisters': 2300, 'teaching': 2301, 'bezel': 2302, 'flimsy': 2303, 'building': 2304, 'spare': 2305, 'waking': 2306, 'post': 2307, 'sides': 2308, 'gentle': 2309, 'unbeatable': 2310, 'ensure': 2311, 'board': 2312, 'visible': 2313, 'accent': 2314, 'skip': 2315, 'owners': 2316, 'signed': 2317, 'strictly': 2318, 'additionally': 2319, 'section': 2320, 'tries': 2321, 'worthy': 2322, 'opted': 2323, 'sits': 2324, 'favor': 2325, 'anticipated': 2326, 'genre': 2327, 'concept': 2328, 'intercom': 2329, 'cutter': 2330, 'highest': 2331, 'awful': 2332, 'salesman': 2333, 'upset': 2334, 'packed': 2335, 'management': 2336, 'restricted': 2337, 'chair': 2338, 'jealous': 2339, 'gifted': 2340, 'flight': 2341, 'purple': 2342, 'impulse': 2343, 'stylus': 2344, 'consistently': 2345, 'pieces': 2346, 'gym': 2347, 'explain': 2348, 'shot': 2349, 'traditional': 2350, 'therefore': 2351, 'competitive': 2352, 'comfort': 2353, 'twin': 2354, 'reminds': 2355, 'contacted': 2356, 'flexible': 2357, 'education': 2358, 'orange': 2359, 'rooting': 2360, 'frequent': 2361, 'convinced': 2362, 'neice': 2363, 'favorites': 2364, 'pads': 2365, 'stored': 2366, 'specially': 2367, 'address': 2368, 'registered': 2369, 'spouse': 2370, 'extras': 2371, 'moderate': 2372, 'whats': 2373, 'red': 2374, 'ambient': 2375, 'spots': 2376, 'advance': 2377, 'reach': 2378, 'description': 2379, 'scroll': 2380, 'lately': 2381, 'fold': 2382, 'packs': 2383, 'folks': 2384, 'supplement': 2385, 'somewhere': 2386, 'families': 2387, 'sideloaded': 2388, 'players': 2389, 'lagging': 2390, 'policy': 2391, 'stupid': 2392, 'blown': 2393, 'comments': 2394, 'fence': 2395, 'spoke': 2396, 'dependable': 2397, 'partner': 2398, 'distracted': 2399, 'relax': 2400, 'hooks': 2401, 'patient': 2402, 'vast': 2403, 'recognizes': 2404, 'requested': 2405, 'hype': 2406, 'glow': 2407, 'bedrooms': 2408, 'podcasts': 2409, 'programmed': 2410, 'steaming': 2411, 'comics': 2412, 'husbands': 2413, 'prevent': 2414, 'surround': 2415, 'rugged': 2416, 'resource': 2417, 'state': 2418, 'fir': 2419, 'intelligent': 2420, 'server': 2421, 'fill': 2422, 'catching': 2423, 'shelf': 2424, 'direction': 2425, 'exceeds': 2426, 'explained': 2427, 'gmail': 2428, 'progress': 2429, 'suitable': 2430, 'result': 2431, 'upcoming': 2432, 'handed': 2433, 'enlarge': 2434, 'moves': 2435, 'rent': 2436, 'manufacturer': 2437, 'awkward': 2438, 'yesterday': 2439, 'bringing': 2440, 'writing': 2441, 'backpack': 2442, 'spends': 2443, 'abuse': 2444, 'desire': 2445, 'spectacular': 2446, 'letting': 2447, 'usable': 2448, 'networks': 2449, 'eyesight': 2450, 'thinner': 2451, '3yr': 2452, 'gps': 2453, 'event': 2454, 'ties': 2455, 'pulled': 2456, 'encourage': 2457, 'jacket': 2458, 'randomly': 2459, 'refer': 2460, 'indeed': 2461, 'typical': 2462, 'notch': 2463, 'leaves': 2464, 'recipe': 2465, 'universal': 2466, 'status': 2467, 'overseas': 2468, 'lowest': 2469, 'touching': 2470, 'origami': 2471, 'tall': 2472, 'scratched': 2473, 'tight': 2474, 'scratches': 2475, 'accessory': 2476, 'bundle': 2477, 'distractions': 2478, 'sadly': 2479, 'communicate': 2480, 'trust': 2481, 'eliminate': 2482, 'fight': 2483, 'record': 2484, 'deep': 2485, 'fifty': 2486, 'focus': 2487, 'couldnt': 2488, 'testing': 2489, 'condition': 2490, 'technically': 2491, 'requesting': 2492, 'havent': 2493, 'competition': 2494, '4yr': 2495, 'yard': 2496, 'episodes': 2497, 'guarantee': 2498, 'guest': 2499, 'characters': 2500, 'protects': 2501, 'lover': 2502, 'patio': 2503, 'echoes': 2504, 'showtime': 2505, 'slingtv': 2506, 'wonders': 2507, 'extreme': 2508, 'clash': 2509, 'theres': 2510, 'reccomend': 2511, 'pairs': 2512, 'glitch': 2513, 'teenagers': 2514, 'medium': 2515, 'compatibility': 2516, 'xfinity': 2517, 'edit': 2518, 'cpu': 2519, 'essential': 2520, 'unhappy': 2521, 'unnecessary': 2522, 'manager': 2523, 'luv': 2524, 'challenge': 2525, 'unsure': 2526, 'enables': 2527, 'clumsy': 2528, 'classes': 2529, 'enhance': 2530, 'ignore': 2531, 'round': 2532, 'introduced': 2533, 'code': 2534, 'hits': 2535, 'prompt': 2536, 'lenovo': 2537, 'combined': 2538, 'weighs': 2539, 'handling': 2540, 'refurbished': 2541, 'responding': 2542, 'novice': 2543, 'tremendous': 2544, 'overly': 2545, 'sometime': 2546, 'team': 2547, 'advice': 2548, 'wondering': 2549, 'route': 2550, 'exception': 2551, 'optional': 2552, 'briefings': 2553, 'acts': 2554, 'appearance': 2555, 'discounted': 2556, 'tip': 2557, 'hooking': 2558, 'suits': 2559, 'resistant': 2560, 'square': 2561, 'angle': 2562, 'located': 2563, 'spelling': 2564, 'colored': 2565, 'native': 2566, 'count': 2567, 'canceled': 2568, 'clutter': 2569, 'prefers': 2570, 'organize': 2571, 'mistake': 2572, 'storing': 2573, 'sensitivity': 2574, 'ground': 2575, 'hide': 2576, 'reception': 2577, 'serve': 2578, 'details': 2579, 'commercial': 2580, 'highlights': 2581, 'complains': 2582, 'insert': 2583, 'breaker': 2584, 'darn': 2585, 'laws': 2586, 'patience': 2587, 'insurance': 2588, 'fighting': 2589, 'bookmark': 2590, 'immediate': 2591, 'technologically': 2592, 'park': 2593, 'listed': 2594, 'rock': 2595, 'toward': 2596, 'classic': 2597, 'haha': 2598, 'usefulness': 2599, 'complex': 2600, 'carried': 2601, 'summary': 2602, 'among': 2603, 'stylish': 2604, 'spell': 2605, 'sing': 2606, 'doors': 2607, 'pause': 2608, 'wikipedia': 2609, 'disturb': 2610, 'attach': 2611, 'forecasts': 2612, 'automate': 2613, 'briefs': 2614, 'slingbox': 2615, 'dvr': 2616, 'productivity': 2617, 'isnt': 2618, 'limiting': 2619, 'instruction': 2620, 'minecraft': 2621, 'names': 2622, 'rated': 2623, 'headphone': 2624, 'east': 2625, 'odd': 2626, 'practice': 2627, 'darker': 2628, 'improves': 2629, 'inability': 2630, 'accept': 2631, 'spoiled': 2632, 'retina': 2633, 'requirements': 2634, 'twitter': 2635, 'staying': 2636, 'utility': 2637, 'countless': 2638, 'everytime': 2639, 'economical': 2640, 'dislike': 2641, 'annoyed': 2642, 'tutorial': 2643, 'utilizing': 2644, 'town': 2645, 'sizes': 2646, '6th': 2647, 'magnetic': 2648, 'settled': 2649, 'standing': 2650, 'hence': 2651, 'cruise': 2652, 'secondary': 2653, 'ridiculous': 2654, 'claim': 2655, 'improving': 2656, 'slip': 2657, 'forced': 2658, 'curious': 2659, 'cables': 2660, 'min': 2661, 'notifications': 2662, 'construction': 2663, 'smile': 2664, 'tricky': 2665, 'checks': 2666, 'appreciated': 2667, 'refresh': 2668, 'disposable': 2669, 'grows': 2670, 'flush': 2671, 'waterproof': 2672, 'printed': 2673, 'annoyance': 2674, 'slight': 2675, 'hinge': 2676, 'swiping': 2677, 'falling': 2678, 'miles': 2679, 'locate': 2680, 'manufacturing': 2681, 'ship': 2682, 'ports': 2683, 'hated': 2684, 'minus': 2685, 'magic': 2686, 'nine': 2687, 'bday': 2688, 'nearby': 2689, 'frozen': 2690, 'success': 2691, 'rca': 2692, 'combination': 2693, 'fool': 2694, 'treat': 2695, 'hotels': 2696, 'cords': 2697, 'trade': 2698, 'walking': 2699, 'classroom': 2700, 'awsome': 2701, 'cnn': 2702, 'proved': 2703, 'begun': 2704, 'apartment': 2705, 'carries': 2706, 'components': 2707, 'counter': 2708, 'pairing': 2709, 'invest': 2710, 'espn': 2711, 'dock': 2712, 'assist': 2713, 'development': 2714, 'instance': 2715, 'debating': 2716, 'closer': 2717, 'corny': 2718, 'smarthome': 2719, 'trek': 2720, 'basement': 2721, 'hardwired': 2722, 'thick': 2723, 'visual': 2724, 'salesperson': 2725, 'satisfactory': 2726, 'needless': 2727, 'mp3': 2728, 'cash': 2729, 'insignia': 2730, 'bothered': 2731, 'newspaper': 2732, 'maximize': 2733, 'worrying': 2734, 'recommending': 2735, 'term': 2736, 'paperweight': 2737, 'multitude': 2738, 'mirror': 2739, 'exciting': 2740, 'taste': 2741, 'balance': 2742, 'filter': 2743, 'textbooks': 2744, 'struggle': 2745, 'limitation': 2746, 'alright': 2747, 'autistic': 2748, 'microsoft': 2749, 'worn': 2750, 'indoor': 2751, 'amd': 2752, 'enter': 2753, 'luckily': 2754, 'join': 2755, 'goals': 2756, 'dies': 2757, 'citizen': 2758, 'guys': 2759, 'definite': 2760, 'arm': 2761, 'lugging': 2762, 'clicking': 2763, 'managing': 2764, 'downloadable': 2765, 'states': 2766, 'relatives': 2767, 'hack': 2768, 'fuss': 2769, 'generic': 2770, 'suited': 2771, 'compete': 2772, 'hookup': 2773, 'bulk': 2774, 'regarding': 2775, 'title': 2776, 'bet': 2777, 'intrusive': 2778, 'produces': 2779, 'approved': 2780, 'dust': 2781, 'graduation': 2782, 'hospital': 2783, 'causing': 2784, 'sole': 2785, 'poorly': 2786, 'complained': 2787, 'lovers': 2788, 'adaptive': 2789, 'entirely': 2790, 'effect': 2791, 'agree': 2792, 'written': 2793, 'necessarily': 2794, 'washington': 2795, 'kit': 2796, 'socket': 2797, 'fiance': 2798, 'delay': 2799, 'phrases': 2800, 'nervous': 2801, 'seniors': 2802, 'volumes': 2803, 'coupled': 2804, 'stairs': 2805, 'birthdays': 2806, '6yr': 2807, 'stocking': 2808, 'yeah': 2809, 'wouldnt': 2810, 'majority': 2811, 'streamed': 2812, 'leisure': 2813, 'andriod': 2814, 'tax': 2815, 'occasion': 2816, 'shorter': 2817, 'excelent': 2818, 'dimming': 2819, 'proven': 2820, 'tune': 2821, 'professional': 2822, 'pinterest': 2823, 'brief': 2824, 'vizio': 2825, 'logging': 2826, 'centric': 2827, 'expectation': 2828, 'consistent': 2829, 'anti': 2830, 'habit': 2831, 'mad': 2832, 'contents': 2833, 'fails': 2834, 'throws': 2835, 'synced': 2836, 'foreign': 2837, 'ideas': 2838, 'named': 2839, 'experiment': 2840, 'reduce': 2841, 'firmware': 2842, 'assume': 2843, 'elite': 2844, 'definitions': 2845, 'phrase': 2846, 'youll': 2847, 'homes': 2848, 'integrating': 2849, 'microphones': 2850, 'parties': 2851, 'streamers': 2852, 'hardwire': 2853, 'lan': 2854, 'footprint': 2855, 'reference': 2856, 'surgery': 2857, 'retired': 2858, 'completed': 2859, 'champ': 2860, 'navigates': 2861, 'matters': 2862, 'clans': 2863, 'pen': 2864, 'virus': 2865, 'gigs': 2866, 'perks': 2867, 'closest': 2868, 'customized': 2869, 'exclusively': 2870, 'heavily': 2871, 'beware': 2872, 'blank': 2873, 'continued': 2874, 'vivid': 2875, 'crisper': 2876, 'depends': 2877, 'ride': 2878, 'impaired': 2879, 'city': 2880, 'considerably': 2881, 'explored': 2882, 'ebay': 2883, 'manga': 2884, 'remind': 2885, 'immensely': 2886, 'bloatware': 2887, 'usability': 2888, 'stops': 2889, 'mono': 2890, 'advertise': 2891, 'suspect': 2892, 'anyways': 2893, 'die': 2894, 'quirks': 2895, 'maximum': 2896, 'doctor': 2897, 'accidental': 2898, 'nowhere': 2899, 'costly': 2900, 'messing': 2901, 'chip': 2902, 'reported': 2903, 'forgotten': 2904, 'blocks': 2905, 'straightforward': 2906, 'substantial': 2907, 'sharper': 2908, 'awake': 2909, 'resist': 2910, 'whose': 2911, 'shes': 2912, 'worlds': 2913, 'lending': 2914, 'alike': 2915, 'fifth': 2916, 'august': 2917, 'category': 2918, 'flaws': 2919, 'bus': 2920, 'fyi': 2921, 'recommendations': 2922, 'stating': 2923, '16g': 2924, 'woman': 2925, 'force': 2926, 'pulling': 2927, 'buffers': 2928, 'english': 2929, '7yr': 2930, 'glitchy': 2931, 'hopes': 2932, 'connector': 2933, 'challenging': 2934, 'snappier': 2935, 'coverage': 2936, 'vary': 2937, 'hesitation': 2938, 'window': 2939, 'folder': 2940, 'bothering': 2941, 'acting': 2942, 'wanna': 2943, 'oem': 2944, 'according': 2945, 'confused': 2946, 'electrical': 2947, 'lcd': 2948, 'environments': 2949, 'determine': 2950, 'digiland': 2951, 'plunge': 2952, 'emailed': 2953, 'pops': 2954, 'solves': 2955, 'valuable': 2956, 'million': 2957, 'readily': 2958, 'act': 2959, 'providers': 2960, 'tree': 2961, '4gb': 2962, 'techy': 2963, 'cuz': 2964, 'pleasing': 2965, 'changer': 2966, 'res': 2967, 'macbook': 2968, 'subscriber': 2969, 'served': 2970, 'loses': 2971, 'competitor': 2972, 'fox': 2973, 'queries': 2974, 'reliability': 2975, 'stands': 2976, 'hrs': 2977, 'entertains': 2978, 'searched': 2979, 'thrown': 2980, 'harsh': 2981, 'forgot': 2982, 'subject': 2983, 'degree': 2984, 'dirty': 2985, 'somehow': 2986, 'choosing': 2987, 'tivo': 2988, 'unplugged': 2989, 'eyestrain': 2990, 'hdr': 2991, 'configure': 2992, 'mornings': 2993, 'linking': 2994, 'dance': 2995, 'groceries': 2996, 'cylinder': 2997, 'intelligence': 2998, 'lamps': 2999, 'conversions': 3000, 'interacting': 3001, 'ecobee': 3002, 'ring': 3003, 'interfaces': 3004, 'iftt': 3005, 'yell': 3006, 'negatives': 3007, 'handheld': 3008, 'unwanted': 3009, 'wasnt': 3010, 'airport': 3011, 'lying': 3012, 'ergonomic': 3013, 'grader': 3014, 'aged': 3015, 'godson': 3016, 'unexpected': 3017, 'surpassed': 3018, 'killer': 3019, 'mediocre': 3020, 'coat': 3021, 'copies': 3022, 'curfew': 3023, 'fly': 3024, 'obvious': 3025, 'survived': 3026, 'carousel': 3027, 'crashed': 3028, 'defect': 3029, 'verizon': 3030, 'packages': 3031, 'toss': 3032, 'decently': 3033, 'fiancé': 3034, 'interests': 3035, 'pin': 3036, 'kindlefire': 3037, 'cousins': 3038, 'tote': 3039, 'banking': 3040, 'visuals': 3041, 'jumped': 3042, 'detailed': 3043, 'workers': 3044, 'crush': 3045, 'frustration': 3046, 'goodreads': 3047, 'document': 3048, 'filling': 3049, 'claimed': 3050, 'wider': 3051, 'crash': 3052, 'accomplish': 3053, 'sample': 3054, 'technological': 3055, 'cake': 3056, 'featured': 3057, 'platforms': 3058, 'gem': 3059, 'laptops': 3060, 'proprietary': 3061, 'passed': 3062, 'receipt': 3063, 'requiring': 3064, 'capture': 3065, 'transition': 3066, 'edges': 3067, 'bandwidth': 3068, 'introduction': 3069, 'fortune': 3070, 'solitaire': 3071, 'claims': 3072, 'deliver': 3073, 'foam': 3074, 'compromise': 3075, 'planned': 3076, 'handled': 3077, 'adore': 3078, 'accessibility': 3079, 'brothers': 3080, 'grandaughter': 3081, 'florida': 3082, 'ereaders': 3083, 'customization': 3084, 'yellow': 3085, 'cheapest': 3086, 'distraction': 3087, 'heading': 3088, 'darkness': 3089, 'whereas': 3090, 'department': 3091, 'keys': 3092, 'solve': 3093, 'tuck': 3094, 'supplied': 3095, 'threw': 3096, 'brain': 3097, 'standby': 3098, 'headaches': 3099, 'risk': 3100, 'resume': 3101, 'taught': 3102, 'developed': 3103, 'sophisticated': 3104, 'score': 3105, 'resources': 3106, 'wearing': 3107, 'warm': 3108, 'regretted': 3109, 'beneficial': 3110, 'frills': 3111, 'driving': 3112, 'peace': 3113, 'moments': 3114, 'popping': 3115, 'visually': 3116, 'fathers': 3117, 'attempt': 3118, 'owns': 3119, 'equally': 3120, 'pbs': 3121, 'suggestions': 3122, 'teacher': 3123, 'coupon': 3124, 'disconnect': 3125, 'advantages': 3126, 'definately': 3127, 'fios': 3128, 'accustomed': 3129, 'ill': 3130, 'mark': 3131, 'utilized': 3132, 'focused': 3133, 'bout': 3134, 'followed': 3135, 'dozens': 3136, 'intention': 3137, 'privacy': 3138, 'epub': 3139, 'bare': 3140, 'novel': 3141, 'clip': 3142, 'recognizing': 3143, 'attempted': 3144, 'tone': 3145, 'listened': 3146, 'promotion': 3147, 'extension': 3148, 'lineup': 3149, 'continuously': 3150, 'reviewing': 3151, 'understood': 3152, 'paperbacks': 3153, 'hello': 3154, 'youre': 3155, 'jail': 3156, 'pure': 3157, 'blu': 3158, 'fianc': 3159, 'elastic': 3160, 'invention': 3161, 'highlighting': 3162, 'paperwhites': 3163, 'footnote': 3164, 'ditch': 3165, 'guests': 3166, 'boom': 3167, 'emergency': 3168, 'assistants': 3169, 'uber': 3170, 'cutters': 3171, 'ps3': 3172, 'shines': 3173, 'borrowed': 3174, 'extensively': 3175, 'unusable': 3176, 'weekends': 3177, 'riding': 3178, 'recognized': 3179, 'launched': 3180, 'rapid': 3181, 'possibility': 3182, 'custom': 3183, 'worthless': 3184, 'restrict': 3185, 'addicted': 3186, 'mas': 3187, 'punch': 3188, 'realistic': 3189, 'goodness': 3190, 'wallpaper': 3191, 'fluid': 3192, 'satisfy': 3193, 'dosent': 3194, 'blah': 3195, 'stronger': 3196, 'reflection': 3197, 'bothersome': 3198, 'thankfully': 3199, 'slippery': 3200, 'somebody': 3201, 'pic': 3202, 'traded': 3203, 'modified': 3204, '7th': 3205, 'hd7': 3206, 'regards': 3207, 'processes': 3208, 'lovely': 3209, 'shutting': 3210, 'slimmer': 3211, 'slide': 3212, 'granted': 3213, 'shell': 3214, 'outperforms': 3215, 'youth': 3216, 'tint': 3217, 'logo': 3218, 'angles': 3219, 'jazz': 3220, 'placing': 3221, 'hanging': 3222, 'camping': 3223, 'mac': 3224, 'combo': 3225, 'groups': 3226, 'headlines': 3227, 'eating': 3228, 'flipping': 3229, 'november': 3230, 'facetime': 3231, 'holder': 3232, 'hair': 3233, 'casting': 3234, 'robot': 3235, 'reached': 3236, 'mirroring': 3237, 'nursing': 3238, 'misplaced': 3239, 'expired': 3240, 'kobo': 3241, 'plethora': 3242, 'pushes': 3243, 'cross': 3244, 'languages': 3245, 'dimmer': 3246, 'unobtrusive': 3247, 'overnight': 3248, 'lifting': 3249, 'grandfather': 3250, 'shocked': 3251, 'beating': 3252, 'lightest': 3253, 'resolved': 3254, 'pricy': 3255, 'ultimately': 3256, 'satisfying': 3257, 'reviewers': 3258, 'traveled': 3259, 'removing': 3260, 'balanced': 3261, 'metal': 3262, 'appealing': 3263, 'ugly': 3264, 'pixelated': 3265, 'death': 3266, 'south': 3267, 'official': 3268, 'occasions': 3269, 'amp': 3270, 'outrageous': 3271, 'discounts': 3272, 'uploading': 3273, 'surprising': 3274, 'rooted': 3275, 'nifty': 3276, 'attempts': 3277, 'closing': 3278, 'consideration': 3279, 'messenger': 3280, 'buddy': 3281, 'binge': 3282, 'tremendously': 3283, '5ghz': 3284, 'sends': 3285, 'leap': 3286, 'refused': 3287, 'fragile': 3288, 'texas': 3289, 'surfs': 3290, 'throwing': 3291, 'gifting': 3292, 'starters': 3293, 'dealing': 3294, 'sim': 3295, 'signing': 3296, 'sky': 3297, 'tape': 3298, 'selected': 3299, 'prefect': 3300, 'pressed': 3301, 'zone': 3302, 'aka': 3303, 'unknown': 3304, 'nightstand': 3305, 'brightest': 3306, 'newspapers': 3307, 'taps': 3308, 'racing': 3309, 'pushed': 3310, 'client': 3311, 'qualities': 3312, 'rewards': 3313, 'happening': 3314, 'remain': 3315, 'expert': 3316, '9yr': 3317, 'cellphone': 3318, 'fitbit': 3319, 'occupy': 3320, 'aux': 3321, 'associated': 3322, 'texting': 3323, 'walked': 3324, 'babies': 3325, 'fav': 3326, 'craft': 3327, 'inclined': 3328, 'mickey': 3329, 'canceling': 3330, '2yr': 3331, 'landscape': 3332, 'asap': 3333, 'competitors': 3334, 'ect': 3335, 'lead': 3336, 'pays': 3337, 'bough': 3338, 'remarkable': 3339, 'timely': 3340, 'street': 3341, 'checkout': 3342, 'continuous': 3343, 'matte': 3344, 'slides': 3345, 'unresponsive': 3346, 'irritating': 3347, 'encountered': 3348, 'necessity': 3349, 'gui': 3350, 'album': 3351, 'readings': 3352, 'spotty': 3353, 'intrigued': 3354, 'tie': 3355, 'body': 3356, 'rhymes': 3357, 'broadcast': 3358, 'rain': 3359, 'sport': 3360, 'extend': 3361, 'field': 3362, 'finished': 3363, 'delight': 3364, 'btw': 3365, 'genres': 3366, 'supposedly': 3367, 'porch': 3368, 'blends': 3369, 'increasing': 3370, 'measurements': 3371, 'genius': 3372, 'uverse': 3373, 'iheartradio': 3374, 'insteon': 3375, 'artists': 3376, 'limitless': 3377, 'helper': 3378, 'foot': 3379, 'spectrum': 3380, 'login': 3381, 'compares': 3382, 'flagship': 3383, 'gateway': 3384, 'ratio': 3385, 'doctors': 3386, 'wind': 3387, 'matched': 3388, 'problematic': 3389, 'inconvenient': 3390, 'fortunately': 3391, 'chosen': 3392, 'tutorials': 3393, 'spring': 3394, 'maps': 3395, 'resolve': 3396, 'differently': 3397, 'console': 3398, 'private': 3399, 'buggy': 3400, 'marketing': 3401, 'shoulder': 3402, 'walmart': 3403, 'asus': 3404, 'outdated': 3405, 'backlights': 3406, 'dying': 3407, 'kindel': 3408, 'rotate': 3409, 'seat': 3410, 'approve': 3411, 'att': 3412, 'specifications': 3413, 'amounts': 3414, 'killing': 3415, 'monitoring': 3416, 'effortlessly': 3417, 'visits': 3418, 'accidently': 3419, 'matching': 3420, 'wave': 3421, 'grandpa': 3422, 'produce': 3423, 'candy': 3424, 'webroot': 3425, 'televisions': 3426, 'final': 3427, 'equal': 3428, 'nbc': 3429, 'complaining': 3430, 'reluctant': 3431, 'destroyed': 3432, 'barnes': 3433, 'nature': 3434, 'eliminates': 3435, 'elegant': 3436, 'narrow': 3437, 'seeking': 3438, 'polished': 3439, 'scared': 3440, 'ridiculously': 3441, 'obsessed': 3442, 'misses': 3443, 'hardback': 3444, 'tweaking': 3445, 'consumer': 3446, 'responsibility': 3447, 'hates': 3448, 'sick': 3449, 'prepared': 3450, 'remaining': 3451, 'conclusion': 3452, 'array': 3453, 'tracking': 3454, 'unavailable': 3455, 'pockets': 3456, 'drains': 3457, 'bath': 3458, 'turner': 3459, 'illumination': 3460, 'upper': 3461, 'degrees': 3462, 'inconvenience': 3463, 'reconnect': 3464, 'remains': 3465, 'thirty': 3466, 'solidly': 3467, 'prongs': 3468, 'pressing': 3469, 'combine': 3470, 'drag': 3471, 'effectively': 3472, 'deleted': 3473, 'lunch': 3474, 'goodies': 3475, 'requirement': 3476, 'fixes': 3477, 'component': 3478, 'viewed': 3479, 'packaged': 3480, 'simplifies': 3481, 'appliance': 3482, 'transaction': 3483, 'empty': 3484, 'bookworm': 3485, 'slips': 3486, '8yr': 3487, 'accident': 3488, 'hole': 3489, 'rom': 3490, 'speaks': 3491, 'sight': 3492, 'concerns': 3493, 'twc': 3494, 'warner': 3495, 'libraries': 3496, 'confident': 3497, 'dependent': 3498, 'shock': 3499, 'proud': 3500, 'wrapped': 3501, 'indispensable': 3502, 'planes': 3503, 'crowd': 3504, 'operated': 3505, 'cluttered': 3506, 'blind': 3507, 'gor': 3508, 'tonight': 3509, 'tops': 3510, 'clerk': 3511, 'nite': 3512, 'troubles': 3513, 'prizes': 3514, 'experiences': 3515, 'alternatives': 3516, 'pocketbook': 3517, 'argue': 3518, 'follows': 3519, 'operations': 3520, 'tear': 3521, 'consuming': 3522, 'international': 3523, 'tapping': 3524, 'contacts': 3525, 'dining': 3526, 'complement': 3527, 'powering': 3528, 'stood': 3529, 'adjustments': 3530, 'responded': 3531, 'guard': 3532, 'suite': 3533, 'backs': 3534, 'conventional': 3535, 'organization': 3536, 'elementary': 3537, 'faulty': 3538, 'green': 3539, 'juice': 3540, 'dose': 3541, 'eat': 3542, 'fans': 3543, 'enhanced': 3544, 'icon': 3545, 'bent': 3546, 'impress': 3547, 'guides': 3548, 'painful': 3549, 'schooler': 3550, 'handicapped': 3551, 'offerings': 3552, 'vehicle': 3553, 'plugging': 3554, 'rental': 3555, 'stayed': 3556, 'wording': 3557, 'fewer': 3558, 'nfl': 3559, 'intend': 3560, 'january': 3561, 'dressed': 3562, 'headache': 3563, 'borrowing': 3564, 'caused': 3565, 'dirt': 3566, 'increases': 3567, 'canada': 3568, 'stages': 3569, 'episode': 3570, 'reducing': 3571, 'studying': 3572, 'football': 3573, 'surely': 3574, 'production': 3575, 'gain': 3576, 'hdtv': 3577, 'sunglasses': 3578, 'squeeze': 3579, 'selecting': 3580, 'thoughts': 3581, 'engaged': 3582, 'magical': 3583, 'stopping': 3584, 'mix': 3585, 'naturally': 3586, 'laugh': 3587, 'indestructible': 3588, 'preferences': 3589, 'stepped': 3590, 'shining': 3591, 'effortless': 3592, 'cave': 3593, 'creates': 3594, 'regard': 3595, 'spanish': 3596, 'neighbor': 3597, 'percent': 3598, 'quotes': 3599, 'evolving': 3600, 'sings': 3601, 'todo': 3602, 'sprinkler': 3603, 'verbal': 3604, 'experimenting': 3605, 'integral': 3606, 'honeywell': 3607, 'virtual': 3608, 'innovative': 3609, 'ecobee3': 3610, 'lutron': 3611, 'tunein': 3612, 'teams': 3613, 'simultaneously': 3614, 'eggs': 3615, 'spoken': 3616, 'hubs': 3617, 'compliment': 3618, 'programing': 3619, 'loyal': 3620, 'optical': 3621, 'rokus': 3622, 'directtv': 3623, '720p': 3624, 'colorful': 3625, 'fat': 3626, 'sooo': 3627, 'biased': 3628, 'refined': 3629, 'payment': 3630, 'method': 3631, 'fireos': 3632, 'caveat': 3633, 'unaware': 3634, 'prevents': 3635, 'viable': 3636, 'feed': 3637, 'temporary': 3638, 'subscribing': 3639, 'personalized': 3640, 'sells': 3641, 'perspective': 3642, 'foe': 3643, 'calculator': 3644, 'categories': 3645, 'booting': 3646, 'hitting': 3647, 'tad': 3648, 'descent': 3649, 'androids': 3650, 'recreational': 3651, 'outer': 3652, 'polite': 3653, 'camper': 3654, 'anniversary': 3655, 'competing': 3656, 'yahoo': 3657, 'streamlined': 3658, 'overcome': 3659, 'lesson': 3660, 'bike': 3661, 'dishes': 3662, 'counts': 3663, 'shiny': 3664, 'animal': 3665, 'wound': 3666, 'hiccups': 3667, 'stone': 3668, 'investments': 3669, 'cellular': 3670, 'project': 3671, 'lackluster': 3672, 'keeper': 3673, '10x': 3674, 'depth': 3675, 'lastly': 3676, 'explaining': 3677, 'drawbacks': 3678, 'accessed': 3679, 'functioned': 3680, 'ish': 3681, 'albums': 3682, 'recommends': 3683, 'accomplished': 3684, 'recharged': 3685, 'frankly': 3686, 'ruin': 3687, 'heaven': 3688, 'accordingly': 3689, 'mid': 3690, 'kendal': 3691, 'positives': 3692, 'restarting': 3693, '7inch': 3694, 'editing': 3695, 'sleeve': 3696, 'tangerine': 3697, 'questionable': 3698, 'toshiba': 3699, 'lens': 3700, 'criticism': 3701, 'exit': 3702, 'mouth': 3703, 'thousand': 3704, 'cheaply': 3705, 'ample': 3706, 'damages': 3707, 'reaction': 3708, 'goal': 3709, 'intense': 3710, 'someday': 3711, 'it’s': 3712, 'grainy': 3713, 'integrations': 3714, 'suit': 3715, 'timing': 3716, 'uploads': 3717, 'beauty': 3718, 'closes': 3719, 'science': 3720, 'ends': 3721, 'acess': 3722, 'economic': 3723, 'rotating': 3724, 'april': 3725, 'overhead': 3726, 'suffice': 3727, 'sensor': 3728, 'wallet': 3729, 'sounded': 3730, 'weigh': 3731, 'uniform': 3732, 'backward': 3733, 'fingerprints': 3734, 'loudly': 3735, 'arms': 3736, 'arrives': 3737, 'announced': 3738, 'i’m': 3739, 'don’t': 3740, 'textured': 3741, 'stunning': 3742, 'consume': 3743, 'audiophile': 3744, 'prob': 3745, 'february': 3746, 'sturdier': 3747, 'exposed': 3748, 'europe': 3749, 'dozen': 3750, 'lie': 3751, 'sunday': 3752, 'misleading': 3753, 'torn': 3754, 'goggle': 3755, 'prompted': 3756, 'calibre': 3757, 'pricier': 3758, 'kill': 3759, 'fought': 3760, 'suddenly': 3761, 'remembers': 3762, 'glowlight': 3763, 'efficiently': 3764, 'introductory': 3765, 'easter': 3766, 'telephone': 3767, 'leading': 3768, 'loop': 3769, 'shower': 3770, 'lucky': 3771, 'arrive': 3772, 'til': 3773, 'notification': 3774, 'iris': 3775, 'secret': 3776, 'wasting': 3777, 'passwords': 3778, 'repeated': 3779, 'appointment': 3780, 'stuffer': 3781, 'lifetime': 3782, 'blurry': 3783, 'cracking': 3784, 'homepage': 3785, 'musical': 3786, 'warning': 3787, 'inspired': 3788, 'marketplace': 3789, 'detail': 3790, 'mile': 3791, 'theft': 3792, '5yr': 3793, 'skipping': 3794, 'soo': 3795, 'hassles': 3796, 'assignments': 3797, 'productive': 3798, 'clever': 3799, 'routine': 3800, 'casing': 3801, 'club': 3802, 'amc': 3803, 'comic': 3804, 'disability': 3805, 'wins': 3806, 'award': 3807, 'lifesaver': 3808, 'xbmc': 3809, 'thumb': 3810, 'flixster': 3811, 'worker': 3812, 'pauses': 3813, 'kick': 3814, 'bothers': 3815, 'corrected': 3816, 'nope': 3817, 'verses': 3818, 'logged': 3819, 'docs': 3820, 'exist': 3821, 'kiddo': 3822, 'withstand': 3823, 'aloud': 3824, 'audiobook': 3825, 'housework': 3826, 'grate': 3827, 'supervision': 3828, 'wet': 3829, 'relevant': 3830, 'chinese': 3831, 'authors': 3832, 'shall': 3833, 'combines': 3834, 'bones': 3835, 'bonuses': 3836, '2gb': 3837, 'advise': 3838, 'doubles': 3839, 'lesser': 3840, 'expands': 3841, 'restaurants': 3842, 'batter': 3843, 'finicky': 3844, 'acct': 3845, 'struggled': 3846, 'solely': 3847, 'rivals': 3848, 'confined': 3849, 'constructed': 3850, 'church': 3851, 'conjunction': 3852, 'sesame': 3853, 'handbag': 3854, 'happily': 3855, 'keyboards': 3856, 'omg': 3857, 'imagination': 3858, 'asset': 3859, 'motion': 3860, 'entering': 3861, 'outs': 3862, 'mobility': 3863, 'uploaded': 3864, 'blocked': 3865, 'boots': 3866, 'treadmill': 3867, 'stationary': 3868, 'trash': 3869, 'reservations': 3870, 'quirky': 3871, 'shared': 3872, 'millions': 3873, 'refuse': 3874, 'conversations': 3875, 'lay': 3876, 'manner': 3877, 'develop': 3878, 'counting': 3879, 'adapt': 3880, 'indicated': 3881, 'configuration': 3882, 'transitions': 3883, 'disposal': 3884, 'strange': 3885, 'htpc': 3886, 'wears': 3887, 'thicker': 3888, 'struggling': 3889, 'cold': 3890, 'marks': 3891, 'ultimate': 3892, 'alphabet': 3893, 'understatement': 3894, 'duty': 3895, '1yr': 3896, 'reorder': 3897, 'grew': 3898, '300ppi': 3899, 'cooler': 3900, 'glaring': 3901, 'speedier': 3902, 'nighttime': 3903, 'generations': 3904, 'samples': 3905, 'uneven': 3906, 'nights': 3907, 'spaces': 3908, 'enabling': 3909, 'bread': 3910, 'artificial': 3911, 'suitcase': 3912, 'aid': 3913, 'scheduled': 3914, 'pw2': 3915, 'sensors': 3916, 'wealth': 3917, 'bits': 3918, 'dolby': 3919, 'convient': 3920, 'remotely': 3921, 'converting': 3922, 'interactions': 3923, 'jetsons': 3924, 'mute': 3925, 'schedules': 3926, 'cancelling': 3927, 'accuracy': 3928, 'communication': 3929, 'steroids': 3930, 'configured': 3931, 'heater': 3932, 'central': 3933, 'laundry': 3934, 'heating': 3935, 'accurately': 3936, 'tuning': 3937, 'subscribers': 3938, 'wirelessly': 3939, 'goodbye': 3940, 'wiring': 3941, 'ditched': 3942, 'aftv': 3943, 'dump': 3944, 'cbs': 3945, 'atv': 3946, 'brilliant': 3947, 'hardcore': 3948, 'magnet': 3949, 'multitasking': 3950, 'graduate': 3951, 'alternate': 3952, 'mastered': 3953, 'hoops': 3954, 'modest': 3955, 'reboots': 3956, 'onboard': 3957, 'magenta': 3958, 'nonstop': 3959, 'booklet': 3960, 'printing': 3961, 'driver': 3962, 'amazone': 3963, '8in': 3964, 'draining': 3965, 'gamer': 3966, 'displayed': 3967, 'uncomfortable': 3968, 'casually': 3969, 'dime': 3970, 'backwards': 3971, 'standards': 3972, 'dreamed': 3973, 'unreliable': 3974, 'wood': 3975, 'floors': 3976, 'googleplay': 3977, 'fed': 3978, 'rentals': 3979, 'popped': 3980, 'drove': 3981, 'sticky': 3982, 'rare': 3983, 'beforehand': 3984, 'aggravating': 3985, 'upgradable': 3986, 'fashioned': 3987, 'standpoint': 3988, 'north': 3989, 'priceless': 3990, 'rival': 3991, 'feb': 3992, 'roll': 3993, 'patterns': 3994, 'kicks': 3995, 'recording': 3996, 'failing': 3997, 'puzzle': 3998, 'responsible': 3999, 'dull': 4000, 'films': 4001, 'directed': 4002, 'childrens': 4003, 'struggles': 4004, 'pcs': 4005, 'antivirus': 4006, 'perfection': 4007, 'skin': 4008, 'appeared': 4009, 'certificate': 4010, 'individuals': 4011, 'noble': 4012, 'wifes': 4013, 'terribly': 4014, '32g': 4015, 'airline': 4016, 'industry': 4017, 'suggestion': 4018, 'retirement': 4019, 'scan': 4020, 'picky': 4021, 'hindsight': 4022, 'settling': 4023, '8th': 4024, 'admittedly': 4025, 'dissatisfied': 4026, 'viewer': 4027, 'angry': 4028, '8yo': 4029, 'powerhouse': 4030, 'atleast': 4031, 'competent': 4032, 'collections': 4033, 'smell': 4034, 'article': 4035, 'lieu': 4036, 'rapidly': 4037, 'recieved': 4038, 'steep': 4039, 'allot': 4040, 'glued': 4041, 'dictionaries': 4042, 'discontinued': 4043, 'cabin': 4044, 'purses': 4045, 'haptic': 4046, 'ounces': 4047, 'pace': 4048, 'snug': 4049, 'mileage': 4050, 'minimize': 4051, 'closure': 4052, 'folds': 4053, 'fear': 4054, 'gorgeous': 4055, 'grey': 4056, 'chooses': 4057, 'registering': 4058, 'satisfaction': 4059, 'produced': 4060, 'pod': 4061, 'muy': 4062, 'thankful': 4063, 'adaptor': 4064, 'identify': 4065, 'cart': 4066, 'killed': 4067, 'securely': 4068, 'simplistic': 4069, 'hurting': 4070, 'sleeker': 4071, 'visibility': 4072, 'touched': 4073, 'savers': 4074, 'recorded': 4075, 'universe': 4076, 'damaging': 4077, 'worm': 4078, 'erase': 4079, 'emailing': 4080, 'earned': 4081, 'fro': 4082, 'thier': 4083, 'faces': 4084, 'hasnt': 4085, 'welcomed': 4086, 'beaten': 4087, 'installs': 4088, 'removes': 4089, 'honor': 4090, 'target': 4091, 'grands': 4092, 'charts': 4093, 'heads': 4094, 'ultraviolet': 4095, 'forty': 4096, 'tank': 4097, 'rush': 4098, 'shame': 4099, 'nicest': 4100, '2year': 4101, 'forums': 4102, 'abundance': 4103, 'beside': 4104, 'mod': 4105, 'entertainer': 4106, 'techies': 4107, 'plans': 4108, 'excel': 4109, 'powerpoint': 4110, 'disadvantage': 4111, 'burn': 4112, 'altogether': 4113, 'daycare': 4114, 'restarted': 4115, 'angel': 4116, 'seams': 4117, 'bummer': 4118, '8year': 4119, 'baught': 4120, 'perk': 4121, 'cartoon': 4122, 'workarounds': 4123, 'networking': 4124, 'july': 4125, 'destructive': 4126, 'involved': 4127, 'downsides': 4128, 'gal': 4129, 'freak': 4130, 'apk': 4131, 'crashes': 4132, 'pluto': 4133, 'laid': 4134, 'century': 4135, 'introducing': 4136, 'roughly': 4137, 'animation': 4138, 'zoom': 4139, 'lifestyle': 4140, 'grateful': 4141, 'disconnected': 4142, 'disappear': 4143, 'reminded': 4144, 'drives': 4145, 'lettering': 4146, 'moms': 4147, 'forcing': 4148, 'chore': 4149, 'exceptionally': 4150, 'wires': 4151, 'papers': 4152, 'gathering': 4153, 'visited': 4154, 'blazing': 4155, 'slowed': 4156, 'inferior': 4157, 'intro': 4158, 'developers': 4159, '6year': 4160, 'respect': 4161, 'flashy': 4162, 'nooks': 4163, 'refuses': 4164, 'toilet': 4165, 'disabled': 4166, 'goddaughter': 4167, 'pausing': 4168, 'mount': 4169, 'displaying': 4170, 'gray': 4171, 'relationship': 4172, 'driven': 4173, 'obtain': 4174, 'repeating': 4175, 'reservation': 4176, 'carefully': 4177, 'retail': 4178, 'washed': 4179, 'seemingly': 4180, 'mins': 4181, 'heats': 4182, 'cuts': 4183, 'wars': 4184, 'garbage': 4185, 'washer': 4186, 'caring': 4187, 'cup': 4188, 'addressed': 4189, 'actors': 4190, 'condo': 4191, 'understandable': 4192, 'reinstall': 4193, 'lonely': 4194, 'opt': 4195, 'confirm': 4196, 'projector': 4197, 'ins': 4198, 'restaurant': 4199, 'fanboy': 4200, 'cars': 4201, 'promise': 4202, 'ball': 4203, 'journey': 4204, 'persons': 4205, 'clue': 4206, 'jbl': 4207, 'kicking': 4208, 'trusted': 4209, 'similarly': 4210, 'amzon': 4211, 'reccommend': 4212, 'joined': 4213, 'obsolete': 4214, 'enhancements': 4215, 'houses': 4216, 'firefox': 4217, 'tendency': 4218, 'bug': 4219, 'noisy': 4220, 'autism': 4221, 'reply': 4222, 'badly': 4223, 'pluses': 4224, 'cents': 4225, 'meeting': 4226, 'surpasses': 4227, 'hardest': 4228, 'promptly': 4229, 'closely': 4230, 'loosing': 4231, 'assured': 4232, 'robots': 4233, 'maintenance': 4234, 'quarter': 4235, 'cat': 4236, 'lightly': 4237, 'defiantly': 4238, 'sections': 4239, 'nursery': 4240, 'countries': 4241, 'hbogo': 4242, 'programmable': 4243, 'redundant': 4244, 'wishing': 4245, 'rolled': 4246, 'adopter': 4247, 'wasted': 4248, 'cache': 4249, 'shortly': 4250, 'gaining': 4251, 'prepare': 4252, 'advancement': 4253, 'jumps': 4254, 'anyday': 4255, 'dyslexic': 4256, 'clicks': 4257, 'iam': 4258, 'becuase': 4259, 'subtle': 4260, 'bookerly': 4261, 'highlighted': 4262, 'classics': 4263, 'jewel': 4264, 'affect': 4265, 'eink': 4266, 'undecided': 4267, 'believer': 4268, 'lightbulbs': 4269, 'king': 4270, 'backyard': 4271, 'texts': 4272, 'committed': 4273, 'sliced': 4274, 'encyclopedia': 4275, 'tedious': 4276, 'interruptions': 4277, 'begins': 4278, 'raise': 4279, 'esp': 4280, 'releasing': 4281, 'describe': 4282, 'resets': 4283, 'pointless': 4284, 'alerts': 4285, 'physically': 4286, 'certified': 4287, 'airplay': 4288, 'singing': 4289, 'humor': 4290, 'workout': 4291, 'sceptical': 4292, 'listener': 4293, 'vivint': 4294, 'amusing': 4295, 'stump': 4296, 'classical': 4297, 'personality': 4298, 'retrieve': 4299, 'iot': 4300, 'devises': 4301, 'moa': 4302, 'raved': 4303, 'verbally': 4304, 'gimmick': 4305, 'walls': 4306, 'siriusxm': 4307, 'opener': 4308, 'breakfast': 4309, 'bulb': 4310, 'cortana': 4311, 'circle': 4312, 'yelling': 4313, 'detect': 4314, 'controllers': 4315, 'enterprise': 4316, 'kinks': 4317, 'errors': 4318, 'spells': 4319, 'avail': 4320, 'cradle': 4321, 'powerfast': 4322, 'referred': 4323, 'seam': 4324, 'trials': 4325, 'eliminated': 4326, 'mbps': 4327, 'costing': 4328, 'futuristic': 4329, 'entered': 4330, 'giant': 4331, 'twitch': 4332, 'meetings': 4333, 'streamline': 4334, 'vlc': 4335, 'wether': 4336, 'steady': 4337, 'launcher': 4338, 'passes': 4339, 'offices': 4340, '60s': 4341, '100s': 4342, '200gb': 4343, 'tailored': 4344, 'slows': 4345, 'tasking': 4346, 'slowing': 4347, 'smartphones': 4348, 'slots': 4349, 'flying': 4350, 'amongst': 4351, 'namely': 4352, 'builtin': 4353, 'beef': 4354, 'formatted': 4355, 'york': 4356, 'foray': 4357, 'american': 4358, 'jumping': 4359, '9th': 4360, 'padded': 4361, 'cracks': 4362, 'repair': 4363, 'ubiquitous': 4364, 'reputable': 4365, 'keypad': 4366, 'astounding': 4367, 'competes': 4368, 'warrant': 4369, 'sudden': 4370, 'whilst': 4371, 'ticking': 4372, 'hints': 4373, 'achieve': 4374, 'designated': 4375, 'sis': 4376, 'scheduling': 4377, 'mexico': 4378, 'stepping': 4379, 'webpage': 4380, 'shades': 4381, 'mailed': 4382, 'estate': 4383, 'disconcerting': 4384, 'lockscreen': 4385, 'permanently': 4386, 'distinguish': 4387, 'shopped': 4388, 'arthritis': 4389, 'replaceable': 4390, 'todays': 4391, 'secondly': 4392, 'locking': 4393, 'destroy': 4394, 'underpowered': 4395, 'yoga': 4396, 'reflective': 4397, 'tine': 4398, 'art': 4399, 'travelers': 4400, 'actions': 4401, 'manuals': 4402, 'pokemon': 4403, 'verify': 4404, 'processors': 4405, 'intermediate': 4406, 'panel': 4407, 'hearts': 4408, 'watcher': 4409, 'dig': 4410, '1gb': 4411, 'failure': 4412, 'temporarily': 4413, 'burning': 4414, 'bundled': 4415, 'reg': 4416, 'encourages': 4417, 'catalog': 4418, 'solutions': 4419, 'centered': 4420, 'afternoon': 4421, 'sees': 4422, 'portal': 4423, 'arounds': 4424, 'brick': 4425, 'appearing': 4426, 'hurts': 4427, 'convince': 4428, 'birds': 4429, 'periodically': 4430, 'splurge': 4431, 'scenes': 4432, 'adopted': 4433, 'fitness': 4434, 'acquainted': 4435, 'marvel': 4436, 'sandisk': 4437, 'insisted': 4438, 'spreadsheets': 4439, 'stinks': 4440, 'alert': 4441, 'headline': 4442, 'notebook': 4443, 'wrapping': 4444, 'exclusive': 4445, 'assuming': 4446, 'preteen': 4447, 'session': 4448, 'poolside': 4449, 'bound': 4450, 'swipes': 4451, 'nose': 4452, 'opportunities': 4453, 'merlot': 4454, 'smallest': 4455, 'renting': 4456, 'leds': 4457, 'brainier': 4458, 'boost': 4459, 'addict': 4460, 'evenly': 4461, 'apparent': 4462, 'conveniently': 4463, 'reduction': 4464, 'female': 4465, 'passages': 4466, 'longest': 4467, 'straining': 4468, 'delicate': 4469, 'kudos': 4470, 'dropbox': 4471, 'monday': 4472, 'manageable': 4473, 'pet': 4474, 'syndrome': 4475, 'lte': 4476, 'tying': 4477, 'extent': 4478, 'october': 4479, 'surprises': 4480, 'resetting': 4481, 'repeatedly': 4482, 'excellant': 4483, 'assure': 4484, 'awaiting': 4485, 'arrival': 4486, 'watts': 4487, 'ate': 4488, 'dissapointed': 4489, 'health': 4490, 'marvelous': 4491, 'rip': 4492, 'alittle': 4493, 'labeled': 4494, 'unbelievably': 4495, 'mobi': 4496, 'blow': 4497, 'thinnest': 4498, 'monopoly': 4499, 'adaptable': 4500, 'exited': 4501, 'jobs': 4502, 'guidance': 4503, 'intimidating': 4504, 'beast': 4505, 'restore': 4506, 'kidding': 4507, 'swap': 4508, 'upgradeable': 4509, 'deaf': 4510, 'elephant': 4511, 'ranging': 4512, 'git': 4513, 'arena': 4514, 'nonetheless': 4515, 'amaze': 4516, 'purchaser': 4517, 'spite': 4518, 'promotional': 4519, 'recall': 4520, 'demanding': 4521, 'grandbaby': 4522, 'introduce': 4523, 'guru': 4524, 'shutdown': 4525, 'wishes': 4526, 'creation': 4527, 'passable': 4528, 'stretch': 4529, 'playtime': 4530, 'preschoolers': 4531, 'snapchat': 4532, 'girlfriends': 4533, 'approx': 4534, 'communications': 4535, 'dads': 4536, 'notices': 4537, 'shortcoming': 4538, 'starbucks': 4539, 'tomorrow': 4540, 'impression': 4541, 'anxious': 4542, 'printer': 4543, 'emulators': 4544, 'refrigerator': 4545, 'memorable': 4546, 'foster': 4547, 'survives': 4548, 'stepdaughter': 4549, 'chances': 4550, 'largest': 4551, 'seemless': 4552, 'neatly': 4553, 'textbook': 4554, 'assortment': 4555, 'unfamiliar': 4556, 'babysitter': 4557, 'fields': 4558, 'creepy': 4559, '10yr': 4560, 'utube': 4561, 'dearly': 4562, 'kindergarten': 4563, 'definetly': 4564, 'manufacturers': 4565, 'touches': 4566, 'stress': 4567, 'ancient': 4568, 'fort': 4569, 'clients': 4570, 'donate': 4571, 'specify': 4572, 'renew': 4573, 'resulting': 4574, 'assumed': 4575, 'biggie': 4576, 'severely': 4577, 'demo': 4578, 'arguing': 4579, 'arguments': 4580, 'cam': 4581, 'apprehensive': 4582, 'cheep': 4583, 'avoided': 4584, 'host': 4585, 'operator': 4586, 'stole': 4587, 'map': 4588, 'invaluable': 4589, 'women': 4590, 'bend': 4591, 'posted': 4592, 'ugh': 4593, 'wonky': 4594, 'registration': 4595, 'community': 4596, 'subjects': 4597, 'serving': 4598, 'troubleshooting': 4599, 'expandability': 4600, 'stuffers': 4601, 'caved': 4602, 'shopper': 4603, 'wrote': 4604, 'builds': 4605, 'flowers': 4606, 'holy': 4607, 'cds': 4608, 'formats': 4609, 'initialize': 4610, 'costumer': 4611, 'splurged': 4612, 'corners': 4613, 'disk': 4614, 'documentation': 4615, 'approach': 4616, 'massive': 4617, 'hurry': 4618, 'appeal': 4619, 'operational': 4620, 'excels': 4621, '4yo': 4622, 'inputs': 4623, 'upright': 4624, 'servers': 4625, 'elmo': 4626, 'completing': 4627, 'icloud': 4628, 'enlarged': 4629, 'coworker': 4630, 'inserted': 4631, 'startup': 4632, 'cheat': 4633, 'fave': 4634, 'browses': 4635, 'preset': 4636, 'frames': 4637, 'snugly': 4638, 'flow': 4639, 'preferably': 4640, 'ratings': 4641, 'bump': 4642, 'nowadays': 4643, 'engines': 4644, 'idle': 4645, 'dryer': 4646, 'blocking': 4647, 'dimly': 4648, 'warming': 4649, 'youngster': 4650, 'shapes': 4651, 'samsungs': 4652, 'dogs': 4653, 'hollow': 4654, 'planet': 4655, 'apt': 4656, 'relief': 4657, 'prompts': 4658, 'clips': 4659, 'reputation': 4660, 'dreams': 4661, 'interfere': 4662, 'hesitated': 4663, 'persuaded': 4664, 'adware': 4665, 'nevertheless': 4666, 'infant': 4667, 'apply': 4668, 'sleeps': 4669, 'slowness': 4670, '70s': 4671, 'reaching': 4672, 'obtained': 4673, 'simplified': 4674, 'reproduction': 4675, 'hefty': 4676, 'airplanes': 4677, 'pose': 4678, 'lake': 4679, 'pun': 4680, 'swore': 4681, 'preparing': 4682, 'defaults': 4683, 'screensaver': 4684, 'equipped': 4685, 'bummed': 4686, 'lightening': 4687, 'daugther': 4688, 'moderately': 4689, 'bridge': 4690, 'neck': 4691, 'bags': 4692, 'stutter': 4693, 'bumps': 4694, 'bay': 4695, 'fallen': 4696, 'partial': 4697, 'wowwee': 4698, 'merchandise': 4699, 'cookbooks': 4700, 'mixed': 4701, 'shortcomings': 4702, 'expansive': 4703, 'hitch': 4704, 'rename': 4705, 'affected': 4706, 'japanese': 4707, 'mommy': 4708, 'messed': 4709, 'bluray': 4710, 'freely': 4711, 'nearest': 4712, 'activating': 4713, 'author': 4714, 'peasy': 4715, 'appts': 4716, 'hawaii': 4717, 'kicked': 4718, 'portion': 4719, 'loudness': 4720, 'resistance': 4721, 'dims': 4722, '80s': 4723, 'gizmo': 4724, 'genuine': 4725, 'notepad': 4726, 'exterior': 4727, 'los': 4728, 'clearing': 4729, 'yearly': 4730, 'droid': 4731, 'supporting': 4732, 'clubhouse': 4733, 'yay': 4734, 'scary': 4735, 'hidden': 4736, 'launch': 4737, 'topics': 4738, 'settle': 4739, 'dimmed': 4740, 'reaches': 4741, 'moon': 4742, 'dragging': 4743, 'whitepaper': 4744, 'resisted': 4745, 'builder': 4746, 'annoy': 4747, 'manufactured': 4748, 'precision': 4749, 'contacting': 4750, 'toggle': 4751, 'habits': 4752, 'hardcover': 4753, 'recognise': 4754, 'luggage': 4755, 'transitioning': 4756, 'gimmicks': 4757, 'character': 4758, 'static': 4759, 'electronically': 4760, 'lightness': 4761, 'ghost': 4762, 'soothing': 4763, 'bookbub': 4764, 'luxury': 4765, 'optimized': 4766, 'raises': 4767, 'safer': 4768, 'disliked': 4769, 'additions': 4770, 'translation': 4771, 'smartest': 4772, 'blink': 4773, 'highs': 4774, 'sec': 4775, 'chapter': 4776, 'react': 4777, 'yep': 4778, 'seldom': 4779, 'blacks': 4780, 'didn’t': 4781, 'financial': 4782, 'hunt': 4783, 'gear': 4784, 'innovation': 4785, 'rounded': 4786, 'shares': 4787, 'topic': 4788, 'remedy': 4789, 'overheat': 4790, 'christian': 4791, 'serbia': 4792, 'cdn': 4793, 'knocking': 4794, 'context': 4795, 'rains': 4796, 'housewarming': 4797, 'tower': 4798, 'witty': 4799, 'dancing': 4800, 'meditation': 4801, 'hmmm': 4802, 'laughs': 4803, 'database': 4804, 'depot': 4805, 'disconnects': 4806, 'voila': 4807, 'replies': 4808, 'instruct': 4809, 'mics': 4810, 'howard': 4811, 'disconnecting': 4812, 'calculations': 4813, 'automating': 4814, 'gimmicky': 4815, 'control4': 4816, 'addictive': 4817, 'lyrics': 4818, 'appropriately': 4819, 'boo': 4820, 'amusement': 4821, 'manages': 4822, 'npr': 4823, 'obscure': 4824, 'existent': 4825, 'treble': 4826, 'dominos': 4827, 'steve': 4828, 'neighbors': 4829, 'rates': 4830, 'actor': 4831, 'api': 4832, 'facility': 4833, 'rachio': 4834, 'hopper': 4835, 'stumped': 4836, 'theaters': 4837, 'chores': 4838, 'dorm': 4839, 'precise': 4840, 'alexas': 4841, 'standalone': 4842, 'dry': 4843, 'mlb': 4844, 'rave': 4845, 'era': 4846, 'listings': 4847, 'belkin': 4848, 'screaming': 4849, 'keywords': 4850, 'philip': 4851, 'tub': 4852, 'bec': 4853, 'sprinklers': 4854, 'soundlink': 4855, 'roommate': 4856, 'discovery': 4857, 'feeds': 4858, 'calendars': 4859, 'sewing': 4860, 'directional': 4861, 'earth': 4862, 'lows': 4863, '4ghz': 4864, 'nas': 4865, 'tour': 4866, 'hd10': 4867, 'expenses': 4868, 'psvue': 4869, 'ether': 4870, 'navagate': 4871, 'forwarding': 4872, 'reliably': 4873, 'addons': 4874, 'fps': 4875, 'cat5': 4876, 'accesses': 4877, 'inlaws': 4878, 'schooled': 4879, 'leaning': 4880, 'saavy': 4881, 'depend': 4882, 'velcro': 4883, 'steals': 4884, 'scale': 4885, 'traveler': 4886, 'fat32': 4887, 'ntfs': 4888, 'kaspersky': 4889, 'mp4': 4890, 'truck': 4891, 'arent': 4892, 'posts': 4893, 'vanilla': 4894, 'subsidize': 4895, 'homeschool': 4896, 'viber': 4897, 'mayday': 4898, 'fierce': 4899, 'convinient': 4900, 'easyer': 4901, 'overloaded': 4902, 'associates': 4903, 'dos': 4904, 'hangs': 4905, 'forms': 4906, 'kiosk': 4907, 'drone': 4908, 'strikes': 4909, 'weighing': 4910, 'recharges': 4911, 'pointed': 4912, 'throughly': 4913, 'fork': 4914, 'courses': 4915, 'freebies': 4916, 'unread': 4917, 'bullet': 4918, 'greats': 4919, 'vendor': 4920, 'shoot': 4921, 'satified': 4922, 'respectable': 4923, 'garden': 4924, 'philosophy': 4925, 'experimental': 4926, 'lightens': 4927, 'novices': 4928, 'humans': 4929, 'demonstrate': 4930, 'tweaks': 4931, 'agent': 4932, 'gpu': 4933, 'minimally': 4934, 'cruising': 4935, 'restrictive': 4936, 'marriage': 4937, 'sentences': 4938, 'heartbeat': 4939, 'awesomeness': 4940, 'parameters': 4941, 'longtime': 4942, 'casino': 4943, 'attempting': 4944, 'economy': 4945, 'knitting': 4946, '7in': 4947, 'reclining': 4948, 'leg': 4949, 'assisted': 4950, 'overheating': 4951, 'eve': 4952, 'preinstalled': 4953, 'satisfies': 4954, 'docx': 4955, 'desires': 4956, 'permission': 4957, 'greenish': 4958, 'yellowish': 4959, 'tones': 4960, 'accommodate': 4961, 'unwrapped': 4962, 'truely': 4963, 'thorough': 4964, 'decode': 4965, 'stopper': 4966, 'weighted': 4967, 'ips': 4968, 'icing': 4969, 'discreet': 4970, 'browsers': 4971, 'converted': 4972, 'facebooking': 4973, 'ghz': 4974, 'workaround': 4975, 'redbox': 4976, 'belong': 4977, 'landed': 4978, 'convincing': 4979, 'overjoyed': 4980, 'memberships': 4981, 'sheet': 4982, 'codes': 4983, 'sided': 4984, 'theses': 4985, 'transferring': 4986, 'spine': 4987, 'appreciation': 4988, 'precious': 4989, 'discussing': 4990, 'cares': 4991, 'fruit': 4992, 'statement': 4993, 'subsidized': 4994, 'objective': 4995, 'embarrassing': 4996, 'alas': 4997, 'mines': 4998, 'safely': 4999, 'collecting': 5000, 'doc': 5001, 'appt': 5002, 'wrap': 5003, 'deeply': 5004, 'specials': 5005, 'expects': 5006, 'remarkably': 5007, 'explains': 5008, 'buds': 5009, 'bravo': 5010, 'criteria': 5011, 'schooling': 5012, 'taller': 5013, 'income': 5014, 'jeans': 5015, 'promises': 5016, 'raining': 5017, 'unreal': 5018, 'rectangular': 5019, 'measured': 5020, 'freaking': 5021, 'replacements': 5022, 'cautious': 5023, 'fiddle': 5024, 'june': 5025, 'designs': 5026, 'briefcase': 5027, 'separated': 5028, 'fatigue': 5029, 'attract': 5030, 'deserves': 5031, 'modify': 5032, 'lovin': 5033, 'smells': 5034, 'sessions': 5035, 'upside': 5036, 'detached': 5037, 'snaps': 5038, 'align': 5039, 'triple': 5040, 'pulls': 5041, 'folding': 5042, 'tan': 5043, 'upward': 5044, 'inadvertently': 5045, 'clasp': 5046, 'securing': 5047, 'subpar': 5048, 'reviewer': 5049, 'fresh': 5050, 'commented': 5051, 'letter': 5052, 'representative': 5053, 'newstand': 5054, 'handful': 5055, 'relying': 5056, 'tinny': 5057, 'restricts': 5058, 'zippy': 5059, 'bleed': 5060, 'unfortunate': 5061, 'repairs': 5062, 'fanatic': 5063, 'meh': 5064, 'buyers': 5065, 'backed': 5066, 'intact': 5067, 'chord': 5068, 'unnecessarily': 5069, '1000ma': 5070, 'fiction': 5071, 'excelente': 5072, 'asia': 5073, 'favorable': 5074, 'idevices': 5075, 'disclosure': 5076, 'watt': 5077, 'ending': 5078, 'bee': 5079, 'spares': 5080, 'excessive': 5081, 'earphones': 5082, 'daytime': 5083, 'eighth': 5084, 'backpacking': 5085, 'truthfully': 5086, 'reduces': 5087, 'touchy': 5088, 'xda': 5089, 'earning': 5090, 'folio': 5091, 'paced': 5092, 'contest': 5093, 'trains': 5094, 'ecstatic': 5095, 'destroys': 5096, 'aug': 5097, 'citizens': 5098, 'amzn': 5099, 'chromebook': 5100, 'minded': 5101, 'tethered': 5102, 'coins': 5103, 'tha': 5104, 'chromcast': 5105, '1000s': 5106, 'razor': 5107, 'cheers': 5108, 'sweat': 5109, 'whispersync': 5110, 'abundant': 5111, 'smudge': 5112, 'nightly': 5113, 'restricting': 5114, 'engage': 5115, 'abcmouse': 5116, 'chains': 5117, 'arrangement': 5118, 'specialized': 5119, 'uncertain': 5120, 'unauthorized': 5121, 'multitask': 5122, 'gas': 5123, 'ought': 5124, 'grandkid': 5125, 'useage': 5126, 'fullest': 5127, 'suggests': 5128, 'sensible': 5129, 'crunchyroll': 5130, 'recommendable': 5131, 'witch': 5132, 'bite': 5133, 'realy': 5134, 'pillow': 5135, 'ear': 5136, 'flap': 5137, 'flips': 5138, 'tempting': 5139, 'internally': 5140, 'nagging': 5141, 'unlocked': 5142, 'forgets': 5143, 'headsets': 5144, 'antiglare': 5145, 'peaceful': 5146, 'grabbing': 5147, 'realizing': 5148, 'grades': 5149, 'advised': 5150, 'booted': 5151, 'twenty': 5152, 'removable': 5153, 'coz': 5154, 'plagued': 5155, 'secured': 5156, 'bust': 5157, 'cleared': 5158, 'tumblr': 5159, 'density': 5160, 'proves': 5161, 'complants': 5162, 'ordinary': 5163, 'chrismas': 5164, 'gradually': 5165, 'ita': 5166, 'officially': 5167, 'repurchase': 5168, 'scriptures': 5169, 'meaningful': 5170, 'messes': 5171, 'positively': 5172, 'pintrest': 5173, 'economist': 5174, 'concrete': 5175, 'excedes': 5176, 'purchasers': 5177, 'projects': 5178, 'advert': 5179, 'guessing': 5180, 'texture': 5181, 'tier': 5182, 'inclusion': 5183, 'raising': 5184, 'proce': 5185, 'multiplayer': 5186, 'anyhow': 5187, 'enhances': 5188, 'skyping': 5189, 'moneys': 5190, 'convienent': 5191, 'legs': 5192, 'bedside': 5193, 'suffer': 5194, 'elated': 5195, 'void': 5196, 'ware': 5197, 'compute': 5198, 'megapixels': 5199, 'incentives': 5200, 'restriction': 5201, 'inserts': 5202, 'thr': 5203, 'interruption': 5204, 'island': 5205, 'extraordinary': 5206, 'diagrams': 5207, 'embedded': 5208, 'ohio': 5209, 'hill': 5210, 'snd': 5211, 'theyre': 5212, 'googles': 5213, 'amozon': 5214, 'strength': 5215, 'spy': 5216, 'cow': 5217, 'lounge': 5218, 'abroad': 5219, 'stepson': 5220, 'staple': 5221, 'bookmarks': 5222, 'thomas': 5223, 'china': 5224, 'intensity': 5225, 'disc': 5226, 'basketball': 5227, 'commonly': 5228, 'annual': 5229, 'fri': 5230, 'coloring': 5231, 'vegas': 5232, 'raised': 5233, 'cyber': 5234, 'bless': 5235, 'shattered': 5236, 'procedure': 5237, 'pry': 5238, 'mike': 5239, 'approximately': 5240, 'portrait': 5241, 'eliminating': 5242, 'caching': 5243, 'swimming': 5244, 'buses': 5245, 'ver': 5246, 'cleaner': 5247, 'warned': 5248, 'fiancee': 5249, 'wotks': 5250, 'manipulate': 5251, 'lark': 5252, 'airlines': 5253, 'flag': 5254, 'iterations': 5255, 'dealt': 5256, 'tuff': 5257, 'bingo': 5258, 'cycles': 5259, 'regulate': 5260, 'heartbroken': 5261, 'nuts': 5262, 'individually': 5263, 'vendors': 5264, 'stubborn': 5265, 'dispute': 5266, 'bogged': 5267, 'props': 5268, 'instructional': 5269, 'drawing': 5270, 'synched': 5271, 'formatting': 5272, 'experiencing': 5273, 'contract': 5274, 'vacuum': 5275, 'reconnecting': 5276, 'usd': 5277, 'sucked': 5278, 'dates': 5279, 'certificates': 5280, 'indicator': 5281, 'batch': 5282, 'bookstore': 5283, 'dang': 5284, 'sensation': 5285, 'charter': 5286, 'pulse': 5287, 'knowledgable': 5288, 'homerun': 5289, '5mm': 5290, 'useeasy': 5291, 'verified': 5292, 'momma': 5293, 'minis': 5294, 'airports': 5295, 'defeats': 5296, 'promotes': 5297, 'fortunate': 5298, 'fare': 5299, 'sum': 5300, 'colour': 5301, 'varied': 5302, 'mall': 5303, 'impact': 5304, 'educated': 5305, 'communicating': 5306, 'coworkers': 5307, 'cabinet': 5308, 'esay': 5309, 'fifteen': 5310, 'everday': 5311, 'golden': 5312, 'payments': 5313, 'shout': 5314, 'alleviate': 5315, 'consumers': 5316, 'pitch': 5317, 'optimal': 5318, 'childproof': 5319, 'seek': 5320, 'defects': 5321, 'pinch': 5322, 'adapting': 5323, 'realm': 5324, 'oddly': 5325, 'noticing': 5326, 'yea': 5327, 'imho': 5328, 'dice': 5329, 'choppy': 5330, 'cry': 5331, 'opera': 5332, 'attribute': 5333, 'bff': 5334, 'aimed': 5335, 'exchanging': 5336, 'compensate': 5337, 'absolutly': 5338, 'faced': 5339, 'considerable': 5340, 'getjar': 5341, '21st': 5342, 'butter': 5343, 'commuting': 5344, 'multipurpose': 5345, 'newbie': 5346, 'hire': 5347, 'personalize': 5348, 'contains': 5349, 'attachment': 5350, 'critical': 5351, 'dash': 5352, 'aswell': 5353, 'fond': 5354, 'lengthy': 5355, 'fidelity': 5356, 'mip': 5357, 'customizing': 5358, 'phase': 5359, 'blame': 5360, 'diverse': 5361, 'incident': 5362, 'complications': 5363, 'applying': 5364, 'wash': 5365, 'sone': 5366, 'korean': 5367, 'rings': 5368, 'fore': 5369, 'ise': 5370, 'advances': 5371, 'wdtv': 5372, 'niche': 5373, 'elements': 5374, 'dauther': 5375, 'anticipate': 5376, 'rules': 5377, 'theatre': 5378, 'disabilities': 5379, 'instructed': 5380, 'hockey': 5381, 'earbuds': 5382, 'digitally': 5383, 'returns': 5384, 'insane': 5385, 'mtv': 5386, 'horizontal': 5387, 'layer': 5388, 'gigabytes': 5389, 'scope': 5390, 'pesky': 5391, 'voracious': 5392, 'quirk': 5393, 'traditionalist': 5394, 'downgraded': 5395, 'packing': 5396, 'importance': 5397, 'visa': 5398, 'mild': 5399, 'independent': 5400, 'repossess': 5401, 'swapped': 5402, 'assists': 5403, 'describing': 5404, 'charity': 5405, 'hes': 5406, 'drinks': 5407, 'excitement': 5408, 'blotches': 5409, 'dictate': 5410, 'crucial': 5411, 'implemented': 5412, 'bubble': 5413, 'difficulties': 5414, 'tapes': 5415, 'march': 5416, 'object': 5417, 'incorporate': 5418, 'treated': 5419, 'engineered': 5420, 'energy': 5421, 'glowing': 5422, 'iffy': 5423, 'warmer': 5424, 'nintendo': 5425, 'bleeding': 5426, 'ice': 5427, 'unparalleled': 5428, 'umbrella': 5429, 'render': 5430, 'crown': 5431, 'darkened': 5432, 'stability': 5433, 'melatonin': 5434, 'variable': 5435, 'it´s': 5436, 'vacations': 5437, 'paperless': 5438, 'burden': 5439, 'shine': 5440, 'fumbling': 5441, 'firm': 5442, 'brightly': 5443, 'dial': 5444, 'define': 5445, 'delightful': 5446, 'role': 5447, 'loyalty': 5448, 'blew': 5449, 'don´t': 5450, 'swing': 5451, 'shadow': 5452, 'illuminated': 5453, 'graduating': 5454, 'reluctantly': 5455, 'literature': 5456, 'dear': 5457, 'inbuilt': 5458, 'effects': 5459, 'defined': 5460, 'chapters': 5461, 'techno': 5462, 'unclear': 5463, 'valentine': 5464, 'swedish': 5465, 'sue': 5466, 'unplugging': 5467, 'lacked': 5468, 'thereby': 5469, 'hilarious': 5470, 'listing': 5471, 'waits': 5472, 'stage': 5473, 'sporadic': 5474, 'resting': 5475, 'lame': 5476, 'suffers': 5477, 'rushed': 5478, 'folded': 5479, 'sofa': 5480, 'lurve': 5481, 'promote': 5482, 'born': 5483, 'merely': 5484, 'macular': 5485, 'degeneration': 5486, 'shadows': 5487, 'instrumental': 5488, 'conveniences': 5489, 'receptive': 5490, 'lifestyles': 5491, 'unused': 5492, 'priority': 5493, 'pile': 5494, 'interior': 5495, 'mission': 5496, 'harm': 5497, 'dreaded': 5498, 'readin': 5499, 'electricity': 5500, 'rising': 5501, 'ensures': 5502, 'antiquated': 5503, 'decisions': 5504, 'evenings': 5505, 'recessed': 5506, 'submit': 5507, 'rolls': 5508, 'unacceptable': 5509, 'thrones': 5510, 'pagepress': 5511, 'farther': 5512, 'intent': 5513, 'adapts': 5514, 'achieved': 5515, 'leader': 5516, 'dough': 5517, 'magnificent': 5518, 'backing': 5519, 'fireplace': 5520, 'behave': 5521, 'natively': 5522, 'les': 5523, 'livres': 5524, 'backorder': 5525, 'drastically': 5526, 'gigabit': 5527, 'shoulders': 5528, 'fridge': 5529, 'cities': 5530, 'gen1': 5531, 'slightest': 5532, 'glorified': 5533, 'shuffle': 5534, 'laughed': 5535, 'inanimate': 5536, 'becareful': 5537, 'tuned': 5538, 'scream': 5539, 'calender': 5540, 'laughter': 5541, 'baking': 5542, 'avaliable': 5543, 'joking': 5544, 'locally': 5545, 'bot': 5546, 'phillip': 5547, 'sang': 5548, 'musicians': 5549, 'meal': 5550, 'lawn': 5551, 'countertop': 5552, 'adapters': 5553, 'maker': 5554, 'decor': 5555, 'synchronize': 5556, 'schlage': 5557, 'matches': 5558, 'memorize': 5559, 'baseball': 5560, 'stern': 5561, 'helpfull': 5562, 'afar': 5563, 'scoop': 5564, 'human': 5565, 'routines': 5566, 'butler': 5567, 'secretary': 5568, 'informational': 5569, 'modules': 5570, 'identical': 5571, 'confirmed': 5572, 'interacts': 5573, 'resulted': 5574, 'obey': 5575, 'phrasing': 5576, 'exercise': 5577, 'examples': 5578, 'demonstrates': 5579, 'dynamic': 5580, 'myq': 5581, 'dumped': 5582, 'wit': 5583, 'boat': 5584, 'hottest': 5585, 'soundtrack': 5586, 'inquiry': 5587, 'unanswered': 5588, 'jam': 5589, 'remembering': 5590, 'eagles': 5591, 'supplies': 5592, 'hall': 5593, 'simplify': 5594, 'eyeing': 5595, 'musics': 5596, 'buff': 5597, 'knocks': 5598, 'queen': 5599, 'releases': 5600, 'jarvis': 5601, 'walks': 5602, 'explanatory': 5603, 'revolution': 5604, 'fascinating': 5605, 'unpack': 5606, 'repeats': 5607, 'george': 5608, 'jetson': 5609, 'amazin': 5610, 'cromecast': 5611, 'controllable': 5612, 'shortcuts': 5613, 'forgetting': 5614, 'solo': 5615, 'generate': 5616, 'false': 5617, 'comprehensive': 5618, 'bbq': 5619, 'hindi': 5620, 'tubular': 5621, 'sequence': 5622, 'googling': 5623, 'forcast': 5624, 'converts': 5625, 'relaxation': 5626, 'promising': 5627, 'puck': 5628, 'meantime': 5629, 'distortion': 5630, 'misunderstanding': 5631, 'overwhelming': 5632, 'fantastically': 5633, 'records': 5634, 'consoles': 5635, 'triggers': 5636, 'riddles': 5637, 'tapped': 5638, 'tweak': 5639, 'domino': 5640, 'den': 5641, 'zip': 5642, 'hoc': 5643, 'olympics': 5644, 'iron': 5645, 'potatoes': 5646, 'podcast': 5647, 'dsl': 5648, 'ala': 5649, 'awe': 5650, 'chuck': 5651, 'alexi': 5652, 'knocked': 5653, 'fabric': 5654, 'steam': 5655, 'cordless': 5656, 'jailbreak': 5657, 'hdcp': 5658, 'troubleshoot': 5659, '60fps': 5660, 'seasons': 5661, 'playstaion': 5662, 'decoding': 5663, 'presses': 5664, 'starz': 5665, 'h265': 5666, 'mods': 5667, 'delays': 5668, 'pureflix': 5669, 'antennae': 5670, 'buffered': 5671, 'premiere': 5672, 'consolidate': 5673, 'tuner': 5674, 'exodus': 5675, 'gap': 5676, 'timeline': 5677, 'ripped': 5678, 'dtv': 5679, 'ota': 5680, '30fps': 5681, 'headset': 5682, 'otterbox': 5683, 'insanely': 5684, 'glossy': 5685, '64gig': 5686, 'cease': 5687, 'kindled': 5688, 'easel': 5689, 'inexspensive': 5690, 'fingerprint': 5691, 'elaborate': 5692, 'rights': 5693, 'rail': 5694, 'paws': 5695, 'recreation': 5696, 'aftermarket': 5697, 'hint': 5698, 'generous': 5699, 'complimentary': 5700, 'resolutions': 5701, 'wad': 5702, 'sims': 5703, 'unlocks': 5704, 'sticker': 5705, 'preferring': 5706, 'surfacing': 5707, 'loosens': 5708, 'variation': 5709, 'netflixs': 5710, '6gb': 5711, 'routes': 5712, 'blueray': 5713, 'horsepower': 5714, 'recipients': 5715, 'biting': 5716, 'spam': 5717, 'loadout': 5718, 'periodicals': 5719, 'foremost': 5720, 'maintains': 5721, 'lecture': 5722, 'roots': 5723, 'shabby': 5724, 'stomach': 5725, 'accepted': 5726, 'trys': 5727, 'ninety': 5728, 'bookreader': 5729, 'blackfriday': 5730, 'winter': 5731, 'fuzzy': 5732, 'conflicting': 5733, 'babysit': 5734, 'pict': 5735, 'semester': 5736, 'godsend': 5737, 'graphical': 5738, 'hides': 5739, 'ecosphere': 5740, 'arrow': 5741, 'doubled': 5742, 'burned': 5743, 'snuff': 5744, 'quest': 5745, 'burns': 5746, 'instances': 5747, 'techs': 5748, 'referring': 5749, 'disappeared': 5750, 'walled': 5751, 'ereading': 5752, 'issued': 5753, 'occurs': 5754, 'andi': 5755, 'anxiety': 5756, 'proficient': 5757, 'sixth': 5758, 'html': 5759, 'detracts': 5760, 'personnel': 5761, 'behavior': 5762, 'diabetic': 5763, 'typed': 5764, 'excuse': 5765, 'manufacture': 5766, 'reciever': 5767, 'exam': 5768, 'gardening': 5769, 'crime': 5770, 'screed': 5771, 'evaluating': 5772, 'stripped': 5773, 'lagged': 5774, 'bur': 5775, 'calmly': 5776, 'encouraged': 5777, 'unlocking': 5778, 'gladly': 5779, 'approached': 5780, 'fire8': 5781, 'interrupted': 5782, 'camer': 5783, 'costed': 5784, 'fintie': 5785, 'pricegood': 5786, 'blitz': 5787, 'ness': 5788, 'diversity': 5789, 'swype': 5790, 'earphone': 5791, 'cruzing': 5792, 'dji': 5793, 'fashion': 5794, 'smudges': 5795, 'gallery': 5796, 'demon': 5797, 'nerve': 5798, 'survey': 5799, 'grest': 5800, 'malfunctioning': 5801, 'movement': 5802, 'websurfing': 5803, 'pie': 5804, 'warranties': 5805, 'alight': 5806, 'diapointed': 5807, 'dandy': 5808, 'veteran': 5809, 'supervise': 5810, 'invasive': 5811, 'encryption': 5812, 'decrease': 5813, 'hevc': 5814, 'seventy': 5815, 'ipad2': 5816, 'functionalities': 5817, 'conversion': 5818, 'imaginable': 5819, '5gb': 5820, 'beginers': 5821, 'summaries': 5822, 'spreadsheet': 5823, 'segment': 5824, 'nano': 5825, 'nextflix': 5826, 'hogging': 5827, 'acer': 5828, 'outcome': 5829, 'disappoints': 5830, 'funtional': 5831, 'contemplating': 5832, 'latter': 5833, 'deter': 5834, 'genuinely': 5835, 'payed': 5836, 'grt': 5837, 'protectors': 5838, 'pirce': 5839, 'mainstream': 5840, 'paw': 5841, 'contender': 5842, 'dentist': 5843, 'productively': 5844, 'quilty': 5845, 'curved': 5846, 'grandbabie': 5847, 'drivers': 5848, 'kindal': 5849, 'praise': 5850, 'pearl': 5851, 'magnetically': 5852, 'discontinue': 5853, 'billboard': 5854, 'upfront': 5855, 'negotiate': 5856, 'motivates': 5857, 'smartwatch': 5858, 'structure': 5859, 'uninterrupted': 5860, 'voiding': 5861, '3gb': 5862, 'tween': 5863, 'amps': 5864, 'astonishing': 5865, 'positioned': 5866, 'gamers': 5867, 'hybrid': 5868, 'recovered': 5869, 'performer': 5870, 'rocket': 5871, 'unfair': 5872, 'sceen': 5873, 'repaired': 5874, 'rainy': 5875, 'stats': 5876, 'awesomely': 5877, 'surpass': 5878, 'necessities': 5879, 'promos': 5880, 'ehhh': 5881, 'collect': 5882, 'digging': 5883, 'nough': 5884, 'executive': 5885, '10in': 5886, 'fronts': 5887, 'knee': 5888, 'slowest': 5889, 'goo': 5890, 'rhe': 5891, 'placement': 5892, 'unboxing': 5893, 'former': 5894, 'whichever': 5895, 'brown': 5896, 'wine': 5897, 'increasingly': 5898, 'outperformed': 5899, 'procesor': 5900, 'vanished': 5901, 'thinness': 5902, 'justification': 5903, 'refreshes': 5904, 'wrist': 5905, 'pleasurable': 5906, 'spendy': 5907, 'distributed': 5908, 'ounce': 5909, 'magnets': 5910, 'engineering': 5911, 'achievements': 5912, 'opposite': 5913, 'designing': 5914, 'reflects': 5915, 'comforting': 5916, 'weightless': 5917, 'tire': 5918, 'pants': 5919, 'isn’t': 5920, 'elliptical': 5921, 'won’t': 5922, 'occur': 5923, 'touted': 5924, 'cardboard': 5925, 'closet': 5926, 'stiff': 5927, 'thickness': 5928, 'border': 5929, 'rigid': 5930, 'attaches': 5931, 'mechanism': 5932, 'contained': 5933, 'hinges': 5934, 'angled': 5935, 'horribly': 5936, 'evaluate': 5937, 'mindless': 5938, 'geeks': 5939, 'schools': 5940, 'spin': 5941, 'shaped': 5942, 'folders': 5943, 'arranged': 5944, 'despise': 5945, 'partly': 5946, 'carpal': 5947, 'tunnel': 5948, 'bomb': 5949, 'challenges': 5950, 'translations': 5951, 'stumbled': 5952, 'primetime': 5953, 'frees': 5954, 'therapy': 5955, 'safeguard': 5956, 'circadian': 5957, 'rhythm': 5958, 'authorized': 5959, 'modular': 5960, 'sincerely': 5961, 'voltage': 5962, 'distinction': 5963, 'staples': 5964, 'regulated': 5965, 'produt': 5966, 'bueno': 5967, 'reat': 5968, 'calmness': 5969, 'critter': 5970, 'volts': 5971, 'usefull': 5972, 'nasty': 5973, 'woks': 5974, 'packet': 5975, 'fountains': 5976, 'writes': 5977, 'biographies': 5978, 'technician': 5979, 'prongy': 5980, 'magically': 5981, 'involve': 5982, 'silicone': 5983, 'lightweigh': 5984, 'simplest': 5985, 'matted': 5986, 'deduct': 5987, 'compacted': 5988, 'transfers': 5989, 'caveman': 5990, 'sore': 5991, 'adorable': 5992, 'thereafter': 5993, 'adventures': 5994, 'unsatisfied': 5995, 'tempered': 5996, 'participate': 5997, 'serf': 5998, 'exposure': 5999, 'estimate': 6000, 'spur': 6001, 'grandbabies': 6002, 'ofgreat': 6003, 'inserting': 6004, 'hardcopy': 6005, 'adequately': 6006, 'stylist': 6007, 'malfunction': 6008, 'notifying': 6009, 'successful': 6010, 'san': 6011, 'chistmas': 6012, 'rea': 6013, 'inadequate': 6014, 'comparisons': 6015, 'breezy': 6016, 'carpet': 6017, 'accommodating': 6018, 'suck': 6019, 'defender': 6020, 'backpacks': 6021, 'affortable': 6022, 'society': 6023, 'masses': 6024, 'desent': 6025, 'insists': 6026, 'discharges': 6027, 'war': 6028, 'cement': 6029, 'goog': 6030, 'newby': 6031, 'sdcard': 6032, 'bull': 6033, 'flashlight': 6034, 'accepts': 6035, 'happiest': 6036, 'hearthstone': 6037, 'romance': 6038, 'potatoe': 6039, 'notified': 6040, 'precisely': 6041, 'mths': 6042, 'ouch': 6043, 'camara': 6044, '6yrs': 6045, 'salon': 6046, 'presumably': 6047, 'defected': 6048, 'pointing': 6049, 'madden': 6050, 'digitizer': 6051, 'passcode': 6052, 'kurio': 6053, 'flixter': 6054, 'branded': 6055, 'sdhc': 6056, 'cyanogen': 6057, 'gret': 6058, 'loft': 6059, 'surfed': 6060, 'noted': 6061, 'mate': 6062, 'purchsed': 6063, 'baked': 6064, 'pales': 6065, 'thet': 6066, 'stack': 6067, 'dvds': 6068, 'zooming': 6069, 'disturbed': 6070, 'kidproof': 6071, 'thanking': 6072, 'shorted': 6073, 'sorta': 6074, 'johnny': 6075, 'chris': 6076, 'definitively': 6077, 'zoo': 6078, 'tiresome': 6079, 'recommed': 6080, 'puppy': 6081, 'loan': 6082, 'stash': 6083, '12yr': 6084, 'abd': 6085, 'timeframe': 6086, 'tcm': 6087, 'elder': 6088, 'mkv': 6089, 'outdid': 6090, 'jigsaw': 6091, 'vacationing': 6092, 'dare': 6093, 'sonce': 6094, 'varying': 6095, 'dojo': 6096, 'tabet': 6097, 'accesible': 6098, 'ceased': 6099, 'essentials': 6100, 'candle': 6101, 'typos': 6102, 'assess': 6103, 'prine': 6104, 'annotate': 6105, 'intensive': 6106, 'annotation': 6107, 'fantasy': 6108, 'commentaries': 6109, 'scripture': 6110, 'cycle': 6111, 'wwe': 6112, 'trashed': 6113, 'netfix': 6114, 'sealed': 6115, 'excellently': 6116, 'navigateperfect': 6117, 'fiire': 6118, 'hacking': 6119, 'studies': 6120, 'unrestricted': 6121, 'inbox': 6122, 'kiddie': 6123, 'enrolled': 6124, 'noob': 6125, 'noticible': 6126, 'bear': 6127, 'unsuccessful': 6128, 'annoyances': 6129, 'hop': 6130, 'somthing': 6131, 'boring': 6132, 'fooled': 6133, 'apks': 6134, 'winning': 6135, 'compliments': 6136, 'skips': 6137, 'disagree': 6138, 'apples': 6139, 'cared': 6140, 'notches': 6141, 'gameplay': 6142, 'sponsored': 6143, 'approaching': 6144, 'bookshelf': 6145, 'dent': 6146, '16th': 6147, 'remorse': 6148, 'valentines': 6149, 'kindell': 6150, 'silky': 6151, 'tge': 6152, 'respectively': 6153, 'overlooked': 6154, 'distant': 6155, 'ships': 6156, 'instrument': 6157, 'painless': 6158, 'sidetracked': 6159, 'initally': 6160, 'shooting': 6161, 'moral': 6162, 'chemo': 6163, 'triplets': 6164, 'ministry': 6165, 'vote': 6166, 'intending': 6167, 'crippled': 6168, 'investigate': 6169, 'hd6': 6170, 'sufficiently': 6171, 'remodeling': 6172, 'resembles': 6173, 'brake': 6174, 'demonstrated': 6175, 'misinformed': 6176, 'revenue': 6177, 'compromising': 6178, 'preteens': 6179, 'preformed': 6180, 'stephanie': 6181, 'ixl': 6182, 'freed': 6183, 'godmother': 6184, 'advertises': 6185, 'bloat': 6186, 'excellence': 6187, 'bottomline': 6188, 'kim': 6189, '5yo': 6190, 'dis': 6191, 'concise': 6192, 'schoolwork': 6193, 'giveaway': 6194, 'vids': 6195, 'valid': 6196, 'sideloading': 6197, 'reworking': 6198, 'useit': 6199, 'nailed': 6200, 'thrill': 6201, 'prises': 6202, 'expendable': 6203, 'advisor': 6204, 'dated': 6205, 'rolling': 6206, 'personalization': 6207, 'seller': 6208, 'graphs': 6209, 'missus': 6210, 'smoothing': 6211, 'begginers': 6212, 'nap': 6213, 'applied': 6214, 'crispy': 6215, 'passing': 6216, 'durning': 6217, 'bam': 6218, 'prone': 6219, 'balances': 6220, 'existence': 6221, 'mundane': 6222, 'cnbc': 6223, 'wold': 6224, 'inevitably': 6225, 'trading': 6226, 'pokémon': 6227, 'triangulation': 6228, 'dinosaur': 6229, 'relation': 6230, 'unions': 6231, 'inlaw': 6232, 'neiece': 6233, 'naught': 6234, 'indefinite': 6235, 'continent': 6236, 'leappad': 6237, 'needy': 6238, 'tanks': 6239, 'deff': 6240, 'rite': 6241, 'owe': 6242, 'permanent': 6243, 'winding': 6244, 'strips': 6245, 'interfacing': 6246, 'twelve': 6247, 'grandaughters': 6248, 'wild': 6249, 'grafics': 6250, 'caribbean': 6251, 'trivial': 6252, 'friendlier': 6253, 'careless': 6254, 'tiles': 6255, 'painfully': 6256, 'sketchy': 6257, 'elders': 6258, 'diy': 6259, 'clunkier': 6260, 'guns': 6261, 'chargeable': 6262, 'dilemma': 6263, 'nuisance': 6264, 'systen': 6265, 'agood': 6266, 'quickness': 6267, 'disaster': 6268, 'lime': 6269, 'alive': 6270, 'accidents': 6271, 'ther': 6272, 'ruins': 6273, 'ppl': 6274, 'highschool': 6275, 'van': 6276, 'credited': 6277, 'determined': 6278, 'functionally': 6279, 'everthing': 6280, 'illiterate': 6281, 'googlecast': 6282, 'crossword': 6283, 'guided': 6284, 'underestimate': 6285, 'ownership': 6286, 'prong': 6287, 'sea': 6288, 'exiting': 6289, 'mailing': 6290, 'weekdays': 6291, 'servive': 6292, 'combining': 6293, 'kool': 6294, 'confusion': 6295, 'moth': 6296, 'dec': 6297, '17th': 6298, 'auxiliary': 6299, 'persistence': 6300, 'fixing': 6301, 'cried': 6302, 'powers': 6303, 'screensavers': 6304, 'incomplete': 6305, 'catalogs': 6306, 'commander': 6307, 'override': 6308, 'educationally': 6309, 'funds': 6310, 'compromised': 6311, 'galore': 6312, 'scattered': 6313, 'messaging': 6314, 'royale': 6315, 'housing': 6316, 'definitley': 6317, 'fur': 6318, 'footnotes': 6319, 'unreadable': 6320, 'affordability': 6321, 'adopt': 6322, 'ahem': 6323, 'animals': 6324, 'vey': 6325, 'hiccup': 6326, 'hacked': 6327, 'scanned': 6328, 'notifies': 6329, 'thy': 6330, 'freinds': 6331, 'dealership': 6332, 'kiss': 6333, 'inform': 6334, '64g': 6335, 'weekday': 6336, 'supper': 6337, 'treasure': 6338, 'allowance': 6339, 'grasp': 6340, 'customs': 6341, 'filters': 6342, 'slipped': 6343, 'interfaced': 6344, 'coating': 6345, 'showcase': 6346, 'awfully': 6347, 'stickers': 6348, 'confidence': 6349, 'upto': 6350, '7yrs': 6351, 'dangerous': 6352, 'ser': 6353, 'agreat': 6354, 'cont': 6355, 'duh': 6356, 'favortie': 6357, 'figures': 6358, 'virgin': 6359, 'billing': 6360, 'chagrin': 6361, 'vpn': 6362, 'obnoxious': 6363, 'defintely': 6364, 'friendliness': 6365, 'costco': 6366, 'exists': 6367, 'capacitive': 6368, 'swears': 6369, 'seats': 6370, 'useable': 6371, 'boss': 6372, 'crossing': 6373, 'imported': 6374, 'kindke': 6375, 'blessing': 6376, 'occurred': 6377, 'amason': 6378, 'david': 6379, 'zeepad': 6380, 'dan': 6381, 'resent': 6382, 'investing': 6383, 'electric': 6384, 'sharpener': 6385, 'docking': 6386, 'mama': 6387, 'sgreat': 6388, 'positional': 6389, 'cringe': 6390, 'respects': 6391, 'blinded': 6392, 'cruises': 6393, 'parted': 6394, 'becasue': 6395, 'hastle': 6396, 'polaroid': 6397, 'motivated': 6398, 'kiddy': 6399, 'afordable': 6400, 'quieter': 6401, 'toe': 6402, 'circling': 6403, 'availabe': 6404, 'behold': 6405, 'transportable': 6406, 'lessons': 6407, 'peppa': 6408, 'pig': 6409, 'anticipating': 6410, 'intentions': 6411, 'yup': 6412, 'janky': 6413, 'junkie': 6414, 'paranoid': 6415, 'drained': 6416, 'daddy': 6417, 'paste': 6418, 'glade': 6419, 'couples': 6420, 'attracted': 6421, 'measure': 6422, 'fulfills': 6423, 'urge': 6424, 'camp': 6425, 'edited': 6426, 'boasts': 6427, 'thos': 6428, 'discarded': 6429, 'snagged': 6430, 'mircosd': 6431, 'oil': 6432, 'notion': 6433, 'idiot': 6434, 'stuffs': 6435, 'accomplishes': 6436, 'verry': 6437, 'frog': 6438, 'forgiven': 6439, 'fanciest': 6440, 'trailer': 6441, 'cure': 6442, 'miracle': 6443, 'army': 6444, 'drinking': 6445, 'exercising': 6446, 'hooray': 6447, 'restock': 6448, 'rake': 6449, 'fitted': 6450, 'transformer': 6451, 'apparatus': 6452, 'scene': 6453, 'nov': 6454, 'stink': 6455, 'warehouse': 6456, 'nurse': 6457, 'subway': 6458, 'courtesy': 6459, 'handing': 6460, 'routinely': 6461, 'cent': 6462, 'producing': 6463, 'popup': 6464, 'banner': 6465, 'remedied': 6466, 'oriented': 6467, 'conscious': 6468, 'tile': 6469, 'roadtrip': 6470, 'summed': 6471, 'heft': 6472, 'rendered': 6473, 'calander': 6474, 'established': 6475, 'lousy': 6476, 'someones': 6477, 'stalls': 6478, 'obtrusive': 6479, 'storm': 6480, 'stocked': 6481, 'modifications': 6482, 'expecially': 6483, 'cams': 6484, 'skullcandy': 6485, 'spirit': 6486, 'nick': 6487, 'impeccable': 6488, 'rebooted': 6489, 'idem': 6490, 'downs': 6491, 'skypes': 6492, 'squint': 6493, 'tabelt': 6494, 'supplemental': 6495, 'raves': 6496, 'toting': 6497, 'nightime': 6498, 'teaches': 6499, 'disneyworld': 6500, 'italy': 6501, 'recovering': 6502, 'ore': 6503, 'dell': 6504, 'muted': 6505, 'shelled': 6506, 'exacting': 6507, 'seals': 6508, 'ticket': 6509, 'branch': 6510, 'fearing': 6511, 'decreased': 6512, 'www': 6513, 'logs': 6514, 'naby': 6515, 'nobles': 6516, 'fire7': 6517, 'marketed': 6518, 'firehd': 6519, 'resolves': 6520, 'land': 6521, 'riddled': 6522, 'noting': 6523, 'miracast': 6524, 'funky': 6525, 'theyll': 6526, 'clearness': 6527, 'workmanship': 6528, 'busted': 6529, 'married': 6530, 'nieceshe': 6531, 'papa': 6532, 'duarable': 6533, 'redemption': 6534, 'margins': 6535, 'lightings': 6536, 'revolutionary': 6537, 'evolution': 6538, 'unnoticeable': 6539, 'transportation': 6540, 'annoys': 6541, 'published': 6542, 'india': 6543, 'rightly': 6544, 'giveaways': 6545, 'pounds': 6546, 'downtime': 6547, 'rehab': 6548, 'iceland': 6549, 'wipe': 6550, 'matthew': 6551, 'compatable': 6552, 'wizard': 6553, 'preschool': 6554, 'snob': 6555, 'neil': 6556, 'tony': 6557, 'tweens': 6558, 'existed': 6559, 'slipping': 6560, 'musically': 6561, 'dat': 6562, 'efficiency': 6563, 'piano': 6564, 'endured': 6565, 'ignorant': 6566, 'hugh': 6567, 'tryed': 6568, 'shy': 6569, 'steelbook': 6570, 'equivalent': 6571, 'graduates': 6572, 'macs': 6573, 'dodo': 6574, 'amazonbasics': 6575, 'rubberized': 6576, 'strap': 6577, 'inner': 6578, 'fastener': 6579, 'reactions': 6580, 'tastes': 6581, 'splash': 6582, 'teeth': 6583, 'granddaugther': 6584, 'recomended': 6585, 'preschooler': 6586, 'bounced': 6587, 'proudly': 6588, 'withstands': 6589, 'unconditional': 6590, 'minnie': 6591, 'rule': 6592, 'awseome': 6593, 'breakage': 6594, 'frustrates': 6595, 'healthy': 6596, 'trending': 6597, 'vocal': 6598, 'identifying': 6599, 'whit': 6600, 'silicon': 6601, 'enclosure': 6602, 'interpreted': 6603, 'grouping': 6604, 'inaccurate': 6605, 'shoots': 6606, 'habe': 6607, 'encounter': 6608, 'branding': 6609, 'prepaid': 6610, 'conection': 6611, 'sprout': 6612, 'varieties': 6613, 'conducive': 6614, 'breakable': 6615, 'suggesting': 6616, 'aplication': 6617, 'insure': 6618, 'nails': 6619, 'onother': 6620, 'jammed': 6621, '3yo': 6622, '5year': 6623, 'eady': 6624, 'warrantee': 6625, 'broad': 6626, 'savior': 6627, 'kickstand': 6628, 'fascinated': 6629, 'everynight': 6630, 'laughing': 6631, 'optimum': 6632, 'lovethis': 6633, '10th': 6634, 'gold': 6635, 'patents': 6636, 'exaggerating': 6637, 'reread': 6638, 'baggage': 6639, 'leary': 6640, 'infinitely': 6641, 'balloon': 6642, 'trumps': 6643, 'addiction': 6644, 'harry': 6645, 'potter': 6646, 'fatigued': 6647, 'illustrations': 6648, 'feather': 6649, 'mildly': 6650, 'loans': 6651, 'methods': 6652, 'slept': 6653, 'lookup': 6654, 'wholeheartedly': 6655, 'facilities': 6656, 'predecessor': 6657, 'libro': 6658, 'puedes': 6659, 'tener': 6660, 'todos': 6661, 'libros': 6662, 'sleepy': 6663, 'exclaimed': 6664, 'longing': 6665, 'strenuous': 6666, 'flickers': 6667, 'abandoned': 6668, 'toolbar': 6669, 'bars': 6670, 'expensively': 6671, 'improvment': 6672, 'domain': 6673, 'corporate': 6674, 'bro': 6675, 'analysis': 6676, 'doze': 6677, 'rockin': 6678, 'references': 6679, 'lounging': 6680, 'accumulate': 6681, 'permits': 6682, 'reverse': 6683, 'hardbacks': 6684, 'reinvigorated': 6685, 'underlined': 6686, 'nightlight': 6687, 'mimic': 6688, 'drawer': 6689, 'portrate': 6690, 'behemoth': 6691, 'amazom': 6692, 'curling': 6693, 'favourite': 6694, 'ranting': 6695, 'adverse': 6696, 'hobby': 6697, 'greet': 6698, 'bitten': 6699, 'delegated': 6700, 'advocate': 6701, 'shone': 6702, 'negligible': 6703, 'flicker': 6704, 'spacing': 6705, 'decades': 6706, 'squirrelly': 6707, 'tactile': 6708, 'irritate': 6709, 'paperwhite1': 6710, 'excellent2': 6711, 'highlighters': 6712, 'stephen': 6713, 'enhancing': 6714, 'halfway': 6715, 'earn': 6716, 'emanating': 6717, 'substantially': 6718, 'induce': 6719, 'savor': 6720, 'guatemala': 6721, 'jumpy': 6722, 'engaging': 6723, 'temptation': 6724, 'delayed': 6725, 'booklights': 6726, 'rushing': 6727, 'lightnings': 6728, 'french': 6729, 'sheer': 6730, 'infrastructure': 6731, 'classy': 6732, 'editions': 6733, 'ears': 6734, 'whites': 6735, 'enormous': 6736, 'migrate': 6737, 'doesnot': 6738, 'accompany': 6739, 'interrupt': 6740, 'alter': 6741, 'paperwite': 6742, 'russian': 6743, 'rack': 6744, 'draws': 6745, 'participates': 6746, 'juts': 6747, 'bombarded': 6748, 'annoyingly': 6749, 'shipment': 6750, 'smiling': 6751, 'england': 6752, 'conked': 6753, 'exceedingly': 6754, 'nyt': 6755, 'pane': 6756, 'obsessive': 6757, 'causes': 6758, 'advancing': 6759, 'rocking': 6760, 'aroumd': 6761, 'loveit': 6762, 'foward': 6763, 'shelve': 6764, 'swear': 6765, 'transformed': 6766, 'instantaneous': 6767, 'transfered': 6768, 'silver': 6769, 'squeezy': 6770, 'skins': 6771, 'prefered': 6772, 'relaxed': 6773, 'devicegood': 6774, '300dpi': 6775, 'deficated': 6776, 'paoerwhite': 6777, 'bevel': 6778, 'constantantly': 6779, 'returing': 6780, 'relieved': 6781, 'recycling': 6782, 'spectacularly': 6783, 'leadership': 6784, 'upwards': 6785, 'fade': 6786, 'doubts': 6787, 'sticking': 6788, 'mentions': 6789, 'cats': 6790, 'tucked': 6791, 'equals': 6792, 'clippings': 6793, 'medical': 6794, 'assigned': 6795, 'retailers': 6796, 'rice': 6797, 'disrupt': 6798, 'tiring': 6799, 'forego': 6800, 'wondered': 6801, 'absence': 6802, 'prove': 6803, 'tilt': 6804, 'supporter': 6805, 'crank': 6806, 'bluish': 6807, 'implementation': 6808, 'downgrade': 6809, 'marked': 6810, 'surrounded': 6811, 'nonexistent': 6812, 'movers': 6813, 'receives': 6814, 'readeri': 6815, 'papperwhite': 6816, 'basket': 6817, 'whiter': 6818, 'lowering': 6819, 'styles': 6820, 'mentioning': 6821, 'compensates': 6822, 'sorting': 6823, 'experts': 6824, 'procrastinated': 6825, 'split': 6826, 'tract': 6827, 'symbol': 6828, 'vibration': 6829, 'aluminum': 6830, 'ligths': 6831, 'discoloration': 6832, 'forwards': 6833, 'opinions': 6834, 'defense': 6835, 'unusual': 6836, 'appreciates': 6837, 'concentration': 6838, 'gathers': 6839, 'otter': 6840, 'dorms': 6841, 'humble': 6842, 'roku2': 6843, 'relate': 6844, 'critique': 6845, 'canadian': 6846, 'adverts': 6847, 'legally': 6848, 'sur': 6849, 'que': 6850, 'dramatic': 6851, 'outages': 6852, 'surge': 6853, 'chewed': 6854, 'screwed': 6855, 'kitten': 6856, 'famous': 6857, 'catholic': 6858, 'richer': 6859, 'breadth': 6860, 'infinite': 6861, 'fiber': 6862, 'optic': 6863, 'desperately': 6864, 'messy': 6865, 'tease': 6866, 'worship': 6867, 'ingredients': 6868, 'cookies': 6869, 'omission': 6870, 'nobody': 6871, 'pokmon': 6872, 'temperatures': 6873, 'tweeks': 6874, 'fixture': 6875, 'attachments': 6876, 'redo': 6877, 'furniture': 6878, 'hues': 6879, 'chicken': 6880, 'bottle': 6881, 'handsfree': 6882, 'convience': 6883, 'noice': 6884, 'thunderstorm': 6885, 'paces': 6886, 'logic': 6887, 'united': 6888, 'blinds': 6889, 'imperative': 6890, 'seemlessly': 6891, 'aws': 6892, 'mucic': 6893, 'potato': 6894, 'execution': 6895, 'addicting': 6896, 'sir': 6897, 'italian': 6898, 'underutilized': 6899, 'wantedto': 6900, 'gather': 6901, 'regulating': 6902, 'deeper': 6903, 'broadband': 6904, 'spotifly': 6905, 'reacts': 6906, 'overkill': 6907, 'instal': 6908, 'concierge': 6909, 'comedian': 6910, 'musician': 6911, 'casts': 6912, '50s': 6913, 'compatability': 6914, 'dcor': 6915, 'ranked': 6916, 'applicable': 6917, 'crowded': 6918, 'equipments': 6919, 'dialog': 6920, 'composer': 6921, '15min': 6922, 'goofy': 6923, 'superfun': 6924, 'herd': 6925, 'halo': 6926, 'intimidated': 6927, 'sponsors': 6928, 'inquiries': 6929, 'meatloaf': 6930, 'ces': 6931, 'whe': 6932, 'cheating': 6933, 'plugins': 6934, 'freakin': 6935, 'addtion': 6936, 'itt': 6937, 'fad': 6938, 'chamberlin': 6939, 'percentage': 6940, 'duluth': 6941, 'hung': 6942, 'jan': 6943, 'signup': 6944, 'delivering': 6945, 'knees': 6946, 'raving': 6947, 'forum': 6948, 'oldies': 6949, 'anazon': 6950, 'cores': 6951, 'pipe': 6952, 'hmm': 6953, 'quiz': 6954, 'homepod': 6955, 'meow': 6956, 'convienient': 6957, 'recurring': 6958, 'ourgroceries': 6959, 'misunderstands': 6960, 'insight': 6961, 'smarthings': 6962, 'bubbles': 6963, 'deceptive': 6964, 'centerpiece': 6965, 'repetitive': 6966, 'bandwagon': 6967, 'implementing': 6968, 'clocks': 6969, 'measuring': 6970, 'uodates': 6971, 'raga': 6972, 'centralized': 6973, 'inquire': 6974, 'darth': 6975, 'conversational': 6976, 'represents': 6977, 'region': 6978, 'flashes': 6979, 'blutooth': 6980, 'interconnects': 6981, 'popularity': 6982, 'morris': 6983, 'knight': 6984, 'beck': 6985, 'lullabies': 6986, 'instruments': 6987, 'stroke': 6988, 'informing': 6989, 'partnership': 6990, 'jeff': 6991, 'bezos': 6992, 'marry': 6993, 'posting': 6994, 'president': 6995, 'radios': 6996, 'hallway': 6997, 'evolve': 6998, 'knife': 6999, 'caution': 7000, 'buckie': 7001, 'bluethooth': 7002, 'fuller': 7003, 'pot': 7004, 'zwave': 7005, 'echobee': 7006, 'alexsa': 7007, 'scratching': 7008, 'greets': 7009, 'neatest': 7010, 'unleash': 7011, 'cooks': 7012, 'singer': 7013, 'surroundings': 7014, 'dud': 7015, 'amz': 7016, 'refers': 7017, 'detergent': 7018, 'chest': 7019, 'scissors': 7020, 'memeber': 7021, 'glossary': 7022, 'equivalents': 7023, 'furnace': 7024, 'developing': 7025, 'upped': 7026, 'strip': 7027, 'monster': 7028, 'implement': 7029, 'pronounce': 7030, 'bby': 7031, 'yopu': 7032, 'gr8': 7033, 'rented': 7034, 'naming': 7035, 'protocols': 7036, '100x': 7037, 'washing': 7038, 'humour': 7039, 'planets': 7040, 'adt': 7041, 'wedding': 7042, 'structurally': 7043, 'volumne': 7044, 'doe': 7045, 'invented': 7046, 'interpreting': 7047, 'wiz': 7048, 'uncommon': 7049, 'customizations': 7050, 'centrally': 7051, 'algorithms': 7052, 'taining': 7053, 'speeker': 7054, 'upbeat': 7055, 'quantity': 7056, 'educate': 7057, 'phonograph': 7058, 'replied': 7059, 'concert': 7060, 'execute': 7061, 'thruout': 7062, 'dress': 7063, 'reporting': 7064, 'butt': 7065, 'establish': 7066, 'bird': 7067, 'hvac': 7068, 'actresses': 7069, 'mexican': 7070, 'continuing': 7071, 'trackr': 7072, 'households': 7073, 'respective': 7074, 'gameroom': 7075, 'stark': 7076, 'noises': 7077, 'element': 7078, 'concerts': 7079, 'reordering': 7080, 'wiki': 7081, 'gracious': 7082, 'relays': 7083, 'informs': 7084, 'beeps': 7085, 'headed': 7086, 'captain': 7087, 'soundtouch': 7088, 'fussy': 7089, 'prodcut': 7090, 'sentence': 7091, 'sleekness': 7092, 'nba': 7093, 'microwave': 7094, 'stovetop': 7095, 'grill': 7096, 'confirms': 7097, 'conditioner': 7098, 'isp': 7099, 'booster': 7100, 'aaa': 7101, 'goodnight': 7102, 'kindly': 7103, 'accents': 7104, 'coordinate': 7105, 'wroth': 7106, 'battle': 7107, 'outshout': 7108, 'omni': 7109, 'genie': 7110, 'lotta': 7111, 'watering': 7112, 'elizabeth': 7113, 'shoe': 7114, 'xyz': 7115, 'yonomi': 7116, 'overtime': 7117, 'shampoo': 7118, 'bridal': 7119, 'parred': 7120, 'humidity': 7121, 'jet': 7122, 'soundbar': 7123, 'cheesy': 7124, 'amused': 7125, 'logically': 7126, 'looses': 7127, 'ingrate': 7128, 'skeptic': 7129, 'practicality': 7130, 'sporting': 7131, 'tim': 7132, 'doorbell': 7133, 'patiently': 7134, 'highway': 7135, 'intermittently': 7136, 'livingroom': 7137, 'martini': 7138, 'scenarios': 7139, 'augment': 7140, 'invitation': 7141, 'mimi': 7142, 'décor': 7143, 'i’d': 7144, 'i’ve': 7145, 'doesn’t': 7146, 'woodchuck': 7147, 'hog': 7148, 'quibble': 7149, 'kindle10': 7150, 'piggyback': 7151, 'accounting': 7152, 'squenting': 7153, 'tamron': 7154, 'proofing': 7155, 'stutters': 7156, 'escape': 7157, 'thetap': 7158, 'lied': 7159, 'halloween': 7160, 'semi': 7161, 'caveats': 7162, 'funtionality': 7163, 'launching': 7164, 'bandwith': 7165, 'diference': 7166, 'intertainment': 7167, 'spmc': 7168, 'screencasting': 7169, 'signals': 7170, 'fulfill': 7171, 'heather': 7172, 'greate': 7173, 'playstationvue': 7174, 'ditching': 7175, 'arrange': 7176, 'faves': 7177, 'gouged': 7178, 'altho': 7179, 'roku4': 7180, 'buffing': 7181, 'emby': 7182, 'cat6': 7183, 'bricked': 7184, 'nighthawk': 7185, 'directvnow': 7186, 'netgear': 7187, 'chromecasts': 7188, 'cox': 7189, 'scaling': 7190, 'interfering': 7191, 'upscale': 7192, 'hassel': 7193, 'doa': 7194, 'versitility': 7195, 'dev': 7196, 'gratification': 7197, 'hanks': 7198, 'lodi': 7199, 'carte': 7200, 'sevices': 7201, 'freeing': 7202, 'formy': 7203, 'sacrifice': 7204, 'wich': 7205, 'withe': 7206, 'dongle': 7207, 'directnow': 7208, 'outrages': 7209, 'networked': 7210, 'suppsed': 7211, 'lane': 7212, 'clutches': 7213, 'specifics': 7214, 'minimizes': 7215, 'plentiful': 7216, 'venues': 7217, 'centurylink': 7218, 'firetvstick': 7219, 'archived': 7220, 'firetvs': 7221, 'oracle': 7222, 'rj45': 7223, 'frequencies': 7224, 'apps2fire': 7225, 'afterwards': 7226, 'verification': 7227, 'extender': 7228, 'fluctuate': 7229, 'cec': 7230, 'quadcore': 7231, 'tablo': 7232, 'interference': 7233, 'internals': 7234, 'sand': 7235, 'matricom': 7236, 'divice': 7237, 'adb': 7238, 'netlfix': 7239, 'iso': 7240, 'attitude': 7241, 'avr': 7242, 'firestarter': 7243, 'chords': 7244, 'mario': 7245, 'crackle': 7246, 'chanel': 7247, 'fs1': 7248, 'heave': 7249, 'attic': 7250, 'chnls': 7251, 'fujitv': 7252, 'it���s': 7253, 'didn���t': 7254, 'amazontv': 7255, 'gently': 7256, 'warped': 7257, 'laterthis': 7258, 'infact': 7259, '7mm': 7260, 'youand': 7261, 'viedos': 7262, 'manegement': 7263, 'calenders': 7264, 'imaging': 7265, 'articulating': 7266, 'canvas': 7267, 'recovery': 7268, 'predominately': 7269, 'biographys': 7270, 'offshoot': 7271, 'commuter': 7272, 'recycled': 7273, 'downgrading': 7274, 'wev': 7275, 'rood': 7276, 'formated': 7277, 'xfat': 7278, 'werent': 7279, 'coc': 7280, 'eaxh': 7281, 'bith': 7282, 'permissions': 7283, 'strict': 7284, 'gutter': 7285, 'bcuz': 7286, 'lotmore': 7287, 'comfy': 7288, 'abount': 7289, 'acces': 7290, 'reloaded': 7291, 'stalk': 7292, 'impresses': 7293, 'zinio': 7294, 'incompatibilities': 7295, 'marketamazon': 7296, 'granddaugter': 7297, 'starfall': 7298, 'ticks': 7299, 'crews': 7300, 'fiancée': 7301, 'ata': 7302, 'frienday': 7303, 'byee': 7304, 'benefiting': 7305, 'voicecast': 7306, 'reaponse': 7307, 'bogs': 7308, 'craig': 7309, 'twhat': 7310, 'crosswords': 7311, 'boggling': 7312, '240gb': 7313, 'netflick': 7314, '2hrs': 7315, 'heaviness': 7316, 'carrasoul': 7317, 'pixelating': 7318, 'miro': 7319, 'dizzying': 7320, 'delegating': 7321, 'alleviating': 7322, 'considerate': 7323, 'hasslevery': 7324, '1mobile': 7325, 'himsince': 7326, 'preoccupied': 7327, 'mbr': 7328, 'woudl': 7329, 'menial': 7330, 'grrat': 7331, 'expectionations': 7332, 'avoids': 7333, 'easyperfect': 7334, 'alwyas': 7335, 'narration': 7336, 'featuers': 7337, 'farms': 7338, 'nana': 7339, 'microtransactions': 7340, 'worksheets': 7341, 'colleagues': 7342, 'supportled': 7343, 'isnot': 7344, 'moztly': 7345, 'triplet': 7346, 'asstounding': 7347, 'unschooled': 7348, 'prettier': 7349, 'youreyes': 7350, 'demensions': 7351, 'undergraduate': 7352, 'biology': 7353, 'wishlist': 7354, 'asphalt': 7355, 'playable': 7356, 'xbox1': 7357, 'dubbles': 7358, 'bbuy': 7359, 'outsell': 7360, 'lunchtime': 7361, 'congrats': 7362, 'preserve': 7363, 'replay': 7364, 'pinsharp': 7365, 'iut': 7366, 'organ': 7367, '189ppi': 7368, 'laminated': 7369, 'nitpicks': 7370, 'punches': 7371, 'titan': 7372, 'readout': 7373, 'morei': 7374, 'casei': 7375, 'unpredictable': 7376, 'futon': 7377, 'slugginess': 7378, 'biking': 7379, 'improvments': 7380, 'prety': 7381, 'unsatisfactory': 7382, 'rcase': 7383, 'mishandled': 7384, 'wtf': 7385, 'aggravation': 7386, 'tethers': 7387, 'souped': 7388, 'darkens': 7389, 'soi': 7390, 'perpetually': 7391, 'stickum': 7392, 'rescue': 7393, 'inducing': 7394, 'murphy': 7395, 'ahs8n': 7396, 'cap': 7397, 'buggers': 7398, '64kb': 7399, 'atari': 7400, 'expirence': 7401, 'cheaped': 7402, 'appeares': 7403, 'wnough': 7404, 'slarts': 7405, 'powerpoints': 7406, 'husbandand': 7407, 'underway': 7408, 'chatging': 7409, 'stoped': 7410, 'apts': 7411, 'greatcons': 7412, 'telegram': 7413, 'hindrance': 7414, 'trifold': 7415, 'kindlle': 7416, 'painstakingly': 7417, 'performant': 7418, 'espn3': 7419, 'proximity': 7420, 'imporoved': 7421, 'honeycomb': 7422, 'unfriendly': 7423, 'truth': 7424, 'inexplicably': 7425, 'breed': 7426, 'characteristics': 7427, 'xan': 7428, 'germany': 7429, 'cramped': 7430, 'undesirable': 7431, 'disables': 7432, 'cited': 7433, 'silent': 7434, 'authenticated': 7435, 'boasting': 7436, 'alertanative': 7437, 'sorted': 7438, 'disappointments': 7439, 'producs': 7440, 'pixelation': 7441, 'modt': 7442, 'minuscule': 7443, 'screws': 7444, 'teblets': 7445, 'juggling': 7446, 'inexpeisve': 7447, 'pretyy': 7448, 'premitive': 7449, 'lindle': 7450, 'relocate': 7451, 'savoy': 7452, 'relable': 7453, 'chatter': 7454, 'cheddar': 7455, 'rectangle': 7456, 'interwebz': 7457, 'flattered': 7458, 'xmas2015': 7459, 'begining': 7460, 'assocate': 7461, 'tooo': 7462, 'asesome': 7463, 'samsug': 7464, 'goggles': 7465, 'serfing': 7466, 'relationships': 7467, 'edgewise': 7468, 'highlygreat': 7469, 'bejeweled': 7470, 'childthis': 7471, 'nonresponsive': 7472, 'midday': 7473, 'shimmering': 7474, 'wen': 7475, 'lounger': 7476, 'paretal': 7477, 'unwilling': 7478, 'wry': 7479, 'gotchas': 7480, 'abit': 7481, 'mixture': 7482, 'phantom': 7483, 'relies': 7484, 'valuegreat': 7485, 'ranges': 7486, 'broadcasting': 7487, 'whey': 7488, 'rablet': 7489, 'xlsx': 7490, 'pptx': 7491, 'kkep': 7492, 'usr': 7493, 'gamecircle': 7494, 'lastlonger': 7495, 'gety': 7496, 'applies': 7497, 'canaccess': 7498, 'functinality': 7499, 'wracking': 7500, 'gigabyte': 7501, 'explandable': 7502, 'photographer': 7503, 'unaceptable': 7504, 'vulcans': 7505, 'acrobat': 7506, 'bascially': 7507, 'amout': 7508, 'overages': 7509, 'coclors': 7510, 'foor': 7511, 'downer': 7512, 'mush': 7513, 'ilovemy': 7514, 'clamps': 7515, 'accomodate': 7516, 'thursday': 7517, 'easyto': 7518, 'vietnam': 7519, 'fridaypros': 7520, 'soundwell': 7521, 'builtcons': 7522, 'storenet': 7523, 'friendas': 7524, 'graded': 7525, 'muss': 7526, 'sofisticated': 7527, 'announcedherself': 7528, 'conversing': 7529, 'wordless': 7530, 'pictorialstart': 7531, 'primitive': 7532, 'vague': 7533, 'thisdevice': 7534, 'thatfills': 7535, 'protocol': 7536, 'toattach': 7537, 'kindlely': 7538, 'fiery': 7539, 'strides': 7540, 'increideble': 7541, 'onclude': 7542, 'avi': 7543, 'apponto': 7544, 'nookereader': 7545, 'doorbuster': 7546, 'probobly': 7547, 'lagginess': 7548, 'filtered': 7549, 'tmtis': 7550, 'downright': 7551, 'an\\xa0inexpensive': 7552, 'lib': 7553, 'flyer': 7554, 'deserved': 7555, 'shoves': 7556, 'hroat': 7557, 'haveit': 7558, 'ook': 7559, 'workhorse': 7560, 'horse': 7561, 'begging': 7562, 'rebooting': 7563, 'roaming': 7564, 'tab3': 7565, 'retrieval': 7566, 'reckless': 7567, 'supportable': 7568, 'eagerness': 7569, 'misled': 7570, 'solicited': 7571, 'cardscons': 7572, 'intrusiveoverall': 7573, 'containing': 7574, 'panels': 7575, 'mandated': 7576, 'nexus7': 7577, 'wonderfull': 7578, 'fab': 7579, 'captable': 7580, 'weakest': 7581, 'helpedalways': 7582, 'to12': 7583, 'disneyland': 7584, 'tranquil': 7585, 'workable': 7586, 'alternatve': 7587, 'readi': 7588, 'endurance': 7589, 'willynilly': 7590, 'recommeneded': 7591, 'begrudge': 7592, 'fide': 7593, 'lokes': 7594, 'disspoinment': 7595, 'firehd8': 7596, 'technilogical': 7597, 'orginal': 7598, 'cutoff': 7599, 'toggling': 7600, '7year': 7601, 'duel': 7602, 'unbearably': 7603, 'allthough': 7604, 'shifted': 7605, 'gecksqd': 7606, 'fre': 7607, 'homer': 7608, 'recuperating': 7609, 'haircut': 7610, 'shear': 7611, 'awsomo': 7612, 'assign': 7613, 'barrows': 7614, 'smokes': 7615, 'presets': 7616, 'rubs': 7617, 'inthe': 7618, 'simplty': 7619, 'awwsome': 7620, 'moneyenough': 7621, 'gamesdecent': 7622, 'lifecons': 7623, 'weekslow': 7624, 'everythimg': 7625, 'craze': 7626, 'survive': 7627, 'multifunction': 7628, 'summons': 7629, 'rearvision': 7630, 'mounts': 7631, 'vent': 7632, 'fsntastic': 7633, 'labtop': 7634, 'breathe': 7635, 'aiming': 7636, 'fay': 7637, 'loathe': 7638, 'unbecoming': 7639, 'pronto': 7640, 'octane': 7641, 'deployment': 7642, 'bookclub': 7643, 'fbs': 7644, 'championship': 7645, 'bama': 7646, 'everythig': 7647, 'figertips': 7648, 'restarts': 7649, 'acc': 7650, 'considerarions': 7651, 'mint': 7652, 'sorely': 7653, 'brenda': 7654, 'disrespectful': 7655, 'rude': 7656, 'representing': 7657, 'salary': 7658, 'ened': 7659, 'credible': 7660, 'litchi': 7661, 'mavic': 7662, 'clinicals': 7663, 'stepmom': 7664, 'purcase': 7665, 'xmass': 7666, 'champions': 7667, 'strike': 7668, 'spead': 7669, 'sequin': 7670, 'nashville': 7671, 'unrivaled': 7672, 'familiarizing': 7673, 'techny': 7674, 'slouch': 7675, 'upgrades！love': 7676, 'customet': 7677, 'wildlife': 7678, 'operable': 7679, 'tabket': 7680, 'ond': 7681, 'laggs': 7682, 'adust': 7683, 'bok': 7684, 'imy': 7685, 'becazuse': 7686, 'haf': 7687, 'stoeage': 7688, 'venue': 7689, 'peeved': 7690, 'anime': 7691, 'blanking': 7692, 'then10': 7693, 'qualitygood': 7694, 'moneycan': 7695, 'hug': 7696, 'assisting': 7697, '1week': 7698, 'speakes': 7699, 'battert': 7700, 'delta': 7701, 'unimpressive': 7702, 'awile': 7703, 'fire1': 7704, '9yo': 7705, 'yer': 7706, 'salesgirl': 7707, 'interns': 7708, 'whistle': 7709, 'indicators': 7710, 'proff': 7711, 'migration': 7712, 'tbe': 7713, 'tbey': 7714, 'assoc': 7715, 'areally': 7716, 'iwas': 7717, 'tread': 7718, 'mill': 7719, 'wheel': 7720, 'lays': 7721, 'panicked': 7722, 'hogs': 7723, 'cookbook': 7724, 'teader': 7725, 'replacemwnt': 7726, 'cortonna': 7727, 'kindlelishous': 7728, 'multifaceted': 7729, '\\u200bis': 7730, 'scrutiny': 7731, 'seatmate': 7732, 'babes': 7733, 'tinier': 7734, 'inverted': 7735, 'patchy': 7736, 'wheni': 7737, 'ergonomical': 7738, 'unsnaps': 7739, 'redesign': 7740, 'reverses': 7741, 'centre': 7742, 'gravity': 7743, 'reappearance': 7744, 'pinched': 7745, 'shifting': 7746, 'positions': 7747, 'squarish': 7748, 'kindels': 7749, 'glove': 7750, 'configurable': 7751, 'unprepared': 7752, 'impossibly': 7753, 'trace': 7754, 'illusion': 7755, 'rotates': 7756, 'lighweight': 7757, 'bookshelves': 7758, 'seated': 7759, 'flipped': 7760, 'moons': 7761, 'yellower': 7762, 'orientation': 7763, 'laston': 7764, '“dual': 7765, 'remembered': 7766, 'succeed': 7767, 'aren’t': 7768, 'wouldn’t': 7769, 'differentiator': 7770, 'ergonomics': 7771, 'deliberately': 7772, 'prolongs': 7773, 'marred': 7774, 'microfiber': 7775, 'hollowed': 7776, 'enclosed': 7777, 'spread': 7778, 'oversight': 7779, 'saddle': 7780, 'stitching': 7781, 'reveal': 7782, 'illuminates': 7783, 'stretchable': 7784, 'designers': 7785, 'forethought': 7786, 'sophistication': 7787, 'briefly': 7788, 'hinged': 7789, 'rubbery': 7790, 'sleektight': 7791, 'fituses': 7792, 'lightbar': 7793, 'factoring': 7794, 'knitted': 7795, 'reallyread': 7796, 'tweeting': 7797, 'juju': 7798, 'vehicles': 7799, 'carrier': 7800, '11yr': 7801, 'sega': 7802, 'housed': 7803, 'slik': 7804, 'swyping': 7805, 'weaknesses': 7806, 'legitimately': 7807, 'hasmore': 7808, 'hypersensitive': 7809, 'phooey': 7810, 'fundraiser': 7811, 'byod': 7812, 'howto': 7813, 'voids': 7814, 'deducted': 7815, 'foldover': 7816, 'phablet': 7817, '500ish': 7818, 'recorder': 7819, 'uniformity': 7820, 'clogs': 7821, 'curriculums': 7822, 'bedt': 7823, 'tot': 7824, 'toast': 7825, 'distribute': 7826, 'onext': 7827, 'ireader': 7828, 'somewhe': 7829, '20gb': 7830, 'miniature': 7831, '8hd': 7832, '32mb': 7833, 'anxiously': 7834, 'judiemae': 7835, 'mojo': 7836, 'african': 7837, 'listeda': 7838, '120v': 7839, '240v': 7840, 'bundledwith': 7841, 'raked': 7842, 'skipped': 7843, 'detract': 7844, 'pictured': 7845, 'scribed': 7846, 'firmly': 7847, 'attatch': 7848, 'expectd': 7849, 'accesory': 7850, 'nocomment': 7851, 'carol': 7852, 'steer': 7853, 'recomendable': 7854, 'ass': 7855, 'fern': 7856, 'michaels': 7857, 'hideaway': 7858, 'imac': 7859, 'fitthat': 7860, 'chicago': 7861, 'hamilton': 7862, 'chernow': 7863, 'fried': 7864, 'transmit': 7865, 'kidle': 7866, 'mae': 7867, 'ogino': 7868, 'seond': 7869, 'cot': 7870, 'wiggles': 7871, 'tines': 7872, 'firs': 7873, 'vert': 7874, 'flashing': 7875, 'demerit': 7876, 'enjoyes': 7877, 'drainage': 7878, 'curriculum': 7879, 'fancier': 7880, 'understandably': 7881, 'optimist': 7882, 'pigeon': 7883, 'holed': 7884, 'declines': 7885, 'sicnce': 7886, 'dmv': 7887, 'bifocals': 7888, 'collected': 7889, 'inadvertant': 7890, 'twitchy': 7891, 'rabbit': 7892, 'kns': 7893, 'realise': 7894, 'wwan': 7895, 'glear': 7896, 'harmful': 7897, 'thouroughly': 7898, 'migraines': 7899, 'crossed': 7900, 'beech': 7901, 'iit': 7902, 'firsdt': 7903, 'batteryseems': 7904, 'dwn': 7905, 'willingly': 7906, 'popups': 7907, 'outdose': 7908, 'dimensions': 7909, 'zooms': 7910, 'unspectacular': 7911, 'outperformes': 7912, 'nohow': 7913, 'museum': 7914, 'path': 7915, 'impede': 7916, 'tore': 7917, 'paypal': 7918, '512mb': 7919, 'browsethis': 7920, 'coding': 7921, 'acclimate': 7922, 'compromises': 7923, 'inpatient': 7924, 'camcorder': 7925, 'shoes': 7926, 'fiddling': 7927, 'kingroot': 7928, 'roms': 7929, 'pluse': 7930, 'reliant': 7931, 'noticibly': 7932, 'impacts': 7933, 'twist': 7934, 'bejewled': 7935, 'quilt': 7936, 'retreats': 7937, 'upcons': 7938, 'selectiongreat': 7939, 'undergroundextremely': 7940, 'affordablesd': 7941, 'supportcons': 7942, 'toexpand': 7943, 'skittle': 7944, 'genealological': 7945, 'allocate': 7946, 'unmatched': 7947, 'tabo': 7948, 'lining': 7949, 'youse': 7950, 'ahe': 7951, 'ooose': 7952, 'einsteins': 7953, 'antonio': 7954, 'spurs': 7955, 'leftover': 7956, 'broughtt': 7957, 'features…don': 7958, 'retained': 7959, 'unavoidable': 7960, 'functioanality': 7961, 'quits': 7962, 'independently': 7963, 'competable': 7964, 'protrvtion': 7965, 'male': 7966, 'allthe': 7967, 'memeory': 7968, 'unicorn': 7969, 'beetle': 7970, 'briefcases': 7971, 'minisd': 7972, 'leery': 7973, 'lean': 7974, '12th': 7975, 'monuva': 7976, 'bery': 7977, 'futures': 7978, 'weightcons': 7979, 'deviceoverall': 7980, 'nigeria': 7981, 'digit': 7982, 'sharpest': 7983, 'faith': 7984, 'earns': 7985, 'bougth': 7986, 'dabbled': 7987, 'lockscreenhowever': 7988, 'fledged': 7989, 'cashier': 7990, 'cartwheel': 7991, 'apiece': 7992, 'yera': 7993, 'daughterworks': 7994, 'mandatory': 7995, 'gir': 7996, 'hierarchy': 7997, 'cramps': 7998, 'maxing': 7999, 'volumn': 8000, 'treasures': 8001, 'tractors': 8002, 'childen': 8003, 'developer': 8004, 'sleak': 8005, 'littoe': 8006, 'chats': 8007, 'char': 8008, 'hin': 8009, 'hitched': 8010, 'usd50': 8011, 'dramatically': 8012, 'discourage': 8013, 'imaginably': 8014, 'outwards': 8015, 'perchues': 8016, 'pittance': 8017, 'steak': 8018, 'brews': 8019, 'bearly': 8020, 'spider': 8021, 'paso': 8022, 'slogan': 8023, 'akward': 8024, 'andhave': 8025, 'substandard': 8026, 'glitching': 8027, 'inspect': 8028, 'childeren': 8029, 'firegreat': 8030, 'boggle': 8031, 'haiti': 8032, 'reside': 8033, 'expend': 8034, 'agreements': 8035, 'sharge': 8036, 'davy': 8037, 'whirl': 8038, 'workall': 8039, 'thd': 8040, 'fird': 8041, 'proping': 8042, '16yr': 8043, 'ipdad': 8044, 'msrp': 8045, 'muchhh': 8046, 'invisible': 8047, 'beencollecting': 8048, 'can’t': 8049, 'longevity': 8050, 'compters': 8051, 'defaulty': 8052, 'kindle7': 8053, 'saythanks': 8054, 'ipad3': 8055, 'detractors': 8056, 'iteasily': 8057, '4more': 8058, 'whould': 8059, 'daybag': 8060, 'reopens': 8061, 'firei': 8062, 'booth': 8063, '5min': 8064, 'muddy': 8065, 'tail': 8066, 'enouph': 8067, 'promo': 8068, 'learing': 8069, 'excessively': 8070, 'divorced': 8071, 'merry': 8072, 'and7': 8073, 'angst': 8074, 'hometown': 8075, 'conduct': 8076, 'pixelly': 8077, 'analogous': 8078, 'boos': 8079, 'enrolls': 8080, 'operarion': 8081, 'imails': 8082, 'tieing': 8083, 'rig': 8084, 'legitimate': 8085, 'aforementioned': 8086, 'particuly': 8087, 'fireman': 8088, 'firehouse': 8089, 'gesr': 8090, 'cheapfunctions': 8091, 'wellusually': 8092, 'fastcons': 8093, 'tabletsscreen': 8094, 'sfrequent': 8095, 'inif': 8096, 'bin': 8097, 'kidsvery': 8098, 'disractions': 8099, 'totalling': 8100, 'comparrison': 8101, 'wifis': 8102, 'nit': 8103, 'wade': 8104, 'hazard': 8105, 'masterr': 8106, 'stater': 8107, 'kindlehd': 8108, 'practices': 8109, 'yous': 8110, 'deleting': 8111, 'thsee': 8112, 'overheated': 8113, 'mourning': 8114, 'formidable': 8115, 'grad': 8116, '1thing': 8117, 'watche': 8118, 'steamed': 8119, 'identity': 8120, 'prevalent': 8121, 'goverment': 8122, 'aprox': 8123, 'clueless': 8124, 'limiter': 8125, 'vid': 8126, 'flabbergasted': 8127, 'reeboot': 8128, 'cashing': 8129, 'annuity': 8130, 'bypass': 8131, 'establishes': 8132, 'financially': 8133, 'restoring': 8134, 'disengaged': 8135, 'albeit': 8136, 'roadi': 8137, 'ftom': 8138, 'treats': 8139, 'flung': 8140, 'boops': 8141, 'netfkix': 8142, 'nun': 8143, 'biiger': 8144, 'southeast': 8145, 'inflated': 8146, 'eveything': 8147, 'fundamental': 8148, 'fisher': 8149, 'everyting': 8150, 'modification': 8151, 'mrs': 8152, 'mor': 8153, 'expire': 8154, 'refill': 8155, 'illuminating': 8156, 'inexspensivd': 8157, 'diffidently': 8158, 'jut': 8159, 'lettersare': 8160, 'inadvertent': 8161, 'guesswork': 8162, 'responsibly': 8163, 'forces': 8164, 'approval': 8165, 'paided': 8166, 'battry': 8167, '8hr': 8168, 'sanctioned': 8169, 'cellpone': 8170, 'chikka': 8171, 'perfectbattery': 8172, 'greatease': 8173, 'aligned': 8174, 'especiallly': 8175, 'crispier': 8176, 'smiles': 8177, 'triangle': 8178, 'hyperlinks': 8179, 'referencing': 8180, 'expdf': 8181, 'negatively': 8182, 'impacting': 8183, 'booklight': 8184, 'sustaining': 8185, 'deescalated': 8186, 'nonprofit': 8187, 'thrilledwith': 8188, 'tacky': 8189, 'brst': 8190, 'excellentwireless': 8191, 'preciousness': 8192, 'effitient': 8193, 'merit': 8194, 'stables': 8195, 'tossing': 8196, 'hose': 8197, 'bedtimes': 8198, 'onfacebook': 8199, 'sophomore': 8200, 'googlke': 8201, 'avway': 8202, 'acceptance': 8203, 'doodling': 8204, 'amazes': 8205, 'flix': 8206, 'chunk': 8207, 'cbz': 8208, 'comiccat': 8209, 'dominated': 8210, 'finances': 8211, 'privileged': 8212, 'district': 8213, 'compaters': 8214, 'pejorative': 8215, 'transported': 8216, 'thoughtful': 8217, 'moby': 8218, 'travellers': 8219, 'vga': 8220, 'barcodes': 8221, 'orbo': 8222, 'wimo': 8223, 'shrugs': 8224, 'visibilty': 8225, 'anonymous': 8226, 'serviceable': 8227, 'catagories': 8228, 'preorder': 8229, 'shoddy': 8230, 'linkedin': 8231, 'skpe': 8232, 'shocking': 8233, 'oranges': 8234, 'tasty': 8235, 'refurbs': 8236, 'scrimp': 8237, 'paltry': 8238, 'impacted': 8239, 'shots': 8240, '10k': 8241, 'ecah': 8242, 'admirably': 8243, 'splotchy': 8244, 'despicable': 8245, 'plz': 8246, 'tack': 8247, 'rotation': 8248, 'views': 8249, 'porpose': 8250, 'retribution': 8251, 'conference': 8252, 'problemscamera': 8253, 'choldren': 8254, 'bombardment': 8255, 'beg': 8256, 'plead': 8257, 'anki': 8258, 'oppose': 8259, 'wtg': 8260, 'thw': 8261, 'mights': 8262, 'cozy': 8263, 'kendle': 8264, 'justright': 8265, 'gobbling': 8266, 'overuse': 8267, 'helpfulness': 8268, 'bookbag': 8269, 'googly': 8270, 'advising': 8271, 'snapping': 8272, 'billion': 8273, 'translator': 8274, 'advertized': 8275, 'jamaica': 8276, 'finctional': 8277, 'excellentlty': 8278, 'concealable': 8279, 'perfoms': 8280, 'availabilty': 8281, 'quarte': 8282, 'stalled': 8283, '8gigs': 8284, 'befor': 8285, 'sacraficed': 8286, 'assumption': 8287, 'framerate': 8288, 'blueshade': 8289, 'changeable': 8290, 'givin': 8291, 'mcds': 8292, 'giftt': 8293, 'jshe': 8294, 'techknowledgy': 8295, 'helllo': 8296, 'startuing': 8297, 'diwloading': 8298, 'bruisers': 8299, 'kidstub': 8300, 'priorities': 8301, 'generously': 8302, 'thread': 8303, 'sensory': 8304, 'topped': 8305, 'forewarning': 8306, 'aligning': 8307, 'terminals': 8308, 'placemnt': 8309, 'voter': 8310, 'kernel': 8311, 'pricepoint': 8312, 'addable': 8313, 'accessability': 8314, 'oodles': 8315, 'kindlegreat': 8316, 'tsnley': 8317, 'neices': 8318, 'incorrectly': 8319, 'wells': 8320, 'aidiobooks': 8321, 'diconnected': 8322, 'vacuuming': 8323, 'retailer': 8324, 'thanx': 8325, 'reserve': 8326, 'fester': 8327, 'dowloads': 8328, 'yield': 8329, 'hom': 8330, 'tigertown': 8331, 'camerakids': 8332, 'granma': 8333, 'affording': 8334, 'enjoiy': 8335, 'circumstance': 8336, 'conquered': 8337, 'ipadeasy': 8338, 'thaks': 8339, 'ans': 8340, 'trio': 8341, '3ds': 8342, 'xls': 8343, 'amaon': 8344, 'matured': 8345, 'trail': 8346, 'mucch': 8347, 'sugg': 8348, 'believed': 8349, 'storming': 8350, 'instructor': 8351, 'beatings': 8352, 'purchaed': 8353, 'carrington': 8354, 'grnaddaughter': 8355, 'girt': 8356, 'apron': 8357, 'req': 8358, 'gpod': 8359, 'province': 8360, 'lessa': 8361, 'banks': 8362, 'nab': 8363, 'bucket': 8364, 'slowpoke': 8365, 'venture': 8366, 'you’re': 8367, 'wed': 8368, 'cheapies': 8369, 'jitters': 8370, 'niles': 8371, 'firetablet': 8372, 'resoultion': 8373, 'sgould': 8374, 'haopen': 8375, 'vlash': 8376, 'captured': 8377, 'bargained': 8378, 'tots': 8379, 'conferences': 8380, 'sheuses': 8381, 'pricer': 8382, 'ambivalent': 8383, 'dating': 8384, 'oor': 8385, 'ghosting': 8386, 'twisted': 8387, 'chassis': 8388, 'underwhelmed': 8389, 'wellbad': 8390, 'buried': 8391, 'pricei': 8392, 'enet': 8393, 'boufgt': 8394, 'ringer': 8395, 'efficicient': 8396, '20x': 8397, 'filler': 8398, 'graphically': 8399, 'tact': 8400, 'usages': 8401, 'servives': 8402, 'dieing': 8403, 'belonging': 8404, 'sauna': 8405, 'peoples': 8406, 'touchly': 8407, 'was3nt': 8408, 'wasent': 8409, 'seperate': 8410, 'miserably': 8411, 'restored': 8412, 'vice': 8413, 'runnings': 8414, 'actly': 8415, 'ridcously': 8416, 'ifap': 8417, 'steel': 8418, 'itmstore': 8419, 'servicable': 8420, 'realibility': 8421, 'ocassional': 8422, 'tereat': 8423, 'potty': 8424, 'commutes': 8425, 'recliner': 8426, 'versed': 8427, 'hangin': 8428, 'clearance': 8429, 'dismay': 8430, 'alongside': 8431, '1024x600': 8432, 'especiall': 8433, 'documenting': 8434, 'accountss': 8435, 'llife': 8436, 'they❤it': 8437, 'unfathomable': 8438, 'parentallocks': 8439, 'repackaged': 8440, 'rebuilt': 8441, 'arnt': 8442, 'possessing': 8443, 'gee': 8444, 'boardman': 8445, 'smh': 8446, 'crisus': 8447, 'debris': 8448, 'amplified': 8449, 'enchanced': 8450, '32gig': 8451, 'awaesome': 8452, 'hoop': 8453, 'backboard': 8454, 'lego': 8455, 'panic': 8456, 'vesion': 8457, 'producto': 8458, 'hime': 8459, 'followers': 8460, 'vidoes': 8461, 'elevates': 8462, 'notably': 8463, 'finest': 8464, '75th': 8465, 'monitors': 8466, 'precarious': 8467, 'teenaged': 8468, 'whos': 8469, 'cyanogenmod': 8470, 'memories': 8471, 'las': 8472, 'incase': 8473, 'whoe': 8474, 'stamps': 8475, 'cognitive': 8476, 'diz': 8477, 'ecellerated': 8478, 'hospitalized': 8479, 'representation': 8480, 'rigorous': 8481, 'tipe': 8482, 'establishment': 8483, 'tasked': 8484, 'timed': 8485, 'scribd': 8486, 'famaily': 8487, 'begiiner': 8488, 'vidios': 8489, 'connell': 8490, 'unsuspecting': 8491, 'gra': 8492, 'pity': 8493, 'mcafee': 8494, 'offs': 8495, 'orice': 8496, 'writer': 8497, 'amazing\\u200b': 8498, 'offcourse': 8499, 'booksdoes': 8500, 'guidelines': 8501, 'inventory': 8502, 'woodworking': 8503, 'downloead': 8504, 'stuffing': 8505, 'stockers': 8506, 'sugar': 8507, 'whitt': 8508, 'skilled': 8509, 'hinders': 8510, 'bloggers': 8511, 'writers': 8512, 'storeage': 8513, 'mozilla': 8514, 'ironically': 8515, 'makeup': 8516, 'drills': 8517, 'burner': 8518, 'booking': 8519, 'thise': 8520, 'constanrly': 8521, 'reconnnet': 8522, 'intensly': 8523, 'behaved': 8524, 'burnt': 8525, 'onedrive': 8526, 'ises': 8527, 'greal': 8528, 'chromebooks': 8529, 'neeeded': 8530, 'odb': 8531, 'sincei': 8532, 'abandon': 8533, '12hr': 8534, 'escalated': 8535, 'sixe': 8536, 'sinced': 8537, 'unremoveable': 8538, 'booksome': 8539, 'stripes': 8540, 'aptoide': 8541, 'walaaa': 8542, 'onlinei': 8543, 'mentally': 8544, 'comixology': 8545, 'preview': 8546, 'powerwhite': 8547, 'sup': 8548, 'renewal': 8549, 'holey': 8550, 'moley': 8551, 'southwest': 8552, 'adaptation': 8553, 'routing': 8554, 'qualitycons': 8555, 'kendall': 8556, 'clairity': 8557, 'blanks': 8558, 'thanked': 8559, 'horrific': 8560, 'thay': 8561, 'bluetooths': 8562, 'tactically': 8563, 'onky': 8564, 'expandabel': 8565, 'becouse': 8566, 'aforedabul': 8567, 'cuvenet': 8568, 'successor': 8569, 'conscience': 8570, 'forecaster': 8571, 'reasoning': 8572, 'kpdi': 8573, 'prefere': 8574, 'aspergers': 8575, 'devotee': 8576, 'refunding': 8577, 'unintended': 8578, 'discussed': 8579, '0ne': 8580, 'rally': 8581, 'jib': 8582, 'career': 8583, 'downsize': 8584, 'occurring': 8585, 'tabletsas': 8586, 'advisable': 8587, 'literacy': 8588, 'pray': 8589, 'happiness': 8590, 'adulthood': 8591, 'techo': 8592, 'progressed': 8593, 'youtubekids': 8594, 'blurring': 8595, 'homebound': 8596, 'reps': 8597, 'fwiw': 8598, 'arise': 8599, 'laud': 8600, 'shouldnt': 8601, 'coronary': 8602, 'exc': 8603, 'leads': 8604, 'intern': 8605, 'eventual': 8606, 'deliverd': 8607, 'refunded': 8608, 'sturdiness': 8609, 'satisify': 8610, 'covererd': 8611, 'repairable': 8612, 'ncrease': 8613, 'mybe': 8614, 'minut': 8615, 'overalls': 8616, 'literary': 8617, 'fundamentals': 8618, 'bloated': 8619, 'flixst': 8620, 'playground': 8621, 'playthings': 8622, 'doable': 8623, 'distract': 8624, 'reinserting': 8625, 'onsale': 8626, 'wellbas': 8627, 'serv8ce': 8628, 'guessed': 8629, 'unprofessional': 8630, 'ponder': 8631, 'mum': 8632, 'boon': 8633, 'talent': 8634, 'slammed': 8635, 'workes': 8636, 'tutoring': 8637, 'entretaiment': 8638, 'plsy': 8639, 'deviations': 8640, 'deduction': 8641, 'alterations': 8642, 'maintain': 8643, 'macos': 8644, 'prerfict': 8645, 'drier': 8646, 'tabletd': 8647, 'amazonprime': 8648, 'justwhat': 8649, 'alarming': 8650, 'cheap2': 8651, 'handy3': 8652, 'kidscons': 8653, 'running2': 8654, 'sufficient3': 8655, 'twos': 8656, 'reinstalled': 8657, 'satisfly': 8658, 'putchased': 8659, 'millennium': 8660, 'falcon': 8661, 'flashed': 8662, 'absofbing': 8663, 'webi': 8664, 'fluff': 8665, 'bedridden': 8666, 'ovoo': 8667, 'addictions': 8668, 'advertisers': 8669, 'subsidizing': 8670, 'bluelight': 8671, 'slider': 8672, 'animations': 8673, 'attest': 8674, 'mega': 8675, 'hangouts': 8676, 'ale': 8677, 'insadent': 8678, 'vacuums': 8679, 'dries': 8680, 'devicethank': 8681, 'amaazing': 8682, 'septagenarian': 8683, 'adroid': 8684, 'parens': 8685, 'rediscovered': 8686, 'disab': 8687, 'tabletperforms': 8688, 'fordo': 8689, 'especial': 8690, 'unpair': 8691, 'beater': 8692, 'steamy': 8693, 'expansionfor': 8694, 'kiosks': 8695, 'pta': 8696, 'yhis': 8697, 'mived': 8698, '6years': 8699, 'thave': 8700, 'especialyl': 8701, 'chemotherapy': 8702, 'radiation': 8703, 'hisitating': 8704, 'oma': 8705, 'regualur': 8706, 'anymorte': 8707, 'declining': 8708, 'freeplay': 8709, 'weighteasy': 8710, 'wooo': 8711, 'sizegood': 8712, 'becuz': 8713, 'teplaced': 8714, 'kilter': 8715, 'bonding': 8716, 'trunk': 8717, 'crushing': 8718, '63rd': 8719, 'wasteful': 8720, 'saund': 8721, '16love': 8722, 'someting': 8723, 'iwhatever': 8724, 'kidzbop': 8725, 'adulting': 8726, 'selfish': 8727, 'camn': 8728, 'crave': 8729, 'neko': 8730, 'atsume': 8731, 'affordible': 8732, 'onrs': 8733, 'jwbroadcasting': 8734, 'sumsung': 8735, 'comnect': 8736, 'convertible': 8737, 'youversion': 8738, 'servesany': 8739, '7inches': 8740, 'nestled': 8741, 'aosp': 8742, 'oses': 8743, 'journal': 8744, 'cringing': 8745, 'firsthand': 8746, 'plague': 8747, 'alphabets': 8748, 'performnces': 8749, 'macair': 8750, 'suppoused': 8751, 'one1': 8752, 'rmusic': 8753, 'exeptional': 8754, 'marches': 8755, 'throwaway': 8756, 'ant': 8757, 'paidwill': 8758, 'boundaries': 8759, 'jane': 8760, 'autofill': 8761, 'axcess': 8762, 'samsaung': 8763, 'ebookson': 8764, 'flipboard': 8765, 'richard': 8766, 'forgoing': 8767, 'mote': 8768, 'impovement': 8769, 'moore': 8770, 'wnjoyed': 8771, '15yrs': 8772, 'cary': 8773, 'limites': 8774, 'crochet': 8775, 'tragedy': 8776, 'kidzobe': 8777, 'itbeats': 8778, 'compariable': 8779, 'grandfaughter': 8780, 'graphicsawesome': 8781, 'managedto': 8782, 'difficultwith': 8783, 'iiicandy': 8784, 'echelon': 8785, 'logins': 8786, 'drawn': 8787, 'personslly': 8788, 'caliber': 8789, 'usps': 8790, 'portfolio': 8791, 'ild': 8792, 'googled': 8793, 'youngers': 8794, 'tickle': 8795, 'manuever': 8796, 'gran': 8797, 'luster': 8798, 'craigslist': 8799, 'itwhat': 8800, 'jean': 8801, 'wath': 8802, 'retiring': 8803, 'monochromatic': 8804, '3gave': 8805, 'reposnsive': 8806, 'nova': 8807, 'bluethoot': 8808, 'coordination': 8809, '7tablet': 8810, 'motions': 8811, 'gsp': 8812, 'crabbing': 8813, 'fadt': 8814, 'teriffic': 8815, 'cluttering': 8816, 'exotic': 8817, 'purchashed': 8818, 'begineers': 8819, 'ordersfrom': 8820, 'grub': 8821, 'chatting': 8822, 'overlap': 8823, 'hoopla': 8824, 'exempt': 8825, 'prenatal': 8826, 'complainants': 8827, 'wierd': 8828, 'watchespn': 8829, 'cardthe': 8830, 'dma': 8831, 'deactivated': 8832, 'shops': 8833, 'supermarkets': 8834, 'risks': 8835, 'cherry': 8836, 'slates': 8837, 'kindergartener': 8838, '80yr': 8839, 'bothe': 8840, 'involuntary': 8841, 'miserable': 8842, 'themail': 8843, 'assignmentshe': 8844, 'donation': 8845, 'aduquate': 8846, 'yankee': 8847, 'curfews': 8848, 'rose': 8849, 'presenting': 8850, 'awakes': 8851, 'sibling': 8852, 'colorlittle': 8853, 'label': 8854, 'downloding': 8855, 'evens': 8856, 'reserved': 8857, 'loloaded': 8858, 'comforts': 8859, 'conscamera': 8860, '15yr': 8861, '14yr': 8862, 'impatient': 8863, 'granddad': 8864, 'memebr': 8865, 'wld': 8866, 'perimeters': 8867, 'peoria': 8868, 'brakes': 8869, 'obly': 8870, 'roadtrips': 8871, 'wishi': 8872, 'smudged': 8873, 'dissapoint': 8874, 'producti': 8875, 'pencil': 8876, 'pencils': 8877, 'goddaughters': 8878, 'smallish': 8879, 'hiking': 8880, 'soneasy': 8881, 'uplight': 8882, 'wut': 8883, 'onand': 8884, 'offensive': 8885, 'immodestly': 8886, 'freetme': 8887, 'mni': 8888, 'borat': 8889, 'kills': 8890, 'slimlp': 8891, 'youtubing': 8892, 'fulfil': 8893, '1each': 8894, 'alien': 8895, 'seventh': 8896, 'haywire': 8897, 'watchable': 8898, 'wilds': 8899, 'onblack': 8900, 'fist': 8901, 'claus': 8902, 'france': 8903, 'recoding': 8904, 'bfs': 8905, 'jessica': 8906, 'lee': 8907, 'greatprice': 8908, 'systemgreat': 8909, 'feedbackthe': 8910, 'newly': 8911, 'fumigate': 8912, 'iteasy': 8913, 'reconmnd': 8914, 'disapproval': 8915, 'unlink': 8916, 'hisband': 8917, 'smail': 8918, 'forfpor': 8919, 'declined': 8920, 'needgood': 8921, 'wat': 8922, 'aptitude': 8923, 'with6': 8924, 'origanally': 8925, 'withdraw': 8926, 'delte': 8927, 'connectively': 8928, '9yrs': 8929, 'othere': 8930, 'wifeher': 8931, 'rebecca': 8932, 'fifties': 8933, 'sistem': 8934, 'usecheapexpandable': 8935, 'cardcons': 8936, 'loadscheap': 8937, 'abilty': 8938, 'resultion': 8939, 'thirteen': 8940, 'mcsd': 8941, 'ultracheap': 8942, 'hacks': 8943, 'insecure': 8944, 'ail': 8945, 'baser': 8946, 'bedsides': 8947, 'reaader': 8948, 'weighed': 8949, 'reeaders': 8950, 'l8ike': 8951, 'betterand': 8952, 'beeen': 8953, 'overriding': 8954, 'tabletperfect': 8955, 'greatfor': 8956, 'werelacking': 8957, 'sms': 8958, 'accessble': 8959, 'protecter': 8960, 'intermittent': 8961, 'cad': 8962, 'mil': 8963, 'optimize': 8964, 'resourcelful': 8965, 'brows': 8966, 'princesses': 8967, 'videis': 8968, 'compaints': 8969, 'largely': 8970, 'league': 8971, 'powrful': 8972, 'kidsand': 8973, 'ballon': 8974, 'poppinggames': 8975, 'tokens': 8976, 'gems': 8977, 'eyed': 8978, 'curated': 8979, 'dents': 8980, 'prominent': 8981, 'androidos': 8982, 'drs': 8983, 'lurana566': 8984, 'complaintssome': 8985, 'flimsier': 8986, 'nonexpensive': 8987, 'browsingnetflixemail': 8988, 'knockoff': 8989, 'chips': 8990, 'playting': 8991, 'nuprocase': 8992, 'airfare': 8993, 'differents': 8994, 'simpl': 8995, 'craving': 8996, 'stollen': 8997, 'deactivate': 8998, 'mifi': 8999, 'beefy': 9000, 'proprietory': 9001, 'slideview': 9002, 'modicum': 9003, 'tumble': 9004, 'calm': 9005, 'ding': 9006, 'attendance': 9007, 'spontaneously': 9008, 'strolling': 9009, 'pat': 9010, 'diss': 9011, 'probls': 9012, 'rang': 9013, 'wannabe': 9014, 'prohibitive': 9015, 'bulkier': 9016, 'exelent': 9017, 'shoppin': 9018, 'onlots': 9019, 'stacking': 9020, 'okly': 9021, 'queenie': 9022, 'dexterity': 9023, 'ruined': 9024, 'massacred': 9025, 'incompatible': 9026, 'orederd': 9027, 'parenthesis': 9028, 'correction': 9029, 'afterward': 9030, 'anywere': 9031, 'backseat': 9032, 'raccomend': 9033, 'craves': 9034, 'accumulated': 9035, 'touring': 9036, 'honda': 9037, 'valkyrie': 9038, 'wary': 9039, 'poetically': 9040, 'emulator': 9041, 'tolerance': 9042, 'boiling': 9043, 'dared': 9044, 'someplace': 9045, 'sixed': 9046, 'meander': 9047, 'ingrained': 9048, 'allowances': 9049, 'commerce': 9050, 'mistakes': 9051, 'blotware': 9052, 'tweaked': 9053, 'timethey': 9054, 'ahold': 9055, 'giggled': 9056, 'snagging': 9057, 'fights': 9058, 'travelingin': 9059, 'adaquate': 9060, 'thaler': 9061, 'inputting': 9062, 'plausible': 9063, 'braven': 9064, 'riverbank': 9065, 'sharpening': 9066, 'tblet': 9067, 'returened': 9068, 'anothers': 9069, 'adjunct': 9070, 'cleat': 9071, 'searchshopp': 9072, 'ducktales': 9073, 'thiers': 9074, 'indicating': 9075, 'graciously': 9076, 'expires': 9077, 'microdisk': 9078, 'outfit': 9079, 'downloader': 9080, 'flavor': 9081, 'partially': 9082, 'undo': 9083, 'infinity': 9084, 'doomed': 9085, 'recommanded': 9086, 'buddies': 9087, 'attend': 9088, 'salvation': 9089, 'giftcards': 9090, 'carefree': 9091, 'university': 9092, 'ttoonnss': 9093, 'stranger': 9094, 'instructibles': 9095, 'merrillville': 9096, 'forgive': 9097, 'arguement': 9098, 'reflected': 9099, 'speeded': 9100, 'zoomed': 9101, 'tinted': 9102, 'goody': 9103, 'niecegreat': 9104, 'doesnwhat': 9105, 'intentionally': 9106, 'presentations': 9107, 'pant': 9108, 'dlls': 9109, 'din': 9110, 'soul': 9111, 'howevef': 9112, 'talber': 9113, 'frozed': 9114, 'cellphones': 9115, 'italics': 9116, 'doh': 9117, 'hyped': 9118, 'playibg': 9119, 'usebattery': 9120, 'goodeasy': 9121, 'accumulating': 9122, 'gadgetly': 9123, 'lefthand': 9124, 'fastbooth': 9125, 'expiring': 9126, 'enhanse': 9127, 'granny': 9128, 'firday': 9129, 'obsession': 9130, 'drink': 9131, 'every1': 9132, 'phonics': 9133, 'jiffy': 9134, 'consequently': 9135, 'bandits': 9136, 'movee': 9137, 'herfor': 9138, 'reality': 9139, 'blockers': 9140, 'ocd': 9141, 'receipts': 9142, 'backups': 9143, 'unintentional': 9144, 'xpectations': 9145, 'tags': 9146, 'tango': 9147, 'scientific': 9148, 'maxed': 9149, 'dearth': 9150, 'contentcons': 9151, 'imovie': 9152, 'garageband': 9153, 'frequency': 9154, 'nemo': 9155, 'maunuver': 9156, 'guilty': 9157, 'hallelujah': 9158, 'goofing': 9159, 'adventurous': 9160, 'seasin': 9161, 'debit': 9162, 'hood': 9163, 'adriod': 9164, 'fori': 9165, 'pld': 9166, 'buisness': 9167, 'ifit': 9168, 'joyed': 9169, 'prblems': 9170, 'agian': 9171, 'suprise': 9172, 'admin': 9173, 'agers': 9174, 'reckomend': 9175, 'timeverything': 9176, 'borne': 9177, 'greatness': 9178, 'predecessors': 9179, 'grandchilden': 9180, 'hemming': 9181, 'hawing': 9182, 'libarary': 9183, '4out': 9184, '6kindles': 9185, 'therfore': 9186, 'acknowledged': 9187, '30day': 9188, 'grrreeat': 9189, 'promices': 9190, '72gb': 9191, 'gott': 9192, 'wellas': 9193, 'reponsive': 9194, 'striped': 9195, 'sytem': 9196, 'cooperative': 9197, 'marking': 9198, 'belive': 9199, 'supurb': 9200, 'recomond': 9201, 'kennedy': 9202, 'satisface': 9203, 'thingsthank': 9204, 'reputed': 9205, 'abt': 9206, 'painlessly': 9207, 'beneath': 9208, 'saavier': 9209, 'exploit': 9210, 'poker': 9211, 'shockproof': 9212, 'carter': 9213, 'radily': 9214, 'erased': 9215, 'flick': 9216, 'fulfilled': 9217, 'pix': 9218, 'prome': 9219, 'inexperienced': 9220, 'outdone': 9221, 'fatherl': 9222, 'leat': 9223, 'tinkerer': 9224, 'unmodified': 9225, 'starsmodified': 9226, 'videochat': 9227, 'barebones': 9228, 'ineternet': 9229, 'amazan': 9230, 'verities': 9231, 'snows': 9232, 'rips': 9233, 'alduts': 9234, 'coarse': 9235, 'problemsall': 9236, 'union': 9237, 'lollipop': 9238, 'appscompatible': 9239, 'appsloves': 9240, 'priduct': 9241, 'gbs': 9242, 'gud': 9243, 'lottery': 9244, 'gan': 9245, 'semm': 9246, 'maneuvers': 9247, 'it2': 9248, 'academics': 9249, 'yearsand': 9250, 'snapped': 9251, 'thrive': 9252, 'nickjr': 9253, 'ioffer': 9254, 'picturespower': 9255, 'speedeasy': 9256, 'surprisely': 9257, 'jer': 9258, 'courteous': 9259, 'swems': 9260, 'entice': 9261, 'pertness': 9262, 'accupied': 9263, 'simplity': 9264, 'citing': 9265, 'complantes': 9266, 'verygood': 9267, 'balancing': 9268, 'outperform': 9269, 'smashed': 9270, 'boils': 9271, 'neef': 9272, 'maine': 9273, 'teeny': 9274, 'unheard': 9275, '13yrs': 9276, 'pricelightweight': 9277, 'socks': 9278, 'aré': 9279, 'bruises': 9280, 'lad': 9281, 'overflowing': 9282, 'usei': 9283, 'emailand': 9284, 'wpuldnt': 9285, 'amarion': 9286, 'irresistable': 9287, 'profit': 9288, 'desirable': 9289, 'probbem': 9290, 'bargin': 9291, 'designate': 9292, 'absoluitely': 9293, 'thatbi': 9294, 'nive': 9295, 'iust': 9296, 'muchbfor': 9297, 'capacities': 9298, 'allhave': 9299, 'boight': 9300, 'pinks': 9301, 'takings': 9302, 'explode': 9303, 'conveniet': 9304, 'eleven': 9305, 'everyhing': 9306, 'hovering': 9307, 'browsed': 9308, 'haves': 9309, 'layovers': 9310, 'everyonel': 9311, 'memorystick': 9312, 'sooon': 9313, 'xams': 9314, 'entrenched': 9315, 'starng': 9316, 'sweeter': 9317, 'intially': 9318, 'excites': 9319, 'iof': 9320, 'packets': 9321, 'panda': 9322, 'toca': 9323, 'tabby': 9324, 'pave': 9325, 'blackliontravel': 9326, 'perfit': 9327, 'okd': 9328, 'blinks': 9329, 'tobe': 9330, 'pouches': 9331, 'pennybought': 9332, 'fam': 9333, 'irked': 9334, 'ecocistem': 9335, 'basiseasy': 9336, 'msgs': 9337, 'tablat': 9338, 'troble': 9339, 'feautures': 9340, 'basicly': 9341, 'conclude': 9342, 'whoa': 9343, 'inexpensiveexpandable': 9344, 'storagegood': 9345, 'shopperscons': 9346, 'performancelack': 9347, 'installedtouch': 9348, 'freezesscreen': 9349, 'huetoo': 9350, 'thingssound': 9351, 'goodwifi': 9352, 'onlyconclusion': 9353, 'grayish': 9354, 'mamma': 9355, 'beggnners': 9356, 'rode': 9357, 'unloads': 9358, 'reclaimed': 9359, 'surfingnewsreaderaudio': 9360, 'playernetflix': 9361, 'etcwhat': 9362, 'gpsscreen': 9363, 'sson': 9364, 'psuh': 9365, 'girlfriendand': 9366, 'dino': 9367, 'flex8': 9368, 'pkg': 9369, 'crushed': 9370, 'dumbed': 9371, 'slooowww': 9372, 'accepting': 9373, 'watered': 9374, 'priceand': 9375, 'chegg': 9376, 'photography': 9377, 'commons': 9378, 'deserted': 9379, 'arriving': 9380, 'praying': 9381, 'inconvenienced': 9382, 'disbursed': 9383, 'mortar': 9384, 'wma': 9385, 'trucks': 9386, 'fustrution': 9387, 'chanes': 9388, 'markets': 9389, 'includeing': 9390, 'androd': 9391, 'theipad': 9392, 'kifre': 9393, 'vcr': 9394, 'rewrapping': 9395, 'docked': 9396, 'mthere': 9397, 'pens': 9398, 'realitivley': 9399, 'viewable': 9400, 'systemcons': 9401, 'issuesin': 9402, 'outright': 9403, 'adobe': 9404, 'scheme': 9405, 'sparkle': 9406, 'promotions': 9407, 'wedsite': 9408, 'singular': 9409, 'phenomenally': 9410, '8month': 9411, 'koreans': 9412, 'asian': 9413, 'underwhelming': 9414, 'secs': 9415, 'clears': 9416, 'bellini': 9417, 'reappear': 9418, 'puncture': 9419, 'epad': 9420, 'lies': 9421, 'deluxe': 9422, 'naviagation': 9423, 'outclasses': 9424, 'facial': 9425, 'cobtrols': 9426, 'stove': 9427, 'mini2': 9428, 'daighter': 9429, 'intl': 9430, 'ppts': 9431, 'miniscule': 9432, 'tableteasy': 9433, 'flashplayer': 9434, 'snatch': 9435, 'spected': 9436, 'handly': 9437, 'alek': 9438, 'prefectly': 9439, 'likits': 9440, 'menone': 9441, 'omnipresent': 9442, 'chatge': 9443, '37th': 9444, 'attendant': 9445, 'accelerometer': 9446, 'preffered': 9447, 'advantagefor': 9448, 'lefties': 9449, 'satisfiedeasier': 9450, 'completly': 9451, 'polarized': 9452, 'nad': 9453, 'evolutionary': 9454, 'silhouette': 9455, 'twinkles': 9456, 'preordered': 9457, 'tails': 9458, 'comings': 9459, 'audibles': 9460, 'nnby': 9461, 'texted': 9462, 'difiitioin': 9463, 'multiplied': 9464, 'putin': 9465, 'coherent': 9466, 'baskey': 9467, 'spongy': 9468, 'targeted': 9469, 'inherited': 9470, 'interferes': 9471, 'grabs': 9472, 'deletion': 9473, 'consice': 9474, 'chime': 9475, 'trilogies': 9476, 'repaved': 9477, 'itl': 9478, 'multiplication': 9479, 'division': 9480, 'finishing': 9481, 'transactions': 9482, 'tix': 9483, 'yokod': 9484, 'kathleen': 9485, 'stroyek': 9486, 'hay': 9487, 'udated': 9488, 'chipper': 9489, 'messageer': 9490, 'autofocus': 9491, 'alaska': 9492, 'conecctions': 9493, 'sails': 9494, 'insensitive': 9495, 'expressed': 9496, 'solitare': 9497, 'sodoko': 9498, 'slr': 9499, 'tsa': 9500, 'screening': 9501, 'political': 9502, 'hurricane': 9503, 'atlantic': 9504, 'northern': 9505, 'determination': 9506, 'morn': 9507, 'tasker': 9508, 'mere': 9509, 'mathematically': 9510, 'equation': 9511, 'kidsmode': 9512, 'acording': 9513, 'linsay': 9514, 'sahre': 9515, 'boxed': 9516, 'viewers': 9517, 'nextbook': 9518, 'spoiler': 9519, 'llite': 9520, 'polarizing': 9521, 'wantedbest': 9522, 'alsome': 9523, 'pff': 9524, 'goings': 9525, 'pleanty': 9526, '2days': 9527, 'tabletsome': 9528, 'multiuse': 9529, 'screamreal': 9530, 'supportive': 9531, 'woo': 9532, 'tabletyou': 9533, 'pare': 9534, 'oonz': 9535, 'screwing': 9536, 'speedcons': 9537, 'clumsiness': 9538, 'knack': 9539, 'taplet': 9540, 'professionals': 9541, 'jon': 9542, 'sorcerer': 9543, 'fish': 9544, 'safeguards': 9545, 'netflexs': 9546, 'thks': 9547, 'definate': 9548, 'protections': 9549, 'bending': 9550, 'furbished': 9551, 'allots': 9552, 'distances': 9553, 'futile': 9554, 'tethering': 9555, 'nices': 9556, 'happend': 9557, 'screenlike': 9558, 'feachers': 9559, 'goodexcellent': 9560, 'sharpness': 9561, 'dishwashers': 9562, 'fitst': 9563, 'panasonic': 9564, 'handsets': 9565, 'cloths': 9566, 'poundage': 9567, 'techonology': 9568, 'undergrond': 9569, 'godchild': 9570, 'ligher': 9571, 'availablesare': 9572, 'beoke': 9573, 'gbss': 9574, 'oit': 9575, 'malfunctions': 9576, 'variant': 9577, 'theach': 9578, '13th': 9579, 'kinde': 9580, 'firends': 9581, 'regulation': 9582, 'playimg': 9583, 'desciples': 9584, 'dubious': 9585, 'measly': 9586, 'bypassed': 9587, 'influence': 9588, 'chugs': 9589, 'my9': 9590, 'conceal': 9591, 'resort': 9592, '14yo': 9593, 'gleeful': 9594, 'displaynice': 9595, 'marketchild': 9596, 'ration': 9597, 'profrssional': 9598, 'cleverly': 9599, 'devised': 9600, 'heckpros': 9601, 'prettyfunctionalcons': 9602, 'slipperyexpensive': 9603, 'loops': 9604, 'groove': 9605, 'justifies': 9606, 'umm': 9607, 'grips': 9608, 'untextured': 9609, 'unpadded': 9610, 'scrape': 9611, 'floppy': 9612, 'properties': 9613, 'plasticky': 9614, 'examination': 9615, 'pda': 9616, '29th': 9617, 'safari': 9618, 'prosthe': 9619, 'straps': 9620, 'drum': 9621, 'consmy': 9622, 'frisbee': 9623, 'barley': 9624, 'cushioning': 9625, 'greatthank': 9626, 'gaurantee': 9627, 'toddlerseasy': 9628, 'carryeasy': 9629, 'kidz': 9630, 'height': 9631, 'bland': 9632, 'dnt': 9633, 'fews': 9634, 'wolf': 9635, 'measures': 9636, 'proclaims': 9637, 'musicality': 9638, 'parenting': 9639, 'chronic': 9640, 'culprit': 9641, 'glambaby': 9642, 'easiness': 9643, 'an3': 9644, 'chtistmas': 9645, 'micky': 9646, 'unrelated': 9647, 'goggleplay': 9648, 'experiance': 9649, 'newphew': 9650, 'contorl': 9651, 'kindleized': 9652, 'fiddled': 9653, 'sdmini': 9654, 'motor': 9655, 'deficits': 9656, 'undone': 9657, 'teething': 9658, '6hours': 9659, 'minds': 9660, 'cooperate': 9661, 'indestructable': 9662, 'honeatly': 9663, 'unsupervised': 9664, 'gamehis': 9665, 'motivation': 9666, 'ranged': 9667, 'tabletthe': 9668, 'clog': 9669, '10and': 9670, 'contol': 9671, 'itshe': 9672, 'lick': 9673, 'disallow': 9674, 'dangers': 9675, 'pkus': 9676, 'adolescent': 9677, 'charitable': 9678, 'grandboy': 9679, 'dif': 9680, 'handlings': 9681, 'guarantees': 9682, 'spilled': 9683, 'gigahertz': 9684, 'megapixel': 9685, 'excitedly': 9686, 'girly': 9687, 'fears': 9688, '4yrs': 9689, 'misbehaving': 9690, 'abcs': 9691, 'inquiring': 9692, 'submitted': 9693, 'consulting': 9694, 'tablett': 9695, 'wasd': 9696, '15mins': 9697, 'surrounds': 9698, '30sec': 9699, 'spongbob': 9700, 'equates': 9701, 'nterface': 9702, 'chubby': 9703, 'stills': 9704, 'clones': 9705, 'prof': 9706, 'quetion': 9707, 'warenty': 9708, 'kidsit': 9709, 'educationali': 9710, 'preparation': 9711, 'abke': 9712, '3yrs': 9713, 'fondly': 9714, 'azi': 9715, 'toodler': 9716, 'gre': 9717, 'bumpers': 9718, 'contenders': 9719, 'ager': 9720, 'grankids': 9721, 'assumwd': 9722, 'hover': 9723, 'unbox': 9724, '7yo': 9725, 'granville': 9726, 'facets': 9727, 'presence': 9728, 'dreamtab': 9729, 'aiden': 9730, 'differentiate': 9731, 'durrible': 9732, 'tabletscons': 9733, 'geating': 9734, 'plying': 9735, 'accedently': 9736, 'recieve': 9737, 'sterdy': 9738, 'appschild': 9739, 'adultsa': 9740, 'fugured': 9741, 'clothes': 9742, 'pictureshe': 9743, 'grandniece': 9744, 'litthe': 9745, 'needespecially': 9746, 'jissela': 9747, 'mechanics': 9748, 'bugging': 9749, 'samaumg': 9750, 'rethinking': 9751, 'farone': 9752, 'prop': 9753, 'externally': 9754, 'ttje': 9755, 'licensing': 9756, 'bold': 9757, 'sneakily': 9758, 'lifw': 9759, 'goodidn': 9760, 'independence': 9761, '2yo': 9762, 'absorbs': 9763, 'freespace': 9764, 'cal': 9765, 'saggy': 9766, 'themes': 9767, 'jostled': 9768, 'tiniest': 9769, 'majorly': 9770, 'shaping': 9771, 'tosses': 9772, 'lifesavers': 9773, 'daugter': 9774, 'usin': 9775, 'grownup': 9776, 'pove': 9777, 'pime': 9778, '2yrs': 9779, 'alterior': 9780, 'motive': 9781, 'crying': 9782, 'bowl': 9783, 'grandchilds': 9784, 'adhd': 9785, 'stringer': 9786, 'hardwood': 9787, 'stair': 9788, 'buyshock': 9789, 'kangaroo': 9790, 'pogo': 9791, 'discerning': 9792, 'feaures': 9793, 'modes': 9794, 'homemade': 9795, 'mucheveryday': 9796, 'cubby': 9797, 'crafted': 9798, 'glue': 9799, 'purchasei': 9800, 'k8d': 9801, 'poloroid': 9802, 'conpaired': 9803, 'figthing': 9804, 'exchanges': 9805, 'aweosme': 9806, 'enroll': 9807, 'mgr': 9808, 'jerk': 9809, 'hds': 9810, 'freetimeunlimited': 9811, 'investigated': 9812, 'hunting': 9813, 'captivated': 9814, 'belongs': 9815, 'gurantee': 9816, 'batery': 9817, 'progressing': 9818, '1yo': 9819, 'wrath': 9820, 'signs': 9821, 'stutdy': 9822, 'farmers': 9823, 'almanac': 9824, 'nakes': 9825, 'shatter': 9826, 'observe': 9827, 'youngsters': 9828, '8mm': 9829, 'pumper': 9830, 'gripping': 9831, 'entertainig': 9832, 'downfalls': 9833, 'purposly': 9834, 'curiosity': 9835, 'hammer': 9836, 'amaxzon': 9837, 'shakey': 9838, '30yr': 9839, 'leapfrog': 9840, 'programmer': 9841, 'stepkids': 9842, 'witnessed': 9843, 'laminate': 9844, 'allotted': 9845, 'connectors': 9846, 'shelves': 9847, 'guppies': 9848, 'headstart': 9849, 'endure': 9850, 'boredom': 9851, 'didon': 9852, 'maui': 9853, 'expectationin': 9854, 'solving': 9855, 'advertisment': 9856, 'pedro': 9857, 'enlargable': 9858, 'transportations': 9859, 'galapagos': 9860, 'bookbetter': 9861, 'forsure': 9862, 'occult': 9863, 'counterparts': 9864, 'expunged': 9865, 'projected': 9866, 'thirds': 9867, 'realistically': 9868, 'recommenf': 9869, 'lightvery': 9870, 'paprewhite': 9871, 'fluctuation': 9872, '212ppi': 9873, 'jagged': 9874, 'dimness': 9875, 'argument': 9876, 'proportions': 9877, 'nudged': 9878, 'outgoing': 9879, 'offbrand': 9880, 'garmin': 9881, 'ymmv': 9882, 'maze': 9883, 'runner': 9884, 'actively': 9885, 'inperfections': 9886, 'pariah': 9887, 'previoulsy': 9888, 'kindl': 9889, 'lightingweight': 9890, 'exquisite': 9891, 'shockingly': 9892, 'atlas': 9893, 'shrugged': 9894, 'furthest': 9895, 'reopen': 9896, 'license': 9897, 'rebuy': 9898, 'suppos': 9899, 'wrk': 9900, 'shifts': 9901, 'lifeless': 9902, 'execellent': 9903, 'metro': 9904, 'commuters': 9905, 'riders': 9906, 'hardcovers': 9907, 'consequence': 9908, 'gpad': 9909, 'untimely': 9910, 'beam': 9911, 'optimistic': 9912, 'excite': 9913, 'dudes': 9914, 'linger': 9915, 'poetry': 9916, 'rocketfish': 9917, 'appetite': 9918, 'lightened': 9919, 'struck': 9920, 'disraction': 9921, 'motorcylce': 9922, 'fellas': 9923, 'ole': 9924, 'everywhereperfect': 9925, 'dusk': 9926, 'detects': 9927, 'shady': 9928, 'shelp': 9929, 'darkest': 9930, 'electrónico': 9931, 'práctico': 9932, 'ahí': 9933, 'somwthing': 9934, 'thoughtnwould': 9935, 'sceeen': 9936, 'resuming': 9937, 'campus': 9938, 'readr': 9939, 'complemented': 9940, 'preliminary': 9941, 'whiletraveling': 9942, 'pregnancy': 9943, 'breast': 9944, 'feeding': 9945, 'thisbinsteadbof': 9946, 'stabilization': 9947, 'migrating': 9948, 'bestkindle': 9949, 'nookbattery': 9950, 'ligth': 9951, 'frature': 9952, 'staring': 9953, 'tome': 9954, 'debate': 9955, 'arsenal': 9956, 'appealed': 9957, 'forsook': 9958, 'dispatched': 9959, 'parter': 9960, 'minimized': 9961, 'and1st': 9962, 'shareware': 9963, 'converters': 9964, 'offshore': 9965, 'iteration': 9966, 'damp': 9967, 'wrinkled': 9968, 'sunscreen': 9969, 'icky': 9970, 'greta': 9971, 'bix': 9972, 'contemplation': 9973, 'excepted': 9974, 'express': 9975, 'abnormal': 9976, 'import': 9977, 'instapaper': 9978, 'dismiss': 9979, 'bashing': 9980, 'finnally': 9981, 'helful': 9982, 'readno': 9983, 'strainlong': 9984, 'lifesimple': 9985, 'useinterfaces': 9986, 'computernot': 9987, 'browsingvery': 9988, 'ergonomiclightweightsturdy': 9989, 'diid': 9990, 'ebookwhich': 9991, 'stimulating': 9992, 'hardbound': 9993, 'xray': 9994, 'brightnesses': 9995, '9hours': 9996, 'wiped': 9997, 'oils': 9998, 'prevoius': 9999, 'differencemuch': 10000, 'paperwhiye': 10001, 'challange': 10002, 'paperbook': 10003, 'believing': 10004, 'paperwight': 10005, 'nysecond': 10006, 'wihite': 10007, 'abook': 10008, 'cheapo': 10009, 'underlines': 10010, 'whoever': 10011, 'suiting': 10012, 'barnesand': 10013, 'warms': 10014, 'sprang': 10015, 'techshe': 10016, 'heaver': 10017, 'lefty': 10018, 'righty': 10019, 'l8ght': 10020, 'eldery': 10021, 'ignores': 10022, 'goto': 10023, 'librarian': 10024, 'shd': 10025, 'superbowl': 10026, 'snacks': 10027, 'beverages': 10028, 'swiped': 10029, 'acquire': 10030, 'vulnerable': 10031, 'hadnt': 10032, 'appproslight': 10033, 'weightsmall': 10034, 'purseback': 10035, 'lightcons1': 10036, 'ads2': 10037, 'store3': 10038, 'simple4': 10039, 'other5': 10040, 'anything6': 10041, 'juggle': 10042, 'migrated': 10043, 'carting': 10044, 'lamplight': 10045, 'astronomical': 10046, 'technnology': 10047, 'definalty': 10048, 'smudgy': 10049, 'parcel': 10050, 'prolonged': 10051, 'suppression': 10052, 'enamored': 10053, 'briught': 10054, 'connivence': 10055, 'imitates': 10056, 'frickin': 10057, 'devote': 10058, 'waffling': 10059, 'commitment': 10060, 'strained': 10061, 'smokey': 10062, 'reversing': 10063, 'purchse': 10064, 'ong': 10065, 'envy': 10066, 'adores': 10067, 'leaked': 10068, 'pawnshop': 10069, 'paprrwjite': 10070, 'synching': 10071, 'cheeky': 10072, 'enjoyments': 10073, 'alphabetizing': 10074, 'infrequently': 10075, 'dedication': 10076, 'tempted': 10077, 'originalkindle': 10078, 'isn´t': 10079, 'quailty': 10080, 'creaks': 10081, 'persists': 10082, 'unexpectedly': 10083, 'purely': 10084, 'bibliophile': 10085, 'obsolutely': 10086, 'glarefree': 10087, 'aholic': 10088, 'backordered': 10089, 'extending': 10090, 'originial': 10091, 'backlid': 10092, 'dyslexics': 10093, 'helvetica': 10094, 'annotating': 10095, 'murder': 10096, 'itty': 10097, 'bitty': 10098, 'maneurving': 10099, 'renditions': 10100, 'abound': 10101, 'displeased': 10102, 'quadrupled': 10103, 'haul': 10104, 'oniy': 10105, 'dale': 10106, '6hr': 10107, 'stretches': 10108, 'municipal': 10109, 'ryes': 10110, 'wihich': 10111, 'typefaces': 10112, 'illuminate': 10113, 'bookie': 10114, 'suffering': 10115, 'paparwhite': 10116, 'akers': 10117, 'sandpfoof': 10118, 'maneuvering': 10119, 'departments': 10120, 'itc': 10121, 'synk': 10122, 'llight': 10123, 'subdued': 10124, 'shadings': 10125, 'lightwieght': 10126, 'backllit': 10127, 'paging': 10128, 'myth': 10129, 'masters': 10130, 'spindle': 10131, 'dwindle': 10132, 'opendyslexic': 10133, 'applauded': 10134, 'b00oqvzdjm': 10135, 'carta': 10136, 'epaper': 10137, 'notbing': 10138, '“go': 10139, 'footnotes”': 10140, 'giftee': 10141, 'advent': 10142, 'replicates': 10143, 'wikis': 10144, 'zones': 10145, 'contrary': 10146, 'defines': 10147, 'ooks': 10148, 'kindlepaper': 10149, 'dissappointing': 10150, 'divorce': 10151, 'shaft': 10152, 'inverse': 10153, 'retains': 10154, 'stressing': 10155, 'amat': 10156, 'cringed': 10157, 'accomplishment': 10158, 'danger': 10159, 'gripes': 10160, 'brilliantly': 10161, 'penalize': 10162, 'booksvia': 10163, 'andthe': 10164, 'readinstructions': 10165, 'litghting': 10166, 'emits': 10167, 'kinder': 10168, 'defining': 10169, 'inference': 10170, 'propose': 10171, 'purposeful': 10172, 'foregone': 10173, 'magnify': 10174, 'kinlde': 10175, 'compacy': 10176, 'vintage': 10177, 'cheeper': 10178, 'implies': 10179, 'disappointingly': 10180, 'lightweright': 10181, 'readale': 10182, 'shinning': 10183, 'envelop': 10184, 'substitution': 10185, 'pocketbooks': 10186, '♡♡♡♡♡': 10187, 'orpaperback': 10188, 'prayers': 10189, 'eyeglasses': 10190, 'focusing': 10191, 'worthiness': 10192, 'okjust': 10193, 'okhate': 10194, 'screennot': 10195, 'averaged': 10196, 'instore': 10197, 'correlate': 10198, 'piled': 10199, 'tucking': 10200, 'dependant': 10201, 'assault': 10202, 'phobe': 10203, 'concentrated': 10204, 'sunroom': 10205, 'vox': 10206, 'naples': 10207, 'bartering': 10208, 'retrospect': 10209, 'scree': 10210, 'bookworms': 10211, 'glance': 10212, 'whispernet': 10213, 'confortable': 10214, 'mindset': 10215, 'citation': 10216, 'decade': 10217, 'life2': 10218, 'clarity3': 10219, 'circumstances4': 10220, 'document6': 10221, 'weightbelieve': 10222, 'oneself': 10223, 'coach': 10224, 'simulating': 10225, 'newfound': 10226, 'bookaholic': 10227, 'relieve': 10228, 'decree': 10229, 'increditable': 10230, 'alleviates': 10231, 'microusb': 10232, 'weeks，i': 10233, 'orginall': 10234, '85yr': 10235, 'unaffected': 10236, 'brushing': 10237, 'backpocket': 10238, 'seating': 10239, 'stressful': 10240, 'observations': 10241, 'varies': 10242, 'fumble': 10243, 'condense': 10244, 'gestures': 10245, 'attachable': 10246, 'gripper': 10247, 'comparative': 10248, 'eases': 10249, 'teamkindlepaperwhite': 10250, 'oerfect': 10251, 'nonsense': 10252, 'sned': 10253, 'aggravated': 10254, 'amazinged': 10255, 'tomes': 10256, 'squeezed': 10257, 'shutterfly': 10258, 'complimented': 10259, 'vvery': 10260, 'aprice': 10261, 'afforadable': 10262, 'lightweightness': 10263, 'paperwhiite': 10264, 'brooks': 10265, 'emergence': 10266, 'leaks': 10267, 'emerging': 10268, 'pinhole': 10269, 'speck': 10270, 'surrendering': 10271, 'towers': 10272, 'tunnels': 10273, 'tolerate': 10274, 'veritable': 10275, 'overwhelmingly': 10276, 'continuation': 10277, 'erratic': 10278, 'pitched': 10279, 'tester': 10280, 'cargo': 10281, 'shorts': 10282, 'outweighed': 10283, 'fliers': 10284, 'beachbag': 10285, 'constructive': 10286, 'feelings': 10287, 'owing': 10288, 'bibliography': 10289, 'worrisome': 10290, 'sour': 10291, 'river': 10292, 'indicate': 10293, 'explanation': 10294, 'conclusions': 10295, 'gloss': 10296, 'kndle': 10297, 'magnifying': 10298, 'rumored': 10299, 'fictions': 10300, 'refreshing': 10301, 'discomfort': 10302, 'bookwork': 10303, 'outlast': 10304, 'i’ll': 10305, 'hoarding': 10306, 'wouls': 10307, 'gunslinger': 10308, 'midnight': 10309, 'prtability': 10310, 'magnified': 10311, 'paperwork': 10312, 'goodbuy': 10313, 'subscribes': 10314, 'publications': 10315, 'children’s': 10316, 'disappears': 10317, 'disallows': 10318, 'manipulating': 10319, 'hero': 10320, 'duration': 10321, 'kindlewhites': 10322, 'purposefully': 10323, 'lifespan': 10324, 'aide': 10325, 'squinting': 10326, 'kinkle': 10327, 'rhis': 10328, 'wrists': 10329, 'hasatate': 10330, 'destruct': 10331, 'washes': 10332, 'fantactic': 10333, 'granularity': 10334, 'inhibits': 10335, 'backloght': 10336, 'inception': 10337, 'agile': 10338, 'mysteriously': 10339, 'bahamas': 10340, 'bald': 10341, 'kindall': 10342, 'kimball': 10343, 'easytocarry': 10344, 'jaggies': 10345, 'moreover': 10346, 'handier': 10347, 'gained': 10348, 'achieves': 10349, 'copied': 10350, 'critics': 10351, 'fruity': 10352, 'trainer': 10353, 'decission': 10354, 'gobbled': 10355, 'conserve': 10356, 'squeaking': 10357, 'overwhelmed': 10358, 'convoluted': 10359, 'sprung': 10360, 'curled': 10361, 'recipies': 10362, 'kindie': 10363, 'resisting': 10364, 'crisply': 10365, 'peperwhite': 10366, 'maintaining': 10367, 'selective': 10368, 'span': 10369, 'disgusted': 10370, 'evidently': 10371, 'comforatble': 10372, 'withyour': 10373, 'finance': 10374, 'referenced': 10375, 'quote': 10376, 'expirience': 10377, 'bricking': 10378, 'beige': 10379, 'dyslexia': 10380, 'contrasts': 10381, 'fenomenal': 10382, 'copyrights': 10383, 'alread': 10384, 'scenario': 10385, 'stepmother': 10386, 'feasible': 10387, 'circumstances': 10388, 'bookmarking': 10389, 'thekindle': 10390, 'joband': 10391, 'flippable': 10392, 'contemplated': 10393, 'philsophy': 10394, 'government': 10395, 'lowlight': 10396, 'toothbrush': 10397, 'aready': 10398, 'softly': 10399, 'gosh': 10400, 'purist': 10401, 'café': 10402, 'alurek': 10403, 'devoured': 10404, 'cured': 10405, 'lifewould': 10406, 'outweigh': 10407, 'goodwas': 10408, 'touchable': 10409, 'diestraftions': 10410, 'custumer': 10411, 'seein': 10412, 'goad': 10413, 'ican': 10414, 'diffuses': 10415, 'healing': 10416, 'readand': 10417, 'recommeded': 10418, 'backlite': 10419, 'achy': 10420, 'glitter': 10421, 'technologies': 10422, 'rader': 10423, 'shoved': 10424, 'fantasticly': 10425, 'irvine': 10426, 'dooper': 10427, 'yourbedmate': 10428, 'cartridges': 10429, 'labeling': 10430, 'syllabus': 10431, 'registers': 10432, 'vovage': 10433, 'blackvery': 10434, 'reliabe': 10435, 'gliches': 10436, 'retire': 10437, 'impressions': 10438, 'usefult': 10439, 'incompatibility': 10440, 'wonderfui': 10441, 'discribed': 10442, 'dominican': 10443, 'rebublic': 10444, 'missionaries': 10445, 'mondays': 10446, 'chill': 10447, 'thins': 10448, 'paperwhits': 10449, 'graders': 10450, 'dummy': 10451, 'bdu': 10452, 'transitioned': 10453, 'unneeded': 10454, 'nonglare': 10455, 'duplicate': 10456, 'resd': 10457, 'schhool': 10458, 'backpighting': 10459, 'nitch': 10460, 'talbets': 10461, 'grudgingly': 10462, 'ebooker': 10463, 'werr': 10464, 'ths': 10465, 'arounnd': 10466, 'carringing': 10467, 'coloured': 10468, 'leggy': 10469, 'moe': 10470, 'bednot': 10471, 'corresponding': 10472, 'tidy': 10473, 'toughing': 10474, 'mitigate': 10475, 'catastrophic': 10476, 'tjis': 10477, 'efficacy': 10478, 'humbly': 10479, 'recap': 10480, 'enlarges': 10481, 'resize': 10482, 'seattle': 10483, 'pinging': 10484, 'turners': 10485, 'shud': 10486, 'upcharge': 10487, 'specialties': 10488, 'royce': 10489, 'sticked': 10490, 'gloves': 10491, 'pannier': 10492, 'exactlo': 10493, 'cadillac': 10494, 'distinctive': 10495, 'avaiailable': 10496, 'distracts': 10497, 'consult': 10498, 'situ': 10499, 'disrupts': 10500, 'covering': 10501, 'backlot': 10502, 'tinged': 10503, 'subjective': 10504, 'sued': 10505, 'gradient': 10506, 'visualize': 10507, 'pw1': 10508, 'quietly': 10509, 'hards': 10510, 'toldpeople': 10511, 'helium': 10512, 'adjuster': 10513, 'reimagined': 10514, 'bias': 10515, 'adoption': 10516, 'proposition': 10517, 'thhought': 10518, 'easliy': 10519, 'presume': 10520, 'flatness': 10521, 'qualify': 10522, 'dominance': 10523, 'hepatic': 10524, 'madman': 10525, 'honesty': 10526, 'whip': 10527, 'agents': 10528, 'facedown': 10529, 'tilted': 10530, 'lid': 10531, 'luddite': 10532, 'ttry': 10533, 'batterry': 10534, 'kindle4nt': 10535, 'hep': 10536, 'pending': 10537, 'screencons': 10538, 'frustratingwith': 10539, 'studio': 10540, 'tackle': 10541, 'kitty': 10542, 'borders': 10543, 'sulight': 10544, 'stupendous': 10545, 'journals': 10546, 'navigated': 10547, 'vertically': 10548, 'horizontally': 10549, 'flew': 10550, 'bearable': 10551, 'taxes': 10552, 'georgia': 10553, 'qualifying': 10554, 'perfected': 10555, 'minors': 10556, 'paris': 10557, 'pol': 10558, 'thelarge': 10559, 'ofmaking': 10560, 'havefound': 10561, 'buyhas': 10562, 'thestore': 10563, 'passion': 10564, 'aura': 10565, 'detachment': 10566, 'indigenous': 10567, 'utilizes': 10568, 'i´ve': 10569, 'girth': 10570, 'frankfort': 10571, 'boundbook': 10572, 'receipent': 10573, 'duck': 10574, 'dispose': 10575, 'sellers': 10576, 'defunct': 10577, 'disassembling': 10578, 'crimp': 10579, 'rhyme': 10580, 'anywhereview': 10581, 'brightens': 10582, 'voraciously': 10583, 'aquired': 10584, 'browny': 10585, 'woods': 10586, 'costliest': 10587, 'liquid': 10588, 'lightlove': 10589, 'simp': 10590, 'archive': 10591, 'breakcons': 10592, 'thingredients': 10593, 'mandates': 10594, 'interfaceneeds': 10595, 'remarked': 10596, 'dirtying': 10597, 'addresses': 10598, 'binged': 10599, 'transportability': 10600, 'freight': 10601, 'pw3': 10602, 'crumb': 10603, 'catcher': 10604, 'distressed': 10605, 'dallas': 10606, 'variations': 10607, 'jesus': 10608, 'christ': 10609, 'nazareth': 10610, 'voyages': 10611, 'dip': 10612, 'spills': 10613, 'fluidity': 10614, 'proponent': 10615, 'sadness': 10616, 'conform': 10617, 'blackscreen': 10618, 'september': 10619, 'warentee': 10620, 'orangeish': 10621, 'blueish': 10622, 'mighty': 10623, 'copperish': 10624, 'toned': 10625, 'prettymuch': 10626, 'noe': 10627, 'littlebit': 10628, 'ipadmini': 10629, 'air2': 10630, 'buttton': 10631, 'aweseome': 10632, 'diagram': 10633, 'pagesif': 10634, 'stockpiling': 10635, 'conistent': 10636, 'baggie': 10637, 'andy': 10638, 'satistfy': 10639, '6weeks': 10640, '3weeks': 10641, 'wandering': 10642, 'jackpot': 10643, 'depleted': 10644, 'disliking': 10645, 'produ': 10646, 'freind': 10647, 'rewinds': 10648, 'irresistible': 10649, 'ultraportable': 10650, 'bikerider': 10651, 'pricerange': 10652, 'usefulnot': 10653, 'preface': 10654, 'dragon': 10655, 'tattoo': 10656, 'brave': 10657, 'hunger': 10658, 'trilogy': 10659, 'divergent': 10660, 'hindered': 10661, 'dive': 10662, 'inspire': 10663, 'youd': 10664, 'sundry': 10665, 'logistical': 10666, 'attractions': 10667, 'accumulative': 10668, 'creeping': 10669, 'remained': 10670, 'glacial': 10671, 'consensus': 10672, 'flakey': 10673, 'coroporate': 10674, 'hermetically': 10675, 'itso': 10676, 'disperses': 10677, 'funcion': 10678, 'aims': 10679, '000s': 10680, 'particulary': 10681, 'voyger': 10682, '400so': 10683, '1ghz': 10684, 'slicker': 10685, 'presentation': 10686, '26g': 10687, 'softens': 10688, 'ave': 10689, 'connectionpersonally': 10690, 'papwerwhite': 10691, 'reada': 10692, 'azw3': 10693, 'azw': 10694, 'txt': 10695, 'unprotected': 10696, 'prc': 10697, 'jpeg': 10698, 'gif': 10699, 'png': 10700, 'bmp': 10701, 'conversionq': 10702, 'formata': 10703, 'um0teoar6zw': 10704, 'simples': 10705, 'wella': 10706, 'booka': 10707, 'sizea': 10708, 'tastesq': 10709, 'childrena': 10710, 'familyq': 10711, 'beda': 10712, 'onq': 10713, 'availablea': 10714, 'copyright': 10715, 'lasta': 10716, 'deviceq': 10717, 'chargea': 10718, 'hoursq': 10719, 'holda': 10720, 'youve': 10721, 'elsea': 10722, 'sew': 10723, 'trough': 10724, 'bookstores': 10725, 'vraiment': 10726, 'bon': 10727, 'petit': 10728, 'appareil': 10729, 'lger': 10730, 'facile': 10731, 'emploij': 10732, 'hte': 10733, 'servir': 10734, 'plages': 10735, 'cet': 10736, 'hiverbelle': 10737, 'bibliothque': 10738, 'disponiblesbon': 10739, 'achat': 10740, 'bref': 10741, 'trs': 10742, 'heureux': 10743, 'soient': 10744, 'aprs': 10745, 'tre': 10746, 'fait': 10747, 'voler': 10748, 'est': 10749, 'bien': 10750, 'pouvoir': 10751, 'retrouver': 10752, 'tous': 10753, 'mes': 10754, 'avec': 10755, 'toutes': 10756, 'avais': 10757, 'persisted': 10758, 'creature': 10759, 'immersed': 10760, 'wildly': 10761, 'indulgence': 10762, 'jurisdiction': 10763, 'wrongthank': 10764, 'weeksi': 10765, 'buybuyby': 10766, 'caf': 10767, 'electrnico': 10768, 'prctico': 10769, '—\\xa0opening': 10770, 'jul': 10771, 'loging': 10772, 'meanwhile': 10773, 'moko': 10774, 'kf8': 10775, 'elk': 10776, 'grove': 10777, 'surcharges': 10778, 'bby01': 10779, 'ocasional': 10780, 'litterate': 10781, 'althought': 10782, 'rugrat': 10783, 'fashionable': 10784, 'woul': 10785, 'peoplenet': 10786, 'assessible': 10787, 'deceased': 10788, 'otoh': 10789, 'offended': 10790, 'mature': 10791, 'homescreen': 10792, 'competitions': 10793, 'boomer': 10794, 'catechism': 10795, 'faded': 10796, 'unwillingness': 10797, 'fingertip': 10798, 'beacuse': 10799, 'deems': 10800, 'pretense': 10801, 'nordic': 10802, 'hipsters': 10803, 'tryout': 10804, '12gb': 10805, 'unibody': 10806, 'urging': 10807, 'tea': 10808, 'installedcons': 10809, 'gamesnot': 10810, 'upgradeslove': 10811, 'corrupted': 10812, 'refurbishment': 10813, 'stupidly': 10814, 'dts': 10815, 'stare': 10816, 'cycled': 10817, 'showbox': 10818, 'sideclick': 10819, 'wellallows': 10820, 'installationmuch': 10821, 'tvallows': 10822, 'notcons': 10823, 'tvremote': 10824, 'controlsremote': 10825, 'resale': 10826, 'referral': 10827, 'quickest': 10828, 'jub': 10829, 'molasses': 10830, 'proportion': 10831, 'trevmoned': 10832, 'onside': 10833, 'insts': 10834, 'wirelees': 10835, 'investigative': 10836, 'disclaimer': 10837, 'roars': 10838, 'replenish': 10839, 'scoff': 10840, 'failures': 10841, 'warrenty': 10842, 'ithas': 10843, 'leverage': 10844, 'weathered': 10845, 'conveint': 10846, 'tucks': 10847, 'nreices': 10848, 'wondeful': 10849, 'prurple': 10850, 'anoid': 10851, 'usablity': 10852, 'trusting': 10853, 'durabale': 10854, 'proficiency': 10855, 'tab2': 10856, 'billed': 10857, 'craftsmanship': 10858, 'sero': 10859, 'youngins': 10860, 'economically': 10861, 'locating': 10862, 'rehearsal': 10863, 'convent': 10864, 'brochure': 10865, 'bloxels': 10866, 'grandnephew': 10867, 'barney': 10868, 'confuse': 10869, '10t': 10870, 'putchase': 10871, 'litte': 10872, 'freedoms': 10873, 'squirly': 10874, 'fuego': 10875, 'delicious': 10876, 'oatmeal': 10877, 'usecons': 10878, 'busybody': 10879, 'uncomplicated': 10880, 'wil': 10881, 'stealing': 10882, 'theyit': 10883, 'featuresdon': 10884, 'adage': 10885, 'america': 10886, 'tabletthat': 10887, 'unannounced': 10888, 'deteriorates': 10889, 'tabler': 10890, 'reactive': 10891, 'teachers': 10892, 'photograher': 10893, 'wrko': 10894, 'john': 10895, 'smith': 10896, 'applience': 10897, 'whereever': 10898, 'lenghty': 10899, 'funniest': 10900, 'shortest': 10901, 'discipline': 10902, 'liights': 10903, 'gargae': 10904, 'invite': 10905, 'discreetly': 10906, 'secondvalexa': 10907, 'sirii': 10908, 'nsc': 10909, 'plant': 10910, 'authorities': 10911, 'happenings': 10912, 'abode': 10913, 'retrieving': 10914, 'previews': 10915, 'imitation': 10916, 'supera': 10917, 'allowable': 10918, 'itnow': 10919, 'spoil': 10920, 'synonyms': 10921, 'antonyms': 10922, 'fruition': 10923, 'technoilogy': 10924, 'haiku': 10925, 'cools': 10926, 'denver': 10927, 'broncos': 10928, 'marsala': 10929, 'gag': 10930, 'perfume': 10931, 'tablespoons': 10932, 'liter': 10933, 'sills': 10934, 'amplify': 10935, 'naps': 10936, 'toying': 10937, 'simplifying': 10938, 'smartmode': 10939, 'vivant': 10940, 'bakes': 10941, 'divices': 10942, 'bake': 10943, 'cumulus': 10944, 'clouds': 10945, 'pricinr': 10946, 'recongination': 10947, 'townhouse': 10948, 'lovethe': 10949, '0ff': 10950, 'residence': 10951, 'accurrate': 10952, 'protest': 10953, 'populates': 10954, 'spins': 10955, 'summoning': 10956, 'calibrate': 10957, 'tred': 10958, 'investigating': 10959, 'getying': 10960, 'mudic': 10961, 'dotsgreat': 10962, 'shake': 10963, 'tor': 10964, 'definitly': 10965, 'muffled': 10966, 'askin': 10967, 'barcelona': 10968, 'lole': 10969, 'medication': 10970, 'algorithm': 10971, 'sweetheart': 10972, 'peripherals': 10973, 'syste': 10974, 'confess': 10975, 'raspberry': 10976, 'forgave': 10977, 'capabiliies': 10978, 'controled': 10979, 'hsnds': 10980, 'sloppy': 10981, 'googlehome': 10982, 'amaxing': 10983, 'compalibility': 10984, 'shed': 10985, 'irs': 10986, 'multiply': 10987, 'subtract': 10988, 'myriad': 10989, 'inaudible': 10990, 'overrated': 10991, 'sever': 10992, 'thermometer': 10993, 'toes': 10994, 'uttered': 10995, 'taxing': 10996, 'amuses': 10997, 'revolving': 10998, 'stab': 10999, 'swayed': 11000, 'descriptive': 11001, 'feathures': 11002, 'answeri': 11003, 'enoys': 11004, 'veing': 11005, 'driveway': 11006, 'distinct': 11007, 'advertisedsound': 11008, 'jams': 11009, 'sweater': 11010, 'taker': 11011, 'shehelps': 11012, 'ofmy': 11013, 'weatger': 11014, 'expedited': 11015, 'logitec': 11016, 'indexing': 11017, 'iffft': 11018, 'radioandpod': 11019, 'asss': 11020, 'aides': 11021, 'ubers': 11022, 'undiscovered': 11023, 'havoc': 11024, '25mgb': 11025, 'spottily': 11026, 'perineum': 11027, 'orbit': 11028, 'bhyve': 11029, 'advancements': 11030, 'thatyou': 11031, 'showtimes': 11032, 'gate': 11033, 'personable': 11034, 'echodot': 11035, 'cabt': 11036, 'reporters': 11037, 'stellar': 11038, 'unto': 11039, 'inseon': 11040, 'orally': 11041, 'catalogue': 11042, '4stars': 11043, 'evenin': 11044, 'sixties': 11045, 'harman': 11046, 'kardon': 11047, 'onyx': 11048, 'succeeded': 11049, 'tidbits': 11050, 'jepordy': 11051, 'intranet': 11052, 'auditory': 11053, 'howling': 11054, 'arch': 11055, 'obeyed': 11056, 'hoo': 11057, 'eager': 11058, 'ismartalarm': 11059, 'kevin': 11060, 'spacey': 11061, 'macaw': 11062, 'blues': 11063, 'peice': 11064, 'eqiptment': 11065, 'sunrise': 11066, 'sunset': 11067, 'initiating': 11068, 'proving': 11069, 'revelry': 11070, 'ecco': 11071, 'rhougjt': 11072, 'innovating': 11073, 'sre': 11074, 'mire': 11075, 'enthusiasm': 11076, 'trees': 11077, 'verse': 11078, 'specialty': 11079, 'obstinate': 11080, 'thatis': 11081, 'whispered': 11082, 'authomation': 11083, 'synchs': 11084, 'hsve': 11085, 'rundown': 11086, 'componets': 11087, 'partners': 11088, 'downey': 11089, 'california': 11090, 'irritation': 11091, 'intercoms': 11092, 'accomplishing': 11093, 'energysmart': 11094, 'lowes': 11095, 'smash': 11096, 'eill': 11097, 'cofee': 11098, 'qith': 11099, 'gens': 11100, 'suri': 11101, 'designer': 11102, 'identically': 11103, 'afterbeing': 11104, 'asmaking': 11105, 'thermastat': 11106, 'intergration': 11107, 'forme': 11108, 'temosta': 11109, 'expecxted': 11110, 'wrecks': 11111, 'gun': 11112, 'merchant': 11113, 'elexa': 11114, 'demands': 11115, 'favs': 11116, 'covenant': 11117, 'tempature': 11118, 'undoubtedly': 11119, 'housecleaning': 11120, 'answe': 11121, 'calories': 11122, 'tart': 11123, 'calculating': 11124, 'shoping': 11125, 'multifunctional': 11126, 'diownload': 11127, 'inaccessible': 11128, 'aver': 11129, 'improtant': 11130, 'deivce': 11131, 'inter': 11132, 'blended': 11133, 'denon': 11134, 'lisp': 11135, 'thisome': 11136, 'speechless': 11137, 'posibilities': 11138, 'ford': 11139, 'credenza': 11140, 'entries': 11141, 'ourchase': 11142, 'announcements': 11143, 'sonfor': 11144, 'zigbee': 11145, 'summarize': 11146, 'bodies': 11147, 'wright': 11148, 'alaxa': 11149, 'architect': 11150, 'backgound': 11151, 'denied': 11152, 'tracker': 11153, 'hymn': 11154, 'religious': 11155, 'memorized': 11156, 'misunderstood': 11157, 'witnessing': 11158, 'transmitted': 11159, 'comms': 11160, 'sthe': 11161, 'detection': 11162, 'decreasing': 11163, 'automations': 11164, 'experimentation': 11165, 'hahahahahahahhahahahahahahahhaha': 11166, 'wholee': 11167, 'nasa': 11168, 'appellate': 11169, 'fairest': 11170, 'talents': 11171, 'dubai': 11172, 'thailand': 11173, 'cara': 11174, 'boston': 11175, 'shuttle': 11176, 'blanket': 11177, '80th': 11178, 'presences': 11179, 'smoke': 11180, 'ocean': 11181, 'foundation': 11182, 'dictates': 11183, 'bette': 11184, 'superbly': 11185, 'amy': 11186, 'loudest': 11187, 'rap': 11188, 'informationtimers': 11189, 'dismissed': 11190, 'industrial': 11191, 'blend': 11192, 'formula': 11193, 'sparse': 11194, 'inconsistent': 11195, 'thi': 11196, 'military': 11197, 'pac': 11198, 'eastern': 11199, 'exhausting': 11200, 'nominal': 11201, 'caregivers': 11202, 'auction': 11203, 'sought': 11204, 'bided': 11205, 'reachable': 11206, 'assistive': 11207, 'usefulfeatures': 11208, 'extemely': 11209, 'wag': 11210, 'heartily': 11211, 'vested': 11212, 'objects': 11213, 'collectible': 11214, 'moto': 11215, 'dysfunctional': 11216, 'stumble': 11217, 'geological': 11218, 'potshot': 11219, 'calculate': 11220, 'baffled': 11221, 'pills': 11222, 'seeming': 11223, 'overdramatized': 11224, 'underpriced': 11225, 'amaxon': 11226, 'annticapated': 11227, 'phon': 11228, 'amnazon': 11229, 'breathtaking': 11230, 'bbc': 11231, 'ynab': 11232, 'countriesi': 11233, 'wasy': 11234, 'rum': 11235, 'tilts': 11236, 'unending': 11237, 'geographical': 11238, 'lightswish': 11239, 'shuffling': 11240, 'proceeds': 11241, 'arrogant': 11242, 'preselected': 11243, 'behaves': 11244, 'wands': 11245, 'vday': 11246, 'sono': 11247, 'dubaiwell': 11248, 'defintly': 11249, 'assitant': 11250, 'circular': 11251, 'helo': 11252, 'fascinates': 11253, 'lemon': 11254, 'ignored': 11255, 'canhelp': 11256, 'concisely': 11257, 'intelligently': 11258, 'spews': 11259, 'wand': 11260, 'enriched': 11261, 'enrich': 11262, 'furthermore': 11263, 'widow': 11264, 'western': 11265, 'trafic': 11266, 'ecchor': 11267, 'impomation': 11268, 'widest': 11269, 'brains': 11270, 'soup': 11271, 'smallfootprint': 11272, 'contril': 11273, 'jars': 11274, 'informayion': 11275, 'straightened': 11276, 'exercises': 11277, 'bollywood': 11278, 'michigan': 11279, 'usa': 11280, 'mumbai': 11281, 'cert': 11282, 'millionaire': 11283, 'issuing': 11284, 'wint': 11285, 'hummingbirds': 11286, 'anticipation': 11287, 'impending': 11288, 'precede': 11289, 'wrongly': 11290, 'angeles': 11291, 'mancave': 11292, 'dominoes': 11293, 'vader': 11294, 'helmet': 11295, 'smartify': 11296, 'caster': 11297, 'arlo': 11298, 'module': 11299, 'gizmos': 11300, 'forthcoming': 11301, 'productgoing': 11302, 'speakerworks': 11303, 'hubworks': 11304, 'plum': 11305, 'snatched': 11306, 'specified': 11307, 'lazier': 11308, 'alzheimers': 11309, 'dementia': 11310, 'medicine': 11311, 'spofity': 11312, 'trendy': 11313, 'exponentially': 11314, 'beatles': 11315, 'complements': 11316, 'weakness': 11317, 'thwe': 11318, 'reportsalso': 11319, 'recites': 11320, 'knob': 11321, 'syllable': 11322, 'soubd': 11323, 'setups': 11324, 'arcade': 11325, 'reminding': 11326, 'vemo': 11327, 'secondarily': 11328, 'upworks': 11329, 'awesomeno': 11330, 'boght': 11331, 'servings': 11332, 'arithmatic': 11333, 'bop': 11334, 'lebron': 11335, 'james': 11336, 'instantaneously': 11337, 'allegedly': 11338, 'unwind': 11339, 'grossly': 11340, 'serius': 11341, 'lever': 11342, 'joan': 11343, 'collins': 11344, 'acheivement': 11345, 'misinterprets': 11346, 'transparent': 11347, 'msuper': 11348, 'bub': 11349, 'teaspoons': 11350, 'nickel': 11351, 'deepy': 11352, 'barry': 11353, 'diller': 11354, 'richest': 11355, 'admits': 11356, 'executed': 11357, 'joneses': 11358, 'barrow': 11359, 'lasik': 11360, 'annunciate': 11361, 'mathematics': 11362, 'interprets': 11363, 'conditioners': 11364, 'relates': 11365, 'herplay': 11366, 'leveraging': 11367, 'calculation': 11368, 'announce': 11369, 'insult': 11370, 'echonfrom': 11371, 'promoted': 11372, 'climate': 11373, 'lowe': 11374, 'ech': 11375, 'soumds': 11376, 'auidobooks': 11377, 'overviews': 11378, 'recaps': 11379, 'rationalize': 11380, 'napster': 11381, 'penetrate': 11382, 'ehco': 11383, 'metaphorical': 11384, 'spinal': 11385, 'injury': 11386, 'broadcasts': 11387, 'successfully': 11388, 'kentucky': 11389, 'wildcat': 11390, 'professionally': 11391, 'stimulation': 11392, 'unassisted': 11393, 'wwere': 11394, 'roommates': 11395, 'congitions': 11396, 'coking': 11397, 'housebound': 11398, 'growth': 11399, 'encouraging': 11400, 'doys': 11401, 'tlink': 11402, 'swiss': 11403, 'lifex': 11404, 'ceases': 11405, 'newsflash': 11406, 'hbr': 11407, 'currency': 11408, 'cincise': 11409, 'crestron': 11410, 'corney': 11411, 'coo': 11412, 'noticable': 11413, 'thermastats': 11414, 'loader': 11415, 'kludgy': 11416, 'enunciation': 11417, 'guitar': 11418, 'consolidates': 11419, 'prolly': 11420, 'ical': 11421, 'gauge': 11422, 'anecdotes': 11423, 'livinroom': 11424, 'lakers': 11425, 'decorated': 11426, 'exhaust': 11427, 'rhere': 11428, 'downplays': 11429, 'hats': 11430, '22nd': 11431, 'cleans': 11432, 'ciunter': 11433, 'innthe': 11434, 'aesthetic': 11435, 'ourvsed': 11436, 'simpliar': 11437, 'itll': 11438, 'verifications': 11439, 'salvador': 11440, 'ste': 11441, 'developes': 11442, 'jettsons': 11443, 'looove': 11444, 'prospect': 11445, 'unresponsiveness': 11446, 'snapshot': 11447, 'egg': 11448, 'carton': 11449, 'ffiend': 11450, 'controllong': 11451, 'petty': 11452, 'dungeons': 11453, 'dragons': 11454, 'algebra': 11455, 'aired': 11456, 'incidentaly': 11457, 'starwars': 11458, 'pleases': 11459, 'fuctions': 11460, 'betwee': 11461, 'honey': 11462, 'hus': 11463, 'automobile': 11464, 'revolutionize': 11465, 'jamming': 11466, 'centerpieces': 11467, 'worded': 11468, 'nyc': 11469, 'metric': 11470, 'rephrase': 11471, 'plate': 11472, 'imitations': 11473, 'questioned': 11474, 'quizzes': 11475, 'whisper': 11476, 'vloume': 11477, 'triva': 11478, 'unwraps': 11479, 'quantify': 11480, 'wemu': 11481, 'rtr': 11482, 'germ': 11483, 'aphobic': 11484, 'putz': 11485, '5stars': 11486, 'installable': 11487, 'romantic': 11488, 'mass': 11489, 'arctic': 11490, 'interpretation': 11491, 'pronunciations': 11492, 'hiwever': 11493, 'milk': 11494, 'tokd': 11495, 'wfi': 11496, 'packers': 11497, 'alea': 11498, 'toyota': 11499, 'measurement': 11500, 'automatons': 11501, 'wirhout': 11502, 'cist': 11503, 'ballgame': 11504, 'alltimes': 11505, 'grocerys': 11506, 'alessa': 11507, 'qualit': 11508, 'nonneed': 11509, 'worls': 11510, 'velop': 11511, 'diamond': 11512, 'terminology': 11513, 'sensi': 11514, 'littetly': 11515, 'debice': 11516, 'inquisitive': 11517, 'bantering': 11518, 'facinating': 11519, 'enlightening': 11520, 'yuh': 11521, 'lifelike': 11522, 'shipboard': 11523, 'nicked': 11524, 'echolettes': 11525, 'simpilar': 11526, 'infection': 11527, 'roof': 11528, 'smart5': 11529, 'addon': 11530, 'suckered': 11531, 'broadens': 11532, 'simplification': 11533, 'multiroom': 11534, 'somethings': 11535, 'ike': 11536, 'happerier': 11537, 'dean': 11538, 'martin': 11539, 'expections': 11540, 'grilling': 11541, 'simon': 11542, 'outlr': 11543, 'undeniably': 11544, 'slate': 11545, 'agoura': 11546, 'hills': 11547, 'pronounciation': 11548, 'renamed': 11549, 'neato': 11550, 'botvac': 11551, 'irrigation': 11552, 'meditations': 11553, 'lung': 11554, 'suppprt': 11555, 'disingenuous': 11556, 'detecting': 11557, 'chatty': 11558, 'logical': 11559, 'satisfiedgood': 11560, 'prepping': 11561, 'attire': 11562, 'idecided': 11563, 'police': 11564, 'foo': 11565, 'fighters': 11566, 'zeppelin': 11567, 'jewelry': 11568, 'tng': 11569, 'funnest': 11570, 'ayer': 11571, 'fledgling': 11572, 'handsfreedom': 11573, 'dwelling': 11574, 'wellgreat': 11575, 'play1': 11576, 'modtly': 11577, 'recomed': 11578, 'judi': 11579, 'rejected': 11580, 'mis': 11581, 'interpret': 11582, 'hesitantly': 11583, 'rewarding': 11584, 'adjoining': 11585, 'anwsers': 11586, 'updatesshe': 11587, 'yetlove': 11588, 'fahrenheit': 11589, 'celsius': 11590, 'perforrm': 11591, 'mathematical': 11592, 'unforeseen': 11593, 'leasing': 11594, 'acceries': 11595, 'disarm': 11596, 'diego': 11597, 'valley': 11598, 'offset': 11599, 'takeout': 11600, 'jeapordy': 11601, 'elarning': 11602, 'curates': 11603, 'toanyone': 11604, 'sirrius': 11605, 'satelite': 11606, 'lidten': 11607, 'lyric': 11608, 'friendley': 11609, 'paralyzed': 11610, 'roomba': 11611, 'tacos': 11612, 'facinated': 11613, 'helicopters': 11614, 'amizon': 11615, '2thumbs': 11616, 'miore': 11617, 'alt': 11618, 'nation': 11619, 'destination': 11620, 'movable': 11621, 'conditioning': 11622, 'bloom': 11623, 'formate': 11624, 'funtions': 11625, 'sinc': 11626, 'cups': 11627, 'quarts': 11628, 'unproductive': 11629, 'wheels': 11630, 'puchased': 11631, 'capabilties': 11632, 'bloomberg': 11633, 'reuters': 11634, 'concerning': 11635, 'quizzies': 11636, 'verb': 11637, 'setu': 11638, 'cynical': 11639, 'pump': 11640, 'profits': 11641, 'contributes': 11642, 'deny': 11643, 'adopting': 11644, 'uss': 11645, 'disconects': 11646, 'querys': 11647, 'shortfalls': 11648, 'floating': 11649, 'multiform': 11650, 'simultaneousso': 11651, 'ihart': 11652, 'ayou': 11653, 'insulted': 11654, 'trully': 11655, 'positioning': 11656, 'recomment': 11657, 'consistency': 11658, 'bases': 11659, 'aamazon': 11660, 'fitting': 11661, 'exceptions': 11662, 'respresented': 11663, 'bizarrely': 11664, 'artistgreat': 11665, 'rainstorm': 11666, 'soundtracks': 11667, 'polka': 11668, 'generas': 11669, 'polkas': 11670, 'unintuitive': 11671, 'megaboom': 11672, 'goods': 11673, 'friendhavi': 11674, 'myst': 11675, 'stil': 11676, 'bach': 11677, 'smarts': 11678, 'greeting': 11679, 'esoteric': 11680, 'decibel': 11681, 'gsuite': 11682, 'biz': 11683, 'freebie': 11684, 'tailor': 11685, 'withstanding': 11686, 'propensity': 11687, 'restocking': 11688, 'quantities': 11689, 'exhausted': 11690, 'progresses': 11691, 'omnidirectional': 11692, 'valuing': 11693, 'aficionado': 11694, 'miscellaneous': 11695, 'conspicuously': 11696, 'sidney': 11697, 'michelle': 11698, 'ialexa': 11699, 'gathered': 11700, 'row': 11701, 'consecutive': 11702, 'slecting': 11703, 'addedand': 11704, 'deivices': 11705, 'peoduct': 11706, 'documented': 11707, 'serive': 11708, 'qickly': 11709, 'interupting': 11710, 'istall': 11711, 'nerds': 11712, 'reliance': 11713, 'sinking': 11714, 'funnier': 11715, 'relaunch': 11716, 'twisting': 11717, 'querying': 11718, 'bruno': 11719, 'mars': 11720, 'phenomenon': 11721, 'townhome': 11722, 'puttering': 11723, 'naysayers': 11724, 'judge': 11725, 'firing': 11726, 'rightit': 11727, 'qiestions': 11728, 'acquiring': 11729, 'prieo': 11730, 'heavenly': 11731, 'misinterpretation': 11732, 'cardinal': 11733, 'engagements': 11734, 'inconsistency': 11735, 'carfull': 11736, 'genera': 11737, 'motorola': 11738, 'elected': 11739, 'phil': 11740, 'misorder': 11741, 'lowered': 11742, 'smug': 11743, 'selects': 11744, 'bella': 11745, 'anunciate': 11746, 'misinterpret': 11747, 'tempter': 11748, 'joked': 11749, 'comedy': 11750, 'cooling': 11751, 'devotion': 11752, 'medley': 11753, 'meals': 11754, 'pranks': 11755, 'vital': 11756, 'goof': 11757, 'delved': 11758, 'anwser': 11759, 'caseta': 11760, 'lolshe': 11761, 'rosie': 11762, 'inspiration': 11763, 'broader': 11764, 'excetera': 11765, 'fickle': 11766, 'uncertainty': 11767, 'controling': 11768, 'vocabs': 11769, 'query': 11770, 'historical': 11771, 'realised': 11772, 'wth': 11773, 'notify': 11774, 'paraplegic': 11775, 'unpacked': 11776, 'wuestions': 11777, 'standoff': 11778, 'statements': 11779, 'timerssets': 11780, 'warmth': 11781, 'coolness': 11782, 'keen': 11783, 'conservation': 11784, 'detected': 11785, 'pronounced': 11786, 'woke': 11787, 'kiddoes': 11788, 'everyboby': 11789, 'favoite': 11790, 'extreamly': 11791, 'ejoy': 11792, 'showroomevery': 11793, 'remarks': 11794, 'thermos': 11795, 'reconitiona': 11796, 'guestions': 11797, 'outlook': 11798, 'lites': 11799, 'mucheasy': 11800, 'blasts': 11801, 'discrete': 11802, 'casetta': 11803, 'und': 11804, 'reword': 11805, 'crosby': 11806, 'giftlistening': 11807, 'sil': 11808, 'tides': 11809, 'spontaneous': 11810, 'styling': 11811, 'cinnamon': 11812, 'underestimated': 11813, 't5o': 11814, 'lear4n': 11815, 'balky': 11816, 'bladerunner': 11817, 'luvit': 11818, 'myers': 11819, 'vinyl': 11820, 'likeabroken': 11821, 'tickled': 11822, 'wikimedia': 11823, 'aroud': 11824, 'shouting': 11825, '50lbs': 11826, 'cookie': 11827, 'unfold': 11828, 'brunsch': 11829, 'drawl': 11830, 'litle': 11831, 'towels': 11832, 'reap': 11833, 'appoint': 11834, 'thermo': 11835, 'sightseeing': 11836, 'machines': 11837, 'hectic': 11838, 'commanding': 11839, 'perimeter': 11840, 'vasr': 11841, 'purshased': 11842, 'undertake': 11843, 'tuesday': 11844, 'receivers': 11845, 'marantz': 11846, 'equalize': 11847, 'kasa': 11848, 'mesmerized': 11849, 'greetings': 11850, 'nixes': 11851, 'compatabile': 11852, 'pierce': 11853, 'catches': 11854, 'arbitrary': 11855, 'admission': 11856, 'director': 11857, 'deadbolts': 11858, 'temps': 11859, 'hookups': 11860, 'settles': 11861, 'featuring': 11862, 'fantastics': 11863, 'bow': 11864, 'woof': 11865, 'sigh': 11866, 'belief': 11867, 'widowed': 11868, 'literate': 11869, 'interractions': 11870, 'realtyusa': 11871, 'jacked': 11872, 'bleek': 11873, 'farfield': 11874, 'asr': 11875, 'faqs': 11876, 'argued': 11877, 'comletely': 11878, 'configuring': 11879, 'hopeful': 11880, 'upgreat': 11881, 'musicamazinggreat': 11882, 'casta': 11883, 'avaid': 11884, 'perview': 11885, 'exho': 11886, 'lunches': 11887, 'obeys': 11888, 'freaky': 11889, 'correcting': 11890, 'relayed': 11891, 'fareasy': 11892, 'understandentertaining': 11893, 'sin': 11894, 'wrestling': 11895, 'themone': 11896, 'uswe': 11897, 'startrek': 11898, 'smarthouse': 11899, 'bundles': 11900, 'cutit': 11901, 'yells': 11902, 'ithe': 11903, 'freestanding': 11904, 'joint': 11905, 'kirk': 11906, 'cues': 11907, 'cue': 11908, 'destinations': 11909, 'cocktail': 11910, 'guft': 11911, 'everside': 11912, 'minimizing': 11913, 'competitively': 11914, 'computerized': 11915, 'unintelligible': 11916, 'composers': 11917, 'abruptly': 11918, 'singers': 11919, 'nother': 11920, 'wildest': 11921, 'dianostic': 11922, 'decline': 11923, 'scoring': 11924, 'huawei': 11925, 'nites': 11926, 'nrws': 11927, 'speakfor': 11928, 'fimiliar': 11929, 'malicious': 11930, 'funis': 11931, 'smy': 11932, 'rests': 11933, 'fixtures': 11934, 'severe': 11935, 'rime': 11936, 'intercome': 11937, 'cancer': 11938, 'tongue': 11939, 'pronouncing': 11940, 'supplementing': 11941, 'entertainmentplays': 11942, 'musicgets': 11943, 'updatesnews': 11944, 'seri': 11945, 'answears': 11946, 'intuitively': 11947, 'keystrokes': 11948, 'surrounding': 11949, 'aggrivating': 11950, 'specfic': 11951, 'socketsss': 11952, 'societyit': 11953, 'alway': 11954, 'aliens': 11955, 'khloe': 11956, 'kardashian': 11957, 'silences': 11958, 'lifts': 11959, 'intercative': 11960, 'cortina': 11961, 'distorted': 11962, 'esy': 11963, 'deviae': 11964, 'protests': 11965, 'notation': 11966, 'jotting': 11967, 'garlic': 11968, 'weatherman': 11969, 'commanded': 11970, 'apliance': 11971, 'quenn': 11972, 'christina': 11973, 'aguilera': 11974, 'betta': 11975, 'werk': 11976, 'uri': 11977, 'lullabys': 11978, 'minions': 11979, 'forcasts': 11980, 'calendarschedule': 11981, 'joys': 11982, 'sequentially': 11983, 'xxx': 11984, 'potentially': 11985, 'bat': 11986, 'itpersonally': 11987, 'resides': 11988, 'revolutionized': 11989, 'proactive': 11990, 'viirtually': 11991, 'vanity': 11992, 'comply': 11993, 'temper': 11994, 'misunderstand': 11995, 'mixing': 11996, 'toyed': 11997, 'contestants': 11998, 'continiasly': 11999, 'fustrating': 12000, 'qvc': 12001, 'capitol': 12002, 'wows': 12003, 'installquick': 12004, 'brighten': 12005, 'lightswitch': 12006, 'arbitrarily': 12007, 'radius': 12008, 'nail': 12009, 'incorporating': 12010, 'refinement': 12011, 'laces': 12012, 'relentlessly': 12013, 'congestion': 12014, 'blip': 12015, 'effectiveness': 12016, 'coordinates': 12017, 'contingencies': 12018, 'kelly': 12019, 'smar': 12020, 'sdk': 12021, 'sums': 12022, 'unified': 12023, 'culture': 12024, 'milo': 12025, 'triggering': 12026, 'specificity': 12027, 'ironman': 12028, 'mouthful': 12029, 'remodel': 12030, 'ssids': 12031, 'ssid': 12032, 'cubs': 12033, 'yielded': 12034, 'failings': 12035, 'wordy': 12036, 'sengled': 12037, 'pandera': 12038, 'jeorardy': 12039, 'afte': 12040, 'technophile': 12041, 'wheelchair': 12042, 'funding': 12043, 'mumble': 12044, 'multile': 12045, 'interactivity': 12046, 'finder': 12047, 'attaching': 12048, 'homekit': 12049, 'gymnastics': 12050, 'swallow': 12051, 'meager': 12052, 'smartened': 12053, 'showers': 12054, 'stationed': 12055, 'boeing': 12056, 'alleged': 12057, 'egregious': 12058, 'transistor': 12059, 'commodore': 12060, 'slated': 12061, 'gist': 12062, 'depressing': 12063, 'index': 12064, 'mindfullness': 12065, 'connectable': 12066, 'charming': 12067, 'conect': 12068, 'softwares': 12069, 'intervention': 12070, 'lingering': 12071, 'dork': 12072, 'shill': 12073, 'personification': 12074, 'serena': 12075, 'williams': 12076, 'ruger': 12077, 'maturity': 12078, 'usre': 12079, 'fuse': 12080, 'scraping': 12081, 'resupplying': 12082, 'bugger': 12083, 'withouto': 12084, 'jeeves': 12085, 'shhhtuff': 12086, 'enhancement': 12087, 'alongst': 12088, 'pootering': 12089, 'poot': 12090, 'limbic': 12091, 'activations': 12092, 'rattle': 12093, 'blaring': 12094, 'cricket': 12095, 'shaving': 12096, 'rumors': 12097, 'tomatoes': 12098, 'eatin': 12099, 'libraryfinds': 12100, 'kitchens': 12101, 'teller': 12102, 'berlin': 12103, 'resold': 12104, 'musci': 12105, 'subwoofer': 12106, 'guts': 12107, 'diapers': 12108, 'kidsbop': 12109, 'strategy': 12110, 'unify': 12111, 'spouserecommend': 12112, 'pico': 12113, 'clicked': 12114, 'cree': 12115, 'hugging': 12116, 'bloodhound': 12117, 'gang': 12118, 'nowrealize': 12119, 'iinput': 12120, 'twiking': 12121, 'portable2': 12122, 'quality3': 12123, 'texarkana': 12124, 'timbuktu': 12125, 'istanbul': 12126, 'indianapolis': 12127, 'jackson': 12128, 'maiden': 12129, 'frank': 12130, 'sinatra': 12131, 'pandorra': 12132, 'limbaugh': 12133, 'cataract': 12134, 'surgeries': 12135, 'acurate': 12136, 'willl': 12137, 'roundups': 12138, 'withdrawn': 12139, 'gretat': 12140, 'invocations': 12141, 'groaners': 12142, 'comprehension': 12143, 'onenote': 12144, 'alexie': 12145, 'saturn': 12146, 'holley': 12147, 'aboutjust': 12148, 'alexacan': 12149, 'streamlines': 12150, 'jury': 12151, 'analog': 12152, 'questioning': 12153, 'motives': 12154, 'philps': 12155, 'frontier': 12156, 'buyin': 12157, 'twas': 12158, 'newcomer': 12159, 'imply': 12160, 'parlor': 12161, 'sillly': 12162, 'thee': 12163, 'othe': 12164, 'dawn': 12165, 'steadfast': 12166, 'echoi': 12167, 'mindfulness': 12168, 'bmw': 12169, 'monthy': 12170, 'efficent': 12171, 'aand': 12172, 'saveing': 12173, 'toown': 12174, 'tinker': 12175, 'synopsis': 12176, 'dropcam': 12177, 'hackers': 12178, 'spiffy': 12179, 'checklists': 12180, 'restate': 12181, 'investigations': 12182, 'teaming': 12183, 'tchnology': 12184, 'remedial': 12185, 'vastly': 12186, 'togethers': 12187, 'bookseller': 12188, 'addtoo': 12189, 'trackers': 12190, 'snooty': 12191, 'inspiring': 12192, 'gains': 12193, 'fishtank': 12194, 'tonmake': 12195, 'echoing': 12196, 'clap': 12197, 'holler': 12198, 'communicates': 12199, 'marekting': 12200, 'creative': 12201, 'warriors': 12202, 'simplisafe': 12203, 'conected': 12204, 'deserving': 12205, 'themostat': 12206, 'convienence': 12207, 'warps': 12208, 'snarky': 12209, 'starshine': 12210, 'norris': 12211, 'endlessly': 12212, 'bootleg': 12213, 'cassette': 12214, 'reconnected': 12215, 'tun': 12216, 'verbatim': 12217, 'diction': 12218, 'laziness': 12219, 'weekswith': 12220, 'comical': 12221, 'searchable': 12222, 'nosise': 12223, 'silence': 12224, 'mappable': 12225, 'everyones': 12226, 'amazion': 12227, 'waters': 12228, 'contestant': 12229, 'weathergirl': 12230, 'drug': 12231, 'qulaity': 12232, 'mamy': 12233, 'pains': 12234, '30am': 12235, 'repositioned': 12236, 'excells': 12237, 'controolled': 12238, 'kits': 12239, 'exquisitely': 12240, 'dorky': 12241, 'echopros': 12242, 'ueboom': 12243, 'programed': 12244, 'preexisting': 12245, 'manchester': 12246, 'pga': 12247, 'robotic': 12248, 'skynet': 12249, 'embrace': 12250, 'rape': 12251, 'pets': 12252, 'abused': 12253, 'listin': 12254, 'sink': 12255, 'pso': 12256, 'thinghere': 12257, 'sopranos': 12258, 'blahoverall': 12259, 'revision': 12260, 'shelving': 12261, 'smatphone': 12262, 'kno': 12263, 'theme': 12264, 'mixes': 12265, 'redirect': 12266, 'melt': 12267, 'figuratively': 12268, 'it’ll': 12269, 'echo´s': 12270, 'caséta': 12271, '‘helpful': 12272, 'library…finds': 12273, 'experiment…': 12274, 'wasn’t': 12275, 'sister’s': 12276, 'warrants': 12277, 'refueling': 12278, 'cells': 12279, 'gratifying': 12280, 'programmers': 12281, 'rewording': 12282, 'sked': 12283, 'shocker': 12284, 'floats': 12285, '5ft': 12286, '10w': 12287, 'birth': 12288, 'corrects': 12289, 'disgrace': 12290, 'blocky': 12291, 'supplier': 12292, 'narrower': 12293, 'representatives': 12294, 'discharge': 12295, 'crooked': 12296, 'padding': 12297, 'shutter': 12298, 'citron': 12299, 'neon': 12300, '1of': 12301, 'acceptably': 12302, 'advantaged': 12303, '500ma': 12304, 'underhanded': 12305, 'estimated': 12306, 'oldie': 12307, 'goodie': 12308, 'pointy': 12309, 'griendly': 12310, 'distorts': 12311, 'drm': 12312, 'onternet': 12313, 'kerplot': 12314, 'gona': 12315, 'pound': 12316, 'eatching': 12317, 'arthritic': 12318, 'joints': 12319, 'usefulto': 12320, 'fount': 12321, 'qwerks': 12322, 'saturday': 12323, 'letterbox': 12324, 'prints': 12325, 'scrolls': 12326, 'dwarfs': 12327, 'cream': 12328, 'htey': 12329, 'relacement': 12330, 'disproportionate': 12331, 'width': 12332, 'abysmal': 12333, 'yetfastestand': 12334, 'screenis': 12335, 'unimpressed': 12336, 'activites': 12337, 'aol': 12338, 'bob': 12339, 'jones': 12340, 'perfectsound': 12341, 'ittle': 12342, 'timeit': 12343, 'plants': 12344, 'zombies': 12345, 'enuf': 12346, 'sinks': 12347, 'spousal': 12348, 'phne': 12349, 'phòne': 12350, 'nikon': 12351, 'sigma': 12352, '600mm': 12353, 'dissecting': 12354, 'd810': 12355, 'territory': 12356, 'upholstery': 12357, 'stain': 12358, 'woken': 12359, 'announcement': 12360, 'marino': 12361, 'fishing': 12362, 'usd150': 12363, 'excess': 12364, 'boughy': 12365, 'alezxa': 12366, 'rechargable': 12367, 'joule': 12368, 'outdside': 12369, 'acoustics': 12370, 'horoscope': 12371, 'hut': 12372, 'weary': 12373, 'adoptor': 12374, 'usefule': 12375, 'guam': 12376, 'instructio': 12377, 'interconnected': 12378, 'circlers': 12379, 'dystopia': 12380, 'eggers': 12381, 'hail': 12382, 'mids': 12383, 'luke': 12384, 'grille': 12385, 'mesh': 12386, 'grilles': 12387, 'micrphones': 12388, 'flex': 12389, 'pits': 12390, 'satchel': 12391, 'andespn': 12392, 'avarage': 12393, 'uncanny': 12394, 'yearbook': 12395, 'printable': 12396, 'thunder': 12397, 'batterey': 12398, 'worldwide': 12399, 'eavsdropping': 12400, 'peak': 12401, 'cloth': 12402, 'likenit': 12403, 'forte': 12404, 'surreptitiously': 12405, 'portablebility': 12406, 'lithium': 12407, 'smartness': 12408, 'paradigm': 12409, 'greatdifficult': 12410, 'sseems': 12411, 'defeat': 12412, 'inventions': 12413, 'ohs': 12414, 'mariachi': 12415, 'colorado': 12416, 'kdis': 12417, 'ittt': 12418, 'renders': 12419, 'retrieves': 12420, 'handsyou': 12421, 'sweden': 12422, 'portugal': 12423, 'namesake': 12424, 'decks': 12425, 'claiming': 12426, 'ruining': 12427, 'ijnfo': 12428, '5star': 12429, 'pill': 12430, 'duly': 12431, 'huuuge': 12432, 'inna': 12433, 'summon': 12434, 'prouducts': 12435, 'conpack': 12436, 'tappy': 12437, 'wast': 12438, 'someways': 12439, 'michael': 12440, 'bolton': 12441, 'bruce': 12442, 'springsteen': 12443, 'predicted': 12444, 'unknowingly': 12445, 'independant': 12446, 'scratchy': 12447, 'hands…you': 12448, 'commandable': 12449, 'coll': 12450, 'graduated': 12451, 'bemoaning': 12452, 'tin': 12453, 'balcony': 12454, 'audiophiles': 12455, 'fluke': 12456, 'covenient': 12457, 'cult': 12458, 'trashing': 12459, 'triby': 12460, 'partnerships': 12461, 'draugther': 12462, 'ganes': 12463, 'iceberg': 12464, 'ruled': 12465, 'cnet': 12466, 'frustrations': 12467, 'fot': 12468, 'heaper': 12469, 'repository': 12470, 'booming': 12471, 'bluetoothdecent': 12472, 'instructive': 12473, 'gatherings': 12474, 'siriamazon': 12475, 'alley': 12476, 'heres': 12477, 'muti': 12478, 'amazement': 12479, 'vis': 12480, 'commandscons': 12481, 'speakersoverall': 12482, 'steup': 12483, 'polish': 12484, 'username': 12485, 'riddance': 12486, 'intall': 12487, 'mny': 12488, '4000k': 12489, 'vueso': 12490, 'appscons': 12491, 'cinemax': 12492, 'marshmallow': 12493, 'centricplease': 12494, 'hd1': 12495, 'dynamite': 12496, 'expierence': 12497, 'chromescast': 12498, 'frist': 12499, 'scripts': 12500, 'temperamental': 12501, 'appli': 12502, 'progrant': 12503, 'reconment': 12504, 'grace': 12505, 'valueble': 12506, 'frend': 12507, 'broughts': 12508, 'smoothest': 12509, 'infomercials': 12510, 'hdhomerun': 12511, 'outlandish': 12512, 'supped': 12513, 'saids': 12514, 'producg': 12515, 'bitstream': 12516, 'atmos': 12517, 'prison': 12518, 'staggering': 12519, 'offsprings': 12520, 'syfy': 12521, 'bogging': 12522, 'races': 12523, 'unsubscribe': 12524, 'wouldve': 12525, 'attack': 12526, 'sorround': 12527, 'anotherone': 12528, 'becuse': 12529, 'brace': 12530, 'waist': 12531, 'tok': 12532, 'hight': 12533, 'reentering': 12534, 'reconsider': 12535, 'unstoppable': 12536, 'netfis': 12537, 'andl': 12538, 'relibility': 12539, 'fealtures': 12540, 'ffeature': 12541, 'throught': 12542, 'tnt': 12543, 'android2': 12544, 'extensible': 12545, 'nes': 12546, 'snes': 12547, 'zeus': 12548, 'ives': 12549, 'optikns': 12550, 'structured': 12551, 'steams': 12552, 'schoolers': 12553, 'watchlist': 12554, 'mounted': 12555, 'watchers': 12556, 'perfetly': 12557, 'corroded': 12558, 'insidewe': 12559, 'remoteskind': 12560, 'collaborate': 12561, 'anther': 12562, 'blackhawk': 12563, 'pout': 12564, 'qualityonly': 12565, 'showes': 12566, 'congratulations': 12567, 'blessup': 12568, 'ppv': 12569, 'bert': 12570, 'mbs': 12571, 'jodi': 12572, 'greatdoes': 12573, 'gamesalso': 12574, 'vevo': 12575, 'overheats': 12576, 'iunstall': 12577, 'compliant': 12578, 'charlie': 12579, 'clicky': 12580, '3streaming': 12581, 'morealso': 12582, 'chuggy': 12583, 'devour': 12584, 'pluge': 12585, 'playroom': 12586, 'delve': 12587, 'quagmire': 12588, 'mousepad': 12589, 'exclusion': 12590, 'voiced': 12591, 'slgihtly': 12592, 'pdif': 12593, 'scard': 12594, 'constraints': 12595, 'upscaling': 12596, 'unsmart': 12597, 'planty': 12598, 'streamin': 12599, 'oomph': 12600, 'primer': 12601, 'diehard': 12602, 'evrything': 12603, 'zap': 12604, 'programmings': 12605, 'netflixi': 12606, 'systym': 12607, 'alexander': 12608, 'workshould': 12609, 'firend': 12610, 'thrust': 12611, 'passive': 12612, '60in': 12613, 'hardline': 12614, 'prominently': 12615, 'nut': 12616, 'heh': 12617, 'outputs': 12618, 'duper': 12619, 'perfecto': 12620, 'versility': 12621, 'subcriptions': 12622, 'jist': 12623, 'unbelievible': 12624, 'freatures': 12625, 'regulat': 12626, 'footbal': 12627, 'lockups': 12628, 'mainstay': 12629, 'taped': 12630, 'reinvented': 12631, 'willy': 12632, 'gen2': 12633, 'chocked': 12634, 'gigantic': 12635, 'osmo': 12636, 'releived': 12637, 'cleaned': 12638, 'poweruser': 12639, '4ktv': 12640, 'bugged': 12641, 'regreted': 12642, 'appel': 12643, 'walahhh': 12644, 'nerves': 12645, 'tom': 12646, 'centers': 12647, 'film': 12648, 'emphasizes': 12649, 'tihs': 12650, 'cordcutting': 12651, 'clone': 12652, 'esasy': 12653, 'amonth': 12654, 'redirected': 12655, '12mpb': 12656, 'okk': 12657, 'extraordinarily': 12658, 'cabls': 12659, 'greatproduct': 12660, 'halpy': 12661, 'experice': 12662, 'sandwich': 12663, 'daughterthere': 12664, 'peck': 12665, 'iton': 12666, 'phasing': 12667, 'lease': 12668, 'goft': 12669, 'moerits': 12670, 'choked': 12671, 'hick': 12672, 'netfliz': 12673, 'serach': 12674, 'mpbs': 12675, 'tamed': 12676, 'andmy': 12677, 'stall': 12678, 'mitsubishi': 12679, 'minimalist': 12680, 'ungraded': 12681, 'wastes': 12682, 'proportioned': 12683, 'cellophane': 12684, 'hogjly': 12685, 'plaform': 12686, 'monstrosties': 12687, 'storms': 12688, 'outletsavailable': 12689, 'cosmetically': 12690, 'fullfill': 12691, 'comparability': 12692, 'versital': 12693, 'resellers': 12694, 'tapered': 12695, 'somuch': 12696, 'intenet': 12697, 'grail': 12698, 'mounting': 12699, 'fairness': 12700, 'insall': 12701, 'tickets': 12702, 'u450': 12703, 'criends': 12704, 'irrelevant': 12705, 'sizzled': 12706, 'compability': 12707, 'whatsover': 12708, 'modifiable': 12709, 'trump': 12710, 'amateur': 12711, 'feud': 12712, 'firestck': 12713, 'foxfire': 12714, 'percentages': 12715, 'recommened': 12716, 'recient': 12717, 'f8nd': 12718, 'tradional': 12719, 'firestorm': 12720, 'absoutley': 12721, 'lana': 12722, 'cliche': 12723, 'cery': 12724, 'corresponds': 12725, 'increment': 12726, '64x': 12727, 'friendlyi': 12728, 'solidified': 12729, 'usenet': 12730, 'kody': 12731, 'laods': 12732, 'quic': 12733, 'screw': 12734, 'havint': 12735, 'sean': 12736, 'tveasy': 12737, 'strraming': 12738, 'implementations': 12739, 'refreshed': 12740, 'replugging': 12741, 'decreases': 12742, 'becaus': 12743, 'mobdro': 12744, 'everythings': 12745, 'dtn': 12746, 'hull': 12747, 'penthouse': 12748, 'hustlers': 12749, '15mbps': 12750, 'labels': 12751, 'jusy': 12752, 'pucture': 12753, 'reproduce': 12754, 'strings': 12755, 'hahaha': 12756, 'boxwish': 12757, 'betterspeed': 12758, 'pirates': 12759, 'dvi': 12760, 'amazonproducts': 12761, 'facilitate': 12762, 'alexathe': 12763, 'rural': 12764, 'fob': 12765, '0ghz': 12766, 'idk': 12767, 'alon': 12768, 'sasy': 12769, 'p65': 12770, 'interms': 12771, 'praises': 12772, 'nividi': 12773, 'hdd': 12774, 'enforcing': 12775, 'fwd': 12776, 'vincent': 12777, 'cody': 12778, 'hallmark': 12779, 'keboard': 12780, 'xtra': 12781, 'subscripton': 12782, 'storageworth': 12783, 'disadvantages': 12784, 'steamer': 12785, 'joystick': 12786, 'gentleman': 12787, 'wan': 12788, 'weaker': 12789, 'memberkodi': 12790, 'retiree': 12791, 'incorporates': 12792, 'mist': 12793, 'pluged': 12794, 'patch': 12795, 'flatscreen': 12796, 'nexflix': 12797, 'evil': 12798, 'nefarious': 12799, 'empire': 12800, 'subjected': 12801, 'fret': 12802, 'exorbitant': 12803, 'contracts': 12804, 'giants': 12805, 'unecessary': 12806, 'navagating': 12807, 'ells': 12808, 'indefinitely': 12809, 'insanly': 12810, 'eith': 12811, 'sixty': 12812, 'diligence': 12813, 'entirety': 12814, 'loophole': 12815, 'chunks': 12816, 'mindlessly': 12817, 'liberating': 12818, 'mackbook': 12819, 'airs': 12820, 'tvsi': 12821, 'modding': 12822, 'sexy': 12823, 'nitpick': 12824, 'preferable': 12825, 'wookie': 12826, 'beausbuild': 12827, 'okc': 12828, 'saud': 12829, 'firesticktv': 12830, '50mbps': 12831, 'infrequent': 12832, 'transform': 12833, 'sofar': 12834, 'turkey': 12835, 'accommodates': 12836, 'use6': 12837, 'graphics7': 12838, 'dislikes': 12839, 'provision': 12840, 'boxee': 12841, 'onable': 12842, 'collects': 12843, 'controler': 12844, 'domestic': 12845, 'firstly': 12846, 'dived': 12847, 'heartedly': 12848, 'aesthetically': 12849, 'appreciating': 12850, 'inabled': 12851, 'preconfigured': 12852, 'xiaomi': 12853, 'cheaping': 12854, 'crazed': 12855, 'videophile': 12856, 'overpaying': 12857, 'abort': 12858, 'kodiak': 12859, 'dreaming': 12860, 'korea': 12861, '100mbps': 12862, 'hungry': 12863, 'saturated': 12864, 'ween': 12865, 'acquaintances': 12866, 'ooma': 12867, 'legit': 12868, 'qwerty': 12869, 'mlbtv': 12870, 'cuddling': 12871, 'fred': 12872, 'bracket': 12873, 'advirtized': 12874, 'ithighly': 12875, 'alexus': 12876, 'weve': 12877, 'locals': 12878, 'slanted': 12879, 'entitled': 12880, 'organizes': 12881, 'tubes': 12882, 'privilege': 12883, 'sheild': 12884, 'turbomode': 12885, 'hologram': 12886, 'amaxom': 12887, 'snow': 12888, 'acceleration': 12889, 'h264': 12890, 'sideloads': 12891, 'microsdhc': 12892, 'dismal': 12893, 'customizeable': 12894, 'portland': 12895, 'phoenix': 12896, 'summarizes': 12897, '10it': 12898, 'ridding': 12899, 'myrtle': 12900, 'downsizing': 12901, 'flexibilitymore': 12902, 'greenlight': 12903, 'buzz': 12904, 'onced': 12905, 'rattles': 12906, 'neflx': 12907, 'recover': 12908, 'onward': 12909, 'awesomeur': 12910, 'whever': 12911, 'boxing': 12912, 'snot': 12913, 'lookout': 12914, '30hz': 12915, 'urself': 12916, 'coast': 12917, 'puerto': 12918, 'rico': 12919, 'bil': 12920, 'avenues': 12921, 'mange': 12922, 'mot': 12923, 'ventures': 12924, 'reagy': 12925, 'oversees': 12926, 'fxnow': 12927, 'androidtv': 12928, 'framework': 12929, 'crossy': 12930, 'divine': 12931, 'flowing': 12932, 'superfast': 12933, 'sameproblems': 12934, 'goldengate': 12935, 'sybase': 12936, 'cabable': 12937, 'nefflix': 12938, 'chucks': 12939, 'msnufactures': 12940, 'acquisition': 12941, 'ina': 12942, 'fmily': 12943, 'discontinuing': 12944, 'prevented': 12945, 'stud': 12946, 'thatn': 12947, 'indirect': 12948, 'tivi': 12949, 'poeerfyul': 12950, 'fastet': 12951, 'servise': 12952, 'waranty': 12953, 'racked': 12954, 'passthough': 12955, 'frustrate': 12956, 'opitions': 12957, 'avon': 12958, 'indiana': 12959, 'ted': 12960, 'deprogrammed': 12961, 'preachers': 12962, 'broadcasters': 12963, 'sometimesnot': 12964, 'authorization': 12965, 'entratainment': 12966, 'micsosd': 12967, 'prodigious': 12968, 'beatprice': 12969, 'valuehighly': 12970, 'neigbor': 12971, 'processed': 12972, 'bridged': 12973, 'weakens': 12974, 'subtitles': 12975, '100m': 12976, 'finnicky': 12977, 'tended': 12978, 'transforming': 12979, 'administrator': 12980, 'yankees': 12981, 'andcis': 12982, 'acorn': 12983, 'british': 12984, 'productions': 12985, 'tunable': 12986, 'immediatel': 12987, 'llocation': 12988, 'tetevision': 12989, 'ownpro': 12990, 'setupapp': 12991, 'choicesability': 12992, 'appsalexa': 12993, 'integrationcon': 12994, 'roku3': 12995, 'distinguishing': 12996, 'yoi': 12997, 'lmovies': 12998, 'cutomize': 12999, 'clams': 13000, 'labor': 13001, 'itune': 13002, '25mbps': 13003, 'advises': 13004, 'eligible': 13005, 'cleanest': 13006, 'svc': 13007, 'layers': 13008, 'authentication': 13009, 'grea': 13010, 'defusing': 13011, 'audios': 13012, 'apocalypse': 13013, 'commenting': 13014, 'goood': 13015, 'dlna': 13016, 'crashing': 13017, 'spreed': 13018, 'dualcore': 13019, 'havei': 13020, 'hulk': 13021, 'thear': 13022, 'optio': 13023, 'onetime': 13024, 'usking': 13025, 'visio': 13026, 'profound': 13027, '80mps': 13028, 'royalist': 13029, 'centerpoint': 13030, 'pusrchases': 13031, 'kiddish': 13032, 'tomany': 13033, 'heated': 13034, 'han': 13035, 'otis': 13036, 'mend': 13037, 'vising': 13038, 'interestingly': 13039, 'libray': 13040, 'regrettable': 13041, 'attended': 13042, 'cursor': 13043, 'eathernet': 13044, 'abandoning': 13045, 'againhave': 13046, 'concil': 13047, 'fellow': 13048, 'bananas': 13049, 'pointer': 13050, 'systemes': 13051, 'replacedvoice': 13052, 'madeno': 13053, 'featurestill': 13054, 'telly': 13055, 'capped': 13056, 'peripheral': 13057, 'aethetic': 13058, 'bouth': 13059, 'thn': 13060, 'stampede': 13061, 'ott': 13062, 'adfter': 13063, 'duplicates': 13064, 'aweomse': 13065, 'throttling': 13066, 'amazn': 13067, 'allowes': 13068, 'everyhting': 13069, 'allied': 13070, 'magnolia': 13071, 'standardize': 13072, 'chews': 13073, 'soccer': 13074, 'lacrosse': 13075, '3mb': 13076, 'tranfer': 13077, 'ruko': 13078, 'multimedia': 13079, 'woujld': 13080, 'perferomance': 13081, 'wor': 13082, 'anniversaries': 13083, 'blaze': 13084, 'occurrence': 13085, 'ihave': 13086, 'goodi': 13087, 'affecting': 13088, 'downcovert': 13089, 'legacy': 13090, 'perpose': 13091, 'strean': 13092, 'ming': 13093, 'brighthouse': 13094, 'frieds': 13095, 'device4k': 13096, 'nicegreat': 13097, 'supportnegative': 13098, 'cach': 13099, 'tgey': 13100, 'mantle': 13101, 'remort': 13102, 'controll': 13103, 'retuned': 13104, 'forgone': 13105, 'thirt': 13106, 'stady': 13107, 'tales': 13108, 'borderlands': 13109, 'combat': 13110, 'knights': 13111, 'republic': 13112, 'qlty': 13113, 'docsis': 13114, 'gbox': 13115, 'immovable': 13116, 'scaring': 13117, 'spotted': 13118, 'glimpse': 13119, 'spinning': 13120, 'blood': 13121, 'rises': 13122, 'minority': 13123, 'yanked': 13124, 'acquired': 13125, 'uhdtv': 13126, 'fulfiled': 13127, 'forefront': 13128, 'thief': 13129, 'mercy': 13130, 'infra': 13131, 'remot': 13132, 'sourced': 13133, 'preditable': 13134, 'vig': 13135, 'seeems': 13136, 'overview': 13137, 'livetv': 13138, 'discplayer': 13139, 'aliza': 13140, 'ignorance': 13141, 'dimension': 13142, 'forgiving': 13143, 'biggy': 13144, '3mbps': 13145, 'treating': 13146, 'fite': 13147, 'assignment': 13148, 'yamaha': 13149, 'routers': 13150, 'bes': 13151, 'grunt': 13152, 'afforable': 13153, 'unplayable': 13154, 'reciprocate': 13155, 'karaoke': 13156, 'sock': 13157, 'hest': 13158, 'generator': 13159, 'circles': 13160, 'modded': 13161, 'recordings': 13162, 'bolt': 13163, 'tweets': 13164, 'productthe': 13165, 'buyback': 13166, 'erthernet': 13167, 'arte': 13168, 'goodwork': 13169, 'transcoded': 13170, 'cinch': 13171, 'rediculously': 13172, 'zipper': 13173, 'charities': 13174, 'jailbreaker': 13175, 'amazonfire': 13176, 'lockup': 13177, '40x': 13178, 'nationwide': 13179, 'hdhomerrun': 13180, 'demos': 13181, 'mxiii': 13182, 'ouya': 13183, 'automaticly': 13184, 'tittle': 13185, 'tvos': 13186, 'strem': 13187, 'agreed': 13188, 'sticksbut': 13189, 'suppirior': 13190, 'compitetive': 13191, 'thinj': 13192, 'primeits': 13193, 'tick': 13194, 'crispness': 13195, 'farm': 13196, 'clearstream': 13197, 'sjdhfhdhhsjx': 13198, 'flies': 13199, 'beep': 13200, 'drama': 13201, 'fever': 13202, 'proofed': 13203, 'documentaries': 13204, 'cycling': 13205, 'endorsement': 13206, 'unexceptionable': 13207, 'ypu': 13208, 'newbies': 13209, 'mediacom': 13210, 'accessable': 13211, 'cinema': 13212, 'nutt': 13213, 'minuses': 13214, 'exhibits': 13215, 'fluent': 13216, 'iream': 13217, 'extenders': 13218, 'convienece': 13219, 'wel': 13220, 'prepay': 13221, 'sweetest': 13222, 'zelda': 13223, 'chanels': 13224, 'perpetual': 13225, 'recoverable': 13226, 'soured': 13227, 'additon': 13228, 'canle': 13229, 'vueing': 13230, 'exelente': 13231, 'smarttvs': 13232, 'stucked': 13233, 'commend': 13234, 'jitter': 13235, 'caption': 13236, 'moded': 13237, 'tvits': 13238, 'impose': 13239, '65mbps': 13240, 'hi10p': 13241, 'decoded': 13242, 'coded': 13243, 'bitrate': 13244, 'cpus': 13245, 'spike': 13246, 'agnostic': 13247, 'presented': 13248, 'disappointedpros': 13249, 'slotcons': 13250, 'maximal': 13251, 'posible': 13252, 'firetv1': 13253, 'firetv2': 13254, 'serials': 13255, 'additive': 13256, 'sucker': 13257, '2also': 13258, 'aint': 13259, 'boingo': 13260, 'girts': 13261, 'bufferinggreat': 13262, 'qualityendless': 13263, 'programmingif': 13264, 'appl': 13265, 'kart': 13266, 'donkey': 13267, 'kong': 13268, 'centierpede': 13269, 'onscreen': 13270, 'inputing': 13271, 'dfficult': 13272, 'idevice': 13273, 'pbskids': 13274, 'offload': 13275, 'sreaming': 13276, 'gaget': 13277, 'reinsert': 13278, 'emitting': 13279, 'diode': 13280, 'shotty': 13281, 'noone': 13282, 'programmes': 13283, 'thang': 13284, 'astetically': 13285, 'boa': 13286, 'occasionly': 13287, 'smarttv': 13288, 'mos': 13289, 'timewarner': 13290, 'don���t': 13291, 'i���d': 13292, 'alllow': 13293, 'appletvs': 13294, 'permeated': 13295, 'rectify': 13296, 'mystical': 13297, 'lamented': 13298, 'unskilled': 13299, 'wayyy': 13300, 'jokingly': 13301, 'proceeded': 13302, 'forgo': 13303, '������': 13304, 'cablecutters': 13305, 'mopping': 13306, 'cinderella': 13307, 'mei': 13308, 'demographic': 13309, 'thirties': 13310, 'partying': 13311, 'suburban': 13312, 'hdml': 13313, 'instants': 13314, 'scarce': 13315, 'flyovers': 13316, 'dx2': 13317, 'graphite': 13318, 'fidgety': 13319, 'accidentlly': 13320, 'cased': 13321, 'summing': 13322, 'comfortthis': 13323, 'unfolded': 13324, 'timethe': 13325, 'neglegible': 13326, 'has5': 13327, 'indicates': 13328, 'unintentionally': 13329, 'problemcon': 13330, 'overstock': 13331, 'itself2': 13332, 'untouched': 13333, 'firt': 13334, 'lend': 13335, 'handsome': 13336, 'tug': 13337, 'bubbled': 13338, 'moisture': 13339, 'framewhere': 13340, 'problembut': 13341, 'uncluttered': 13342, '9in': 13343, 'seperately': 13344, 'hdxs': 13345, 'wattage': 13346, 'cheapens': 13347, 'erodes': 13348, 'descriptions': 13349, 'appreciably': 13350, 'adjacent': 13351, 'chargerit': 13352, 'cheapness': 13353, 'failerd': 13354, 'subsequent': 13355, 'disposed': 13356, 'sprint': 13357, 'htc': 13358, 'anthing': 13359, 'greedy': 13360}\n"
          ]
        }
      ]
    },
    {
      "cell_type": "code",
      "metadata": {
        "id": "avxuIsACzUxL"
      },
      "source": [
        "reviews_encoded = [];\n",
        "for i,review in enumerate(review_cleans):\n",
        "    reviews_encoded.append([sequence_dict[x] for x in review]);"
      ],
      "execution_count": null,
      "outputs": []
    },
    {
      "cell_type": "code",
      "metadata": {
        "colab": {
          "base_uri": "https://localhost:8080/",
          "height": 367
        },
        "id": "aw78wsA8zfLC",
        "outputId": "ff251450-e9fa-4920-c0a4-fbe6b2262b66"
      },
      "source": [
        "lengths = [len(x) for x in reviews_encoded]\n",
        "plt.hist(lengths, bins=range(25))"
      ],
      "execution_count": null,
      "outputs": [
        {
          "output_type": "execute_result",
          "data": {
            "text/plain": [
              "(array([   7.,   72.,  114.,  211.,  873., 2238., 3498., 3492., 3038.,\n",
              "        2426., 2066., 1715., 1440., 1358., 1159.,  946.,  898.,  798.,\n",
              "         742.,  646.,  599.,  537.,  466.,  783.]),\n",
              " array([ 0,  1,  2,  3,  4,  5,  6,  7,  8,  9, 10, 11, 12, 13, 14, 15, 16,\n",
              "        17, 18, 19, 20, 21, 22, 23, 24]),\n",
              " <a list of 24 Patch objects>)"
            ]
          },
          "metadata": {},
          "execution_count": 63
        },
        {
          "output_type": "display_data",
          "data": {
            "image/png": "[encoded data removed]",
            "text/plain": [
              "<Figure size 432x288 with 1 Axes>"
            ]
          },
          "metadata": {
            "needs_background": "light"
          }
        }
      ]
    },
    {
      "cell_type": "code",
      "metadata": {
        "colab": {
          "base_uri": "https://localhost:8080/"
        },
        "id": "iOOyfqnPzjpy",
        "outputId": "2cf1437c-ae35-4a24-c1a1-a6714ac3572a"
      },
      "source": [
        "print(reviews_encoded[135])"
      ],
      "execution_count": null,
      "outputs": [
        {
          "output_type": "stream",
          "name": "stdout",
          "text": [
            "[807, 6, 2, 8, 2, 12, 938, 521, 293, 153, 1709, 728, 659, 8, 395, 3, 2, 138, 547, 433, 110, 1948, 70, 1242, 15, 43, 187, 113, 253, 1536, 2]\n"
          ]
        }
      ]
    },
    {
      "cell_type": "code",
      "metadata": {
        "id": "vNQpsCzZzrW5"
      },
      "source": [
        "max_cap =8;\n",
        "X = pad_sequences(reviews_encoded, maxlen=max_cap, truncating='post')"
      ],
      "execution_count": null,
      "outputs": []
    },
    {
      "cell_type": "code",
      "metadata": {
        "id": "p3fmAqVlzvth"
      },
      "source": [
        "Y = np.array([[0,1] if '0' in label else [1,0] for label in labels])"
      ],
      "execution_count": null,
      "outputs": []
    },
    {
      "cell_type": "code",
      "metadata": {
        "id": "J6ejmP_8z7vU"
      },
      "source": [
        "np.random.seed(1024);\n",
        "random_posits = np.arange(len(X))\n",
        "np.random.shuffle(random_posits);"
      ],
      "execution_count": null,
      "outputs": []
    },
    {
      "cell_type": "code",
      "metadata": {
        "id": "llzDwhzyz-fM"
      },
      "source": [
        "X = X[random_posits];\n",
        "Y = Y[random_posits];"
      ],
      "execution_count": null,
      "outputs": []
    },
    {
      "cell_type": "code",
      "metadata": {
        "id": "JG1Itmu30BCz"
      },
      "source": [
        "train_cap = int(0.85 * len(X));\n",
        "dev_cap = int(0.93 * len(X));"
      ],
      "execution_count": null,
      "outputs": []
    },
    {
      "cell_type": "code",
      "metadata": {
        "id": "Qa-6RWbK0Eq4"
      },
      "source": [
        "X_train, Y_train = X[:train_cap], Y[:train_cap]\n",
        "X_dev, Y_dev = X[train_cap:dev_cap], Y[train_cap:dev_cap]\n",
        "X_test1, Y_test1 = X[dev_cap:], Y[dev_cap:]"
      ],
      "execution_count": null,
      "outputs": []
    },
    {
      "cell_type": "code",
      "metadata": {
        "id": "f_Sl8g420HIw"
      },
      "source": [
        "from keras.models import Sequential\n",
        "from keras.layers import Dense\n",
        "from keras.backend import eval\n",
        "from keras.layers import LSTM\n",
        "from keras.layers.embeddings import Embedding"
      ],
      "execution_count": null,
      "outputs": []
    },
    {
      "cell_type": "code",
      "metadata": {
        "id": "AT_nj0D70JvY"
      },
      "source": [
        "model1 = Sequential();\n",
        "model1.add(Embedding(len(word_dict)+1, max_cap, input_length=max_cap));\n",
        "#adding a LSTM layer of dim 1--\n",
        "model1.add(LSTM(150, return_sequences=True));\n",
        "model1.add(LSTM(150, return_sequences=False));\n"
      ],
      "execution_count": null,
      "outputs": []
    },
    {
      "cell_type": "code",
      "metadata": {
        "colab": {
          "base_uri": "https://localhost:8080/"
        },
        "id": "bio04eC30TUx",
        "outputId": "c158ce21-23e7-43de-ac5d-689d82de6787"
      },
      "source": [
        "#adding a dense layer with activation function of relu\n",
        "model1.add(Dense(100, activation='relu',kernel_initializer='normal'));#best 50,relu\n",
        "#adding the final output activation with activation function of softmax\n",
        "model1.add(Dense(2, activation='sigmoid',kernel_initializer='normal'));\n",
        "print(model1.summary());\n",
        "optimizer = Adam(lr=0.0001, decay=0.0001);\n",
        "model1.compile(loss='binary_crossentropy', optimizer=optimizer, metrics=['accuracy'])\n",
        "# fit model and run it for 5 epochs\n",
        "model1.fit(X_train, Y_train, batch_size=16, epochs=5, validation_data=(X_dev, Y_dev))"
      ],
      "execution_count": null,
      "outputs": [
        {
          "output_type": "stream",
          "name": "stdout",
          "text": [
            "Model: \"sequential_1\"\n",
            "_________________________________________________________________\n",
            "Layer (type)                 Output Shape              Param #   \n",
            "=================================================================\n",
            "embedding_1 (Embedding)      (None, 8, 8)              106888    \n",
            "_________________________________________________________________\n",
            "lstm_2 (LSTM)                (None, 8, 150)            95400     \n",
            "_________________________________________________________________\n",
            "lstm_3 (LSTM)                (None, 150)               180600    \n",
            "_________________________________________________________________\n",
            "dense (Dense)                (None, 100)               15100     \n",
            "_________________________________________________________________\n",
            "dense_1 (Dense)              (None, 2)                 202       \n",
            "_________________________________________________________________\n",
            "dense_2 (Dense)              (None, 100)               300       \n",
            "_________________________________________________________________\n",
            "dense_3 (Dense)              (None, 2)                 202       \n",
            "=================================================================\n",
            "Total params: 398,692\n",
            "Trainable params: 398,692\n",
            "Non-trainable params: 0\n",
            "_________________________________________________________________\n",
            "None\n"
          ]
        },
        {
          "output_type": "stream",
          "name": "stderr",
          "text": [
            "/usr/local/lib/python3.7/dist-packages/keras/optimizer_v2/optimizer_v2.py:356: UserWarning: The `lr` argument is deprecated, use `learning_rate` instead.\n",
            "  \"The `lr` argument is deprecated, use `learning_rate` instead.\")\n"
          ]
        },
        {
          "output_type": "stream",
          "name": "stdout",
          "text": [
            "Epoch 1/5\n",
            "1840/1840 [==============================] - 64s 32ms/step - loss: 0.3163 - accuracy: 0.9648 - val_loss: 0.1238 - val_accuracy: 0.9769\n",
            "Epoch 2/5\n",
            "1840/1840 [==============================] - 58s 32ms/step - loss: 0.1139 - accuracy: 0.9766 - val_loss: 0.1100 - val_accuracy: 0.9769\n",
            "Epoch 3/5\n",
            "1840/1840 [==============================] - 58s 32ms/step - loss: 0.1110 - accuracy: 0.9766 - val_loss: 0.1099 - val_accuracy: 0.9769\n",
            "Epoch 4/5\n",
            "1840/1840 [==============================] - 59s 32ms/step - loss: 0.1109 - accuracy: 0.9766 - val_loss: 0.1099 - val_accuracy: 0.9769\n",
            "Epoch 5/5\n",
            "1840/1840 [==============================] - 58s 31ms/step - loss: 0.1109 - accuracy: 0.9766 - val_loss: 0.1099 - val_accuracy: 0.9769\n"
          ]
        },
        {
          "output_type": "execute_result",
          "data": {
            "text/plain": [
              "<keras.callbacks.History at 0x7fe42357ad50>"
            ]
          },
          "metadata": {},
          "execution_count": 81
        }
      ]
    },
    {
      "cell_type": "code",
      "metadata": {
        "colab": {
          "base_uri": "https://localhost:8080/"
        },
        "id": "RZmmr0lY1pLL",
        "outputId": "3d8d62c8-9b6d-4401-b1e7-a9afcce44bf4"
      },
      "source": [
        "score = model1.evaluate(X_test1, Y_test1)\n",
        "print(\"Test accuracy: %0.4f%%\" % (score[1]*100))"
      ],
      "execution_count": null,
      "outputs": [
        {
          "output_type": "stream",
          "name": "stdout",
          "text": [
            "76/76 [==============================] - 1s 9ms/step - loss: 0.1160 - accuracy: 0.9752\n",
            "Test accuracy: 97.5248%\n"
          ]
        }
      ]
    },
    {
      "cell_type": "code",
      "metadata": {
        "id": "ORpwBVrz3l0u"
      },
      "source": [
        ""
      ],
      "execution_count": null,
      "outputs": []
    }
  ]
}