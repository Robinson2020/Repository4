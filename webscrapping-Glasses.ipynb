{
 "cells": [
  {
   "cell_type": "code",
   "execution_count": 1,
   "metadata": {},
   "outputs": [],
   "source": [
    "from selenium import webdriver"
   ]
  },
  {
   "cell_type": "code",
   "execution_count": 2,
   "metadata": {},
   "outputs": [],
   "source": [
    "import os"
   ]
  },
  {
   "cell_type": "code",
   "execution_count": 3,
   "metadata": {},
   "outputs": [],
   "source": [
    "import selenium"
   ]
  },
  {
   "cell_type": "code",
   "execution_count": 4,
   "metadata": {},
   "outputs": [],
   "source": [
    "driver=webdriver.Chrome(executable_path='D:\\Datascience projects\\Amazon webscrapping\\chromedriver.exe')"
   ]
  },
  {
   "cell_type": "code",
   "execution_count": 5,
   "metadata": {},
   "outputs": [],
   "source": [
    "mypage=driver.get('https://www.flipkart.com/sunglasses/ray-ban~brand/pr?sid=26x&p%5B%5D=facets.rating%255B%255D%3D4%25E2%2598%2585%2B%2526%2Babove&p%5B%5D=facets.price_range.from%3D1000&p%5B%5D=facets.price_range.to%3DMax&p%5B%5D=facets.lens_material%255B%255D%3DPolyamide')"
   ]
  },
  {
   "cell_type": "code",
   "execution_count": 6,
   "metadata": {},
   "outputs": [],
   "source": [
    "#optimal Step\n",
    "def make_directory(dirname):\n",
    "    current_path=os.getcwd()\n",
    "    path=os.path.join(current_path,dirname)\n",
    "    if not os.path.exists(path):\n",
    "        os.makedirs(path)"
   ]
  },
  {
   "cell_type": "code",
   "execution_count": 7,
   "metadata": {},
   "outputs": [],
   "source": [
    "make_directory(\"FLIPCARTglasses\")"
   ]
  },
  {
   "cell_type": "code",
   "execution_count": 8,
   "metadata": {},
   "outputs": [],
   "source": [
    "images=driver.find_elements_by_xpath(\"//img[@class='_3togXc']\")"
   ]
  },
  {
   "cell_type": "code",
   "execution_count": 9,
   "metadata": {},
   "outputs": [
    {
     "name": "stdout",
     "output_type": "stream",
     "text": [
      "<selenium.webdriver.remote.webelement.WebElement (session=\"75faadb83620073c3369bdb4a958d931\", element=\"975c66a0-c74c-4313-a29e-a1be7ca65e8f\")>\n"
     ]
    }
   ],
   "source": [
    "print(images[0])"
   ]
  },
  {
   "cell_type": "code",
   "execution_count": 11,
   "metadata": {},
   "outputs": [
    {
     "name": "stdout",
     "output_type": "stream",
     "text": [
      "17\n"
     ]
    }
   ],
   "source": [
    "print(len(images))"
   ]
  },
  {
   "cell_type": "code",
   "execution_count": 12,
   "metadata": {},
   "outputs": [
    {
     "name": "stdout",
     "output_type": "stream",
     "text": [
      "https://rukminim1.flixcart.com/image/329/395/k8ho0i80/sunglass/7/y/w/57-0rb4312ch601sa157-ray-ban-original-imafqhhc5mf3zzfm.jpeg?q=50\n",
      "https://rukminim1.flixcart.com/image/329/395/k8ho0i80/sunglass/u/z/n/41-0rb4440n710-1341-ray-ban-original-imafqhhcsbkjz9cq.jpeg?q=50\n",
      "https://rukminim1.flixcart.com/image/329/395/jgb5dow0/sunglass/s/x/g/62-0rb3604ch004-5j62-ray-ban-original-imaf4kzekhghbaf2.jpeg?q=50\n",
      "https://rukminim1.flixcart.com/image/329/395/jggv53k0/sunglass/n/y/h/57-0rb4312ch876-6o57-ray-ban-original-imaf4p4hsmhexwkf.jpeg?q=50\n",
      "https://rukminim1.flixcart.com/image/329/395/jgb5dow0/sunglass/w/c/z/62-0rb3604ch002-j062-ray-ban-original-imaf4kz6esmyhgrb.jpeg?q=50\n",
      "https://rukminim1.flixcart.com/image/329/395/kekadu80-0/sunglass/9/u/l/0rb3016901-5851-51-ray-ban-original-imafv7hkpytgry5b.jpeg?q=50\n",
      "https://rukminim1.flixcart.com/image/329/395/jiyvvrk0/sunglass/n/d/g/54-0rb364891034m54-ray-ban-original-imaf6kwryccchaqh.jpeg?q=50\n",
      "https://rukminim1.flixcart.com/image/329/395/k8ho0i80/sunglass/u/9/a/54-0rb364891044354-ray-ban-original-imafqhhcpacyhvn6.jpeg?q=50\n",
      "https://rukminim1.flixcart.com/image/329/395/k8ho0i80/sunglass/g/h/c/58-0rb3583n004-1358-ray-ban-original-imafqhhcpm2xhcgd.jpeg?q=50\n",
      "https://rukminim1.flixcart.com/image/329/395/k8ho0i80/sunglass/z/f/h/41-0rb4440n601-7141-ray-ban-original-imafqhhcvfhvfyfb.jpeg?q=50\n",
      "https://rukminim1.flixcart.com/image/329/395/jgb5dow0/sunglass/z/p/w/50-0rb3598i001-5150-ray-ban-original-imaf4kz6mrgtpg8s.jpeg?q=50\n",
      "https://rukminim1.flixcart.com/image/329/395/jfwuz680/sunglass/f/d/p/57-0rb3599i001-5157-ray-ban-original-imaf49hdvte6gd2v.jpeg?q=50\n",
      "https://rukminim1.flixcart.com/image/329/395/jggv53k0/sunglass/x/z/e/37-0rb4380n6357v037-ray-ban-original-imaf4p4kxebmzrta.jpeg?q=50\n",
      "https://rukminim1.flixcart.com/image/329/395/jgb5dow0/sunglass/h/m/q/33-0rb359790507133-ray-ban-original-imaf4kyhc4jb9zn9.jpeg?q=50\n",
      "https://rukminim1.flixcart.com/image/329/395/jhjg13k0/sunglass/2/g/f/59-0rb3574n004-1359-ray-ban-original-imaf5jayc6975df7.jpeg?q=50\n",
      "https://rukminim1.flixcart.com/image/329/395/jgwkzgw0/sunglass/7/m/g/58-0rb3583n90507158-ray-ban-original-imaf5faczf628yzu.jpeg?q=50\n",
      "https://rukminim1.flixcart.com/image/329/395/jggv53k0/sunglass/f/m/q/37-0rb4380n6355u037-ray-ban-original-imaf4p4kt7mmh3vt.jpeg?q=50\n"
     ]
    }
   ],
   "source": [
    "urls=[]\n",
    "for image in images:\n",
    "    source=image.get_attribute('src')\n",
    "    urls.append(source)\n",
    "    print(source)"
   ]
  },
  {
   "cell_type": "code",
   "execution_count": 13,
   "metadata": {},
   "outputs": [
    {
     "data": {
      "text/plain": [
       "17"
      ]
     },
     "execution_count": 13,
     "metadata": {},
     "output_type": "execute_result"
    }
   ],
   "source": [
    "len(urls)"
   ]
  },
  {
   "cell_type": "code",
   "execution_count": 14,
   "metadata": {},
   "outputs": [],
   "source": [
    "import shutil\n",
    "import requests"
   ]
  },
  {
   "cell_type": "code",
   "execution_count": 16,
   "metadata": {},
   "outputs": [
    {
     "name": "stdout",
     "output_type": "stream",
     "text": [
      "Downloading 1 of 17 images from page 1\n",
      "Downloading 2 of 17 images from page 1\n",
      "Downloading 3 of 17 images from page 1\n",
      "Downloading 4 of 17 images from page 1\n",
      "Downloading 5 of 17 images from page 1\n",
      "Downloading 6 of 17 images from page 1\n",
      "Downloading 7 of 17 images from page 1\n",
      "Downloading 8 of 17 images from page 1\n",
      "Downloading 9 of 17 images from page 1\n",
      "Downloading 10 of 17 images from page 1\n",
      "Downloading 11 of 17 images from page 1\n",
      "Downloading 12 of 17 images from page 1\n",
      "Downloading 13 of 17 images from page 1\n",
      "Downloading 14 of 17 images from page 1\n",
      "Downloading 15 of 17 images from page 1\n",
      "Downloading 16 of 17 images from page 1\n",
      "Downloading 17 of 17 images from page 1\n"
     ]
    }
   ],
   "source": [
    "page=1\n",
    "for index,link in enumerate(urls):\n",
    "    print(\"Downloading {0} of {1} images from page 1\".format(index+1, len(urls)))\n",
    "    response=requests.get(link)\n",
    "    with open('sarees/img {0}{1}.jpeg'.format(index,page),\"wb\")as file:\n",
    "        file.write(response.content)"
   ]
  },
  {
   "cell_type": "code",
   "execution_count": null,
   "metadata": {},
   "outputs": [],
   "source": []
  }
 ],
 "metadata": {
  "kernelspec": {
   "display_name": "Python 3",
   "language": "python",
   "name": "python3"
  },
  "language_info": {
   "codemirror_mode": {
    "name": "ipython",
    "version": 3
   },
   "file_extension": ".py",
   "mimetype": "text/x-python",
   "name": "python",
   "nbconvert_exporter": "python",
   "pygments_lexer": "ipython3",
   "version": "3.7.4"
  }
 },
 "nbformat": 4,
 "nbformat_minor": 2
}
