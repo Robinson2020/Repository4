{
 "cells": [
  {
   "cell_type": "code",
   "execution_count": 1,
   "metadata": {},
   "outputs": [],
   "source": [
    "from selenium import webdriver\n",
    "import os\n",
    "import selenium"
   ]
  },
  {
   "cell_type": "code",
   "execution_count": 2,
   "metadata": {},
   "outputs": [],
   "source": [
    "driver=webdriver.Chrome(executable_path='D:\\Datascience projects\\Amazon webscrapping\\chromedriver.exe')"
   ]
  },
  {
   "cell_type": "code",
   "execution_count": 3,
   "metadata": {},
   "outputs": [],
   "source": [
    "mypage=driver.get('https://www.amazon.in/s?k=mouse&i=computers&rh=n%3A976392031%2Cp_36%3A-50000&dc&qid=1601103115&rnid=1318502031&ref=sr_nr_p_36_1')"
   ]
  },
  {
   "cell_type": "code",
   "execution_count": 4,
   "metadata": {},
   "outputs": [],
   "source": [
    "#optimal Step\n",
    "def make_directory(dirname):\n",
    "    current_path=os.getcwd()\n",
    "    path=os.path.join(current_path,dirname)\n",
    "    if not os.path.exists(path):\n",
    "        os.makedirs(path)"
   ]
  },
  {
   "cell_type": "code",
   "execution_count": 5,
   "metadata": {},
   "outputs": [],
   "source": [
    "make_directory(\"Amazonmouse\")"
   ]
  },
  {
   "cell_type": "code",
   "execution_count": 6,
   "metadata": {},
   "outputs": [],
   "source": [
    "images=driver.find_elements_by_xpath(\"//img[@class='s-image']\")"
   ]
  },
  {
   "cell_type": "code",
   "execution_count": 7,
   "metadata": {},
   "outputs": [
    {
     "name": "stdout",
     "output_type": "stream",
     "text": [
      "<selenium.webdriver.remote.webelement.WebElement (session=\"a565f18f7979f3c358e3c5228a255f2a\", element=\"00d9a76a-7f1e-4b83-861b-be6ecb9ed5c1\")>\n"
     ]
    }
   ],
   "source": [
    "print(images[0])"
   ]
  },
  {
   "cell_type": "code",
   "execution_count": 8,
   "metadata": {},
   "outputs": [
    {
     "name": "stdout",
     "output_type": "stream",
     "text": [
      "30\n"
     ]
    }
   ],
   "source": [
    "print(len(images))"
   ]
  },
  {
   "cell_type": "code",
   "execution_count": 9,
   "metadata": {},
   "outputs": [
    {
     "name": "stdout",
     "output_type": "stream",
     "text": [
      "https://m.media-amazon.com/images/I/91P8UkvFb2L._AC_UY218_.jpg\n",
      "https://m.media-amazon.com/images/I/51wXWnu1JsL._AC_UY218_.jpg\n",
      "https://m.media-amazon.com/images/I/51Kh5lN0h3L._AC_UY218_.jpg\n",
      "https://m.media-amazon.com/images/I/61mucoT+ifL._AC_UY218_.jpg\n",
      "https://m.media-amazon.com/images/I/61-xW5xl6-L._AC_UY218_.jpg\n",
      "https://m.media-amazon.com/images/I/81VXoI0y+kL._AC_UY218_.jpg\n",
      "https://m.media-amazon.com/images/I/71Y3ThA53aL._AC_UY218_.jpg\n",
      "https://m.media-amazon.com/images/I/81Iv49jkWgL._AC_UY218_.jpg\n",
      "https://m.media-amazon.com/images/I/51wXWnu1JsL._AC_UY218_.jpg\n",
      "https://m.media-amazon.com/images/I/51gg3TFuQhL._AC_UY218_.jpg\n",
      "https://m.media-amazon.com/images/I/51lOpzsvv2L._AC_UY218_.jpg\n",
      "https://m.media-amazon.com/images/I/81Iv49jkWgL._AC_UY218_.jpg\n",
      "https://m.media-amazon.com/images/I/41E5NeYaRSL._AC_UY218_.jpg\n",
      "https://m.media-amazon.com/images/I/51Eev1Uua4L._AC_UY218_.jpg\n",
      "https://m.media-amazon.com/images/I/61X-uwfDwRL._AC_UY218_.jpg\n",
      "https://m.media-amazon.com/images/I/81I9ggxrsDL._AC_UY218_.jpg\n",
      "https://m.media-amazon.com/images/I/81GFPT2LuHL._AC_UY218_.jpg\n",
      "https://m.media-amazon.com/images/I/814uq3ZQofL._AC_UY218_.jpg\n",
      "https://m.media-amazon.com/images/I/91chYgZY5bL._AC_UY218_.jpg\n",
      "https://m.media-amazon.com/images/I/71J8QDyiQgL._AC_UY218_.jpg\n",
      "https://m.media-amazon.com/images/I/71G-Fvl-fqL._AC_UY218_.jpg\n",
      "https://m.media-amazon.com/images/I/81gSgXGhDTL._AC_UY218_.jpg\n",
      "https://m.media-amazon.com/images/I/619YF2EYxUL._AC_UY218_.jpg\n",
      "https://m.media-amazon.com/images/I/51YLvaJATbL._AC_UY218_.jpg\n",
      "https://m.media-amazon.com/images/I/71VnceugHFL._AC_UY218_.jpg\n",
      "https://m.media-amazon.com/images/I/51LFSS1OIvL._AC_UY218_.jpg\n",
      "https://m.media-amazon.com/images/I/315CxFooJfL._AC_UY218_.jpg\n",
      "https://m.media-amazon.com/images/I/81l3mB5vgHL._AC_UY218_.jpg\n",
      "https://m.media-amazon.com/images/I/81Jcv3CNAyL._AC_UY218_.jpg\n",
      "https://m.media-amazon.com/images/I/61lcOLdvjgL._AC_UY218_.jpg\n"
     ]
    }
   ],
   "source": [
    "urls=[]\n",
    "for image in images:\n",
    "    source=image.get_attribute('src')\n",
    "    urls.append(source)\n",
    "    print(source)"
   ]
  },
  {
   "cell_type": "code",
   "execution_count": 10,
   "metadata": {},
   "outputs": [
    {
     "name": "stdout",
     "output_type": "stream",
     "text": [
      "30\n"
     ]
    }
   ],
   "source": [
    "print(len(images))"
   ]
  },
  {
   "cell_type": "code",
   "execution_count": 17,
   "metadata": {},
   "outputs": [],
   "source": [
    "brands=driver.find_elements_by_xpath(\"//span[@class='a-size-medium a-color-base a-text-normal']\")"
   ]
  },
  {
   "cell_type": "code",
   "execution_count": 30,
   "metadata": {},
   "outputs": [],
   "source": [
    "prices=driver.find_elements_by_xpath(\"//a[@class='sg-col-4-of-24 sg-col-4-of-12 sg-col-4-of-36 sg-col-4-of-28 sg-col-4-of-16 sg-col sg-col-4-of-20 sg-col-4-of-32']//div[@class='a-price-whole']\")"
   ]
  },
  {
   "cell_type": "code",
   "execution_count": 13,
   "metadata": {},
   "outputs": [
    {
     "name": "stdout",
     "output_type": "stream",
     "text": [
      "30 0 0\n"
     ]
    }
   ],
   "source": [
    "print(len(images),len(brands),len(prices))"
   ]
  },
  {
   "cell_type": "code",
   "execution_count": 18,
   "metadata": {},
   "outputs": [
    {
     "name": "stdout",
     "output_type": "stream",
     "text": [
      "<selenium.webdriver.remote.webelement.WebElement (session=\"a565f18f7979f3c358e3c5228a255f2a\", element=\"cfedbf81-be96-419b-b532-65d24a3be5ce\")>\n"
     ]
    }
   ],
   "source": [
    "print(brands[0])"
   ]
  },
  {
   "cell_type": "code",
   "execution_count": 32,
   "metadata": {},
   "outputs": [
    {
     "data": {
      "text/plain": [
       "{'brands': []}"
      ]
     },
     "execution_count": 32,
     "metadata": {},
     "output_type": "execute_result"
    }
   ],
   "source": [
    "product_data={}\n",
    "product_data['brands']=[]\n",
    "product_data"
   ]
  },
  {
   "cell_type": "code",
   "execution_count": 33,
   "metadata": {},
   "outputs": [],
   "source": [
    "for brand in brands:\n",
    "    product_data['brands'].append(brand.text)"
   ]
  },
  {
   "cell_type": "code",
   "execution_count": 34,
   "metadata": {},
   "outputs": [
    {
     "data": {
      "text/plain": [
       "30"
      ]
     },
     "execution_count": 34,
     "metadata": {},
     "output_type": "execute_result"
    }
   ],
   "source": [
    "len(product_data['brands'])"
   ]
  },
  {
   "cell_type": "code",
   "execution_count": 36,
   "metadata": {},
   "outputs": [],
   "source": [
    "import shutil\n",
    "import requests"
   ]
  },
  {
   "cell_type": "code",
   "execution_count": 37,
   "metadata": {},
   "outputs": [
    {
     "name": "stdout",
     "output_type": "stream",
     "text": [
      "Downloading 1 of 30 images from page 1\n",
      "Downloading 2 of 30 images from page 1\n",
      "Downloading 3 of 30 images from page 1\n",
      "Downloading 4 of 30 images from page 1\n",
      "Downloading 5 of 30 images from page 1\n",
      "Downloading 6 of 30 images from page 1\n",
      "Downloading 7 of 30 images from page 1\n",
      "Downloading 8 of 30 images from page 1\n",
      "Downloading 9 of 30 images from page 1\n",
      "Downloading 10 of 30 images from page 1\n",
      "Downloading 11 of 30 images from page 1\n",
      "Downloading 12 of 30 images from page 1\n",
      "Downloading 13 of 30 images from page 1\n",
      "Downloading 14 of 30 images from page 1\n",
      "Downloading 15 of 30 images from page 1\n",
      "Downloading 16 of 30 images from page 1\n",
      "Downloading 17 of 30 images from page 1\n",
      "Downloading 18 of 30 images from page 1\n",
      "Downloading 19 of 30 images from page 1\n",
      "Downloading 20 of 30 images from page 1\n",
      "Downloading 21 of 30 images from page 1\n",
      "Downloading 22 of 30 images from page 1\n",
      "Downloading 23 of 30 images from page 1\n",
      "Downloading 24 of 30 images from page 1\n",
      "Downloading 25 of 30 images from page 1\n",
      "Downloading 26 of 30 images from page 1\n",
      "Downloading 27 of 30 images from page 1\n",
      "Downloading 28 of 30 images from page 1\n",
      "Downloading 29 of 30 images from page 1\n",
      "Downloading 30 of 30 images from page 1\n"
     ]
    }
   ],
   "source": [
    "page=1\n",
    "for index,link in enumerate(urls):\n",
    "    print(\"Downloading {0} of {1} images from page 1\".format(index+1, len(urls)))\n",
    "    response=requests.get(link)\n",
    "    with open('sarees/img {0}{1}.jpeg'.format(index,page),\"wb\")as file:\n",
    "        file.write(response.content)"
   ]
  },
  {
   "cell_type": "markdown",
   "metadata": {},
   "source": [
    "# Moving to next page"
   ]
  },
  {
   "cell_type": "code",
   "execution_count": 40,
   "metadata": {},
   "outputs": [
    {
     "name": "stdout",
     "output_type": "stream",
     "text": [
      "Downloading 1 of 30 images from page 1\n",
      "Downloading 2 of 30 images from page 1\n",
      "Downloading 3 of 30 images from page 1\n",
      "Downloading 4 of 30 images from page 1\n",
      "Downloading 5 of 30 images from page 1\n",
      "Downloading 6 of 30 images from page 1\n",
      "Downloading 7 of 30 images from page 1\n",
      "Downloading 8 of 30 images from page 1\n",
      "Downloading 9 of 30 images from page 1\n",
      "Downloading 10 of 30 images from page 1\n",
      "Downloading 11 of 30 images from page 1\n",
      "Downloading 12 of 30 images from page 1\n",
      "Downloading 13 of 30 images from page 1\n",
      "Downloading 14 of 30 images from page 1\n",
      "Downloading 15 of 30 images from page 1\n",
      "Downloading 16 of 30 images from page 1\n",
      "Downloading 17 of 30 images from page 1\n",
      "Downloading 18 of 30 images from page 1\n",
      "Downloading 19 of 30 images from page 1\n",
      "Downloading 20 of 30 images from page 1\n",
      "Downloading 21 of 30 images from page 1\n",
      "Downloading 22 of 30 images from page 1\n",
      "Downloading 23 of 30 images from page 1\n",
      "Downloading 24 of 30 images from page 1\n",
      "Downloading 25 of 30 images from page 1\n",
      "Downloading 26 of 30 images from page 1\n",
      "Downloading 27 of 30 images from page 1\n",
      "Downloading 28 of 30 images from page 1\n",
      "Downloading 29 of 30 images from page 1\n",
      "Downloading 30 of 30 images from page 1\n"
     ]
    }
   ],
   "source": [
    "page=2\n",
    "for index,link in enumerate(urls):\n",
    "    print(\"Downloading {0} of {1} images from page 1\".format(index+1, len(urls)))\n",
    "    response=requests.get(link)\n",
    "    with open('sarees/img {0}{1}.jpeg'.format(index,page),\"wb\")as file:\n",
    "        file.write(response.content)"
   ]
  },
  {
   "cell_type": "code",
   "execution_count": null,
   "metadata": {},
   "outputs": [],
   "source": []
  }
 ],
 "metadata": {
  "kernelspec": {
   "display_name": "Python 3",
   "language": "python",
   "name": "python3"
  },
  "language_info": {
   "codemirror_mode": {
    "name": "ipython",
    "version": 3
   },
   "file_extension": ".py",
   "mimetype": "text/x-python",
   "name": "python",
   "nbconvert_exporter": "python",
   "pygments_lexer": "ipython3",
   "version": "3.7.4"
  }
 },
 "nbformat": 4,
 "nbformat_minor": 2
}
